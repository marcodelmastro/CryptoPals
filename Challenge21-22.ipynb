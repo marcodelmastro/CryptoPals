{
 "cells": [
  {
   "cell_type": "markdown",
   "id": "73dd9157-776e-4058-89ec-983fa0fc723d",
   "metadata": {},
   "source": [
    "# 21. Implement the MT19937 Mersenne Twister RNG\n",
    "\n",
    "https://cryptopals.com/sets/3/challenges/21\n",
    "\n",
    "https://en.wikipedia.org/wiki/Mersenne_Twister"
   ]
  },
  {
   "cell_type": "code",
   "execution_count": 1,
   "id": "80f3f262-071f-43a3-9855-7610e3de5b29",
   "metadata": {},
   "outputs": [],
   "source": [
    "class MT19937:\n",
    "\n",
    "    # Coefficients for MT19937\n",
    "    (w, n, m, r) = (32, 624, 397, 31)\n",
    "    a = 0x9908B0DF\n",
    "    (u, d) = (11, 0xFFFFFFFF)\n",
    "    (s, b) = (7, 0x9D2C5680)\n",
    "    (t, c) = (15, 0xEFC60000)\n",
    "    l = 18\n",
    "    f = 1812433253\n",
    "\n",
    "    UMASK = 0xFFFFFFFF & (0xFFFFFFFF << r)       # Limit to 32 bits\n",
    "    LMASK = 0xFFFFFFFF & (0xFFFFFFFF >> (w - r)) # Limit to 32 bits\n",
    "\n",
    "    def __init__(self, seed: int = 19650218):\n",
    "        self.state_array = [0] * self.n  # Array for the state vector\n",
    "        self.state_index = 0            # Index into state vector array, 0 <= state_index <= n-1\n",
    "        self.initialize_state(seed)\n",
    "\n",
    "    def initialize_state(self, seed: int = 19650218):\n",
    "        self.state_array[0] = seed & 0xFFFFFFFF  # Limit to 32 bits\n",
    "        for i in range(1, self.n):\n",
    "            seed = (self.f * (seed ^ (seed >> (self.w - 2))) + i) & 0xFFFFFFFF # Limit to 32 bits\n",
    "            self.state_array[i] = seed\n",
    "        self.state_index = 0\n",
    "\n",
    "    def random(self):\n",
    "        k = self.state_index               # Current state location\n",
    "        j = (k - (self.n - 1)) % self.n    # n-1 iterations before\n",
    "\n",
    "        x = (self.state_array[k] & self.UMASK) | (self.state_array[j] & self.LMASK)\n",
    "        xA = x >> 1\n",
    "        if x & 0x00000001:\n",
    "            xA ^= self.a\n",
    "\n",
    "        j = (k - (self.n - self.m)) % self.n  # n-m iterations before\n",
    "        x = self.state_array[j] ^ xA          # Compute next value in the state\n",
    "\n",
    "        self.state_array[k] = x & 0xFFFFFFFF  # Limit to 32 bits\n",
    "        k = (k + 1) % self.n                  # Circular indexing\n",
    "        self.state_index = k\n",
    "\n",
    "        # Tempering\n",
    "        y = x ^ (x >> self.u)\n",
    "        y = y ^ ((y << self.s) & self.b)\n",
    "        y = y ^ ((y << self.t) & self.c)\n",
    "        z = y ^ (y >> self.l)\n",
    "        return z & 0xFFFFFFFF  # Return 32-bit integer"
   ]
  },
  {
   "cell_type": "code",
   "execution_count": 2,
   "id": "bf309f93-b8a0-46a3-be33-0b7aee79b849",
   "metadata": {},
   "outputs": [
    {
     "name": "stdout",
     "output_type": "stream",
     "text": [
      "2325592414\n",
      "482149846\n",
      "4177211283\n",
      "3872387439\n",
      "1663027210\n",
      "2005191859\n",
      "666881213\n",
      "3289399202\n",
      "2514534568\n",
      "3882134983\n"
     ]
    }
   ],
   "source": [
    "mt_random = MT19937()\n",
    "\n",
    "for _ in range(10):\n",
    "    print(mt_random.random())"
   ]
  },
  {
   "cell_type": "markdown",
   "id": "2122ea67-d646-466b-a79f-4ea13e3967f8",
   "metadata": {},
   "source": [
    "# 22. Crack an MT19937 seed\n",
    "\n",
    "https://cryptopals.com/sets/3/challenges/22"
   ]
  },
  {
   "cell_type": "code",
   "execution_count": 11,
   "id": "0e297c4a-1e42-466f-b53f-387dc659eb72",
   "metadata": {},
   "outputs": [],
   "source": [
    "import time\n",
    "import random\n",
    "\n",
    "def get_MT19937_int32(reallywait=True,tmin=40,tmax=1000):\n",
    "    '''\n",
    "    Wait a random number of seconds between 40 and 1000\n",
    "    Seeds the RNG with the current Unix timestamp\n",
    "    Waits a random number of seconds again.\n",
    "    Returns the first 32 bit output of the RNG.\n",
    "    '''\n",
    "    sleep1 = random.uniform(tmin,tmax)\n",
    "    sleep2 = random.uniform(tmin,tmax)\n",
    "    print(f\"Waiting {sleep1:2.2f} seconds...\")\n",
    "    if reallywait:\n",
    "        time.sleep(sleep1)\n",
    "        seed = int(time.time())\n",
    "    else:\n",
    "        seed = int(time.time()-sleep1-sleep2)\n",
    "    print(f\"Seedind MT19937 with current Unix time ({seed})...\")\n",
    "    mt_random = MT19937(seed)\n",
    "    sleep = random.uniform(tmin,tmax)\n",
    "    print(f\"Waiting {sleep:2.2f} seconds...\")\n",
    "    if reallywait:\n",
    "        time.sleep(sleep2)\n",
    "    rnd32 = mt_random.random()\n",
    "    print(f\"Serving random number {rnd32}\")\n",
    "    return rnd32\n",
    "\n",
    "def crack_MT19937_seed(rnd32):\n",
    "    print(\"Attempting to guess MT19937 seed...\")\n",
    "    now = int(time.time())+1\n",
    "    while True:\n",
    "        mt_random = MT19937(now)\n",
    "        _rnd = mt_random.random()\n",
    "        if rnd32==_rnd:\n",
    "            print(f\"Guessed seed: {now}\")\n",
    "            return now\n",
    "        # go back in time\n",
    "        now -= 1"
   ]
  },
  {
   "cell_type": "code",
   "execution_count": 12,
   "id": "51903afe-4328-4d7e-9cba-9754f7017927",
   "metadata": {},
   "outputs": [
    {
     "name": "stdout",
     "output_type": "stream",
     "text": [
      "Waiting 651.03 seconds...\n",
      "Seedind MT19937 with current Unix time (1736598814)...\n",
      "Waiting 745.50 seconds...\n",
      "Serving random number 3274087935\n",
      "\n",
      "Attempting to guess MT19937 seed...\n",
      "Guessed seed: 1736598814\n"
     ]
    },
    {
     "data": {
      "text/plain": [
       "1736598814"
      ]
     },
     "execution_count": 12,
     "metadata": {},
     "output_type": "execute_result"
    }
   ],
   "source": [
    "rnd32 = get_MT19937_int32(False)\n",
    "print()\n",
    "crack_MT19937_seed(rnd32)"
   ]
  },
  {
   "cell_type": "code",
   "execution_count": 13,
   "id": "12bdda7e-b8e2-4856-b390-0fb613fd00b1",
   "metadata": {},
   "outputs": [
    {
     "name": "stdout",
     "output_type": "stream",
     "text": [
      "Waiting 64.02 seconds...\n",
      "Seedind MT19937 with current Unix time (1736600389)...\n",
      "Waiting 77.19 seconds...\n",
      "Serving random number 3880950902\n",
      "\n",
      "Attempting to guess MT19937 seed...\n",
      "Guessed seed: 1736600389\n"
     ]
    },
    {
     "data": {
      "text/plain": [
       "1736600389"
      ]
     },
     "execution_count": 13,
     "metadata": {},
     "output_type": "execute_result"
    }
   ],
   "source": [
    "rnd32 = get_MT19937_int32(True,40,100)\n",
    "print()\n",
    "crack_MT19937_seed(rnd32)"
   ]
  },
  {
   "cell_type": "code",
   "execution_count": null,
   "id": "f2d4666f-4076-4129-b458-013c27d14391",
   "metadata": {},
   "outputs": [],
   "source": []
  }
 ],
 "metadata": {
  "kernelspec": {
   "display_name": "Python 3 (ipykernel)",
   "language": "python",
   "name": "python3"
  },
  "language_info": {
   "codemirror_mode": {
    "name": "ipython",
    "version": 3
   },
   "file_extension": ".py",
   "mimetype": "text/x-python",
   "name": "python",
   "nbconvert_exporter": "python",
   "pygments_lexer": "ipython3",
   "version": "3.12.2"
  }
 },
 "nbformat": 4,
 "nbformat_minor": 5
}
