{
 "cells": [
  {
   "cell_type": "markdown",
   "id": "31995c5a-2375-4753-8c0c-78171333dc9a",
   "metadata": {},
   "source": [
    "# 17. CBC padding oracle\n",
    "https://cryptopals.com/sets/3/challenges/17"
   ]
  },
  {
   "cell_type": "code",
   "execution_count": 1,
   "id": "31c0d8db-cf88-417b-b3cf-a694f379ed45",
   "metadata": {},
   "outputs": [],
   "source": [
    "from Cryptodome.Cipher import AES\n",
    "from cryptopals.utils import pkcs7_pad, pkcs7_strip, PaddingError\n",
    "import os\n",
    "import random\n",
    "\n",
    "BLOCKSIZE = AES.block_size\n",
    "KEYSIZE = 32\n",
    "\n",
    "class Challenge17:\n",
    "    def __init__(self):\n",
    "        self.strings = [\n",
    "            b\"MDAwMDAwTm93IHRoYXQgdGhlIHBhcnR5IGlzIGp1bXBpbmc=\",\n",
    "            b\"MDAwMDAxV2l0aCB0aGUgYmFzcyBraWNrZWQgaW4gYW5kIHRoZSBWZWdhJ3MgYXJlIHB1bXBpbic=\",\n",
    "            b\"MDAwMDAyUXVpY2sgdG8gdGhlIHBvaW50LCB0byB0aGUgcG9pbnQsIG5vIGZha2luZw==\",\n",
    "            b\"MDAwMDAzQ29va2luZyBNQydzIGxpa2UgYSBwb3VuZCBvZiBiYWNvbg==\",\n",
    "            b\"MDAwMDA0QnVybmluZyAnZW0sIGlmIHlvdSBhaW4ndCBxdWljayBhbmQgbmltYmxl\",\n",
    "            b\"MDAwMDA1SSBnbyBjcmF6eSB3aGVuIEkgaGVhciBhIGN5bWJhbA==\",\n",
    "            b\"MDAwMDA2QW5kIGEgaGlnaCBoYXQgd2l0aCBhIHNvdXBlZCB1cCB0ZW1wbw==\",\n",
    "            b\"MDAwMDA3SSdtIG9uIGEgcm9sbCwgaXQncyB0aW1lIHRvIGdvIHNvbG8=\",\n",
    "            b\"MDAwMDA4b2xsaW4nIGluIG15IGZpdmUgcG9pbnQgb2g=\",\n",
    "            b\"MDAwMDA5aXRoIG15IHJhZy10b3AgZG93biBzbyBteSBoYWlyIGNhbiBibG93\" \n",
    "        ]\n",
    "        self.key = os.urandom(KEYSIZE)\n",
    "\n",
    "    def get_encrypted_data(self, quiet=True) -> (bytes, bytes):\n",
    "        '''Select at random one of the 10 strings, pad the string out to the 16-byte AES block size and \n",
    "        CBC-encrypt it under the key, providing the caller the ciphertext and IV'''\n",
    "        _string = random.choice(self.strings)\n",
    "        if not quiet:\n",
    "            print(f\"{_string=}\")\n",
    "        aes_cbc = AES.new(self.key, AES.MODE_CBC) \n",
    "        cipher = aes_cbc.encrypt(pkcs7_pad(_string,BLOCKSIZE))\n",
    "        return cipher, aes_cbc.iv\n",
    "\n",
    "    def padding_valid(self, cipher: bytes, iv: bytes) -> bool:\n",
    "        '''Consume the ciphertext produced by the first function, decrypt it, check its padding, and \n",
    "        return true or false depending on whether the padding is valid.'''\n",
    "        aes_cbc = AES.new(self.key, AES.MODE_CBC, iv)\n",
    "        plaintext = aes_cbc.decrypt(cipher)\n",
    "        try:\n",
    "            pkcs7_strip(plaintext)\n",
    "        except PaddingError:\n",
    "            return False\n",
    "        else:\n",
    "            return True"
   ]
  },
  {
   "cell_type": "code",
   "execution_count": 2,
   "id": "2bf922a5-0b2a-4392-8979-124746e7178d",
   "metadata": {},
   "outputs": [
    {
     "name": "stdout",
     "output_type": "stream",
     "text": [
      "_string=b'MDAwMDA4b2xsaW4nIGluIG15IGZpdmUgcG9pbnQgb2g='\n",
      "cipher=b'\\xba\\x87\\xfd\\xc5\\xfd\\x90\\x07\\xc2\\xffr3\\xf0\\xb9\\xc2i\\xf5\\xa0$\\x18\\x99x\\x0b\\xa5u\\xdc\\x81Fhw$1\\x07e\\x9e\\xcd(\\x8e\\xfag\\xe0\\xaerECen&\\x88'\n",
      "iv=b' \\xba\\x874\\x14\\x17O1\\x87<\\xd2\\xa6\\xad\\xdc}j'\n",
      "challenge17.padding_valid(cipher, iv)=True\n"
     ]
    }
   ],
   "source": [
    "challenge17 = Challenge17()\n",
    "cipher, iv = challenge17.get_encrypted_data(quiet=False)\n",
    "print(f\"{cipher=}\")\n",
    "print(f\"{iv=}\")\n",
    "print(f\"{challenge17.padding_valid(cipher, iv)=}\")"
   ]
  },
  {
   "cell_type": "markdown",
   "id": "3901690a-bd66-457a-aec9-55e6fb1fff60",
   "metadata": {},
   "source": [
    "## Attack\n",
    "\n",
    "Excellent explanation and tutorial at: https://www.nccgroup.com/us/research-blog/cryptopals-exploiting-cbc-padding-oracles/\n",
    "\n",
    "* By making modifications to the IV, one can predictably modify the plaintext block. Flipping a bit in the IV will flip the corresponding bit in the plaintext.\n",
    "* By exploiting this properties, one can build a \"zeroing\" IV that set some (and eventually all) of the plaintext’s bytes to zero."
   ]
  },
  {
   "cell_type": "code",
   "execution_count": 3,
   "id": "3122623d-de7c-48f9-8868-2bbf9ea182f2",
   "metadata": {},
   "outputs": [],
   "source": [
    "from cryptopals.utils import bytes_xor\n",
    "\n",
    "def single_block_attack(block, oracle):\n",
    "    zeroing_iv = [0]*BLOCKSIZE # zeroing IV starts out nulled\n",
    "    for pad_value in range(1,BLOCKSIZE+1): # explore all possible padding values to fill all zeroing block\n",
    "        padding_iv = [pad_value^b for b in zeroing_iv] # xor pad_value with ziv before searching next ziv byte\n",
    "        for iv_candidate in range(256): # all possible values for IV byte\n",
    "            padding_iv[-pad_value] = iv_candidate\n",
    "            iv = bytes(padding_iv)\n",
    "            if oracle(block, iv): # padding is valid\n",
    "                # in case pad_value==1, make sure the padding really is of length 1 \n",
    "                # by changing penultimate block and querying the oracle again\n",
    "                #if pad_value == 1: \n",
    "                #    padding_iv[-2] ^= 1\n",
    "                #    iv = bytes(padding_iv)\n",
    "                #    if not oracle(block, iv):\n",
    "                #        continue  # false positive, keep searching with next pad_value\n",
    "                break # good pad_value found\n",
    "        zeroing_iv[-pad_value] = iv_candidate ^ pad_value\n",
    "    return bytes(zeroing_iv)\n",
    "\n",
    "def full_attack(iv, cipher, oracle):\n",
    "    message = iv + cipher\n",
    "    blocks = [message[i:i+BLOCKSIZE] for i in range(0, len(message), BLOCKSIZE)]\n",
    "    result = b''\n",
    "    iv = blocks[0]\n",
    "    for cipher in blocks[1:]:\n",
    "        deckey = single_block_attack(cipher,oracle)\n",
    "        plaintext = bytes_xor(deckey,iv)\n",
    "        result += plaintext\n",
    "        iv = cipher\n",
    "    return result"
   ]
  },
  {
   "cell_type": "code",
   "execution_count": 4,
   "id": "4e52fccb-db62-455a-866c-c7fb4872502c",
   "metadata": {},
   "outputs": [
    {
     "name": "stdout",
     "output_type": "stream",
     "text": [
      "cipher=b'\\xce\\xabh\"X\\xc2\\x879o\\x10\\x1e\\xfag\\xa4\\xcbaW\\x87\\xf2\\xabbM\\x9dq\\x11\\xaaN\\xfaf\\xb7\\xe9\\xfa,!\\xe4\\xccy\\x92t$u\\x07\\xe42\\xbfVB}p\\x7f\\x08~)\\xd1Q\\xbc\\x85\\xfd\\x04\\xbc\\xd5\\xbd\\xd0\\x00\\xd5\\xed\\x80\\x13xE\\x170o\\xab\\xb7\\xbe\\xb6\\x87\\x0e\\xb5'\n",
      "iv=b'o\\xcf\\x9en\\xc1r\\xc8\\x1b\\xd8\\xe4\\xb1A\\xeda<@'\n",
      "result=b'MDAwMDA0QnVybmluZyAnZW0sIGlmIHlvdSBhaW4ndCBxdWljayBhbmQgbmltYmxl\\x10\\x10\\x10\\x10\\x10\\x10\\x10\\x10\\x10\\x10\\x10\\x10\\x10\\x10\\x10\\x10'\n",
      "plaintext=b\"000004Burning 'em, if you ain't quick and nimble\"\n"
     ]
    }
   ],
   "source": [
    "from base64 import b64decode\n",
    "\n",
    "challenge17 = Challenge17()\n",
    "cipher, iv = challenge17.get_encrypted_data()\n",
    "print(f\"{cipher=}\")\n",
    "print(f\"{iv=}\")\n",
    "\n",
    "result = full_attack(iv, cipher, challenge17.padding_valid)\n",
    "print(f\"{result=}\")\n",
    "\n",
    "plaintext = b64decode(pkcs7_strip(result).decode())\n",
    "print(f\"{plaintext=}\")"
   ]
  },
  {
   "cell_type": "code",
   "execution_count": 5,
   "id": "bcba4c2c-d390-4439-8bc8-e9311de6519a",
   "metadata": {},
   "outputs": [
    {
     "name": "stdout",
     "output_type": "stream",
     "text": [
      "b'000006And a high hat with a souped up tempo'\n",
      "b'000005I go crazy when I hear a cymbal'\n",
      "b'000002Quick to the point, to the point, no faking'\n",
      "b\"000001With the bass kicked in and the Vega's are pumpin'\"\n",
      "b\"000007I'm on a roll, it's time to go solo\"\n",
      "b'000000Now that the party is jumping'\n",
      "b\"000001With the bass kicked in and the Vega's are pumpin'\"\n",
      "b\"000007I'm on a roll, it's time to go solo\"\n",
      "b\"000004Burning 'em, if you ain't quick and nimble\"\n",
      "b'000000Now that the party is jumping'\n",
      "b'000000Now that the party is jumping'\n",
      "b'000009ith my rag-top down so my hair can blow'\n",
      "b\"000001With the bass kicked in and the Vega's are pumpin'\"\n",
      "b\"000004Burning 'em, if you ain't quick and nimble\"\n",
      "b\"000004Burning 'em, if you ain't quick and nimble\"\n",
      "b'000005I go crazy when I hear a cymbal'\n",
      "b\"000007I'm on a roll, it's time to go solo\"\n",
      "b\"000003Cooking MC's like a pound of bacon\"\n",
      "b'000005I go crazy when I hear a cymbal'\n",
      "b\"000003Cooking MC's like a pound of bacon\"\n"
     ]
    }
   ],
   "source": [
    "for _ in range(20):\n",
    "    cipher, iv = challenge17.get_encrypted_data()\n",
    "    result = full_attack(iv, cipher, challenge17.padding_valid)\n",
    "    plaintext = b64decode(pkcs7_strip(result).decode())\n",
    "    print(plaintext)"
   ]
  },
  {
   "cell_type": "code",
   "execution_count": null,
   "id": "74fe6b30-da50-44da-bafe-51a67581c69c",
   "metadata": {},
   "outputs": [],
   "source": []
  }
 ],
 "metadata": {
  "kernelspec": {
   "display_name": "Python 3 (ipykernel)",
   "language": "python",
   "name": "python3"
  },
  "language_info": {
   "codemirror_mode": {
    "name": "ipython",
    "version": 3
   },
   "file_extension": ".py",
   "mimetype": "text/x-python",
   "name": "python",
   "nbconvert_exporter": "python",
   "pygments_lexer": "ipython3",
   "version": "3.12.2"
  }
 },
 "nbformat": 4,
 "nbformat_minor": 5
}
