{
 "cells": [
  {
   "cell_type": "markdown",
   "id": "76ef7d62-05a0-4dea-b8d5-15b58e7b9b24",
   "metadata": {},
   "source": [
    "# Cryptopals Challenge Set 4\n",
    "\n",
    "https://cryptopals.com/sets/4\n",
    "\n",
    "## 25. Break \"random access read/write\" AES CTR\n",
    "\n",
    "https://cryptopals.com/sets/4/challenges/25"
   ]
  },
  {
   "cell_type": "code",
   "execution_count": 1,
   "id": "31d54d34-81ce-4492-897b-976ef52624f5",
   "metadata": {},
   "outputs": [],
   "source": [
    "import os\n",
    "from base64 import b64decode\n",
    "from cryptopals.utils import aes_ecb_decrypt, aes_ctr_decode_encode\n",
    "\n",
    "with open(\"input/25.txt\") as f:\n",
    "    cipher_ = b64decode(f.read())\n",
    "    plaintext25 = aes_ecb_decrypt(cipher_,b\"YELLOW SUBMARINE\")\n",
    "\n",
    "KEY25 = os.urandom(16)\n",
    "NONCE = 0\n",
    "cipher25 = aes_ctr_decode_encode(plaintext25,KEY25,NONCE)"
   ]
  },
  {
   "cell_type": "markdown",
   "id": "8debe245-6938-4f75-a063-fde1a1ccf9f9",
   "metadata": {},
   "source": [
    "### Discussion \n",
    "\n",
    "Since XOR is commutative, if I gain access to a AES CTR encrypted cipher for which I know the plaintext, I can easily recover the corresponding keystream without knowing the key or the nonce. Here's the generic proof of pricinple:"
   ]
  },
  {
   "cell_type": "code",
   "execution_count": 2,
   "id": "b112c4c7-8001-408a-9ffa-49a89e50ee77",
   "metadata": {},
   "outputs": [
    {
     "name": "stdout",
     "output_type": "stream",
     "text": [
      "I'm back and I'm ringin' the bell \n",
      "A rockin' on the mike while the fly girls yell \n",
      "In ecstasy in the back of me \n",
      "Well that's my DJ Deshay cuttin' all them Z's \n",
      "Hittin' hard and the girlies goin' crazy ...\n"
     ]
    }
   ],
   "source": [
    "from cryptopals import bytes_xor\n",
    "\n",
    "plain_attack = len(cipher25)*b\"A\"\n",
    "cipher_attack = aes_ctr_decode_encode(plain_attack,KEY25,NONCE)\n",
    "keystream_recover = bytes_xor(plain_attack,cipher_attack)\n",
    "plain_recover = bytes_xor(cipher25,keystream_recover)\n",
    "print(plain_recover[:200].decode(), \"...\")"
   ]
  },
  {
   "cell_type": "markdown",
   "id": "8b5aaee7-9194-4f35-beec-f20dc89b9e7e",
   "metadata": {},
   "source": [
    "### Attack\n",
    "\n",
    "Assuming I have access to a \"random access\" read/write API like that described by the challenge and I can read the oringial ciphertext, I would then implement something like the following. The efficiency of the attack depends on the size of the injected chunk, the larger the chunk the fewer call to the re-encrypting API."
   ]
  },
  {
   "cell_type": "code",
   "execution_count": 3,
   "id": "d85ae7d1-f7fc-401a-a987-da0fa7217b89",
   "metadata": {},
   "outputs": [
    {
     "name": "stdout",
     "output_type": "stream",
     "text": [
      "I'm back and I'm ringin' the bell \n",
      "A rockin' on the mike while the fly girls yell \n",
      "In ecstasy in the back of me \n",
      "Well that's my DJ Deshay cuttin' all them Z's \n",
      "Hittin' hard and the girlies goin' crazy ...\n"
     ]
    }
   ],
   "source": [
    "from cryptopals.utils import generate_ctr_keystream, bytes_xor\n",
    "\n",
    "def edit(ciphertext, offset, newtext, key=KEY25, nonce=NONCE):\n",
    "    keystream = generate_ctr_keystream(key, nonce, offset+len(newtext))   \n",
    "    newcipher = bytes_xor(newtext,keystream[offset:])\n",
    "    result = ciphertext[:offset] + newcipher + ciphertext[offset+len(newtext):]\n",
    "    return result\n",
    "\n",
    "def break_random_access_read_write_AES_CTR(cipher,chuncksize=1000):\n",
    "    keystream_recover = b\"\"\n",
    "    for i in range(len(cipher)//chuncksize+1):\n",
    "        cipher_edit = edit(cipher, i*chuncksize, chuncksize*b\"A\")\n",
    "        keystream_recover += bytes_xor(chuncksize*b\"A\",cipher_edit[i*chuncksize:(i+1)*chuncksize])\n",
    "    return bytes_xor(cipher,keystream_recover)\n",
    "\n",
    "plain25 = break_random_access_read_write_AES_CTR(cipher25)\n",
    "print(plain25.decode()[:200], \"...\")"
   ]
  },
  {
   "cell_type": "markdown",
   "id": "f68e3936-06f5-484b-ac4e-f3d9612176a7",
   "metadata": {},
   "source": [
    "## 26. CTR bitflipping\n",
    "\n",
    "https://cryptopals.com/sets/4/challenges/26\n",
    "\n",
    "### Attack\n",
    "\n",
    "Same strategy than Challenge 16, it just works!"
   ]
  },
  {
   "cell_type": "code",
   "execution_count": 4,
   "id": "c786469c-4abc-4b49-aa9e-3782683d0a92",
   "metadata": {},
   "outputs": [
    {
     "name": "stdout",
     "output_type": "stream",
     "text": [
      "plaintext=b'comment1=cooking%20MCs;userdata=%3Badmin%3Dtrue%3B;comment2=%20like%20a%20pound%20of%20bacon'\n",
      "TEST: ';admin=true;' correctly escaped\n",
      "\n",
      "plaintext=b'comment1=cooking%20MCs;userdata=AAAA;admin=true;AAAAAAAAAAAAAAAA;comment2=%20like%20a%20pound%20of%20bacon'\n",
      "ATTACK: injection successfull!\n"
     ]
    }
   ],
   "source": [
    "from Cryptodome.Cipher import AES\n",
    "from cryptopals.utils import aes_ctr_decode_encode\n",
    "import os\n",
    "\n",
    "BLOCKSIZE = AES.block_size\n",
    "KEYSIZE = 32\n",
    "\n",
    "class profile_functions_26:\n",
    "    def __init__(self,key=None, nonce=0):\n",
    "        if not key:\n",
    "            self.key = os.urandom(KEYSIZE)\n",
    "        else:\n",
    "            self.key = key\n",
    "        self.nonce = nonce\n",
    "            \n",
    "    def wrap_userdata(self, data: bytes) -> bytes:\n",
    "        prefix = b\"comment1=cooking%20MCs;userdata=\"\n",
    "        suffix = b\";comment2=%20like%20a%20pound%20of%20bacon\"\n",
    "        data = data.replace(b\";\",b\"%3B\").replace(b\"=\",b\"%3D\") # The function should quote out the \";\" and \"=\" characters.\n",
    "        wrapped = prefix + data + suffix\n",
    "        return aes_ctr_decode_encode(wrapped,self.key,self.nonce)\n",
    "    \n",
    "    def check_for_admin(self, data: bytes, quiet=False) -> bool:\n",
    "        plaintext = aes_ctr_decode_encode(data,self.key,self.nonce)\n",
    "        if not quiet:\n",
    "            print(f\"{plaintext=}\")\n",
    "        return b\";admin=true;\" in plaintext\n",
    "\n",
    "def make_bitflipping_attack(profile, inject=b\";admin=true;\") -> bytes:\n",
    "    a_block = b\"A\" * BLOCKSIZE\n",
    "    cipher = profile.wrap_userdata(2*a_block)\n",
    "    # right justify injection block with padding\n",
    "    injection = inject.rjust(BLOCKSIZE, b\"A\")\n",
    "    flipper = bytes_xor(a_block,injection)\n",
    "    # flipped block will be 4th block in plain text, it's then left justified to the lenght of the ciphertext\n",
    "    padded = flipper.rjust(3*BLOCKSIZE, b\"\\x00\").ljust(len(cipher), b\"\\x00\")\n",
    "    # xor with original encrypter wrapped user data\n",
    "    cipher_new = bytes_xor(cipher,padded)\n",
    "    return cipher_new\n",
    "\n",
    "profile26 = profile_functions_26()\n",
    "\n",
    "cipher_test = profile26.wrap_userdata(b\";admin=true;\")\n",
    "test = profile26.check_for_admin(cipher_test,False)\n",
    "if not test:\n",
    "    print(\"TEST: ';admin=true;' correctly escaped\\n\")\n",
    "\n",
    "attack_data = make_bitflipping_attack(profile26,inject=b\";admin=true;\")\n",
    "if profile26.check_for_admin(attack_data,False):\n",
    "    print(\"ATTACK: injection successfull!\")"
   ]
  },
  {
   "cell_type": "markdown",
   "id": "6ba2fbe0-e1e4-4cfa-975c-d6add11ad94c",
   "metadata": {},
   "source": [
    "## 27. Recover the key from CBC with IV=Key\n",
    "\n",
    "https://cryptopals.com/sets/4/challenges/27"
   ]
  },
  {
   "cell_type": "code",
   "execution_count": 138,
   "id": "f2161e93-6a87-4bc0-8f9d-cac3870b2144",
   "metadata": {},
   "outputs": [],
   "source": [
    "from Cryptodome.Cipher import AES\n",
    "from cryptopals import pkcs7_pad, pkcs7_strip\n",
    "import os\n",
    "\n",
    "class oracle_27:\n",
    "    def __init__(self):\n",
    "        self.key = os.urandom(AES.block_size)\n",
    "        self.iv = self.key # repurposes the key for CBC encryption as the IV\n",
    "\n",
    "    def encrypt(self, data: bytes) -> bytes:\n",
    "        aes_cbc = AES.new(self.key,AES.MODE_CBC,self.iv)\n",
    "        return aes_cbc.encrypt(pkcs7_pad(data))\n",
    "\n",
    "    def decrypt(self, data: bytes) -> bytes:\n",
    "        aes_cbc = AES.new(self.key,AES.MODE_CBC,self.iv)\n",
    "        plaintext = pkcs7_strip(aes_cbc.decrypt(data))\n",
    "        non_ascii_chars = [byte for byte in plaintext if byte > 127]\n",
    "        if non_ascii_chars:\n",
    "            print(f\"Non-ASCII character(s) found in plaintext {plaintext}.\")\n",
    "            return plaintext\n",
    "        else:\n",
    "            print(f\"Decrypting successful (but I'm not returning the plaintext).\")\n",
    "            return None"
   ]
  },
  {
   "cell_type": "code",
   "execution_count": 140,
   "id": "aa174a91-6086-4dbf-9da8-ca0249108d51",
   "metadata": {},
   "outputs": [
    {
     "name": "stdout",
     "output_type": "stream",
     "text": [
      "Decrypting successful (but I'm not returning the plaintext).\n",
      "Non-ASCII character(s) found in plaintext b'H\\xff1\\xe4\\xc8\\xdb\\xae\\xb1\\x00\\x1a\\x13^E\\x97\\xa1\\xff1\\xb183\\xfa\\xc1\\x88\\xaf\\xf1&Q\"\\xb5r0}YlI-fa\\x85/U\\xd3\\xf1#\\x8b\\xe3\\x97\\xe2\\x8f\\xd6u4\\xaf\\xfe\\x130x2\\xb5\\x89\\x9c\\x91$\\x91AAAAAAAAAAAAAAAA\\x80\\x80\\x80\\x80\\x80\\x80\\x80\\x80\\x80\\x80\\x80\\x80\\x80\\x80\\x80\\x80'.\n",
      "\n",
      "Key guess:  b'\\x11\\x93x\\xc9\\xae\\xba+\\x9eU\\xc9\\xe2}\\xcet6\\x1d'\n",
      "Oracle key: b'\\x11\\x93x\\xc9\\xae\\xba+\\x9eU\\xc9\\xe2}\\xcet6\\x1d'\n"
     ]
    }
   ],
   "source": [
    "from cryptopals.utils import bytes_xor\n",
    "\n",
    "oracle = oracle_27()\n",
    "oracle.decrypt(oracle.encrypt(b\"This is a test\"))\n",
    "\n",
    "# forgin P3 with high-ASCII values to trigger plaintext leak\n",
    "P1_P2_P3 = 2*AES.block_size*b\"A\" + AES.block_size*b\"\\x80\" \n",
    "C1_C2_C3 = oracle.encrypt(P1_P2_P3) # longer than 16*3 becouse of padding\n",
    "C1 = cipher[:AES.block_size]\n",
    "\n",
    "# this gives padding errors!\n",
    "#C1_C0_C1 = C1 + AES.block_size*b\"\\x00\" + C1\n",
    "#plain = oracle.decrypt(C1_C0_C1) \n",
    "\n",
    "# using the padded end of the cipher avoids padding errors, \n",
    "# while the initial part contains the attack needed to recover the key\n",
    "C1_C0_C1_C2_C3 = C1 + AES.block_size*b\"\\x00\" + C1 + C1_C2_C3 \n",
    "plain_leak = oracle.decrypt(C1_C0_C1_C2_C3)\n",
    "\n",
    "P1 = plain_leak[:AES.block_size]\n",
    "P3 = plain_leak[2*AES.block_size:3*AES.block_size]\n",
    "key_guess = bytes_xor(P1,P3)\n",
    "\n",
    "print()\n",
    "print(f\"Key guess:  {key_guess}\")\n",
    "print(f\"Oracle key: {oracle.key}\")"
   ]
  },
  {
   "cell_type": "markdown",
   "id": "9adc7020-3d5c-4ea9-b22e-cf38d7c5c18e",
   "metadata": {},
   "source": [
    "## 28. Implement a SHA-1 keyed MAC\n",
    "\n",
    "https://cryptopals.com/sets/4/challenges/28"
   ]
  },
  {
   "cell_type": "code",
   "execution_count": 99,
   "id": "02e19308-e385-43be-8d5c-418ae4f1449f",
   "metadata": {},
   "outputs": [],
   "source": [
    "def left_rotate(value, shift):\n",
    "    \"\"\"Perform a left circular rotation (circular shift) on a 32-bit value.\"\"\"\n",
    "    return ((value << shift) | (value >> (32 - shift))) & 0xFFFFFFFF\n",
    "\n",
    "def sha1(message,\n",
    "         H0 = 0x67452301, # Initialize hash values\n",
    "         H1 = 0xEFCDAB89, \n",
    "         H2 = 0x98BADCFE, \n",
    "         H3 = 0x10325476, \n",
    "         H4 = 0xC3D2E1F0,\n",
    "         message_length=0 # Provide forged message lenght\n",
    "        ):\n",
    "\n",
    "    # 1. Ensure the data is a bytearray\n",
    "    if isinstance(message, str):\n",
    "        message = bytearray(message, 'utf-8')\n",
    "    elif isinstance(message, bytes):\n",
    "        message = bytearray(message)\n",
    "    \n",
    "    # 2. Preprocess the message (padding)\n",
    "    if message_length:\n",
    "        original_length = message_length * 8\n",
    "    else:\n",
    "        original_length = len(message) * 8  # Length in bits\n",
    "    message.append(0x80)  # Append the bit '1'\n",
    "    while (len(message) * 8) % 512 != 448:\n",
    "        message.append(0)  # Pad with zeros\n",
    "    message += original_length.to_bytes(8, 'big')  # Append original length as 64-bit big-endian\n",
    "    \n",
    "    # 3. Process each 512-bit chunk\n",
    "    for chunk_start in range(0, len(message), 64):\n",
    "        chunk = message[chunk_start:chunk_start + 64]\n",
    "\n",
    "        # Break chunk into 16 32-bit words\n",
    "        words = [int.from_bytes(chunk[i:i + 4], 'big') for i in range(0, 64, 4)]\n",
    "        # Extend to 80 words\n",
    "        for i in range(16, 80):\n",
    "            words.append(left_rotate(words[i - 3] ^ words[i - 8] ^ words[i - 14] ^ words[i - 16], 1))\n",
    "\n",
    "        # Initialize variables\n",
    "        a, b, c, d, e = H0, H1, H2, H3, H4\n",
    "\n",
    "        # Main loop\n",
    "        for i in range(80):\n",
    "            if i < 20:\n",
    "                f = (b & c) | ((~b) & d)\n",
    "                k = 0x5A827999\n",
    "            elif i < 40:\n",
    "                f = b ^ c ^ d\n",
    "                k = 0x6ED9EBA1\n",
    "            elif i < 60:\n",
    "                f = (b & c) | (b & d) | (c & d)\n",
    "                k = 0x8F1BBCDC\n",
    "            else:\n",
    "                f = b ^ c ^ d\n",
    "                k = 0xCA62C1D6\n",
    "\n",
    "            temp = (left_rotate(a, 5) + f + e + k + words[i]) & 0xFFFFFFFF\n",
    "            e = d\n",
    "            d = c\n",
    "            c = left_rotate(b, 30)\n",
    "            b = a\n",
    "            a = temp\n",
    "\n",
    "        # Add chunk's hash to result\n",
    "        H0 = (H0 + a) & 0xFFFFFFFF\n",
    "        H1 = (H1 + b) & 0xFFFFFFFF\n",
    "        H2 = (H2 + c) & 0xFFFFFFFF\n",
    "        H3 = (H3 + d) & 0xFFFFFFFF\n",
    "        H4 = (H4 + e) & 0xFFFFFFFF\n",
    "\n",
    "    # Produce final hash value\n",
    "    return f\"{H0:08x}{H1:08x}{H2:08x}{H3:08x}{H4:08x}\""
   ]
  },
  {
   "cell_type": "code",
   "execution_count": 100,
   "id": "d87bed1c-77b0-423b-a5ca-33870b22fb34",
   "metadata": {},
   "outputs": [],
   "source": [
    "def generate_mac(key, message):\n",
    "    return sha1(key + message)\n",
    "\n",
    "def verify_mac(key, message, mac):\n",
    "    return sha1(key + message) == mac"
   ]
  },
  {
   "cell_type": "code",
   "execution_count": 101,
   "id": "cebeb6d2-9650-4a5a-bef7-0838ca853deb",
   "metadata": {},
   "outputs": [
    {
     "name": "stdout",
     "output_type": "stream",
     "text": [
      "True\n",
      "False\n"
     ]
    }
   ],
   "source": [
    "secret_key = \"secretkey\"\n",
    "message = \"This is a secret message.\"\n",
    "tampered_message = \"This is a tampered message.\"\n",
    "mac = generate_mac(secret_key, message)\n",
    "print(verify_mac(secret_key, message, mac))\n",
    "print(verify_mac(secret_key, tampered_message, mac))"
   ]
  },
  {
   "cell_type": "markdown",
   "id": "6db67d68-dc4c-42eb-ab80-8f965a8c18f0",
   "metadata": {},
   "source": [
    "## 29. Break a SHA-1 keyed MAC using length extension\n",
    "\n",
    "https://cryptopals.com/sets/4/challenges/29"
   ]
  },
  {
   "cell_type": "code",
   "execution_count": 102,
   "id": "12f16f08-bfb4-44d5-ad6f-f2924fc156a6",
   "metadata": {},
   "outputs": [],
   "source": [
    "def md_padding(message_length):\n",
    "    \"\"\"\n",
    "    Generate MD padding for a given message length in bytes.\n",
    "    Same as in sha1() implementation above\n",
    "    \"\"\"\n",
    "    padding = b'\\x80'  # Start with a single 1 bit (0x80 in hex)\n",
    "    padded_length = (message_length + 1)  # Account for the 0x80 byte\n",
    "    while (padded_length % 64) != 56:\n",
    "        padding += b'\\x00'  # Add zero bytes\n",
    "        padded_length += 1\n",
    "    # Append the 64-bit length of the original message in bits\n",
    "    original_bit_length = message_length * 8\n",
    "    padding += original_bit_length.to_bytes(8, 'big')\n",
    "    return padding\n",
    "\n",
    "def break_sha1_hash(sha1_hash):\n",
    "    ''' \n",
    "    Break SHA-1 secret-prefix MAC of a message into 32 bit SHA-1 registers\n",
    "    '''\n",
    "    return tuple([int(sha1_hash[i*8:(i+1)*8], 16) for i in range(5)])\n",
    "\n",
    "def length_extension_attack(original_mac, original_message, new_message, key_length):\n",
    "    \"\"\"\n",
    "    Perform a length extension attack on a SHA-1 MAC.\n",
    "    \"\"\"\n",
    "    # Break MAC into registers\n",
    "    a, b, c, d, e = break_sha1_hash(original_mac)\n",
    "\n",
    "    # Compute the length of the original message + key\n",
    "    original_length = key_length + len(original_message)\n",
    "\n",
    "    # Generate glue padding for the original message\n",
    "    glue_padding = md_padding(original_length)\n",
    "\n",
    "    # Compute the new message length (including glue padding)\n",
    "    new_length = original_length + len(glue_padding) + len(new_message)\n",
    "\n",
    "    # Continue hashing with the new message\n",
    "    forged_mac = sha1(new_message, a, b, c, d, e, new_length)\n",
    "\n",
    "    # Construct the forged message\n",
    "    forged_message = original_message + glue_padding + new_message\n",
    "\n",
    "    return forged_message, forged_mac"
   ]
  },
  {
   "cell_type": "markdown",
   "id": "3faf913f-bbab-4281-824a-2bd02bf6bd42",
   "metadata": {},
   "source": [
    "### Testing attack with known key lenght"
   ]
  },
  {
   "cell_type": "code",
   "execution_count": 129,
   "id": "f0ce4da5-7c2a-4b9d-ad01-a592fbaccd89",
   "metadata": {},
   "outputs": [
    {
     "name": "stdout",
     "output_type": "stream",
     "text": [
      "Forged Message: b'comment1=cooking%20MCs;userdata=foo;comment2=%20like%20a%20pound%20of%20bacon\\x80\\x00\\x00\\x00\\x00\\x00\\x00\\x00\\x00\\x00\\x00\\x00\\x00\\x00\\x00\\x00\\x00\\x00\\x00\\x00\\x00\\x00\\x00\\x00\\x00\\x00\\x00\\x00\\x00\\x00\\x00\\x00\\x00\\x00\\x00\\x00\\x00\\x00\\x00\\x00\\x02\\xb0;admin=true'\n",
      "Forged MAC: 42a330db280929c037745b9fcc49ca4fc91a05f4\n",
      "Length extension attack SUCCESSFULL\n"
     ]
    }
   ],
   "source": [
    "key = b'secretkey'\n",
    "original_message = b\"comment1=cooking%20MCs;userdata=foo;comment2=%20like%20a%20pound%20of%20bacon\"\n",
    "original_mac = sha1(key+original_message)\n",
    "if not verify_mac(key, original_message, original_mac):\n",
    "    print(\"SHA1 issue.\")\n",
    "\n",
    "new_message = b\";admin=true\"\n",
    "forged_message, forged_mac = length_extension_attack(original_mac, original_message, new_message, len(key))\n",
    "\n",
    "print(\"Forged Message:\", forged_message)\n",
    "print(\"Forged MAC:\", forged_mac)\n",
    "\n",
    "if verify_mac(key, forged_message, forged_mac):\n",
    "    print(\"Length extension attack SUCCESSFULL\")\n",
    "else:\n",
    "    print(\"Length extension attack FAILED\")"
   ]
  },
  {
   "cell_type": "markdown",
   "id": "d199a263-6088-434b-8351-426c9b6270f7",
   "metadata": {},
   "source": [
    "### Guessing the key lenght"
   ]
  },
  {
   "cell_type": "code",
   "execution_count": 131,
   "id": "88053790-2d05-42a7-832b-04102750bc81",
   "metadata": {},
   "outputs": [
    {
     "name": "stdout",
     "output_type": "stream",
     "text": [
      "Length extension attack SUCCESSFULL!\n",
      "Guessed key length: 6 (key was: 'Nemean')\n",
      "Forged Message: b'comment1=cooking%20MCs;userdata=foo;comment2=%20like%20a%20pound%20of%20bacon\\x80\\x00\\x00\\x00\\x00\\x00\\x00\\x00\\x00\\x00\\x00\\x00\\x00\\x00\\x00\\x00\\x00\\x00\\x00\\x00\\x00\\x00\\x00\\x00\\x00\\x00\\x00\\x00\\x00\\x00\\x00\\x00\\x00\\x00\\x00\\x00\\x00\\x00\\x00\\x00\\x00\\x00\\x00\\x02\\x98;admin=true'\n",
      "Forged MAC: 5fe64063370d5190db92c74c793fdd55692ea379\n"
     ]
    }
   ],
   "source": [
    "import random\n",
    "\n",
    "with open(\"/usr/share/dict/words\") as f:\n",
    "    words = [ w.strip() for w in f.readlines() ]\n",
    "\n",
    "key = random.choice(words) \n",
    "key = bytearray(key, 'utf-8')\n",
    "original_message = b\"comment1=cooking%20MCs;userdata=foo;comment2=%20like%20a%20pound%20of%20bacon\"\n",
    "original_mac = sha1(key+original_message)\n",
    "\n",
    "new_message = b\";admin=true\"\n",
    "key_length = 1\n",
    "while True:\n",
    "    forged_message, forged_mac = length_extension_attack(original_mac, original_message, new_message, key_length)\n",
    "    if verify_mac(key, forged_message, forged_mac):\n",
    "        print(\"Length extension attack SUCCESSFULL!\")\n",
    "        print(f\"Guessed key length: {key_length} (key was: '{key.decode()}')\")\n",
    "        print(\"Forged Message:\", forged_message)\n",
    "        print(\"Forged MAC:\", forged_mac)\n",
    "        break\n",
    "    key_length += 1"
   ]
  },
  {
   "cell_type": "code",
   "execution_count": null,
   "id": "baab2e30-ed1c-4fd5-91d5-3e761e896108",
   "metadata": {},
   "outputs": [],
   "source": []
  }
 ],
 "metadata": {
  "kernelspec": {
   "display_name": "Python 3 (ipykernel)",
   "language": "python",
   "name": "python3"
  },
  "language_info": {
   "codemirror_mode": {
    "name": "ipython",
    "version": 3
   },
   "file_extension": ".py",
   "mimetype": "text/x-python",
   "name": "python",
   "nbconvert_exporter": "python",
   "pygments_lexer": "ipython3",
   "version": "3.12.2"
  }
 },
 "nbformat": 4,
 "nbformat_minor": 5
}
