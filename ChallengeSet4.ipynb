{
 "cells": [
  {
   "cell_type": "markdown",
   "id": "76ef7d62-05a0-4dea-b8d5-15b58e7b9b24",
   "metadata": {},
   "source": [
    "# Cryptopals Challenge Set 4\n",
    "\n",
    "https://cryptopals.com/sets/4\n",
    "\n",
    "## 25. Break \"random access read/write\" AES CTR\n",
    "\n",
    "https://cryptopals.com/sets/4/challenges/25"
   ]
  },
  {
   "cell_type": "code",
   "execution_count": 1,
   "id": "31d54d34-81ce-4492-897b-976ef52624f5",
   "metadata": {},
   "outputs": [],
   "source": [
    "import os\n",
    "from base64 import b64decode\n",
    "from cryptopals.utils import aes_ecb_decrypt, aes_ctr_decode_encode\n",
    "\n",
    "with open(\"input/25.txt\") as f:\n",
    "    cipher_ = b64decode(f.read())\n",
    "    plaintext25 = aes_ecb_decrypt(cipher_,b\"YELLOW SUBMARINE\")\n",
    "\n",
    "KEY25 = os.urandom(16)\n",
    "NONCE = 0\n",
    "cipher25 = aes_ctr_decode_encode(plaintext25,KEY25,NONCE)"
   ]
  },
  {
   "cell_type": "markdown",
   "id": "8debe245-6938-4f75-a063-fde1a1ccf9f9",
   "metadata": {},
   "source": [
    "### Discussion \n",
    "\n",
    "Since XOR is commutative, if I gain access to a AES CTR encrypted cipher for which I know the plaintext, I can easily recover the corresponding keystream without knowing the key or the nonce. Here's the generic proof of pricinple:"
   ]
  },
  {
   "cell_type": "code",
   "execution_count": 2,
   "id": "b112c4c7-8001-408a-9ffa-49a89e50ee77",
   "metadata": {},
   "outputs": [
    {
     "name": "stdout",
     "output_type": "stream",
     "text": [
      "I'm back and I'm ringin' the bell \n",
      "A rockin' on the mike while the fly girls yell \n",
      "In ecstasy in the back of me \n",
      "Well that's my DJ Deshay cuttin' all them Z's \n",
      "Hittin' hard and the girlies goin' crazy ...\n"
     ]
    }
   ],
   "source": [
    "from cryptopals import bytes_xor\n",
    "\n",
    "plain_attack = len(cipher25)*b\"A\"\n",
    "cipher_attack = aes_ctr_decode_encode(plain_attack,KEY25,NONCE)\n",
    "keystream_recover = bytes_xor(plain_attack,cipher_attack)\n",
    "plain_recover = bytes_xor(cipher25,keystream_recover)\n",
    "print(plain_recover[:200].decode(), \"...\")"
   ]
  },
  {
   "cell_type": "markdown",
   "id": "8b5aaee7-9194-4f35-beec-f20dc89b9e7e",
   "metadata": {},
   "source": [
    "### Attack\n",
    "\n",
    "Assuming I have access to a \"random access\" read/write API like that described by the challenge and I can read the oringial ciphertext, I would then implement something like the following. The efficiency of the attack depends on the size of the injected chunk, the larger the chunk the fewer call to the re-encrypting API."
   ]
  },
  {
   "cell_type": "code",
   "execution_count": 3,
   "id": "d85ae7d1-f7fc-401a-a987-da0fa7217b89",
   "metadata": {},
   "outputs": [
    {
     "name": "stdout",
     "output_type": "stream",
     "text": [
      "I'm back and I'm ringin' the bell \n",
      "A rockin' on the mike while the fly girls yell \n",
      "In ecstasy in the back of me \n",
      "Well that's my DJ Deshay cuttin' all them Z's \n",
      "Hittin' hard and the girlies goin' crazy ...\n"
     ]
    }
   ],
   "source": [
    "from cryptopals.utils import generate_ctr_keystream, bytes_xor\n",
    "\n",
    "def edit(ciphertext, offset, newtext, key=KEY25, nonce=NONCE):\n",
    "    keystream = generate_ctr_keystream(key, nonce, offset+len(newtext))   \n",
    "    newcipher = bytes_xor(newtext,keystream[offset:])\n",
    "    result = ciphertext[:offset] + newcipher + ciphertext[offset+len(newtext):]\n",
    "    return result\n",
    "\n",
    "def break_random_access_read_write_AES_CTR(cipher,chuncksize=1000):\n",
    "    keystream_recover = b\"\"\n",
    "    for i in range(len(cipher)//chuncksize+1):\n",
    "        cipher_edit = edit(cipher, i*chuncksize, chuncksize*b\"A\")\n",
    "        keystream_recover += bytes_xor(chuncksize*b\"A\",cipher_edit[i*chuncksize:(i+1)*chuncksize])\n",
    "    return bytes_xor(cipher,keystream_recover)\n",
    "\n",
    "plain25 = break_random_access_read_write_AES_CTR(cipher25)\n",
    "print(plain25.decode()[:200], \"...\")"
   ]
  },
  {
   "cell_type": "markdown",
   "id": "f68e3936-06f5-484b-ac4e-f3d9612176a7",
   "metadata": {},
   "source": [
    "## 26. CTR bitflipping\n",
    "\n",
    "https://cryptopals.com/sets/4/challenges/26"
   ]
  },
  {
   "cell_type": "code",
   "execution_count": 34,
   "id": "c786469c-4abc-4b49-aa9e-3782683d0a92",
   "metadata": {},
   "outputs": [
    {
     "name": "stdout",
     "output_type": "stream",
     "text": [
      "plaintext=b'comment1=cooking%20MCs;userdata=%3Badmin%3Dtrue%3B;comment2=%20like%20a%20pound%20of%20bacon'\n",
      "TEST: ';admin=true;' correctly escaped\n",
      "\n",
      "plaintext=b'comment1=cooking%20MCs;userdata=AAAA;admin=true;AAAAAAAAAAAAAAAA;comment2=%20like%20a%20pound%20of%20bacon'\n",
      "ATTACK: injection successfull!\n"
     ]
    }
   ],
   "source": [
    "from Cryptodome.Cipher import AES\n",
    "from cryptopals.utils import aes_ctr_decode_encode\n",
    "import os\n",
    "\n",
    "BLOCKSIZE = AES.block_size\n",
    "KEYSIZE = 32\n",
    "\n",
    "class profile_functions_26:\n",
    "    def __init__(self,key=None, nonce=0):\n",
    "        if not key:\n",
    "            self.key = os.urandom(KEYSIZE)\n",
    "        else:\n",
    "            self.key = key\n",
    "        self.nonce = nonce\n",
    "            \n",
    "    def wrap_userdata(self, data: bytes) -> bytes:\n",
    "        prefix = b\"comment1=cooking%20MCs;userdata=\"\n",
    "        suffix = b\";comment2=%20like%20a%20pound%20of%20bacon\"\n",
    "        data = data.replace(b\";\",b\"%3B\").replace(b\"=\",b\"%3D\") # The function should quote out the \";\" and \"=\" characters.\n",
    "        wrapped = prefix + data + suffix\n",
    "        return aes_ctr_decode_encode(wrapped,self.key,self.nonce)\n",
    "    \n",
    "    def check_for_admin(self, data: bytes, quiet=False) -> bool:\n",
    "        plaintext = aes_ctr_decode_encode(data,self.key,self.nonce)\n",
    "        if not quiet:\n",
    "            print(f\"{plaintext=}\")\n",
    "        return b\";admin=true;\" in plaintext\n",
    "\n",
    "def make_bitflipping_attack(profile, inject=b\";admin=true;\") -> bytes:\n",
    "    a_block = b\"A\" * BLOCKSIZE\n",
    "    cipher = profile.wrap_userdata(2*a_block)\n",
    "    # right justify injection block with padding\n",
    "    injection = inject.rjust(BLOCKSIZE, b\"A\")\n",
    "    flipper = bytes_xor(a_block,injection)\n",
    "    # flipped block will be 4th block in plain text, it's then left justified to the lenght of the ciphertext\n",
    "    padded = flipper.rjust(3*BLOCKSIZE, b\"\\x00\").ljust(len(cipher), b\"\\x00\")\n",
    "    # xor with original encrypter wrapped user data\n",
    "    cipher_new = bytes_xor(cipher,padded)\n",
    "    return cipher_new\n",
    "\n",
    "\n",
    "profile26 = profile_functions_26()\n",
    "\n",
    "cipher_test = profile26.wrap_userdata(b\";admin=true;\")\n",
    "test = profile26.check_for_admin(cipher_test,False)\n",
    "if not test:\n",
    "    print(\"TEST: ';admin=true;' correctly escaped\\n\")\n",
    "\n",
    "attack_data = make_bitflipping_attack(profile26,inject=b\";admin=true;\")\n",
    "if profile26.check_for_admin(attack_data,False):\n",
    "    print(\"ATTACK: injection successfull!\")"
   ]
  },
  {
   "cell_type": "code",
   "execution_count": null,
   "id": "002eb809-96e2-4be3-9b88-1035174f6988",
   "metadata": {},
   "outputs": [],
   "source": []
  }
 ],
 "metadata": {
  "kernelspec": {
   "display_name": "Python 3 (ipykernel)",
   "language": "python",
   "name": "python3"
  },
  "language_info": {
   "codemirror_mode": {
    "name": "ipython",
    "version": 3
   },
   "file_extension": ".py",
   "mimetype": "text/x-python",
   "name": "python",
   "nbconvert_exporter": "python",
   "pygments_lexer": "ipython3",
   "version": "3.12.2"
  }
 },
 "nbformat": 4,
 "nbformat_minor": 5
}
