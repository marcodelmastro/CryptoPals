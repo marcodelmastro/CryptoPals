{
 "cells": [
  {
   "cell_type": "markdown",
   "id": "76ef7d62-05a0-4dea-b8d5-15b58e7b9b24",
   "metadata": {},
   "source": [
    "# Cryptopals Challenge Set 4\n",
    "\n",
    "https://cryptopals.com/sets/4\n",
    "\n",
    "## 25. Break \"random access read/write\" AES CTR\n",
    "\n",
    "https://cryptopals.com/sets/4/challenges/25"
   ]
  },
  {
   "cell_type": "code",
   "execution_count": 1,
   "id": "31d54d34-81ce-4492-897b-976ef52624f5",
   "metadata": {},
   "outputs": [],
   "source": [
    "import os\n",
    "from base64 import b64decode\n",
    "from cryptopals.utils import aes_ecb_decrypt, aes_ctr_decode_encode\n",
    "\n",
    "with open(\"input/25.txt\") as f:\n",
    "    cipher_ = b64decode(f.read())\n",
    "    plaintext25 = aes_ecb_decrypt(cipher_,b\"YELLOW SUBMARINE\")\n",
    "\n",
    "KEY25 = os.urandom(16)\n",
    "NONCE = 0\n",
    "cipher25 = aes_ctr_decode_encode(plaintext25,KEY25,NONCE)"
   ]
  },
  {
   "cell_type": "markdown",
   "id": "8debe245-6938-4f75-a063-fde1a1ccf9f9",
   "metadata": {},
   "source": [
    "### Discussion \n",
    "\n",
    "Since XOR is commutative, if I gain access to a AES CTR encrypted cipher for which I know the plaintext, I can easily recover the corresponding keystream without knowing the key or the nonce. Here's the generic proof of pricinple:"
   ]
  },
  {
   "cell_type": "code",
   "execution_count": 2,
   "id": "b112c4c7-8001-408a-9ffa-49a89e50ee77",
   "metadata": {},
   "outputs": [
    {
     "name": "stdout",
     "output_type": "stream",
     "text": [
      "I'm back and I'm ringin' the bell \n",
      "A rockin' on the mike while the fly girls yell \n",
      "In ecstasy in the back of me \n",
      "Well that's my DJ Deshay cuttin' all them Z's \n",
      "Hittin' hard and the girlies goin' crazy ...\n"
     ]
    }
   ],
   "source": [
    "from cryptopals import bytes_xor\n",
    "\n",
    "plain_attack = len(cipher25)*b\"A\"\n",
    "cipher_attack = aes_ctr_decode_encode(plain_attack,KEY25,NONCE)\n",
    "keystream_recover = bytes_xor(plain_attack,cipher_attack)\n",
    "plain_recover = bytes_xor(cipher25,keystream_recover)\n",
    "print(plain_recover[:200].decode(), \"...\")"
   ]
  },
  {
   "cell_type": "markdown",
   "id": "8b5aaee7-9194-4f35-beec-f20dc89b9e7e",
   "metadata": {},
   "source": [
    "### Attack\n",
    "\n",
    "Assuming I have access to a \"random access\" read/write API like that described by the challenge and I can read the oringial ciphertext, I would then implement something like the following. The efficiency of the attack depends on the size of the injected chunk, the larger the chunk the fewer call to the re-encrypting API."
   ]
  },
  {
   "cell_type": "code",
   "execution_count": 3,
   "id": "d85ae7d1-f7fc-401a-a987-da0fa7217b89",
   "metadata": {},
   "outputs": [
    {
     "name": "stdout",
     "output_type": "stream",
     "text": [
      "I'm back and I'm ringin' the bell \n",
      "A rockin' on the mike while the fly girls yell \n",
      "In ecstasy in the back of me \n",
      "Well that's my DJ Deshay cuttin' all them Z's \n",
      "Hittin' hard and the girlies goin' crazy ...\n"
     ]
    }
   ],
   "source": [
    "from cryptopals.utils import generate_ctr_keystream, bytes_xor\n",
    "\n",
    "def edit(ciphertext, offset, newtext, key=KEY25, nonce=NONCE):\n",
    "    keystream = generate_ctr_keystream(key, nonce, offset+len(newtext))   \n",
    "    newcipher = bytes_xor(newtext,keystream[offset:])\n",
    "    result = ciphertext[:offset] + newcipher + ciphertext[offset+len(newtext):]\n",
    "    return result\n",
    "\n",
    "def break_random_access_read_write_AES_CTR(cipher,chuncksize=1000):\n",
    "    keystream_recover = b\"\"\n",
    "    for i in range(len(cipher)//chuncksize+1):\n",
    "        cipher_edit = edit(cipher, i*chuncksize, chuncksize*b\"A\")\n",
    "        keystream_recover += bytes_xor(chuncksize*b\"A\",cipher_edit[i*chuncksize:(i+1)*chuncksize])\n",
    "    return bytes_xor(cipher,keystream_recover)\n",
    "\n",
    "plain25 = break_random_access_read_write_AES_CTR(cipher25)\n",
    "print(plain25.decode()[:200], \"...\")"
   ]
  },
  {
   "cell_type": "markdown",
   "id": "f68e3936-06f5-484b-ac4e-f3d9612176a7",
   "metadata": {},
   "source": [
    "## 26. CTR bitflipping\n",
    "\n",
    "https://cryptopals.com/sets/4/challenges/26\n",
    "\n",
    "### Attack\n",
    "\n",
    "Same strategy than Challenge 16, it just works!"
   ]
  },
  {
   "cell_type": "code",
   "execution_count": 4,
   "id": "c786469c-4abc-4b49-aa9e-3782683d0a92",
   "metadata": {},
   "outputs": [
    {
     "name": "stdout",
     "output_type": "stream",
     "text": [
      "plaintext=b'comment1=cooking%20MCs;userdata=%3Badmin%3Dtrue%3B;comment2=%20like%20a%20pound%20of%20bacon'\n",
      "TEST: ';admin=true;' correctly escaped\n",
      "\n",
      "plaintext=b'comment1=cooking%20MCs;userdata=AAAA;admin=true;AAAAAAAAAAAAAAAA;comment2=%20like%20a%20pound%20of%20bacon'\n",
      "ATTACK: injection successfull!\n"
     ]
    }
   ],
   "source": [
    "from Cryptodome.Cipher import AES\n",
    "from cryptopals.utils import aes_ctr_decode_encode\n",
    "import os\n",
    "\n",
    "BLOCKSIZE = AES.block_size\n",
    "KEYSIZE = 32\n",
    "\n",
    "class profile_functions_26:\n",
    "    def __init__(self,key=None, nonce=0):\n",
    "        if not key:\n",
    "            self.key = os.urandom(KEYSIZE)\n",
    "        else:\n",
    "            self.key = key\n",
    "        self.nonce = nonce\n",
    "            \n",
    "    def wrap_userdata(self, data: bytes) -> bytes:\n",
    "        prefix = b\"comment1=cooking%20MCs;userdata=\"\n",
    "        suffix = b\";comment2=%20like%20a%20pound%20of%20bacon\"\n",
    "        data = data.replace(b\";\",b\"%3B\").replace(b\"=\",b\"%3D\") # The function should quote out the \";\" and \"=\" characters.\n",
    "        wrapped = prefix + data + suffix\n",
    "        return aes_ctr_decode_encode(wrapped,self.key,self.nonce)\n",
    "    \n",
    "    def check_for_admin(self, data: bytes, quiet=False) -> bool:\n",
    "        plaintext = aes_ctr_decode_encode(data,self.key,self.nonce)\n",
    "        if not quiet:\n",
    "            print(f\"{plaintext=}\")\n",
    "        return b\";admin=true;\" in plaintext\n",
    "\n",
    "def make_bitflipping_attack(profile, inject=b\";admin=true;\") -> bytes:\n",
    "    a_block = b\"A\" * BLOCKSIZE\n",
    "    cipher = profile.wrap_userdata(2*a_block)\n",
    "    # right justify injection block with padding\n",
    "    injection = inject.rjust(BLOCKSIZE, b\"A\")\n",
    "    flipper = bytes_xor(a_block,injection)\n",
    "    # flipped block will be 4th block in plain text, it's then left justified to the lenght of the ciphertext\n",
    "    padded = flipper.rjust(3*BLOCKSIZE, b\"\\x00\").ljust(len(cipher), b\"\\x00\")\n",
    "    # xor with original encrypter wrapped user data\n",
    "    cipher_new = bytes_xor(cipher,padded)\n",
    "    return cipher_new\n",
    "\n",
    "profile26 = profile_functions_26()\n",
    "\n",
    "cipher_test = profile26.wrap_userdata(b\";admin=true;\")\n",
    "test = profile26.check_for_admin(cipher_test,False)\n",
    "if not test:\n",
    "    print(\"TEST: ';admin=true;' correctly escaped\\n\")\n",
    "\n",
    "attack_data = make_bitflipping_attack(profile26,inject=b\";admin=true;\")\n",
    "if profile26.check_for_admin(attack_data,False):\n",
    "    print(\"ATTACK: injection successfull!\")"
   ]
  },
  {
   "cell_type": "markdown",
   "id": "6ba2fbe0-e1e4-4cfa-975c-d6add11ad94c",
   "metadata": {},
   "source": [
    "## 27. Recover the key from CBC with IV=Key\n",
    "\n",
    "https://cryptopals.com/sets/4/challenges/27"
   ]
  },
  {
   "cell_type": "code",
   "execution_count": 5,
   "id": "f2161e93-6a87-4bc0-8f9d-cac3870b2144",
   "metadata": {},
   "outputs": [],
   "source": [
    "from Cryptodome.Cipher import AES\n",
    "from cryptopals import pkcs7_pad, pkcs7_strip\n",
    "import os\n",
    "\n",
    "class oracle_27:\n",
    "    def __init__(self):\n",
    "        self.key = os.urandom(AES.block_size)\n",
    "        self.iv = self.key # repurposes the key for CBC encryption as the IV\n",
    "\n",
    "    def encrypt(self, data: bytes) -> bytes:\n",
    "        aes_cbc = AES.new(self.key,AES.MODE_CBC,self.iv)\n",
    "        return aes_cbc.encrypt(pkcs7_pad(data))\n",
    "\n",
    "    def decrypt(self, data: bytes) -> bytes:\n",
    "        aes_cbc = AES.new(self.key,AES.MODE_CBC,self.iv)\n",
    "        plaintext = pkcs7_strip(aes_cbc.decrypt(data))\n",
    "        non_ascii_chars = [byte for byte in plaintext if byte > 127]\n",
    "        if non_ascii_chars:\n",
    "            print(f\"Non-ASCII character(s) found in plaintext {plaintext}.\")\n",
    "            return plaintext\n",
    "        else:\n",
    "            print(f\"Decrypting successful (but I'm not returning the plaintext).\")\n",
    "            return None"
   ]
  },
  {
   "cell_type": "code",
   "execution_count": 6,
   "id": "aa174a91-6086-4dbf-9da8-ca0249108d51",
   "metadata": {},
   "outputs": [
    {
     "name": "stdout",
     "output_type": "stream",
     "text": [
      "Decrypting successful (but I'm not returning the plaintext).\n",
      "Non-ASCII character(s) found in plaintext b'AAAAAAAAAAAAAAAA&i%\\xb3\\x01f\\xaf\\xcf\\xc0r\\x13\\xb9\\xbdJ \\x0c?7\\xd9X/\"\\\\2\\xa0\\xbc1\\xe1\\xdc#\\x186|*qV\\xdcH\\xa9\\x94\\'I\\x0e\\xa2\\xff\\x18\\x01xAAAAAAAAAAAAAAAA\\x80\\x80\\x80\\x80\\x80\\x80\\x80\\x80\\x80\\x80\\x80\\x80\\x80\\x80\\x80\\x80'.\n",
      "\n",
      "Key guess:  b'~v\\x98\\x19nc\\x1ds\\xe1\\xfdp\\xa0\\x9dbYw'\n",
      "Oracle key: b'~v\\x98\\x19nc\\x1ds\\xe1\\xfdp\\xa0\\x9dbYw'\n"
     ]
    }
   ],
   "source": [
    "from cryptopals.utils import bytes_xor\n",
    "\n",
    "oracle = oracle_27()\n",
    "oracle.decrypt(oracle.encrypt(b\"This is a test\"))\n",
    "\n",
    "# forgin P3 with high-ASCII values to trigger plaintext leak\n",
    "P1_P2_P3 = 2*AES.block_size*b\"A\" + AES.block_size*b\"\\x80\" \n",
    "C1_C2_C3 = oracle.encrypt(P1_P2_P3) # longer than 16*3 becouse of padding\n",
    "C1 = C1_C2_C3[:AES.block_size]\n",
    "\n",
    "# this gives padding errors!\n",
    "#C1_C0_C1 = C1 + AES.block_size*b\"\\x00\" + C1\n",
    "#plain = oracle.decrypt(C1_C0_C1) \n",
    "\n",
    "# using the padded end of the cipher avoids padding errors, \n",
    "# while the initial part contains the attack needed to recover the key\n",
    "C1_C0_C1_C2_C3 = C1 + AES.block_size*b\"\\x00\" + C1 + C1_C2_C3 \n",
    "plain_leak = oracle.decrypt(C1_C0_C1_C2_C3)\n",
    "\n",
    "P1 = plain_leak[:AES.block_size]\n",
    "P3 = plain_leak[2*AES.block_size:3*AES.block_size]\n",
    "key_guess = bytes_xor(P1,P3)\n",
    "\n",
    "print()\n",
    "print(f\"Key guess:  {key_guess}\")\n",
    "print(f\"Oracle key: {oracle.key}\")"
   ]
  },
  {
   "cell_type": "markdown",
   "id": "9adc7020-3d5c-4ea9-b22e-cf38d7c5c18e",
   "metadata": {},
   "source": [
    "## 28. Implement a SHA-1 keyed MAC\n",
    "\n",
    "https://cryptopals.com/sets/4/challenges/28"
   ]
  },
  {
   "cell_type": "code",
   "execution_count": 7,
   "id": "02e19308-e385-43be-8d5c-418ae4f1449f",
   "metadata": {},
   "outputs": [],
   "source": [
    "def left_rotate(value, shift):\n",
    "    \"\"\"Perform a left circular rotation (circular shift) on a 32-bit value.\"\"\"\n",
    "    return ((value << shift) | (value >> (32 - shift))) & 0xFFFFFFFF\n",
    "\n",
    "def sha1(message,\n",
    "         H0 = 0x67452301, # Initialize hash values\n",
    "         H1 = 0xEFCDAB89, \n",
    "         H2 = 0x98BADCFE, \n",
    "         H3 = 0x10325476, \n",
    "         H4 = 0xC3D2E1F0,\n",
    "         message_length=0 # Provide forged message lenght\n",
    "        ):\n",
    "\n",
    "    # 1. Ensure the data is a bytearray\n",
    "    if isinstance(message, str):\n",
    "        message = bytearray(message, 'utf-8')\n",
    "    elif isinstance(message, bytes):\n",
    "        message = bytearray(message)\n",
    "    \n",
    "    # 2. Preprocess the message (padding)\n",
    "    if message_length:\n",
    "        original_length = message_length * 8\n",
    "    else:\n",
    "        original_length = len(message) * 8  # Length in bits\n",
    "    message.append(0x80)  # Append the bit '1'\n",
    "    while (len(message) * 8) % 512 != 448:\n",
    "        message.append(0)  # Pad with zeros\n",
    "    message += original_length.to_bytes(8, 'big')  # Append original length as 64-bit big-endian\n",
    "    \n",
    "    # 3. Process each 512-bit chunk\n",
    "    for chunk_start in range(0, len(message), 64):\n",
    "        chunk = message[chunk_start:chunk_start + 64]\n",
    "\n",
    "        # Break chunk into 16 32-bit words\n",
    "        words = [int.from_bytes(chunk[i:i + 4], 'big') for i in range(0, 64, 4)]\n",
    "        # Extend to 80 words\n",
    "        for i in range(16, 80):\n",
    "            words.append(left_rotate(words[i - 3] ^ words[i - 8] ^ words[i - 14] ^ words[i - 16], 1))\n",
    "\n",
    "        # Initialize variables\n",
    "        a, b, c, d, e = H0, H1, H2, H3, H4\n",
    "\n",
    "        # Main loop\n",
    "        for i in range(80):\n",
    "            if i < 20:\n",
    "                f = (b & c) | ((~b) & d)\n",
    "                k = 0x5A827999\n",
    "            elif i < 40:\n",
    "                f = b ^ c ^ d\n",
    "                k = 0x6ED9EBA1\n",
    "            elif i < 60:\n",
    "                f = (b & c) | (b & d) | (c & d)\n",
    "                k = 0x8F1BBCDC\n",
    "            else:\n",
    "                f = b ^ c ^ d\n",
    "                k = 0xCA62C1D6\n",
    "\n",
    "            temp = (left_rotate(a, 5) + f + e + k + words[i]) & 0xFFFFFFFF\n",
    "            e = d\n",
    "            d = c\n",
    "            c = left_rotate(b, 30)\n",
    "            b = a\n",
    "            a = temp\n",
    "\n",
    "        # Add chunk's hash to result\n",
    "        H0 = (H0 + a) & 0xFFFFFFFF\n",
    "        H1 = (H1 + b) & 0xFFFFFFFF\n",
    "        H2 = (H2 + c) & 0xFFFFFFFF\n",
    "        H3 = (H3 + d) & 0xFFFFFFFF\n",
    "        H4 = (H4 + e) & 0xFFFFFFFF\n",
    "\n",
    "    # Produce final hash value\n",
    "    return f\"{H0:08x}{H1:08x}{H2:08x}{H3:08x}{H4:08x}\""
   ]
  },
  {
   "cell_type": "code",
   "execution_count": 8,
   "id": "3e27b592-ab07-4a69-9a71-56b7c807d402",
   "metadata": {},
   "outputs": [
    {
     "name": "stdout",
     "output_type": "stream",
     "text": [
      "8a4b17f1f70a1d00ebaf66c7a023b6d03e886090 8a4b17f1f70a1d00ebaf66c7a023b6d03e886090 True\n",
      "750ae2a8ae3c5981c0e6639df3050c9c13e013a4 750ae2a8ae3c5981c0e6639df3050c9c13e013a4 True\n",
      "c73b46596018a25779f51f6902a83df9bd398fa7 c73b46596018a25779f51f6902a83df9bd398fa7 True\n",
      "f5d049c966845cfe5f8acc6fdd026090279b0980 f5d049c966845cfe5f8acc6fdd026090279b0980 True\n",
      "1c3a56e7370bfcaac407f74e065ea4f16f12eaaa 1c3a56e7370bfcaac407f74e065ea4f16f12eaaa True\n",
      "8867d429fb3481ad9c860091146c554c12dc6b97 8867d429fb3481ad9c860091146c554c12dc6b97 True\n",
      "e7c2789234730f3057e35b2ab010a23ea57a7beb e7c2789234730f3057e35b2ab010a23ea57a7beb True\n",
      "5f43a6e5836b26b3c0b51655e5ed2b7f81e10121 5f43a6e5836b26b3c0b51655e5ed2b7f81e10121 True\n",
      "88bc523c6a906ab7f6e157217f7b18d58eebe7da 88bc523c6a906ab7f6e157217f7b18d58eebe7da True\n",
      "b6a3de17a10aa42d91ca225e52b8c7015b2fbf89 b6a3de17a10aa42d91ca225e52b8c7015b2fbf89 True\n"
     ]
    }
   ],
   "source": [
    "from hashlib import sha1 as SHA1\n",
    "import os\n",
    "\n",
    "for _ in range(10):\n",
    "    test = os.urandom(100)\n",
    "    print(SHA1(test).digest().hex(), sha1(test), SHA1(test).digest().hex()==sha1(test))"
   ]
  },
  {
   "cell_type": "code",
   "execution_count": 9,
   "id": "d87bed1c-77b0-423b-a5ca-33870b22fb34",
   "metadata": {},
   "outputs": [],
   "source": [
    "def generate_mac_sha1(key, message):\n",
    "    return sha1(key + message)\n",
    "\n",
    "def verify_mac_sha1(key, message, mac):\n",
    "    return sha1(key + message) == mac"
   ]
  },
  {
   "cell_type": "code",
   "execution_count": 10,
   "id": "cebeb6d2-9650-4a5a-bef7-0838ca853deb",
   "metadata": {},
   "outputs": [
    {
     "name": "stdout",
     "output_type": "stream",
     "text": [
      "True\n",
      "False\n"
     ]
    }
   ],
   "source": [
    "secret_key = \"secretkey\"\n",
    "message = \"This is a secret message.\"\n",
    "tampered_message = \"This is a tampered message.\"\n",
    "mac = generate_mac_sha1(secret_key, message)\n",
    "print(verify_mac_sha1(secret_key, message, mac))\n",
    "print(verify_mac_sha1(secret_key, tampered_message, mac))"
   ]
  },
  {
   "cell_type": "markdown",
   "id": "6db67d68-dc4c-42eb-ab80-8f965a8c18f0",
   "metadata": {},
   "source": [
    "## 29. Break a SHA-1 keyed MAC using length extension\n",
    "\n",
    "https://cryptopals.com/sets/4/challenges/29"
   ]
  },
  {
   "cell_type": "code",
   "execution_count": 60,
   "id": "12f16f08-bfb4-44d5-ad6f-f2924fc156a6",
   "metadata": {},
   "outputs": [],
   "source": [
    "def sha1_md_padding(message_length):\n",
    "    \"\"\"\n",
    "    Generate MD padding for a given message length in bytes.\n",
    "    Same as in sha1() implementation above\n",
    "    \"\"\"\n",
    "    padding = b'\\x80'  # Start with a single 1 bit (0x80 in hex)\n",
    "    padded_length = (message_length + 1)  # Account for the 0x80 byte\n",
    "    while (padded_length % 64) != 56:\n",
    "        padding += b'\\x00'  # Add zero bytes\n",
    "        padded_length += 1\n",
    "    # Append the 64-bit length of the original message in bits\n",
    "    original_bit_length = message_length * 8\n",
    "    padding += original_bit_length.to_bytes(8, 'big')\n",
    "    return padding\n",
    "\n",
    "def break_sha1_hash(sha1_hash):\n",
    "    ''' \n",
    "    Break SHA-1 secret-prefix MAC of a message into 32 bit SHA-1 registers\n",
    "    '''\n",
    "    return tuple([int(sha1_hash[i*8:(i+1)*8], 16) for i in range(5)])\n",
    "\n",
    "def sha1_length_extension_attack(original_mac, original_message, new_message, key_length):\n",
    "    \"\"\"\n",
    "    Perform a length extension attack on a SHA-1 MAC.\n",
    "    \"\"\"\n",
    "    # Break MAC into registers\n",
    "    a, b, c, d, e = break_sha1_hash(original_mac)\n",
    "    \n",
    "    # Compute the length of the original message + key\n",
    "    original_length = key_length + len(original_message)\n",
    "\n",
    "    # Generate glue padding for the original message\n",
    "    glue_padding = sha1_md_padding(original_length)\n",
    "\n",
    "    # Compute the new message length (including glue padding)\n",
    "    new_length = original_length + len(glue_padding) + len(new_message)\n",
    "\n",
    "    # Continue hashing with the new message\n",
    "    forged_mac = sha1(new_message, a, b, c, d, e, new_length)\n",
    "\n",
    "    # Construct the forged message\n",
    "    forged_message = original_message + glue_padding + new_message\n",
    "\n",
    "    return forged_message, forged_mac"
   ]
  },
  {
   "cell_type": "markdown",
   "id": "3faf913f-bbab-4281-824a-2bd02bf6bd42",
   "metadata": {},
   "source": [
    "### Testing attack with known key lenght"
   ]
  },
  {
   "cell_type": "code",
   "execution_count": 61,
   "id": "f0ce4da5-7c2a-4b9d-ad01-a592fbaccd89",
   "metadata": {},
   "outputs": [
    {
     "name": "stdout",
     "output_type": "stream",
     "text": [
      "Forged Message: b'comment1=cooking%20MCs;userdata=foo;comment2=%20like%20a%20pound%20of%20bacon\\x80\\x00\\x00\\x00\\x00\\x00\\x00\\x00\\x00\\x00\\x00\\x00\\x00\\x00\\x00\\x00\\x00\\x00\\x00\\x00\\x00\\x00\\x00\\x00\\x00\\x00\\x00\\x00\\x00\\x00\\x00\\x00\\x00\\x00\\x00\\x00\\x00\\x00\\x00\\x00\\x02\\xb0;admin=true'\n",
      "Forged MAC: 42a330db280929c037745b9fcc49ca4fc91a05f4\n",
      "Length extension attack SUCCESSFULL\n"
     ]
    }
   ],
   "source": [
    "key = b'secretkey'\n",
    "original_message = b\"comment1=cooking%20MCs;userdata=foo;comment2=%20like%20a%20pound%20of%20bacon\"\n",
    "original_mac = sha1(key+original_message)\n",
    "if not verify_mac_sha1(key, original_message, original_mac): print(\"SHA1 issue.\")\n",
    "\n",
    "new_message = b\";admin=true\"\n",
    "forged_message, forged_mac = sha1_length_extension_attack(original_mac, original_message, new_message, len(key))\n",
    "\n",
    "print(\"Forged Message:\", forged_message)\n",
    "print(\"Forged MAC:\", forged_mac)\n",
    "\n",
    "if verify_mac_sha1(key, forged_message, forged_mac):\n",
    "    print(\"Length extension attack SUCCESSFULL\")\n",
    "else:\n",
    "    print(\"Length extension attack FAILED\")"
   ]
  },
  {
   "cell_type": "markdown",
   "id": "d199a263-6088-434b-8351-426c9b6270f7",
   "metadata": {},
   "source": [
    "### Guessing the key lenght"
   ]
  },
  {
   "cell_type": "code",
   "execution_count": 62,
   "id": "88053790-2d05-42a7-832b-04102750bc81",
   "metadata": {},
   "outputs": [
    {
     "name": "stdout",
     "output_type": "stream",
     "text": [
      "Length extension attack SUCCESSFULL!\n",
      "Guessed key length: 15 (key was: 'superconductive')\n",
      "Forged Message: b'comment1=cooking%20MCs;userdata=foo;comment2=%20like%20a%20pound%20of%20bacon\\x80\\x00\\x00\\x00\\x00\\x00\\x00\\x00\\x00\\x00\\x00\\x00\\x00\\x00\\x00\\x00\\x00\\x00\\x00\\x00\\x00\\x00\\x00\\x00\\x00\\x00\\x00\\x00\\x00\\x00\\x00\\x00\\x00\\x00\\x02\\xe0;admin=true'\n",
      "Forged MAC: 29cd46475ae55ddacb849d5fd91e9d5dc4a95ec8\n"
     ]
    }
   ],
   "source": [
    "import random\n",
    "\n",
    "with open(\"/usr/share/dict/words\") as f:\n",
    "    words = [ w.strip() for w in f.readlines() ]\n",
    "\n",
    "key = random.choice(words) \n",
    "key = bytearray(key, 'utf-8')\n",
    "original_message = b\"comment1=cooking%20MCs;userdata=foo;comment2=%20like%20a%20pound%20of%20bacon\"\n",
    "original_mac = sha1(key+original_message)\n",
    "\n",
    "new_message = b\";admin=true\"\n",
    "key_length = 1\n",
    "while True:\n",
    "    forged_message, forged_mac = sha1_length_extension_attack(original_mac, original_message, new_message, key_length)\n",
    "    if verify_mac_sha1(key, forged_message, forged_mac):\n",
    "        print(\"Length extension attack SUCCESSFULL!\")\n",
    "        print(f\"Guessed key length: {key_length} (key was: '{key.decode()}')\")\n",
    "        print(\"Forged Message:\", forged_message)\n",
    "        print(\"Forged MAC:\", forged_mac)\n",
    "        break\n",
    "    key_length += 1"
   ]
  },
  {
   "cell_type": "markdown",
   "id": "c1ad0199-060a-4e71-ae8a-e332bdd5d8ba",
   "metadata": {},
   "source": [
    "## 30. Break an MD4 keyed MAC using length extension\n",
    "\n",
    "https://cryptopals.com/sets/4/challenges/30\n",
    "\n",
    "Same as in previous challenge, point of attention us that not MD4 uses little-endian bit ordering!"
   ]
  },
  {
   "cell_type": "code",
   "execution_count": 63,
   "id": "39d2e512-f291-4307-b244-f0b7d93e8837",
   "metadata": {},
   "outputs": [],
   "source": [
    "import struct\n",
    "\n",
    "# Left rotate function\n",
    "def left_rotate(value, shift):\n",
    "    return ((value << shift) | (value >> (32 - shift))) & 0xFFFFFFFF\n",
    "\n",
    "# MD4 Hash Function\n",
    "def md4(message,\n",
    "        A = 0x67452301, # Initialize MD4 state variables\n",
    "        B = 0xEFCDAB89, \n",
    "        C = 0x98BADCFE, \n",
    "        D = 0x10325476,\n",
    "        message_length=0 # Provide forged message length\n",
    "       ):\n",
    "    # 1. Ensure the data is a bytearray\n",
    "    if isinstance(message, str):\n",
    "        message = bytearray(message, 'utf-8')\n",
    "    elif isinstance(message, bytes):\n",
    "        message = bytearray(message)\n",
    "    \n",
    "    # 2. Preprocess the message (padding)\n",
    "    if message_length:\n",
    "        original_length = message_length * 8\n",
    "    else:\n",
    "        original_length = len(message) * 8  # Length in bits\n",
    "    message += b'\\x80'  # Append a single '1' bit (as 0x80)\n",
    "    while (len(message) * 8) % 512 != 448:\n",
    "        message += b'\\x00'  # Pad with '0' bits\n",
    "    message += struct.pack('<Q', original_length)  # Append original length in bits, little-endian\n",
    "\n",
    "    # 3. Process each 512-bit chunk\n",
    "    for chunk_start in range(0, len(message), 64):\n",
    "        X = struct.unpack('<16I', message[chunk_start:chunk_start + 64])\n",
    "        AA, BB, CC, DD = A, B, C, D\n",
    "\n",
    "        # Round 1\n",
    "        for i, s in zip(range(16), [3, 7, 11, 19] * 4):\n",
    "            k = i\n",
    "            A = left_rotate((A + ((B & C) | (~B & D)) + X[k]) & 0xFFFFFFFF, s)\n",
    "            A, B, C, D = D, A, B, C\n",
    "\n",
    "        # Round 2\n",
    "        for i, s in zip(range(16), [3, 5, 9, 13] * 4):\n",
    "            k = (i % 4) * 4 + i // 4\n",
    "            A = left_rotate((A + ((B & C) | (B & D) | (C & D)) + X[k] + 0x5A827999) & 0xFFFFFFFF, s)\n",
    "            A, B, C, D = D, A, B, C\n",
    "\n",
    "        # Round 3\n",
    "        for i, s in zip(range(16), [3, 9, 11, 15] * 4):\n",
    "            k = [0, 8, 4, 12, 2, 10, 6, 14, 1, 9, 5, 13, 3, 11, 7, 15][i]\n",
    "            A = left_rotate((A + (B ^ C ^ D) + X[k] + 0x6ED9EBA1) & 0xFFFFFFFF, s)\n",
    "            A, B, C, D = D, A, B, C\n",
    "\n",
    "        # Add this chunk's hash to result so far\n",
    "        A = (A + AA) & 0xFFFFFFFF\n",
    "        B = (B + BB) & 0xFFFFFFFF\n",
    "        C = (C + CC) & 0xFFFFFFFF\n",
    "        D = (D + DD) & 0xFFFFFFFF\n",
    "\n",
    "    # 4. Produce the final hash as a hex string\n",
    "    return struct.pack('<4I', A, B, C, D).hex()"
   ]
  },
  {
   "cell_type": "code",
   "execution_count": 64,
   "id": "4ffac516-9f84-44c2-afe8-290e415a4d37",
   "metadata": {},
   "outputs": [
    {
     "name": "stdout",
     "output_type": "stream",
     "text": [
      "26d6c9028589bd71eb79d592d51fda6d 26d6c9028589bd71eb79d592d51fda6d True\n",
      "09e72f3dc3afa1aacaa5a1560904b0f5 09e72f3dc3afa1aacaa5a1560904b0f5 True\n",
      "7e29a75c1fd27258a18c5cf72f60dd32 7e29a75c1fd27258a18c5cf72f60dd32 True\n",
      "3e8da266897a50555b5b37a0df3c7e6d 3e8da266897a50555b5b37a0df3c7e6d True\n",
      "708ca0681bcfc43642bb92b70d2c895b 708ca0681bcfc43642bb92b70d2c895b True\n",
      "679d642b6593bcdbb06ddd47781cf4ba 679d642b6593bcdbb06ddd47781cf4ba True\n",
      "33d8c256ac43ec7896df50d96145f3cc 33d8c256ac43ec7896df50d96145f3cc True\n",
      "0b14a05af3a4e52dc50421bb367cefa9 0b14a05af3a4e52dc50421bb367cefa9 True\n",
      "fe01a2afc3423c1d3d0ad05e97d1b43b fe01a2afc3423c1d3d0ad05e97d1b43b True\n",
      "9af195d2c232ea688fb06177f28af773 9af195d2c232ea688fb06177f28af773 True\n"
     ]
    }
   ],
   "source": [
    "from Cryptodome.Hash import MD4\n",
    "import os\n",
    "\n",
    "for _ in range(10):\n",
    "    test = os.urandom(100)\n",
    "    print(MD4.MD4Hash(test).digest().hex(), md4(test), MD4.MD4Hash(test).digest().hex()==md4(test))"
   ]
  },
  {
   "cell_type": "code",
   "execution_count": 65,
   "id": "27296c1b-b2d2-4ada-be9e-92517158d7b2",
   "metadata": {},
   "outputs": [],
   "source": [
    "def generate_mac_md4(key, message):\n",
    "    return md4(key + message)\n",
    "\n",
    "def verify_mac_md4(key, message, mac):\n",
    "    return md4(key + message) == mac"
   ]
  },
  {
   "cell_type": "code",
   "execution_count": 66,
   "id": "c77aa735-ed42-4d83-a325-92c7124512b0",
   "metadata": {},
   "outputs": [
    {
     "name": "stdout",
     "output_type": "stream",
     "text": [
      "True\n",
      "False\n"
     ]
    }
   ],
   "source": [
    "secret_key = b\"secretkey\"\n",
    "message = b\"This is a secret message.\"\n",
    "tampered_message = b\"This is a tampered message.\"\n",
    "mac = generate_mac_md4(secret_key, message)\n",
    "print(verify_mac_md4(secret_key, message, mac))\n",
    "print(verify_mac_md4(secret_key, tampered_message, mac))"
   ]
  },
  {
   "cell_type": "code",
   "execution_count": 67,
   "id": "2745008b-91a4-45cd-8270-ddc58089e780",
   "metadata": {},
   "outputs": [],
   "source": [
    "def md4_md_padding(message_length):\n",
    "    padding = b'\\x80'  # Start with a single 1 bit (0x80 in hex)\n",
    "    padded_length = message_length + 1  # Account for the 0x80 byte\n",
    "    while (padded_length * 8) % 512 != 448:\n",
    "        padding += b'\\x00'  # Pad with '0' bits\n",
    "        padded_length += 1\n",
    "    padding += struct.pack('<Q', message_length * 8)  # Append original length in bits, little-endian\n",
    "    return padding\n",
    "\n",
    "def break_md4_hash(md4_hash):\n",
    "    # Ensure md4_hash is in bytes, assuming it's a hexadecimal string\n",
    "    md4_hash_bytes = bytes.fromhex(md4_hash)\n",
    "    # Break the 128-bit MD4 hash into four 32-bit integers in little-endian order\n",
    "    return tuple([int.from_bytes(md4_hash_bytes[i*4:(i+1)*4], byteorder='little') for i in range(4)])\n",
    "    \n",
    "def md4_length_extension_attack(original_mac, original_message, new_message, key_length):\n",
    "    # Break MAC into registers\n",
    "    a, b, c, d = break_md4_hash(original_mac)\n",
    "\n",
    "    # Compute the length of the original message + key\n",
    "    original_length = key_length + len(original_message)\n",
    "\n",
    "    # Generate glue padding for the original message\n",
    "    glue_padding = md4_md_padding(original_length)\n",
    "\n",
    "    # Compute the new message length (including glue padding)\n",
    "    new_length = original_length + len(glue_padding) + len(new_message)\n",
    "\n",
    "    # Continue hashing with the new message\n",
    "    forged_mac = md4(new_message, a, b, c, d, new_length)\n",
    "\n",
    "    # Construct the forged message\n",
    "    forged_message = original_message + glue_padding + new_message\n",
    "\n",
    "    return forged_message, forged_mac"
   ]
  },
  {
   "cell_type": "code",
   "execution_count": 68,
   "id": "d814244c-3c40-44ef-9eba-b77e0eec8355",
   "metadata": {},
   "outputs": [
    {
     "name": "stdout",
     "output_type": "stream",
     "text": [
      "Forged Message: b'comment1=cooking%20MCs;userdata=foo;comment2=%20like%20a%20pound%20of%20bacon\\x80\\x00\\x00\\x00\\x00\\x00\\x00\\x00\\x00\\x00\\x00\\x00\\x00\\x00\\x00\\x00\\x00\\x00\\x00\\x00\\x00\\x00\\x00\\x00\\x00\\x00\\x00\\x00\\x00\\x00\\x00\\x00\\x00\\x00\\xb0\\x02\\x00\\x00\\x00\\x00\\x00\\x00;admin=true'\n",
      "Forged MAC: 749847716dc452c4d479bd6b40f90574\n",
      "Length extension attack SUCCESSFULL\n"
     ]
    }
   ],
   "source": [
    "key = b'secretkey'\n",
    "original_message = b\"comment1=cooking%20MCs;userdata=foo;comment2=%20like%20a%20pound%20of%20bacon\"\n",
    "original_mac = md4(key+original_message)\n",
    "if not verify_mac_md4(key, original_message, original_mac): print(\"MD4 issue.\")\n",
    "\n",
    "new_message = b\";admin=true\"\n",
    "forged_message, forged_mac = md4_length_extension_attack(original_mac, original_message, new_message, len(key))\n",
    "\n",
    "print(\"Forged Message:\", forged_message)\n",
    "print(\"Forged MAC:\", forged_mac)\n",
    "\n",
    "if verify_mac_md4(key, forged_message, forged_mac):\n",
    "    print(\"Length extension attack SUCCESSFULL\")\n",
    "else:\n",
    "    print(\"Length extension attack FAILED\")"
   ]
  },
  {
   "cell_type": "code",
   "execution_count": 69,
   "id": "afbb55dc-7571-4062-a631-6acb13008abc",
   "metadata": {},
   "outputs": [
    {
     "name": "stdout",
     "output_type": "stream",
     "text": [
      "Length extension attack SUCCESSFULL!\n",
      "Guessed key length: 8 (key was: 'viridene')\n",
      "Forged Message: b'comment1=cooking%20MCs;userdata=foo;comment2=%20like%20a%20pound%20of%20bacon\\x80\\x00\\x00\\x00\\x00\\x00\\x00\\x00\\x00\\x00\\x00\\x00\\x00\\x00\\x00\\x00\\x00\\x00\\x00\\x00\\x00\\x00\\x00\\x00\\x00\\x00\\x00\\x00\\x00\\x00\\x00\\x00\\x00\\x00\\x00\\xa8\\x02\\x00\\x00\\x00\\x00\\x00\\x00;admin=true'\n",
      "Forged MAC: d544b4bc14744d4c6e0b60f471e99b22\n"
     ]
    }
   ],
   "source": [
    "import random\n",
    "\n",
    "with open(\"/usr/share/dict/words\") as f:\n",
    "    words = [ w.strip() for w in f.readlines() ]\n",
    "\n",
    "key = random.choice(words) \n",
    "key = bytearray(key, 'utf-8')\n",
    "original_message = b\"comment1=cooking%20MCs;userdata=foo;comment2=%20like%20a%20pound%20of%20bacon\"\n",
    "original_mac = md4(key+original_message)\n",
    "\n",
    "new_message = b\";admin=true\"\n",
    "key_length = 1\n",
    "while True:\n",
    "    forged_message, forged_mac = md4_length_extension_attack(original_mac, original_message, new_message, key_length)\n",
    "    if verify_mac_md4(key, forged_message, forged_mac):\n",
    "        print(\"Length extension attack SUCCESSFULL!\")\n",
    "        print(f\"Guessed key length: {key_length} (key was: '{key.decode()}')\")\n",
    "        print(\"Forged Message:\", forged_message)\n",
    "        print(\"Forged MAC:\", forged_mac)\n",
    "        break\n",
    "    key_length += 1"
   ]
  },
  {
   "cell_type": "code",
   "execution_count": null,
   "id": "caae592d-85ef-4aae-8a65-3d2f8378471f",
   "metadata": {},
   "outputs": [],
   "source": []
  }
 ],
 "metadata": {
  "kernelspec": {
   "display_name": "Python 3 (ipykernel)",
   "language": "python",
   "name": "python3"
  },
  "language_info": {
   "codemirror_mode": {
    "name": "ipython",
    "version": 3
   },
   "file_extension": ".py",
   "mimetype": "text/x-python",
   "name": "python",
   "nbconvert_exporter": "python",
   "pygments_lexer": "ipython3",
   "version": "3.12.2"
  }
 },
 "nbformat": 4,
 "nbformat_minor": 5
}
