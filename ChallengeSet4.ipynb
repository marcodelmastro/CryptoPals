{
 "cells": [
  {
   "cell_type": "markdown",
   "id": "76ef7d62-05a0-4dea-b8d5-15b58e7b9b24",
   "metadata": {},
   "source": [
    "# Cryptopals Challenge Set 4\n",
    "\n",
    "https://cryptopals.com/sets/4\n",
    "\n",
    "## 25. Break \"random access read/write\" AES CTR\n",
    "\n",
    "https://cryptopals.com/sets/4/challenges/25"
   ]
  },
  {
   "cell_type": "code",
   "execution_count": 1,
   "id": "31d54d34-81ce-4492-897b-976ef52624f5",
   "metadata": {},
   "outputs": [],
   "source": [
    "import os\n",
    "from base64 import b64decode\n",
    "from cryptopals.utils import aes_ecb_decrypt, aes_ctr_decode_encode\n",
    "\n",
    "with open(\"input/25.txt\") as f:\n",
    "    cipher_ = b64decode(f.read())\n",
    "    plaintext25 = aes_ecb_decrypt(cipher_,b\"YELLOW SUBMARINE\")\n",
    "\n",
    "KEY25 = os.urandom(16)\n",
    "NONCE = 0\n",
    "cipher25 = aes_ctr_decode_encode(plaintext25,KEY25,NONCE)"
   ]
  },
  {
   "cell_type": "markdown",
   "id": "8debe245-6938-4f75-a063-fde1a1ccf9f9",
   "metadata": {},
   "source": [
    "### Discussion \n",
    "\n",
    "Since XOR is commutative, if I gain access to a AES CTR encrypted cipher for which I know the plaintext, I can easily recover the corresponding keystream without knowing the key or the nonce. Here's the generic proof of pricinple:"
   ]
  },
  {
   "cell_type": "code",
   "execution_count": 2,
   "id": "b112c4c7-8001-408a-9ffa-49a89e50ee77",
   "metadata": {},
   "outputs": [
    {
     "name": "stdout",
     "output_type": "stream",
     "text": [
      "I'm back and I'm ringin' the bell \n",
      "A rockin' on the mike while the fly girls yell \n",
      "In ecstasy in the back of me \n",
      "Well that's my DJ Deshay cuttin' all them Z's \n",
      "Hittin' hard and the girlies goin' crazy ...\n"
     ]
    }
   ],
   "source": [
    "from cryptopals import bytes_xor\n",
    "\n",
    "plain_attack = len(cipher25)*b\"A\"\n",
    "cipher_attack = aes_ctr_decode_encode(plain_attack,KEY25,NONCE)\n",
    "keystream_recover = bytes_xor(plain_attack,cipher_attack)\n",
    "plain_recover = bytes_xor(cipher25,keystream_recover)\n",
    "print(plain_recover[:200].decode(), \"...\")"
   ]
  },
  {
   "cell_type": "markdown",
   "id": "8b5aaee7-9194-4f35-beec-f20dc89b9e7e",
   "metadata": {},
   "source": [
    "### Attack\n",
    "\n",
    "Assuming I have access to a \"random access\" read/write API like that described by the challenge and I can read the oringial ciphertext, I would then implement something like the following. The efficiency of the attack depends on the size of the injected chunk, the larger the chunk the fewer call to the re-encrypting API."
   ]
  },
  {
   "cell_type": "code",
   "execution_count": 3,
   "id": "d85ae7d1-f7fc-401a-a987-da0fa7217b89",
   "metadata": {},
   "outputs": [
    {
     "name": "stdout",
     "output_type": "stream",
     "text": [
      "I'm back and I'm ringin' the bell \n",
      "A rockin' on the mike while the fly girls yell \n",
      "In ecstasy in the back of me \n",
      "Well that's my DJ Deshay cuttin' all them Z's \n",
      "Hittin' hard and the girlies goin' crazy ...\n"
     ]
    }
   ],
   "source": [
    "from cryptopals.utils import generate_ctr_keystream, bytes_xor\n",
    "\n",
    "def edit(ciphertext, offset, newtext, key=KEY25, nonce=NONCE):\n",
    "    keystream = generate_ctr_keystream(key, nonce, offset+len(newtext))   \n",
    "    newcipher = bytes_xor(newtext,keystream[offset:])\n",
    "    result = ciphertext[:offset] + newcipher + ciphertext[offset+len(newtext):]\n",
    "    return result\n",
    "\n",
    "def break_random_access_read_write_AES_CTR(cipher,chuncksize=1000):\n",
    "    keystream_recover = b\"\"\n",
    "    for i in range(len(cipher)//chuncksize+1):\n",
    "        cipher_edit = edit(cipher, i*chuncksize, chuncksize*b\"A\")\n",
    "        keystream_recover += bytes_xor(chuncksize*b\"A\",cipher_edit[i*chuncksize:(i+1)*chuncksize])\n",
    "    return bytes_xor(cipher,keystream_recover)\n",
    "\n",
    "plain25 = break_random_access_read_write_AES_CTR(cipher25)\n",
    "print(plain25.decode()[:200], \"...\")"
   ]
  },
  {
   "cell_type": "markdown",
   "id": "f68e3936-06f5-484b-ac4e-f3d9612176a7",
   "metadata": {},
   "source": [
    "## 26. CTR bitflipping\n",
    "\n",
    "https://cryptopals.com/sets/4/challenges/26\n",
    "\n",
    "### Attack\n",
    "\n",
    "Same strategy than Challenge 16, it just works!"
   ]
  },
  {
   "cell_type": "code",
   "execution_count": 4,
   "id": "c786469c-4abc-4b49-aa9e-3782683d0a92",
   "metadata": {},
   "outputs": [
    {
     "name": "stdout",
     "output_type": "stream",
     "text": [
      "plaintext=b'comment1=cooking%20MCs;userdata=%3Badmin%3Dtrue%3B;comment2=%20like%20a%20pound%20of%20bacon'\n",
      "TEST: ';admin=true;' correctly escaped\n",
      "\n",
      "plaintext=b'comment1=cooking%20MCs;userdata=AAAA;admin=true;AAAAAAAAAAAAAAAA;comment2=%20like%20a%20pound%20of%20bacon'\n",
      "ATTACK: injection successfull!\n"
     ]
    }
   ],
   "source": [
    "from Cryptodome.Cipher import AES\n",
    "from cryptopals.utils import aes_ctr_decode_encode\n",
    "import os\n",
    "\n",
    "BLOCKSIZE = AES.block_size\n",
    "KEYSIZE = 32\n",
    "\n",
    "class profile_functions_26:\n",
    "    def __init__(self,key=None, nonce=0):\n",
    "        if not key:\n",
    "            self.key = os.urandom(KEYSIZE)\n",
    "        else:\n",
    "            self.key = key\n",
    "        self.nonce = nonce\n",
    "            \n",
    "    def wrap_userdata(self, data: bytes) -> bytes:\n",
    "        prefix = b\"comment1=cooking%20MCs;userdata=\"\n",
    "        suffix = b\";comment2=%20like%20a%20pound%20of%20bacon\"\n",
    "        data = data.replace(b\";\",b\"%3B\").replace(b\"=\",b\"%3D\") # The function should quote out the \";\" and \"=\" characters.\n",
    "        wrapped = prefix + data + suffix\n",
    "        return aes_ctr_decode_encode(wrapped,self.key,self.nonce)\n",
    "    \n",
    "    def check_for_admin(self, data: bytes, quiet=False) -> bool:\n",
    "        plaintext = aes_ctr_decode_encode(data,self.key,self.nonce)\n",
    "        if not quiet:\n",
    "            print(f\"{plaintext=}\")\n",
    "        return b\";admin=true;\" in plaintext\n",
    "\n",
    "def make_bitflipping_attack(profile, inject=b\";admin=true;\") -> bytes:\n",
    "    a_block = b\"A\" * BLOCKSIZE\n",
    "    cipher = profile.wrap_userdata(2*a_block)\n",
    "    # right justify injection block with padding\n",
    "    injection = inject.rjust(BLOCKSIZE, b\"A\")\n",
    "    flipper = bytes_xor(a_block,injection)\n",
    "    # flipped block will be 4th block in plain text, it's then left justified to the lenght of the ciphertext\n",
    "    padded = flipper.rjust(3*BLOCKSIZE, b\"\\x00\").ljust(len(cipher), b\"\\x00\")\n",
    "    # xor with original encrypter wrapped user data\n",
    "    cipher_new = bytes_xor(cipher,padded)\n",
    "    return cipher_new\n",
    "\n",
    "profile26 = profile_functions_26()\n",
    "\n",
    "cipher_test = profile26.wrap_userdata(b\";admin=true;\")\n",
    "test = profile26.check_for_admin(cipher_test,False)\n",
    "if not test:\n",
    "    print(\"TEST: ';admin=true;' correctly escaped\\n\")\n",
    "\n",
    "attack_data = make_bitflipping_attack(profile26,inject=b\";admin=true;\")\n",
    "if profile26.check_for_admin(attack_data,False):\n",
    "    print(\"ATTACK: injection successfull!\")"
   ]
  },
  {
   "cell_type": "markdown",
   "id": "6ba2fbe0-e1e4-4cfa-975c-d6add11ad94c",
   "metadata": {},
   "source": [
    "## 27. Recover the key from CBC with IV=Key\n",
    "\n",
    "https://cryptopals.com/sets/4/challenges/27"
   ]
  },
  {
   "cell_type": "code",
   "execution_count": 5,
   "id": "f2161e93-6a87-4bc0-8f9d-cac3870b2144",
   "metadata": {},
   "outputs": [],
   "source": [
    "from Cryptodome.Cipher import AES\n",
    "from cryptopals import pkcs7_pad, pkcs7_strip\n",
    "import os\n",
    "\n",
    "class oracle_27:\n",
    "    def __init__(self):\n",
    "        self.key = os.urandom(AES.block_size)\n",
    "        self.iv = self.key # repurposes the key for CBC encryption as the IV\n",
    "\n",
    "    def encrypt(self, data: bytes) -> bytes:\n",
    "        aes_cbc = AES.new(self.key,AES.MODE_CBC,self.iv)\n",
    "        return aes_cbc.encrypt(pkcs7_pad(data))\n",
    "\n",
    "    def decrypt(self, data: bytes) -> bytes:\n",
    "        aes_cbc = AES.new(self.key,AES.MODE_CBC,self.iv)\n",
    "        plaintext = pkcs7_strip(aes_cbc.decrypt(data))\n",
    "        non_ascii_chars = [byte for byte in plaintext if byte > 127]\n",
    "        if non_ascii_chars:\n",
    "            print(f\"Non-ASCII character(s) found in plaintext {plaintext}.\")\n",
    "            return plaintext\n",
    "        else:\n",
    "            print(f\"Decrypting successful (but I'm not returning the plaintext).\")\n",
    "            return None"
   ]
  },
  {
   "cell_type": "code",
   "execution_count": 6,
   "id": "aa174a91-6086-4dbf-9da8-ca0249108d51",
   "metadata": {},
   "outputs": [
    {
     "name": "stdout",
     "output_type": "stream",
     "text": [
      "Decrypting successful (but I'm not returning the plaintext).\n",
      "Non-ASCII character(s) found in plaintext b'AAAAAAAAAAAAAAAA\\xad\\x90\\xfc\\x80<gy\\xabk\\x13\\xea\"\\xcd\\xd9\\xdc\\xad;\\x15\\x85\\xbbi%\\x87\\xd9\\xe43\\xe1b\\xea\\x94\\xb8\\x9b\\xee\\xca\\xc8K*\\xac\\x8d\\x10\\xed7Dv\\xe74q7AAAAAAAAAAAAAAAA\\x80\\x80\\x80\\x80\\x80\\x80\\x80\\x80\\x80\\x80\\x80\\x80\\x80\\x80\\x80\\x80'.\n",
      "\n",
      "Key guess:  b'zT\\xc4\\xfa(d\\xc6\\x98\\xa5r\\xa0#\\xab\\xd5\\xf9\\xda'\n",
      "Oracle key: b'zT\\xc4\\xfa(d\\xc6\\x98\\xa5r\\xa0#\\xab\\xd5\\xf9\\xda'\n"
     ]
    }
   ],
   "source": [
    "from cryptopals.utils import bytes_xor\n",
    "\n",
    "oracle = oracle_27()\n",
    "oracle.decrypt(oracle.encrypt(b\"This is a test\"))\n",
    "\n",
    "# forgin P3 with high-ASCII values to trigger plaintext leak\n",
    "P1_P2_P3 = 2*AES.block_size*b\"A\" + AES.block_size*b\"\\x80\" \n",
    "C1_C2_C3 = oracle.encrypt(P1_P2_P3) # longer than 16*3 becouse of padding\n",
    "C1 = C1_C2_C3[:AES.block_size]\n",
    "\n",
    "# this gives padding errors!\n",
    "#C1_C0_C1 = C1 + AES.block_size*b\"\\x00\" + C1\n",
    "#plain = oracle.decrypt(C1_C0_C1) \n",
    "\n",
    "# using the padded end of the cipher avoids padding errors, \n",
    "# while the initial part contains the attack needed to recover the key\n",
    "C1_C0_C1_C2_C3 = C1 + AES.block_size*b\"\\x00\" + C1 + C1_C2_C3 \n",
    "plain_leak = oracle.decrypt(C1_C0_C1_C2_C3)\n",
    "\n",
    "P1 = plain_leak[:AES.block_size]\n",
    "P3 = plain_leak[2*AES.block_size:3*AES.block_size]\n",
    "key_guess = bytes_xor(P1,P3)\n",
    "\n",
    "print()\n",
    "print(f\"Key guess:  {key_guess}\")\n",
    "print(f\"Oracle key: {oracle.key}\")"
   ]
  },
  {
   "cell_type": "markdown",
   "id": "9adc7020-3d5c-4ea9-b22e-cf38d7c5c18e",
   "metadata": {},
   "source": [
    "## 28. Implement a SHA-1 keyed MAC\n",
    "\n",
    "https://cryptopals.com/sets/4/challenges/28"
   ]
  },
  {
   "cell_type": "code",
   "execution_count": 7,
   "id": "02e19308-e385-43be-8d5c-418ae4f1449f",
   "metadata": {},
   "outputs": [],
   "source": [
    "def left_rotate(value, shift):\n",
    "    \"\"\"Perform a left circular rotation (circular shift) on a 32-bit value.\"\"\"\n",
    "    return ((value << shift) | (value >> (32 - shift))) & 0xFFFFFFFF\n",
    "\n",
    "def sha1(message,\n",
    "         H0 = 0x67452301, # Initialize hash values\n",
    "         H1 = 0xEFCDAB89, \n",
    "         H2 = 0x98BADCFE, \n",
    "         H3 = 0x10325476, \n",
    "         H4 = 0xC3D2E1F0,\n",
    "         message_length=0 # Provide forged message lenght\n",
    "        ):\n",
    "\n",
    "    # 1. Ensure the data is a bytearray\n",
    "    if isinstance(message, str):\n",
    "        message = bytearray(message, 'utf-8')\n",
    "    elif isinstance(message, bytes):\n",
    "        message = bytearray(message)\n",
    "    \n",
    "    # 2. Preprocess the message (padding)\n",
    "    if message_length:\n",
    "        original_length = message_length * 8\n",
    "    else:\n",
    "        original_length = len(message) * 8  # Length in bits\n",
    "    message.append(0x80)  # Append the bit '1'\n",
    "    while (len(message) * 8) % 512 != 448:\n",
    "        message.append(0)  # Pad with zeros\n",
    "    message += original_length.to_bytes(8, 'big')  # Append original length as 64-bit big-endian\n",
    "    \n",
    "    # 3. Process each 512-bit chunk\n",
    "    for chunk_start in range(0, len(message), 64):\n",
    "        chunk = message[chunk_start:chunk_start + 64]\n",
    "\n",
    "        # Break chunk into 16 32-bit words\n",
    "        words = [int.from_bytes(chunk[i:i + 4], 'big') for i in range(0, 64, 4)]\n",
    "        # Extend to 80 words\n",
    "        for i in range(16, 80):\n",
    "            words.append(left_rotate(words[i - 3] ^ words[i - 8] ^ words[i - 14] ^ words[i - 16], 1))\n",
    "\n",
    "        # Initialize variables\n",
    "        a, b, c, d, e = H0, H1, H2, H3, H4\n",
    "\n",
    "        # Main loop\n",
    "        for i in range(80):\n",
    "            if i < 20:\n",
    "                f = (b & c) | ((~b) & d)\n",
    "                k = 0x5A827999\n",
    "            elif i < 40:\n",
    "                f = b ^ c ^ d\n",
    "                k = 0x6ED9EBA1\n",
    "            elif i < 60:\n",
    "                f = (b & c) | (b & d) | (c & d)\n",
    "                k = 0x8F1BBCDC\n",
    "            else:\n",
    "                f = b ^ c ^ d\n",
    "                k = 0xCA62C1D6\n",
    "\n",
    "            temp = (left_rotate(a, 5) + f + e + k + words[i]) & 0xFFFFFFFF\n",
    "            e = d\n",
    "            d = c\n",
    "            c = left_rotate(b, 30)\n",
    "            b = a\n",
    "            a = temp\n",
    "\n",
    "        # Add chunk's hash to result\n",
    "        H0 = (H0 + a) & 0xFFFFFFFF\n",
    "        H1 = (H1 + b) & 0xFFFFFFFF\n",
    "        H2 = (H2 + c) & 0xFFFFFFFF\n",
    "        H3 = (H3 + d) & 0xFFFFFFFF\n",
    "        H4 = (H4 + e) & 0xFFFFFFFF\n",
    "\n",
    "    # Produce final hash value\n",
    "    return f\"{H0:08x}{H1:08x}{H2:08x}{H3:08x}{H4:08x}\""
   ]
  },
  {
   "cell_type": "code",
   "execution_count": 8,
   "id": "3e27b592-ab07-4a69-9a71-56b7c807d402",
   "metadata": {},
   "outputs": [
    {
     "name": "stdout",
     "output_type": "stream",
     "text": [
      "048c501232c50ec13286d80589aa3fd5107a2bbc 048c501232c50ec13286d80589aa3fd5107a2bbc True\n",
      "0203801d30feb6609d45f185ee136eb789bc5278 0203801d30feb6609d45f185ee136eb789bc5278 True\n",
      "104332842216a65be7f1f6cc5c0eacacef1fdab0 104332842216a65be7f1f6cc5c0eacacef1fdab0 True\n",
      "7048979d8d0f221a60a2ef2f0369a05704351edd 7048979d8d0f221a60a2ef2f0369a05704351edd True\n",
      "afdcd8f3093a20f9353756c0382c5e6566f4cf38 afdcd8f3093a20f9353756c0382c5e6566f4cf38 True\n",
      "afc29edb26d3a8ef91df174e049a7fdedb18e68a afc29edb26d3a8ef91df174e049a7fdedb18e68a True\n",
      "31e43662f1cc9dac6d3e3a75017d1bf99a4b341d 31e43662f1cc9dac6d3e3a75017d1bf99a4b341d True\n",
      "9039f72084e3839a498a7e7b6fe511e8f501c494 9039f72084e3839a498a7e7b6fe511e8f501c494 True\n",
      "c508a59e0b8c53d38e27fc5d39e2e22e2ccdcdd1 c508a59e0b8c53d38e27fc5d39e2e22e2ccdcdd1 True\n",
      "cd74262bb61ec5f3d9e3378169f5d5c59969b35d cd74262bb61ec5f3d9e3378169f5d5c59969b35d True\n"
     ]
    }
   ],
   "source": [
    "from hashlib import sha1 as SHA1\n",
    "import os\n",
    "\n",
    "for _ in range(10):\n",
    "    test = os.urandom(100)\n",
    "    print(SHA1(test).digest().hex(), sha1(test), SHA1(test).digest().hex()==sha1(test))"
   ]
  },
  {
   "cell_type": "code",
   "execution_count": 9,
   "id": "d87bed1c-77b0-423b-a5ca-33870b22fb34",
   "metadata": {},
   "outputs": [],
   "source": [
    "def generate_mac_sha1(key, message):\n",
    "    return sha1(key + message)\n",
    "\n",
    "def verify_mac_sha1(key, message, mac):\n",
    "    return sha1(key + message) == mac"
   ]
  },
  {
   "cell_type": "code",
   "execution_count": 10,
   "id": "cebeb6d2-9650-4a5a-bef7-0838ca853deb",
   "metadata": {},
   "outputs": [
    {
     "name": "stdout",
     "output_type": "stream",
     "text": [
      "True\n",
      "False\n"
     ]
    }
   ],
   "source": [
    "secret_key = \"secretkey\"\n",
    "message = \"This is a secret message.\"\n",
    "tampered_message = \"This is a tampered message.\"\n",
    "mac = generate_mac_sha1(secret_key, message)\n",
    "print(verify_mac_sha1(secret_key, message, mac))\n",
    "print(verify_mac_sha1(secret_key, tampered_message, mac))"
   ]
  },
  {
   "cell_type": "markdown",
   "id": "6db67d68-dc4c-42eb-ab80-8f965a8c18f0",
   "metadata": {},
   "source": [
    "## 29. Break a SHA-1 keyed MAC using length extension\n",
    "\n",
    "https://cryptopals.com/sets/4/challenges/29"
   ]
  },
  {
   "cell_type": "code",
   "execution_count": 11,
   "id": "12f16f08-bfb4-44d5-ad6f-f2924fc156a6",
   "metadata": {},
   "outputs": [],
   "source": [
    "def sha1_md_padding(message_length):\n",
    "    \"\"\"\n",
    "    Generate MD padding for a given message length in bytes.\n",
    "    Same as in sha1() implementation above\n",
    "    \"\"\"\n",
    "    padding = b'\\x80'  # Start with a single 1 bit (0x80 in hex)\n",
    "    padded_length = (message_length + 1)  # Account for the 0x80 byte\n",
    "    while (padded_length % 64) != 56:\n",
    "        padding += b'\\x00'  # Add zero bytes\n",
    "        padded_length += 1\n",
    "    # Append the 64-bit length of the original message in bits\n",
    "    original_bit_length = message_length * 8\n",
    "    padding += original_bit_length.to_bytes(8, 'big')\n",
    "    return padding\n",
    "\n",
    "def break_sha1_hash(sha1_hash):\n",
    "    ''' \n",
    "    Break SHA-1 secret-prefix MAC of a message into 32 bit SHA-1 registers\n",
    "    '''\n",
    "    return tuple([int(sha1_hash[i*8:(i+1)*8], 16) for i in range(5)])\n",
    "\n",
    "def sha1_length_extension_attack(original_mac, original_message, new_message, key_length):\n",
    "    \"\"\"\n",
    "    Perform a length extension attack on a SHA-1 MAC.\n",
    "    \"\"\"\n",
    "    # Break MAC into registers\n",
    "    a, b, c, d, e = break_sha1_hash(original_mac)\n",
    "    \n",
    "    # Compute the length of the original message + key\n",
    "    original_length = key_length + len(original_message)\n",
    "\n",
    "    # Generate glue padding for the original message\n",
    "    glue_padding = sha1_md_padding(original_length)\n",
    "\n",
    "    # Compute the new message length (including glue padding)\n",
    "    new_length = original_length + len(glue_padding) + len(new_message)\n",
    "\n",
    "    # Continue hashing with the new message\n",
    "    forged_mac = sha1(new_message, a, b, c, d, e, new_length)\n",
    "\n",
    "    # Construct the forged message\n",
    "    forged_message = original_message + glue_padding + new_message\n",
    "\n",
    "    return forged_message, forged_mac"
   ]
  },
  {
   "cell_type": "markdown",
   "id": "3faf913f-bbab-4281-824a-2bd02bf6bd42",
   "metadata": {},
   "source": [
    "### Testing attack with known key lenght"
   ]
  },
  {
   "cell_type": "code",
   "execution_count": 12,
   "id": "f0ce4da5-7c2a-4b9d-ad01-a592fbaccd89",
   "metadata": {},
   "outputs": [
    {
     "name": "stdout",
     "output_type": "stream",
     "text": [
      "Forged Message: b'comment1=cooking%20MCs;userdata=foo;comment2=%20like%20a%20pound%20of%20bacon\\x80\\x00\\x00\\x00\\x00\\x00\\x00\\x00\\x00\\x00\\x00\\x00\\x00\\x00\\x00\\x00\\x00\\x00\\x00\\x00\\x00\\x00\\x00\\x00\\x00\\x00\\x00\\x00\\x00\\x00\\x00\\x00\\x00\\x00\\x00\\x00\\x00\\x00\\x00\\x00\\x02\\xb0;admin=true'\n",
      "Forged MAC: 42a330db280929c037745b9fcc49ca4fc91a05f4\n",
      "Length extension attack SUCCESSFULL\n"
     ]
    }
   ],
   "source": [
    "key = b'secretkey'\n",
    "original_message = b\"comment1=cooking%20MCs;userdata=foo;comment2=%20like%20a%20pound%20of%20bacon\"\n",
    "original_mac = sha1(key+original_message)\n",
    "if not verify_mac_sha1(key, original_message, original_mac): print(\"SHA1 issue.\")\n",
    "\n",
    "new_message = b\";admin=true\"\n",
    "forged_message, forged_mac = sha1_length_extension_attack(original_mac, original_message, new_message, len(key))\n",
    "\n",
    "print(\"Forged Message:\", forged_message)\n",
    "print(\"Forged MAC:\", forged_mac)\n",
    "\n",
    "if verify_mac_sha1(key, forged_message, forged_mac):\n",
    "    print(\"Length extension attack SUCCESSFULL\")\n",
    "else:\n",
    "    print(\"Length extension attack FAILED\")"
   ]
  },
  {
   "cell_type": "markdown",
   "id": "d199a263-6088-434b-8351-426c9b6270f7",
   "metadata": {},
   "source": [
    "### Guessing the key lenght"
   ]
  },
  {
   "cell_type": "code",
   "execution_count": 13,
   "id": "88053790-2d05-42a7-832b-04102750bc81",
   "metadata": {},
   "outputs": [
    {
     "name": "stdout",
     "output_type": "stream",
     "text": [
      "Length extension attack SUCCESSFULL!\n",
      "Guessed key length: 11 (key was: 'retransport')\n",
      "Forged Message: b'comment1=cooking%20MCs;userdata=foo;comment2=%20like%20a%20pound%20of%20bacon\\x80\\x00\\x00\\x00\\x00\\x00\\x00\\x00\\x00\\x00\\x00\\x00\\x00\\x00\\x00\\x00\\x00\\x00\\x00\\x00\\x00\\x00\\x00\\x00\\x00\\x00\\x00\\x00\\x00\\x00\\x00\\x00\\x00\\x00\\x00\\x00\\x00\\x00\\x02\\xc0;admin=true'\n",
      "Forged MAC: d5bf1f5288da0483fdc5d57351340ce4b814fe2f\n"
     ]
    }
   ],
   "source": [
    "import random\n",
    "\n",
    "with open(\"/usr/share/dict/words\") as f:\n",
    "    words = [ w.strip() for w in f.readlines() ]\n",
    "\n",
    "key = random.choice(words) \n",
    "key = bytearray(key, 'utf-8')\n",
    "original_message = b\"comment1=cooking%20MCs;userdata=foo;comment2=%20like%20a%20pound%20of%20bacon\"\n",
    "original_mac = sha1(key+original_message)\n",
    "\n",
    "new_message = b\";admin=true\"\n",
    "key_length = 1\n",
    "while True:\n",
    "    forged_message, forged_mac = sha1_length_extension_attack(original_mac, original_message, new_message, key_length)\n",
    "    if verify_mac_sha1(key, forged_message, forged_mac):\n",
    "        print(\"Length extension attack SUCCESSFULL!\")\n",
    "        print(f\"Guessed key length: {key_length} (key was: '{key.decode()}')\")\n",
    "        print(\"Forged Message:\", forged_message)\n",
    "        print(\"Forged MAC:\", forged_mac)\n",
    "        break\n",
    "    key_length += 1"
   ]
  },
  {
   "cell_type": "markdown",
   "id": "c1ad0199-060a-4e71-ae8a-e332bdd5d8ba",
   "metadata": {},
   "source": [
    "## 30. Break an MD4 keyed MAC using length extension\n",
    "\n",
    "https://cryptopals.com/sets/4/challenges/30\n",
    "\n",
    "Same as in previous challenge, point of attention us that not MD4 uses little-endian bit ordering!"
   ]
  },
  {
   "cell_type": "code",
   "execution_count": 14,
   "id": "39d2e512-f291-4307-b244-f0b7d93e8837",
   "metadata": {},
   "outputs": [],
   "source": [
    "import struct\n",
    "\n",
    "# Left rotate function\n",
    "def left_rotate(value, shift):\n",
    "    return ((value << shift) | (value >> (32 - shift))) & 0xFFFFFFFF\n",
    "\n",
    "# MD4 Hash Function\n",
    "def md4(message,\n",
    "        A = 0x67452301, # Initialize MD4 state variables\n",
    "        B = 0xEFCDAB89, \n",
    "        C = 0x98BADCFE, \n",
    "        D = 0x10325476,\n",
    "        message_length=0 # Provide forged message length\n",
    "       ):\n",
    "    # 1. Ensure the data is a bytearray\n",
    "    if isinstance(message, str):\n",
    "        message = bytearray(message, 'utf-8')\n",
    "    elif isinstance(message, bytes):\n",
    "        message = bytearray(message)\n",
    "    \n",
    "    # 2. Preprocess the message (padding)\n",
    "    if message_length:\n",
    "        original_length = message_length * 8\n",
    "    else:\n",
    "        original_length = len(message) * 8  # Length in bits\n",
    "    message += b'\\x80'  # Append a single '1' bit (as 0x80)\n",
    "    while (len(message) * 8) % 512 != 448:\n",
    "        message += b'\\x00'  # Pad with '0' bits\n",
    "    message += struct.pack('<Q', original_length)  # Append original length in bits, little-endian\n",
    "\n",
    "    # 3. Process each 512-bit chunk\n",
    "    for chunk_start in range(0, len(message), 64):\n",
    "        X = struct.unpack('<16I', message[chunk_start:chunk_start + 64])\n",
    "        AA, BB, CC, DD = A, B, C, D\n",
    "\n",
    "        # Round 1\n",
    "        for i, s in zip(range(16), [3, 7, 11, 19] * 4):\n",
    "            k = i\n",
    "            A = left_rotate((A + ((B & C) | (~B & D)) + X[k]) & 0xFFFFFFFF, s)\n",
    "            A, B, C, D = D, A, B, C\n",
    "\n",
    "        # Round 2\n",
    "        for i, s in zip(range(16), [3, 5, 9, 13] * 4):\n",
    "            k = (i % 4) * 4 + i // 4\n",
    "            A = left_rotate((A + ((B & C) | (B & D) | (C & D)) + X[k] + 0x5A827999) & 0xFFFFFFFF, s)\n",
    "            A, B, C, D = D, A, B, C\n",
    "\n",
    "        # Round 3\n",
    "        for i, s in zip(range(16), [3, 9, 11, 15] * 4):\n",
    "            k = [0, 8, 4, 12, 2, 10, 6, 14, 1, 9, 5, 13, 3, 11, 7, 15][i]\n",
    "            A = left_rotate((A + (B ^ C ^ D) + X[k] + 0x6ED9EBA1) & 0xFFFFFFFF, s)\n",
    "            A, B, C, D = D, A, B, C\n",
    "\n",
    "        # Add this chunk's hash to result so far\n",
    "        A = (A + AA) & 0xFFFFFFFF\n",
    "        B = (B + BB) & 0xFFFFFFFF\n",
    "        C = (C + CC) & 0xFFFFFFFF\n",
    "        D = (D + DD) & 0xFFFFFFFF\n",
    "\n",
    "    # 4. Produce the final hash as a hex string\n",
    "    return struct.pack('<4I', A, B, C, D).hex()"
   ]
  },
  {
   "cell_type": "code",
   "execution_count": 15,
   "id": "4ffac516-9f84-44c2-afe8-290e415a4d37",
   "metadata": {},
   "outputs": [
    {
     "name": "stdout",
     "output_type": "stream",
     "text": [
      "3cbc108fc66896dbb6bb8a84ba1c9936 3cbc108fc66896dbb6bb8a84ba1c9936 True\n",
      "6499dc495a10518e4a88cc21511bb39a 6499dc495a10518e4a88cc21511bb39a True\n",
      "05657094f34d4c6ae91551cef8497b80 05657094f34d4c6ae91551cef8497b80 True\n",
      "7fbe68f7f6ddcf146812e798194571b0 7fbe68f7f6ddcf146812e798194571b0 True\n",
      "231000d0e186b887dcb7048e3cb62a1c 231000d0e186b887dcb7048e3cb62a1c True\n",
      "96264c432e1d655635db0baa15cda828 96264c432e1d655635db0baa15cda828 True\n",
      "ed1cbcf7bde90641a99f32cd37087876 ed1cbcf7bde90641a99f32cd37087876 True\n",
      "4b20e83f3511818dc88c0bb43e8e21bb 4b20e83f3511818dc88c0bb43e8e21bb True\n",
      "8038d8f7103677d7f80ce0e321a8333e 8038d8f7103677d7f80ce0e321a8333e True\n",
      "8f283c94232ffb6869f841b6e596a323 8f283c94232ffb6869f841b6e596a323 True\n"
     ]
    }
   ],
   "source": [
    "from Cryptodome.Hash import MD4\n",
    "import os\n",
    "\n",
    "for _ in range(10):\n",
    "    test = os.urandom(100)\n",
    "    print(MD4.MD4Hash(test).digest().hex(), md4(test), MD4.MD4Hash(test).digest().hex()==md4(test))"
   ]
  },
  {
   "cell_type": "code",
   "execution_count": 16,
   "id": "27296c1b-b2d2-4ada-be9e-92517158d7b2",
   "metadata": {},
   "outputs": [],
   "source": [
    "def generate_mac_md4(key, message):\n",
    "    return md4(key + message)\n",
    "\n",
    "def verify_mac_md4(key, message, mac):\n",
    "    return md4(key + message) == mac"
   ]
  },
  {
   "cell_type": "code",
   "execution_count": 17,
   "id": "c77aa735-ed42-4d83-a325-92c7124512b0",
   "metadata": {},
   "outputs": [
    {
     "name": "stdout",
     "output_type": "stream",
     "text": [
      "True\n",
      "False\n"
     ]
    }
   ],
   "source": [
    "secret_key = b\"secretkey\"\n",
    "message = b\"This is a secret message.\"\n",
    "tampered_message = b\"This is a tampered message.\"\n",
    "mac = generate_mac_md4(secret_key, message)\n",
    "print(verify_mac_md4(secret_key, message, mac))\n",
    "print(verify_mac_md4(secret_key, tampered_message, mac))"
   ]
  },
  {
   "cell_type": "code",
   "execution_count": 18,
   "id": "2745008b-91a4-45cd-8270-ddc58089e780",
   "metadata": {},
   "outputs": [],
   "source": [
    "def md4_md_padding(message_length):\n",
    "    padding = b'\\x80'  # Start with a single 1 bit (0x80 in hex)\n",
    "    padded_length = message_length + 1  # Account for the 0x80 byte\n",
    "    while (padded_length * 8) % 512 != 448:\n",
    "        padding += b'\\x00'  # Pad with '0' bits\n",
    "        padded_length += 1\n",
    "    padding += struct.pack('<Q', message_length * 8)  # Append original length in bits, little-endian\n",
    "    return padding\n",
    "\n",
    "def break_md4_hash(md4_hash):\n",
    "    # Ensure md4_hash is in bytes, assuming it's a hexadecimal string\n",
    "    md4_hash_bytes = bytes.fromhex(md4_hash)\n",
    "    # Break the 128-bit MD4 hash into four 32-bit integers in little-endian order\n",
    "    return tuple([int.from_bytes(md4_hash_bytes[i*4:(i+1)*4], byteorder='little') for i in range(4)])\n",
    "    \n",
    "def md4_length_extension_attack(original_mac, original_message, new_message, key_length):\n",
    "    # Break MAC into registers\n",
    "    a, b, c, d = break_md4_hash(original_mac)\n",
    "\n",
    "    # Compute the length of the original message + key\n",
    "    original_length = key_length + len(original_message)\n",
    "\n",
    "    # Generate glue padding for the original message\n",
    "    glue_padding = md4_md_padding(original_length)\n",
    "\n",
    "    # Compute the new message length (including glue padding)\n",
    "    new_length = original_length + len(glue_padding) + len(new_message)\n",
    "\n",
    "    # Continue hashing with the new message\n",
    "    forged_mac = md4(new_message, a, b, c, d, new_length)\n",
    "\n",
    "    # Construct the forged message\n",
    "    forged_message = original_message + glue_padding + new_message\n",
    "\n",
    "    return forged_message, forged_mac"
   ]
  },
  {
   "cell_type": "code",
   "execution_count": 19,
   "id": "d814244c-3c40-44ef-9eba-b77e0eec8355",
   "metadata": {},
   "outputs": [
    {
     "name": "stdout",
     "output_type": "stream",
     "text": [
      "Forged Message: b'comment1=cooking%20MCs;userdata=foo;comment2=%20like%20a%20pound%20of%20bacon\\x80\\x00\\x00\\x00\\x00\\x00\\x00\\x00\\x00\\x00\\x00\\x00\\x00\\x00\\x00\\x00\\x00\\x00\\x00\\x00\\x00\\x00\\x00\\x00\\x00\\x00\\x00\\x00\\x00\\x00\\x00\\x00\\x00\\x00\\xb0\\x02\\x00\\x00\\x00\\x00\\x00\\x00;admin=true'\n",
      "Forged MAC: 749847716dc452c4d479bd6b40f90574\n",
      "Length extension attack SUCCESSFULL\n"
     ]
    }
   ],
   "source": [
    "key = b'secretkey'\n",
    "original_message = b\"comment1=cooking%20MCs;userdata=foo;comment2=%20like%20a%20pound%20of%20bacon\"\n",
    "original_mac = md4(key+original_message)\n",
    "if not verify_mac_md4(key, original_message, original_mac): print(\"MD4 issue.\")\n",
    "\n",
    "new_message = b\";admin=true\"\n",
    "forged_message, forged_mac = md4_length_extension_attack(original_mac, original_message, new_message, len(key))\n",
    "\n",
    "print(\"Forged Message:\", forged_message)\n",
    "print(\"Forged MAC:\", forged_mac)\n",
    "\n",
    "if verify_mac_md4(key, forged_message, forged_mac):\n",
    "    print(\"Length extension attack SUCCESSFULL\")\n",
    "else:\n",
    "    print(\"Length extension attack FAILED\")"
   ]
  },
  {
   "cell_type": "code",
   "execution_count": 20,
   "id": "afbb55dc-7571-4062-a631-6acb13008abc",
   "metadata": {},
   "outputs": [
    {
     "name": "stdout",
     "output_type": "stream",
     "text": [
      "Length extension attack SUCCESSFULL!\n",
      "Guessed key length: 7 (key was: 'Hunnish')\n",
      "Forged Message: b'comment1=cooking%20MCs;userdata=foo;comment2=%20like%20a%20pound%20of%20bacon\\x80\\x00\\x00\\x00\\x00\\x00\\x00\\x00\\x00\\x00\\x00\\x00\\x00\\x00\\x00\\x00\\x00\\x00\\x00\\x00\\x00\\x00\\x00\\x00\\x00\\x00\\x00\\x00\\x00\\x00\\x00\\x00\\x00\\x00\\x00\\x00\\xa0\\x02\\x00\\x00\\x00\\x00\\x00\\x00;admin=true'\n",
      "Forged MAC: 221cfb12a225c1ae9bc8e260c6d32252\n"
     ]
    }
   ],
   "source": [
    "import random\n",
    "\n",
    "with open(\"/usr/share/dict/words\") as f:\n",
    "    words = [ w.strip() for w in f.readlines() ]\n",
    "\n",
    "key = random.choice(words) \n",
    "key = bytearray(key, 'utf-8')\n",
    "original_message = b\"comment1=cooking%20MCs;userdata=foo;comment2=%20like%20a%20pound%20of%20bacon\"\n",
    "original_mac = md4(key+original_message)\n",
    "\n",
    "new_message = b\";admin=true\"\n",
    "key_length = 1\n",
    "while True:\n",
    "    forged_message, forged_mac = md4_length_extension_attack(original_mac, original_message, new_message, key_length)\n",
    "    if verify_mac_md4(key, forged_message, forged_mac):\n",
    "        print(\"Length extension attack SUCCESSFULL!\")\n",
    "        print(f\"Guessed key length: {key_length} (key was: '{key.decode()}')\")\n",
    "        print(\"Forged Message:\", forged_message)\n",
    "        print(\"Forged MAC:\", forged_mac)\n",
    "        break\n",
    "    key_length += 1"
   ]
  },
  {
   "cell_type": "markdown",
   "id": "7da976bb-c4cd-4b86-8681-51f3f4321a41",
   "metadata": {},
   "source": [
    "## 31. Implement and break HMAC-SHA1 with an artificial timing leak\n",
    "\n",
    "https://cryptopals.com/sets/4/challenges/31\n",
    "\n",
    "### Web app\n",
    "\n",
    "* I use [Flask](https://flask.palletsprojects.com/en/stable/) to implement the webapp"
   ]
  },
  {
   "cell_type": "code",
   "execution_count": 33,
   "id": "df0fcd23-4d57-48c2-ab05-0332e8995bd5",
   "metadata": {},
   "outputs": [
    {
     "name": "stdout",
     "output_type": "stream",
     "text": [
      "from flask import Flask, request, jsonify\n",
      "import time\n",
      "import hmac\n",
      "import hashlib\n",
      "\n",
      "app = Flask(__name__)\n",
      "\n",
      "# Secret key for HMAC\n",
      "SECRET_KEY = b'supersecretkey'\n",
      "\n",
      "# Function to perform insecure comparison with a timing leak\n",
      "def insecure_compare(provided_sig, valid_sig):\n",
      "    if len(provided_sig) != len(valid_sig):\n",
      "        return False\n",
      "\n",
      "    for x, y in zip(provided_sig, valid_sig):\n",
      "        if x != y:\n",
      "            return False\n",
      "        time.sleep(0.050)  # Artificial delay to simulate timing vulnerability\n",
      "    return True\n",
      "\n",
      "# Endpoint for testing the file and signature\n",
      "@app.route('/test', methods=['GET'])\n",
      "def test_signature():\n",
      "    file = request.args.get('file', '')\n",
      "    provided_signature = request.args.get('signature', '')\n",
      "\n",
      "    # Compute the valid HMAC signature\n",
      "    valid_signature = hmac.new(SECRET_KEY, file.encode(), hashlib.sha1).hexdigest()\n",
      "\n",
      "    # Perform insecure comparison\n",
      "    if insecure_compare(provided_signature, valid_signature):\n",
      "        return jsonify({'status': 'Valid signature'}), 200\n",
      "    else:\n",
      "        return jsonify({'status': 'Invalid signature'}), 403\n",
      "\n",
      "# Endpoint to output the correct signature for debugging purposes\n",
      "@app.route('/get_signature', methods=['GET'])\n",
      "def get_signature():\n",
      "    file = request.args.get('file', '')\n",
      "    valid_signature = hmac.new(SECRET_KEY, file.encode(), hashlib.sha1).hexdigest()\n",
      "    return jsonify({'file': file, 'correct_signature': valid_signature}), 200\n",
      "\n",
      "if __name__ == '__main__':\n",
      "    app.run(host='localhost', port=9000)"
     ]
    }
   ],
   "source": [
    "!cat set4/challenge_31_webapp.py"
   ]
  },
  {
   "cell_type": "code",
   "execution_count": 34,
   "id": "424bf609-7340-4720-97d3-c9f823f4b0de",
   "metadata": {},
   "outputs": [
    {
     "name": "stdout",
     "output_type": "stream",
     "text": [
      "{\"correct_signature\":\"03bc5092136dfb98d48384358fa350b310adea9e\",\"file\":\"foo\"}\n"
     ]
    }
   ],
   "source": [
    "!curl \"http://localhost:9000/get_signature?file=foo\"\n",
    "#!cat set4/challenge_31_truth.log"
   ]
  },
  {
   "cell_type": "markdown",
   "id": "21012991-f4db-46dc-8f41-7baac7a4ffdf",
   "metadata": {},
   "source": [
    "### Attack\n",
    "\n",
    "* The simple attack fails after a few bits, since **the response gets noiser and noiser with more discovered bits**, and separating responses by time gets trickier.\n",
    "* I introduce **time averaging** to attempt to mitigate issues related to responde variance. After a few attempts, I seetled on `trials=15` for a timiling leak of 50 ms.\n",
    "\n",
    "[`set4/challenge_31_attack_simple.py`](set4/challenge_31_attack_simple.py)\n",
    "\n",
    "* **There is still quite some variabilty when higher bits are reached.** I try to cope with possible choice mistakes by not discarding previous solutions, but keeping track of them all in a `ProrityQueue` indexed on the time-per-character.\n",
    "\n",
    "[`set4/challenge_31_attack_queue.py`](set4/challenge_31_attack_queue.py)\n",
    "\n",
    "* **The attack is quite long, and can be sped up using parallelism**, taking advantage of multiple threads to speed up the process by evaluating different parts of the signature simultaneously. This can be done by distributing the workload of testing the different candidate bytes for each prefix character among multiple threads or processes.\n",
    "\n",
    "[`set4/challenge_31_attack_parallel.py`](set4/challenge_31_attack_parallel.py)\n",
    "\n",
    "* **The last bits (from bit 16 onward) are difficult to get right becouse of cumulating noise**. I changed the `test_signature` function to use a dynamic number of trials increasing depending on the probed bit.\n",
    "\n"
   ]
  },
  {
   "cell_type": "code",
   "execution_count": 46,
   "id": "6311da8a-8fb8-4e34-bd94-f9c426c83841",
   "metadata": {},
   "outputs": [
    {
     "name": "stdout",
     "output_type": "stream",
     "text": [
      "import time\n",
      "import requests\n",
      "from queue import PriorityQueue\n",
      "from concurrent.futures import ThreadPoolExecutor\n",
      "\n",
      "# URL of the vulnerable server\n",
      "URL = \"http://localhost:9000/test\"\n",
      "\n",
      "# File parameter for the request\n",
      "FILE = \"foo\"\n",
      "\n",
      "# Function to measure response time\n",
      "def time_request(signature, trials=15):\n",
      "    \"\"\"Sends a request with a given signature and averages the timing over multiple trials.\"\"\"\n",
      "    times = []\n",
      "    for _ in range(trials):\n",
      "        # Pad the signature to 40 characters (20 bytes) with '00'\n",
      "        padded_signature = signature.ljust(40, \"0\")\n",
      "        start = time.time()\n",
      "        response = requests.get(URL, params={\"file\": FILE, \"signature\": padded_signature})\n",
      "        end = time.time()\n",
      "        times.append(end - start)\n",
      "    return sum(times) / len(times)  # Return the average time\n",
      "\n",
      "# Function to test a candidate signature in parallel\n",
      "def test_signature_(prefix, byte_value):\n",
      "    \"\"\"Test a candidate prefix with a specific byte appended.\"\"\"\n",
      "    candidate_prefix = prefix + f\"{byte_value:02x}\"\n",
      "    avg_time = time_request(candidate_prefix, trials=15)\n",
      "    time_per_char = avg_time / (len(candidate_prefix) // 2)  # Prefix length in bytes\n",
      "    return (time_per_char, candidate_prefix)\n",
      "\n",
      "def test_signature(prefix, byte_value):\n",
      "    \"\"\"\n",
      "    Test a candidate prefix with a specific byte appended, dynamically adjusting\n",
      "    the number of trials based on the length of the prefix.\n",
      "    \"\"\"\n",
      "    candidate_prefix = prefix + f\"{byte_value:02x}\"\n",
      "    prefix_len = len(candidate_prefix) // 2  # Length in bytes\n",
      "    \n",
      "    # Dynamically determine the number of trials based on the prefix length\n",
      "    # Increase trials as the prefix grows to reduce noise\n",
      "    trials = max(5, (prefix_len//4 + 1) * 5)\n",
      "\n",
      "    # Measure the average timing for the candidate prefix\n",
      "    avg_time = time_request(candidate_prefix, trials=trials)\n",
      "    time_per_char = avg_time / prefix_len  # Average time per character in bytes\n",
      "    return (time_per_char, candidate_prefix)\n",
      "\n",
      "# Function to perform the timing attack with parallelism\n",
      "def perform_timing_attack():\n",
      "    \"\"\"Reconstructs the valid HMAC-SHA1 signature using a priority queue and parallelism.\"\"\"\n",
      "    # Priority queue: (-time_per_char, prefix_as_string)\n",
      "    pq = PriorityQueue()\n",
      "    pq.put((0, \"\"))  # Start with an empty prefix and priority 0\n",
      "\n",
      "    recovered_signature = None\n",
      "    with ThreadPoolExecutor() as executor:\n",
      "        while not pq.empty():\n",
      "            # Get the prefix with the highest priority (smallest negative time-per-character)\n",
      "            neg_time_per_char, prefix = pq.get()\n",
      "            prefix_len = len(prefix)\n",
      "\n",
      "            if prefix_len == 40:  # We've recovered the full signature\n",
      "                recovered_signature = prefix\n",
      "                break\n",
      "\n",
      "            # Submit the next 256 byte candidates in parallel\n",
      "            futures = [executor.submit(test_signature, prefix, byte) for byte in range(256)]\n",
      "            \n",
      "            # Wait for all results and process them\n",
      "            for future in futures:\n",
      "                time_per_char, candidate_prefix = future.result()\n",
      "                pq.put((-time_per_char, candidate_prefix))\n",
      "\n",
      "            if prefix_len:\n",
      "                print(f\"Explored prefix: {prefix} (length: {prefix_len // 2}, priority: {-neg_time_per_char:.6f})\")\n",
      "\n",
      "    return recovered_signature\n",
      "\n",
      "if __name__ == \"__main__\":\n",
      "    print(\"Starting timing attack with Parallelism and PriorityQueue...\")\n",
      "    recovered_signature = perform_timing_attack()\n",
      "    print(f\"Recovered HMAC-SHA1 Signature: {recovered_signature}\")"
     ]
    }
   ],
   "source": [
    "!cat set4/challenge_31_attack_parallel.py"
   ]
  },
  {
   "cell_type": "code",
   "execution_count": 69,
   "id": "53ba75af-1454-4a71-875d-d6ad84410f16",
   "metadata": {},
   "outputs": [
    {
     "name": "stdout",
     "output_type": "stream",
     "text": [
      "Starting timing attack with Parallelism and PriorityQueue...\n",
      "Explored prefix: 03 (length: 1, priority: 0.117991)\n",
      "Explored prefix: 03bc (length: 2, priority: 0.109891)\n",
      "Explored prefix: 03bc50 (length: 3, priority: 0.109422)\n",
      "Explored prefix: 03bc5092 (length: 4, priority: 0.108926)\n",
      "Explored prefix: 03bc509213 (length: 5, priority: 0.107058)\n",
      "Explored prefix: 03bc5092136d (length: 6, priority: 0.106966)\n",
      "Explored prefix: 03bc5092136dfb (length: 7, priority: 0.115161)\n",
      "Explored prefix: 03bc5092136dfb98 (length: 8, priority: 0.112970)\n",
      "Explored prefix: 03bc5092136dfb98d4 (length: 9, priority: 0.113959)\n",
      "Explored prefix: 03bc5092136dfb98d483 (length: 10, priority: 0.113331)\n",
      "Explored prefix: 03bc5092136dfb98d48384 (length: 11, priority: 0.113553)\n",
      "Explored prefix: 03bc5092136dfb98d4838435 (length: 12, priority: 0.113992)\n",
      "Explored prefix: 03bc5092136dfb98d48384358f (length: 13, priority: 0.113653)\n",
      "Explored prefix: 03bc5092136dfb98d48384358fa3 (length: 14, priority: 0.114116)\n",
      "Explored prefix: 03bc5092136dfb98d48384358fa350 (length: 15, priority: 0.113171)\n",
      "Explored prefix: 03bc5092136dfb98d48384358fa350b3 (length: 16, priority: 0.113301)\n",
      "Explored prefix: 03bc5092136dfb98d48384358fa350b310 (length: 17, priority: 0.113485)\n",
      "Explored prefix: 03bc5092136dfb98d48384358fa350b310ad (length: 18, priority: 0.113363)\n",
      "^[Explored prefix: 03bc5092136dfb98d48384358fa350b310adea (length: 19, priority: 0.113279)\n",
      "Recovered HMAC-SHA1 Signature: 03bc5092136dfb98d48384358fa350b310adea96"
     ]
    }
   ],
   "source": [
    "!cat set4/challenge_31_attack_parallel.log"
   ]
  },
  {
   "cell_type": "code",
   "execution_count": 38,
   "id": "5da51b52-235d-4387-b6c7-e05b6d5e9a05",
   "metadata": {},
   "outputs": [
    {
     "name": "stdout",
     "output_type": "stream",
     "text": [
      "{\"correct_signature\":\"03bc5092136dfb98d48384358fa350b310adea9e\",\"file\":\"foo\"}\n"
     ]
    }
   ],
   "source": [
    "!cat set4/challenge_31_truth.log"
   ]
  },
  {
   "cell_type": "markdown",
   "id": "3a34f4ee-068a-4eb7-a7a5-013dcdefddda",
   "metadata": {},
   "source": [
    "# 31. Break HMAC-SHA1 with a slightly less artificial timing leak\n",
    "\n",
    "https://cryptopals.com/sets/4/challenges/32\n",
    "\n",
    "### Timing analysis"
   ]
  },
  {
   "cell_type": "code",
   "execution_count": 138,
   "id": "23f54748-2350-4c63-a1c4-c5f6f8b5d8dd",
   "metadata": {},
   "outputs": [],
   "source": [
    "import time\n",
    "import requests\n",
    "from queue import PriorityQueue\n",
    "from concurrent.futures import ThreadPoolExecutor, as_completed\n",
    "from requests.adapters import HTTPAdapter, Retry\n",
    "\n",
    "# URL of the vulnerable server\n",
    "URL = \"http://localhost:9001/test\"\n",
    "\n",
    "# File parameter for the request\n",
    "FILE = \"foo\" # signature=03bc5092136dfb98d48384358fa350b310adea9e\n",
    "\n",
    "# Set up a requests session with retries\n",
    "session = requests.Session()\n",
    "retries = Retry(total=5, backoff_factor=0.1, status_forcelist=[500, 502, 503, 504])\n",
    "session.mount(\"http://\", HTTPAdapter(max_retries=retries))\n",
    "\n",
    "# Measure response time\n",
    "def time_request(signature):\n",
    "    \"\"\"Sends a request with a given signature\"\"\"\n",
    "    for _ in range(trials):\n",
    "        try:\n",
    "            start = time.time()\n",
    "            session.get(URL, params={\"file\": FILE, \"signature\": signature}, timeout=5)\n",
    "            end = time.time()\n",
    "            return end - start\n",
    "        except requests.exceptions.RequestException as e:\n",
    "            print(f\"Request failed: {e}\")\n",
    "            return float('inf')\n",
    "\n",
    "def time_request_sample(signature = \"00\", trials = 100):\n",
    "    padded_signature = signature.ljust(40, \"0\")\n",
    "    return [time_request(padded_signature) for _ in range(trials)]"
   ]
  },
  {
   "cell_type": "code",
   "execution_count": 140,
   "id": "07b6b93d-ac46-414d-b959-44247baf1e54",
   "metadata": {},
   "outputs": [
    {
     "name": "stdout",
     "output_type": "stream",
     "text": [
      "Querying WRONG: 00                                       RIGHT: f03                                      \n",
      "Querying WRONG: 0300                                     RIGHT: f03bc                                    \n",
      "Querying WRONG: 03bc00                                   RIGHT: f03bc50                                  \n",
      "Querying WRONG: 03bc5000                                 RIGHT: f03bc5092                                \n",
      "Querying WRONG: 03bc509200                               RIGHT: f03bc509213                              \n",
      "Querying WRONG: 03bc50921300                             RIGHT: f03bc5092136d                            \n",
      "Querying WRONG: 03bc5092136d00                           RIGHT: f03bc5092136dfb                          \n",
      "Querying WRONG: 03bc5092136dfb00                         RIGHT: f03bc5092136dfb98                        \n",
      "Querying WRONG: 03bc5092136dfb9800                       RIGHT: f03bc5092136dfb98d4                      \n",
      "Querying WRONG: 03bc5092136dfb98d400                     RIGHT: f03bc5092136dfb98d483                    \n",
      "Querying WRONG: 03bc5092136dfb98d48300                   RIGHT: f03bc5092136dfb98d48384                  \n",
      "Querying WRONG: 03bc5092136dfb98d4838400                 RIGHT: f03bc5092136dfb98d4838435                \n",
      "Querying WRONG: 03bc5092136dfb98d483843500               RIGHT: f03bc5092136dfb98d48384358f              \n",
      "Querying WRONG: 03bc5092136dfb98d48384358f00             RIGHT: f03bc5092136dfb98d48384358fa3            \n",
      "Querying WRONG: 03bc5092136dfb98d48384358fa300           RIGHT: f03bc5092136dfb98d48384358fa350          \n",
      "Querying WRONG: 03bc5092136dfb98d48384358fa35000         RIGHT: f03bc5092136dfb98d48384358fa350b3        \n",
      "Querying WRONG: 03bc5092136dfb98d48384358fa350b300       RIGHT: f03bc5092136dfb98d48384358fa350b310      \n",
      "Querying WRONG: 03bc5092136dfb98d48384358fa350b31000     RIGHT: f03bc5092136dfb98d48384358fa350b310ad    \n",
      "Querying WRONG: 03bc5092136dfb98d48384358fa350b310ad00   RIGHT: f03bc5092136dfb98d48384358fa350b310adea  \n",
      "Querying WRONG: 03bc5092136dfb98d48384358fa350b310adea00 RIGHT: f03bc5092136dfb98d48384358fa350b310adea9e\n"
     ]
    }
   ],
   "source": [
    "signature = \"03bc5092136dfb98d48384358fa350b310adea9e\"\n",
    "\n",
    "trials = 500\n",
    "times = {}\n",
    "prefix = \"\"\n",
    "for i in range(20):\n",
    "    correct_byte = signature[2*i:2*(i+1)]\n",
    "    sig_wrong = prefix+\"00\"\n",
    "    sig_right = prefix+correct_byte\n",
    "    print(f\"Querying WRONG: {sig_wrong:40} RIGHT: f{sig_right:40}\")\n",
    "    times_wrong = time_request_sample(sig_wrong,trials) \n",
    "    times_right = time_request_sample(sig_right,trials) \n",
    "    times[i] = (times_wrong,times_right)\n",
    "    prefix += correct_byte"
   ]
  },
  {
   "cell_type": "code",
   "execution_count": 141,
   "id": "d779d095-8384-4789-9ca2-1fd4f23807cd",
   "metadata": {},
   "outputs": [],
   "source": [
    "import pickle\n",
    "\n",
    "with open(\"set4/challenge_32_times.pkl\", \"wb\") as savefile:\n",
    "    pickle.dump(times, savefile, protocol=pickle.HIGHEST_PROTOCOL)"
   ]
  },
  {
   "cell_type": "code",
   "execution_count": 177,
   "id": "840566e3-c187-433e-b547-cf84258e6a64",
   "metadata": {},
   "outputs": [
    {
     "data": {
      "image/png": "[encoded data removed]",
      "text/plain": [
       "<Figure size 1500x1200 with 20 Axes>"
      ]
     },
     "metadata": {},
     "output_type": "display_data"
    }
   ],
   "source": [
    "import numpy as np\n",
    "import matplotlib.pyplot as plt\n",
    "\n",
    "fig, axs = plt.subplots(4,5,figsize=(15,12),dpi=100,constrained_layout=True)\n",
    "\n",
    "for b in range(20):\n",
    "    i = b%5\n",
    "    j = b//5\n",
    "    bins = np.histogram(np.stack((times[b][0],times[b][1])), bins=50)[1]\n",
    "    axs[j][i].hist(times[b][0],bins,alpha=0.5, label=\"wrong byte\")\n",
    "    axs[j][i].hist(times[b][1],bins,alpha=0.5, label=\"correct byte\")\n",
    "    mean0 = np.array(times[b][0]).mean()\n",
    "    mean1 = np.array(times[b][1]).mean()\n",
    "    axs[j][i].axvline(x=mean0,color=\"blue\")\n",
    "    axs[j][i].axvline(x=mean1,color=\"orange\")\n",
    "    axs[j][i].set_xlabel(\"response time [s]\")\n",
    "    axs[j][i].set_ylabel(\"webapp calls\")\n",
    "    axs[j][i].set_title(f\"byte {b}\",fontsize=10,pad=0)\n",
    "    axs[j][i].legend(frameon=False)"
   ]
  },
  {
   "cell_type": "code",
   "execution_count": null,
   "id": "c908a2f4-873c-4d43-bff0-dd5ce9adf6c7",
   "metadata": {},
   "outputs": [],
   "source": []
  }
 ],
 "metadata": {
  "kernelspec": {
   "display_name": "Python 3 (ipykernel)",
   "language": "python",
   "name": "python3"
  },
  "language_info": {
   "codemirror_mode": {
    "name": "ipython",
    "version": 3
   },
   "file_extension": ".py",
   "mimetype": "text/x-python",
   "name": "python",
   "nbconvert_exporter": "python",
   "pygments_lexer": "ipython3",
   "version": "3.12.2"
  }
 },
 "nbformat": 4,
 "nbformat_minor": 5
}
