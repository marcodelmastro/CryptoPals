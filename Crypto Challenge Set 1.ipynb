{
 "cells": [
  {
   "cell_type": "markdown",
   "id": "missing-teens",
   "metadata": {},
   "source": [
    "## Crypto Challenge Set 1\n",
    "\n",
    "https://cryptopals.com/sets/1\n",
    "\n",
    "### Convert hex to base64"
   ]
  },
  {
   "cell_type": "code",
   "execution_count": 30,
   "id": "allied-easter",
   "metadata": {},
   "outputs": [],
   "source": [
    "import codecs\n",
    "\n",
    "def hex2base64(s):\n",
    "    decode_hex = codecs.getdecoder(\"hex_codec\")\n",
    "    encode_b64 = codecs.getencoder(\"base64\")\n",
    "    return encode_b64(decode_hex(s)[0])[0]"
   ]
  },
  {
   "cell_type": "code",
   "execution_count": 199,
   "id": "entitled-ribbon",
   "metadata": {},
   "outputs": [
    {
     "data": {
      "text/plain": [
       "b'SSdtIGtpbGxpbmcgeW91ciBicmFpbiBsaWtlIGEgcG9pc29ub3VzIG11c2hyb29t\\n'"
      ]
     },
     "execution_count": 199,
     "metadata": {},
     "output_type": "execute_result"
    }
   ],
   "source": [
    "s = r\"49276d206b696c6c696e6720796f757220627261696e206c696b65206120706f69736f6e6f7573206d757368726f6f6d\"\n",
    "# SSdtIGtpbGxpbmcgeW91ciBicmFpbiBsaWtlIGEgcG9pc29ub3VzIG11c2hyb29t\n",
    "hex2base64(s)"
   ]
  },
  {
   "cell_type": "code",
   "execution_count": 230,
   "id": "existing-bosnia",
   "metadata": {},
   "outputs": [
    {
     "name": "stdout",
     "output_type": "stream",
     "text": [
      "b'SSdtIGtpbGxpbmcgeW91ciBicmFpbiBsaWtlIGEgcG9pc29ub3VzIG11c2hyb29t\\n'\n",
      "I'm killing your brain like a poisonous mushroom\n"
     ]
    }
   ],
   "source": [
    "# binascii library is a better/friendlier option!\n",
    "\n",
    "import binascii\n",
    "s = r\"49276d206b696c6c696e6720796f757220627261696e206c696b65206120706f69736f6e6f7573206d757368726f6f6d\"\n",
    "\n",
    "print(binascii.b2a_base64(binascii.unhexlify(s)))\n",
    "print(\"\".join(chr(n) for n in binascii.unhexlify(s)))"
   ]
  },
  {
   "cell_type": "markdown",
   "id": "forward-salvation",
   "metadata": {},
   "source": [
    "### Fixed XOR"
   ]
  },
  {
   "cell_type": "code",
   "execution_count": 232,
   "id": "sharp-things",
   "metadata": {},
   "outputs": [],
   "source": [
    "def fixedXOR(a,b):\n",
    "    return hex(a^b)"
   ]
  },
  {
   "cell_type": "code",
   "execution_count": 233,
   "id": "loving-judge",
   "metadata": {},
   "outputs": [
    {
     "data": {
      "text/plain": [
       "'0x746865206b696420646f6e277420706c6179'"
      ]
     },
     "execution_count": 233,
     "metadata": {},
     "output_type": "execute_result"
    }
   ],
   "source": [
    "a = 0x1c0111001f010100061a024b53535009181c\n",
    "b = 0x686974207468652062756c6c277320657965\n",
    "# 746865206b696420646f6e277420706c6179\n",
    "fixedXOR(a,b)"
   ]
  },
  {
   "cell_type": "code",
   "execution_count": 236,
   "id": "central-advance",
   "metadata": {},
   "outputs": [
    {
     "name": "stdout",
     "output_type": "stream",
     "text": [
      "the kid don't play\n",
      "746865206b696420646f6e277420706c6179\n"
     ]
    }
   ],
   "source": [
    "import binascii\n",
    "\n",
    "a = '1c0111001f010100061a024b53535009181c'\n",
    "b = '686974207468652062756c6c277320657965'\n",
    "\n",
    "print( \"\".join([chr(an^bn) for an,bn in zip(binascii.unhexlify(a),binascii.unhexlify(b))]) )\n",
    "print( \"\".join([ hex(an^bn)[2:] for an,bn in zip(binascii.unhexlify(a),binascii.unhexlify(b))]) )"
   ]
  },
  {
   "cell_type": "markdown",
   "id": "blocked-possibility",
   "metadata": {},
   "source": [
    "### Single-byte XOR cipher\n",
    "\n",
    "https://cryptopals.com/sets/1/challenges/3"
   ]
  },
  {
   "cell_type": "code",
   "execution_count": 241,
   "id": "changing-republican",
   "metadata": {},
   "outputs": [],
   "source": [
    "# it has been XOR'd against a single character --> There are 256 possible keys (2 hex digits)\n",
    "\n",
    "s = \"1b37373331363f78151b7f2b783431333d78397828372d363c78373e783a393b3736\"\n",
    "\n",
    "#keys = [ chr(k) for k in range(256) ]\n",
    "#print(keys)\n",
    "\n",
    "import binascii\n",
    "\n",
    "sbin = binascii.unhexlify(s) # convert string to BIN assumong string represent HEX\n",
    "\n",
    "# all proobile decoded strings according to keys\n",
    "strings = [ ''.join( chr(n^k) for n in sbin ) for k in range(256) ]\n",
    "#strings"
   ]
  },
  {
   "cell_type": "code",
   "execution_count": 242,
   "id": "emerging-jones",
   "metadata": {},
   "outputs": [
    {
     "name": "stdout",
     "output_type": "stream",
     "text": [
      "Cooking MC's like a pound of bacon\n",
      "key = X\n"
     ]
    }
   ],
   "source": [
    "# select best decoded string according to number of spaces\n",
    "decoded = max(strings, key=lambda s: s.count(' '))\n",
    "print(decoded)\n",
    "i = strings.index(decoded)\n",
    "print(\"key =\",chr(i))"
   ]
  },
  {
   "cell_type": "code",
   "execution_count": 243,
   "id": "biological-dialogue",
   "metadata": {},
   "outputs": [
    {
     "name": "stdout",
     "output_type": "stream",
     "text": [
      "Cooking MC's like a pound of bacon\n"
     ]
    }
   ],
   "source": [
    "# slightly more sofisticated approach, using letter frequencies to compute sentence score\n",
    "# https://en.wikipedia.org/wiki/Letter_frequency#Relative_frequencies_of_letters_in_the_English_language\n",
    "\n",
    "letterFreq = {\n",
    "  \" \": 15,\n",
    "  \"e\": 12.702,\n",
    "  \"t\": 9.056,\n",
    "  \"a\": 8.167,\n",
    "  \"o\": 7.507,\n",
    "  \"i\": 6.966,\n",
    "  \"n\": 6.749,\n",
    "  \"s\": 6.327,\n",
    "  \"h\": 6.094,\n",
    "  \"r\": 5.987,\n",
    "  \"d\": 4.253\n",
    "}\n",
    "\n",
    "def sentenceScore(s):\n",
    "    return sum([ letterFreq[c] for c in s if c in letterFreq.keys() ])\n",
    "\n",
    "decoded2 = max(strings, key=sentenceScore)\n",
    "print(decoded2)"
   ]
  },
  {
   "cell_type": "code",
   "execution_count": null,
   "id": "dutch-survival",
   "metadata": {},
   "outputs": [],
   "source": []
  }
 ],
 "metadata": {
  "kernelspec": {
   "display_name": "Python 3",
   "language": "python",
   "name": "python3"
  },
  "language_info": {
   "codemirror_mode": {
    "name": "ipython",
    "version": 3
   },
   "file_extension": ".py",
   "mimetype": "text/x-python",
   "name": "python",
   "nbconvert_exporter": "python",
   "pygments_lexer": "ipython3",
   "version": "3.9.2"
  }
 },
 "nbformat": 4,
 "nbformat_minor": 5
}
