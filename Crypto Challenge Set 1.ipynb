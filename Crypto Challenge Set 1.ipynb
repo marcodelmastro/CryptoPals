{
 "cells": [
  {
   "cell_type": "markdown",
   "id": "missing-teens",
   "metadata": {},
   "source": [
    "# Crypto Challenge Set 1\n",
    "\n",
    "https://cryptopals.com/sets/1\n",
    "\n",
    "## 1. Convert hex to base64"
   ]
  },
  {
   "cell_type": "code",
   "execution_count": 1,
   "id": "allied-easter",
   "metadata": {},
   "outputs": [],
   "source": [
    "import codecs\n",
    "\n",
    "def hex2base64(s):\n",
    "    decode_hex = codecs.getdecoder(\"hex_codec\")\n",
    "    encode_b64 = codecs.getencoder(\"base64\")\n",
    "    return encode_b64(decode_hex(s)[0])[0]"
   ]
  },
  {
   "cell_type": "code",
   "execution_count": 2,
   "id": "entitled-ribbon",
   "metadata": {},
   "outputs": [
    {
     "data": {
      "text/plain": [
       "b'SSdtIGtpbGxpbmcgeW91ciBicmFpbiBsaWtlIGEgcG9pc29ub3VzIG11c2hyb29t\\n'"
      ]
     },
     "execution_count": 2,
     "metadata": {},
     "output_type": "execute_result"
    }
   ],
   "source": [
    "s = r\"49276d206b696c6c696e6720796f757220627261696e206c696b65206120706f69736f6e6f7573206d757368726f6f6d\"\n",
    "# SSdtIGtpbGxpbmcgeW91ciBicmFpbiBsaWtlIGEgcG9pc29ub3VzIG11c2hyb29t\n",
    "hex2base64(s)"
   ]
  },
  {
   "cell_type": "code",
   "execution_count": 4,
   "id": "existing-bosnia",
   "metadata": {},
   "outputs": [
    {
     "name": "stdout",
     "output_type": "stream",
     "text": [
      "b'SSdtIGtpbGxpbmcgeW91ciBicmFpbiBsaWtlIGEgcG9pc29ub3VzIG11c2hyb29t\\n'\n",
      "I'm killing your brain like a poisonous mushroom\n"
     ]
    }
   ],
   "source": [
    "# binascii library is a better/friendlier option!\n",
    "\n",
    "import binascii\n",
    "\n",
    "s = r\"49276d206b696c6c696e6720796f757220627261696e206c696b65206120706f69736f6e6f7573206d757368726f6f6d\"\n",
    "\n",
    "print(binascii.b2a_base64(binascii.unhexlify(s)))\n",
    "print(\"\".join(chr(n) for n in binascii.unhexlify(s)))"
   ]
  },
  {
   "cell_type": "markdown",
   "id": "forward-salvation",
   "metadata": {},
   "source": [
    "## 2. Fixed XOR"
   ]
  },
  {
   "cell_type": "code",
   "execution_count": 5,
   "id": "sharp-things",
   "metadata": {},
   "outputs": [],
   "source": [
    "def fixedXOR(a,b):\n",
    "    return hex(a^b)"
   ]
  },
  {
   "cell_type": "code",
   "execution_count": 6,
   "id": "loving-judge",
   "metadata": {},
   "outputs": [
    {
     "data": {
      "text/plain": [
       "'0x746865206b696420646f6e277420706c6179'"
      ]
     },
     "execution_count": 6,
     "metadata": {},
     "output_type": "execute_result"
    }
   ],
   "source": [
    "a = 0x1c0111001f010100061a024b53535009181c\n",
    "b = 0x686974207468652062756c6c277320657965\n",
    "# 746865206b696420646f6e277420706c6179\n",
    "fixedXOR(a,b)"
   ]
  },
  {
   "cell_type": "code",
   "execution_count": 8,
   "id": "central-advance",
   "metadata": {},
   "outputs": [
    {
     "name": "stdout",
     "output_type": "stream",
     "text": [
      "the kid don't play\n",
      "746865206b696420646f6e277420706c6179\n"
     ]
    }
   ],
   "source": [
    "import binascii\n",
    "\n",
    "a = '1c0111001f010100061a024b53535009181c'\n",
    "b = '686974207468652062756c6c277320657965'\n",
    "\n",
    "print( \"\".join([chr(an^bn) for an,bn in zip(binascii.unhexlify(a),binascii.unhexlify(b))]) )\n",
    "print( \"\".join([hex(an^bn)[2:] for an,bn in zip(binascii.unhexlify(a),binascii.unhexlify(b))]) )"
   ]
  },
  {
   "cell_type": "markdown",
   "id": "blocked-possibility",
   "metadata": {},
   "source": [
    "## 3. Single-byte XOR cipher\n",
    "\n",
    "https://cryptopals.com/sets/1/challenges/3"
   ]
  },
  {
   "cell_type": "code",
   "execution_count": 12,
   "id": "amateur-placement",
   "metadata": {},
   "outputs": [],
   "source": [
    "import binascii\n",
    "\n",
    "# using letter frequencies to compute sentence score\n",
    "# https://en.wikipedia.org/wiki/Letter_frequency#Relative_frequencies_of_letters_in_the_English_language\n",
    "\n",
    "letterFreq = {\n",
    "  \" \": 15,\n",
    "  \"e\": 12.702,\n",
    "  \"t\": 9.056,\n",
    "  \"a\": 8.167,\n",
    "  \"o\": 7.507,\n",
    "  \"i\": 6.966,\n",
    "  \"n\": 6.749,\n",
    "  \"s\": 6.327,\n",
    "  \"h\": 6.094,\n",
    "  \"r\": 5.987,\n",
    "  \"d\": 4.253\n",
    "}\n",
    "\n",
    "def sentenceScore(s):\n",
    "    return sum([ letterFreq[c] for c in s if c in letterFreq.keys() ])\n",
    "\n",
    "# If text has been XOR'd against a single character, there are 256 possible keys (2 hex digits)\n",
    "\n",
    "def singleXORdecode(s):\n",
    "    # compute all probable decoded strings according to keys\n",
    "    strings = [ ''.join( chr(n^k) for n in s ) for k in range(256) ]\n",
    "    # choose decoded message according to letter frequency score\n",
    "    decoded = max(strings, key=sentenceScore)\n",
    "    key = chr(strings.index(decoded))\n",
    "    return key,decoded"
   ]
  },
  {
   "cell_type": "code",
   "execution_count": 16,
   "id": "changing-republican",
   "metadata": {},
   "outputs": [
    {
     "name": "stdout",
     "output_type": "stream",
     "text": [
      "X\n",
      "Cooking MC's like a pound of bacon\n"
     ]
    }
   ],
   "source": [
    "s = \"1b37373331363f78151b7f2b783431333d78397828372d363c78373e783a393b3736\"\n",
    "\n",
    "sbin = binascii.unhexlify(s) \n",
    "key, decoded = singleXORdecode(sbin)\n",
    "print(key)\n",
    "print(decoded)"
   ]
  },
  {
   "cell_type": "markdown",
   "id": "guilty-wednesday",
   "metadata": {},
   "source": [
    "## 4. Detect single-character XOR\n",
    "\n",
    "https://cryptopals.com/sets/1/challenges/4"
   ]
  },
  {
   "cell_type": "code",
   "execution_count": 17,
   "id": "olympic-intranet",
   "metadata": {},
   "outputs": [
    {
     "name": "stdout",
     "output_type": "stream",
     "text": [
      "Now that the party is jumping\n",
      "\n"
     ]
    }
   ],
   "source": [
    "import binascii\n",
    "\n",
    "strings = []\n",
    "with open(\"input1/4.txt\") as f:\n",
    "    for l in f.readlines():\n",
    "        s = l.strip(\"\\n\")\n",
    "        sbin = binascii.unhexlify(s) \n",
    "        _,best = singleXORdecode(sbin)\n",
    "        strings.append(best)\n",
    "\n",
    "decoded = max(strings, key=sentenceScore)\n",
    "print(decoded)"
   ]
  },
  {
   "cell_type": "markdown",
   "id": "paperback-standard",
   "metadata": {},
   "source": [
    "## 5. Implement repeating-key XOR"
   ]
  },
  {
   "cell_type": "code",
   "execution_count": 18,
   "id": "sixth-floating",
   "metadata": {},
   "outputs": [
    {
     "name": "stdout",
     "output_type": "stream",
     "text": [
      "b'0b3637272a2b2e63622c2e69692a23693a2a3c6324202d623d63343c2a26226324272765272a282b2f20430a652e2c652a3124333a653e2b2027630c692b20283165286326302e27282f'\n"
     ]
    }
   ],
   "source": [
    "from binascii import hexlify\n",
    "\n",
    "def repeatingKeyXOR(key, string):\n",
    "    i = 0\n",
    "    enc = []\n",
    "    for c in string:\n",
    "        enc.append( ord(c)^ord(key[i]) ) # XOR with current key letter\n",
    "        i = (i+1)%len(key) # wrap round key lenght\n",
    "    return hexlify( bytearray(enc) )\n",
    "\n",
    "string = \"Burning 'em, if you ain't quick and nimble\\nI go crazy when I hear a cymbal\"\n",
    "key = 'ICE'\n",
    "\n",
    "encrypted = repeatingKeyXOR(key, string)\n",
    "print(encrypted)"
   ]
  },
  {
   "cell_type": "markdown",
   "id": "opposite-spyware",
   "metadata": {},
   "source": [
    "## 6. Break repeating-key XOR\n",
    "\n",
    "https://cryptopals.com/sets/1/challenges/6"
   ]
  },
  {
   "cell_type": "code",
   "execution_count": 19,
   "id": "forbidden-oriental",
   "metadata": {},
   "outputs": [
    {
     "data": {
      "text/plain": [
       "37"
      ]
     },
     "execution_count": 19,
     "metadata": {},
     "output_type": "execute_result"
    }
   ],
   "source": [
    "def HammingDistance(b1,b2):\n",
    "    # count differrent bits\n",
    "    countdiffbits = 0\n",
    "    for B1,B2 in zip(b1, b2):\n",
    "        bindiff = bin(B1^B2) # different bits in binary format\n",
    "        countdiffbits += bindiff.count(\"1\") # count occurrences of \"1\"\n",
    "    return countdiffbits\n",
    "\n",
    "s1 = \"this is a test\"\n",
    "s2 = \"wokka wokka!!!\"\n",
    "\n",
    "# convert standard strings into byte arrays    \n",
    "b1 = bytearray([ord(c) for c in s1])\n",
    "b2 = bytearray([ord(c) for c in s2])\n",
    "\n",
    "HammingDistance(b1,b2)"
   ]
  },
  {
   "cell_type": "code",
   "execution_count": 30,
   "id": "julian-cancer",
   "metadata": {},
   "outputs": [],
   "source": [
    "from binascii import a2b_base64\n",
    "from itertools import combinations\n",
    "\n",
    "def guessRepKeyXOR(s):\n",
    "    # convert base64 text to binary\n",
    "    b = a2b_base64(s)\n",
    "\n",
    "    # guess keysize by testing testing several values and choosing that giving the smallest\n",
    "    # normalised Hamming distance on bocks of that size\n",
    "    keys = []\n",
    "    for ks in range(2,41):\n",
    "        # compute normalised Hamming distance between all combinations of blocks of size ks\n",
    "        nbloc = len(b)//ks\n",
    "        blocks = [ b[j*ks:(j+1)*ks] for j in range(nbloc) ]\n",
    "        ndave = 0\n",
    "        ncomb = 0\n",
    "        for c in combinations(blocks,2):            \n",
    "            ndave += HammingDistance(c[0],c[1])\n",
    "            ncomb += 1\n",
    "        ndave /= ncomb*ks\n",
    "        keys.append((ks,ndave))\n",
    "\n",
    "    # choose keysize as that giving smallest average Hamming distance between neigbouring blocks\n",
    "    keys = sorted(keys,key=lambda x: x[1])\n",
    "    keysize = keys[0][0]\n",
    "    print(\"Guessed KEYSIZE =\",keysize)\n",
    "\n",
    "    # Break the ciphertext into blocks of KEYSIZE length, then transpose the blocks. Make a block that is the\n",
    "    # first byte of every block, and a block that is the second byte of every block, and so on.\n",
    "    # This is because each corresponding byte in all blocks has been encrypted with the same key character,\n",
    "    # thus I can try to guess the key character it using the single-character XOR attach implemented at point 4.\n",
    "    nblocks = len(b)//keysize # I'm skipping the last part of the cypher, I could maybe pad it to use the last block\n",
    "    blocks = []\n",
    "    for k in range(keysize):\n",
    "        tblock = []\n",
    "        for i in range(nblocks):\n",
    "            tblock.append(b[k+keysize*i])\n",
    "        blocks.append(tblock)\n",
    "\n",
    "    # Solve each block as if it was single-character XOR, recompose the key!\n",
    "    key = \"\"\n",
    "    for b in blocks:\n",
    "        strings = [ ''.join( chr(n^k) for n in b ) for k in range(256) ]\n",
    "        decoded = max(strings, key=sentenceScore)\n",
    "        key += chr(strings.index(decoded))\n",
    "    print(\"Guessed KEY =\",key)\n",
    "    return key"
   ]
  },
  {
   "cell_type": "code",
   "execution_count": 31,
   "id": "black-snake",
   "metadata": {},
   "outputs": [
    {
     "name": "stdout",
     "output_type": "stream",
     "text": [
      "Guessed KEYSIZE = 29\n",
      "Guessed KEY = Terminator X: Bring the noise\n"
     ]
    }
   ],
   "source": [
    "with open(\"input1/6.txt\") as f:\n",
    "    s = f.read().replace(\"\\n\",\"\")\n",
    "    \n",
    "key = guessRepKeyXOR(s)"
   ]
  },
  {
   "cell_type": "code",
   "execution_count": 34,
   "id": "trained-communication",
   "metadata": {},
   "outputs": [],
   "source": [
    "# XOR is commutative: I can decode with the same algorithm used to encode with repeating-key XOR\n",
    "\n",
    "def decodeRepKeyXOR(s,key):\n",
    "    b = a2b_base64(s)\n",
    "    i = 0\n",
    "    enc = []\n",
    "    for c in b:\n",
    "        enc.append( c^ord(key[i]) ) # XOR with current key letter\n",
    "        i = (i+1)%len(key) # wrap round key lenght\n",
    "    return \"\".join(chr(i) for i in enc)"
   ]
  },
  {
   "cell_type": "code",
   "execution_count": 35,
   "id": "talented-virtue",
   "metadata": {},
   "outputs": [
    {
     "name": "stdout",
     "output_type": "stream",
     "text": [
      "I'm back and I'm ringin' the bell \n",
      "A rockin' on the mike while the fly girls yell \n",
      "In ecstasy in the back of me \n",
      "Well that's my DJ Deshay cuttin' all them Z's \n",
      "Hittin' hard and the girlies goin' crazy \n",
      "Vanilla's on the mike, man I'm not lazy. \n",
      "\n",
      "I'm lettin' my drug kick in \n",
      "It controls my mouth and I begin \n",
      "To just let it flow, let my concepts go \n",
      "My posse's to the side yellin', Go Vanilla Go! \n",
      "\n",
      "Smooth 'cause that's the way I will be \n",
      "And if you don't give a damn, then \n",
      "Why you starin' at me \n",
      "So get off 'cause I control the stage \n",
      "There's no dissin' allowed \n",
      "I'm in my own phase \n",
      "The girlies sa y they love me and that is ok \n",
      "And I can dance better than any kid n' play \n",
      "\n",
      "Stage 2 -- Yea the one ya' wanna listen to \n",
      "It's off my head so let the beat play through \n",
      "So I can funk it up and make it sound good \n",
      "1-2-3 Yo -- Knock on some wood \n",
      "For good luck, I like my rhymes atrocious \n",
      "Supercalafragilisticexpialidocious \n",
      "I'm an effect and that you can bet \n",
      "I can take a fly girl and make her wet. \n",
      "\n",
      "I'm like Samson -- Samson to Delilah \n",
      "There's no denyin', You can try to hang \n",
      "But you'll keep tryin' to get my style \n",
      "Over and over, practice makes perfect \n",
      "But not if you're a loafer. \n",
      "\n",
      "You'll get nowhere, no place, no time, no girls \n",
      "Soon -- Oh my God, homebody, you probably eat \n",
      "Spaghetti with a spoon! Come on and say it! \n",
      "\n",
      "VIP. Vanilla Ice yep, yep, I'm comin' hard like a rhino \n",
      "Intoxicating so you stagger like a wino \n",
      "So punks stop trying and girl stop cryin' \n",
      "Vanilla Ice is sellin' and you people are buyin' \n",
      "'Cause why the freaks are jockin' like Crazy Glue \n",
      "Movin' and groovin' trying to sing along \n",
      "All through the ghetto groovin' this here song \n",
      "Now you're amazed by the VIP posse. \n",
      "\n",
      "Steppin' so hard like a German Nazi \n",
      "Startled by the bases hittin' ground \n",
      "There's no trippin' on mine, I'm just gettin' down \n",
      "Sparkamatic, I'm hangin' tight like a fanatic \n",
      "You trapped me once and I thought that \n",
      "You might have it \n",
      "So step down and lend me your ear \n",
      "'89 in my time! You, '90 is my year. \n",
      "\n",
      "You're weakenin' fast, YO! and I can tell it \n",
      "Your body's gettin' hot, so, so I can smell it \n",
      "So don't be mad and don't be sad \n",
      "'Cause the lyrics belong to ICE, You can call me Dad \n",
      "You're pitchin' a fit, so step back and endure \n",
      "Let the witch doctor, Ice, do the dance to cure \n",
      "So come up close and don't be square \n",
      "You wanna battle me -- Anytime, anywhere \n",
      "\n",
      "You thought that I was weak, Boy, you're dead wrong \n",
      "So come on, everybody and sing this song \n",
      "\n",
      "Say -- Play that funky music Say, go white boy, go white boy go \n",
      "play that funky music Go white boy, go white boy, go \n",
      "Lay down and boogie and play that funky music till you die. \n",
      "\n",
      "Play that funky music Come on, Come on, let me hear \n",
      "Play that funky music white boy you say it, say it \n",
      "Play that funky music A little louder now \n",
      "Play that funky music, white boy Come on, Come on, Come on \n",
      "Play that funky music \n",
      "\n"
     ]
    }
   ],
   "source": [
    "dec = decodeRepKeyXOR(s,key)\n",
    "print(dec)"
   ]
  },
  {
   "cell_type": "markdown",
   "id": "excessive-trinidad",
   "metadata": {},
   "source": [
    "## 7. AES in ECB mode\n",
    "\n",
    "https://cryptopals.com/sets/1/challenges/7\n",
    "\n",
    "Cypher encrypted via AES-128 in ECB mode under the key \"YELLOW SUBMARINE\"\n",
    "\n",
    "Using PyCryptoDone library:\n",
    "\n",
    "https://www.pycryptodome.org/en/latest/\n",
    "\n",
    "`pip install pycryptodome`"
   ]
  },
  {
   "cell_type": "code",
   "execution_count": 61,
   "id": "continuous-hampton",
   "metadata": {},
   "outputs": [
    {
     "name": "stdout",
     "output_type": "stream",
     "text": [
      "I'm back and I'm ringin' the bell \n",
      "A rockin' on the mike while the fly girls yell \n",
      "In ecstasy in the back of me \n",
      "Well that's my DJ Deshay cuttin' all them Z's \n",
      "Hittin' hard and the girlies goin' crazy \n",
      "Vanilla's on the mike, man I'm not lazy. \n",
      "\n",
      "I'm lettin' my drug kick in \n",
      "It controls my mouth and I begin \n",
      "To just let it flow, let my concepts go \n",
      "My posse's to the side yellin', Go Vanilla Go! \n",
      "\n",
      "Smooth 'cause that's the way I will be \n",
      "And if you don't give a damn, then \n",
      "Why you starin' at me \n",
      "So get off 'cause I control the stage \n",
      "There's no dissin' allowed \n",
      "I'm in my own phase \n",
      "The girlies sa y they love me and that is ok \n",
      "And I can dance better than any kid n' play \n",
      "\n",
      "Stage 2 -- Yea the one ya' wanna listen to \n",
      "It's off my head so let the beat play through \n",
      "So I can funk it up and make it sound good \n",
      "1-2-3 Yo -- Knock on some wood \n",
      "For good luck, I like my rhymes atrocious \n",
      "Supercalafragilisticexpialidocious \n",
      "I'm an effect and that you can bet \n",
      "I can take a fly girl and make her wet. \n",
      "\n",
      "I'm like Samson -- Samson to Delilah \n",
      "There's no denyin', You can try to hang \n",
      "But you'll keep tryin' to get my style \n",
      "Over and over, practice makes perfect \n",
      "But not if you're a loafer. \n",
      "\n",
      "You'll get nowhere, no place, no time, no girls \n",
      "Soon -- Oh my God, homebody, you probably eat \n",
      "Spaghetti with a spoon! Come on and say it! \n",
      "\n",
      "VIP. Vanilla Ice yep, yep, I'm comin' hard like a rhino \n",
      "Intoxicating so you stagger like a wino \n",
      "So punks stop trying and girl stop cryin' \n",
      "Vanilla Ice is sellin' and you people are buyin' \n",
      "'Cause why the freaks are jockin' like Crazy Glue \n",
      "Movin' and groovin' trying to sing along \n",
      "All through the ghetto groovin' this here song \n",
      "Now you're amazed by the VIP posse. \n",
      "\n",
      "Steppin' so hard like a German Nazi \n",
      "Startled by the bases hittin' ground \n",
      "There's no trippin' on mine, I'm just gettin' down \n",
      "Sparkamatic, I'm hangin' tight like a fanatic \n",
      "You trapped me once and I thought that \n",
      "You might have it \n",
      "So step down and lend me your ear \n",
      "'89 in my time! You, '90 is my year. \n",
      "\n",
      "You're weakenin' fast, YO! and I can tell it \n",
      "Your body's gettin' hot, so, so I can smell it \n",
      "So don't be mad and don't be sad \n",
      "'Cause the lyrics belong to ICE, You can call me Dad \n",
      "You're pitchin' a fit, so step back and endure \n",
      "Let the witch doctor, Ice, do the dance to cure \n",
      "So come up close and don't be square \n",
      "You wanna battle me -- Anytime, anywhere \n",
      "\n",
      "You thought that I was weak, Boy, you're dead wrong \n",
      "So come on, everybody and sing this song \n",
      "\n",
      "Say -- Play that funky music Say, go white boy, go white boy go \n",
      "play that funky music Go white boy, go white boy, go \n",
      "Lay down and boogie and play that funky music till you die. \n",
      "\n",
      "Play that funky music Come on, Come on, let me hear \n",
      "Play that funky music white boy you say it, say it \n",
      "Play that funky music A little louder now \n",
      "Play that funky music, white boy Come on, Come on, Come on \n",
      "Play that funky music \n",
      "\u0004\u0004\u0004\u0004\n"
     ]
    }
   ],
   "source": [
    "from binascii import a2b_base64\n",
    "from Crypto.Cipher import AES\n",
    "\n",
    "key = \"YELLOW SUBMARINE\" \n",
    "\n",
    "with open(\"input1/7.txt\") as f:\n",
    "    cipher = a2b_base64( f.read().strip(\"\\n\") )\n",
    "\n",
    "aes = AES.new(key.encode(), AES.MODE_ECB) # key must be binary, encode() takes care of that\n",
    "plain = aes.decrypt(cipher).decode() # the output is binary, decode() converts it to regular string\n",
    "print(plain)"
   ]
  },
  {
   "cell_type": "markdown",
   "id": "photographic-marine",
   "metadata": {},
   "source": [
    "## 8. Detect AES in ECB mode\n",
    "\n",
    "https://cryptopals.com/sets/1/challenges/8\n",
    "\n",
    "https://en.wikipedia.org/wiki/Block_cipher_mode_of_operation#Electronic_codebook_(ECB)\n",
    "\n",
    "Remember that the problem with ECB is that it is stateless and deterministic; the same 16 byte plaintext block will always produce the same 16 byte ciphertext.\n",
    "\n",
    "I can split the ciphers in such blocks and look for possible repetitions."
   ]
  },
  {
   "cell_type": "code",
   "execution_count": 3,
   "id": "naval-ideal",
   "metadata": {},
   "outputs": [
    {
     "name": "stdout",
     "output_type": "stream",
     "text": [
      "Cipher at line 133 has 3 block repetitions\n"
     ]
    }
   ],
   "source": [
    "from binascii import a2b_base64\n",
    "\n",
    "with open(\"input1/8.txt\") as f:\n",
    "    ciphers = [ a2b_base64(l.strip(\"\\n\")) for l in f.readlines() ]\n",
    "\n",
    "blocksize = 16\n",
    "l = 1\n",
    "for c in ciphers:\n",
    "    blocks = [ c[i:i+blocksize] for i in range(0,len(c),blocksize) ]\n",
    "    rep = len(blocks) - len(set(blocks)) # python sets ignore repetitions\n",
    "    if rep:\n",
    "        print(\"Cipher at line {} has {} block repetitions\".format(l,rep))\n",
    "    l += 1"
   ]
  },
  {
   "cell_type": "code",
   "execution_count": null,
   "id": "indie-composition",
   "metadata": {},
   "outputs": [],
   "source": []
  }
 ],
 "metadata": {
  "kernelspec": {
   "display_name": "Python 3",
   "language": "python",
   "name": "python3"
  },
  "language_info": {
   "codemirror_mode": {
    "name": "ipython",
    "version": 3
   },
   "file_extension": ".py",
   "mimetype": "text/x-python",
   "name": "python",
   "nbconvert_exporter": "python",
   "pygments_lexer": "ipython3",
   "version": "3.9.2"
  }
 },
 "nbformat": 4,
 "nbformat_minor": 5
}
