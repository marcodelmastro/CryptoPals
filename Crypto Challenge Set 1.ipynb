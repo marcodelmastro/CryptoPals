{
 "cells": [
  {
   "cell_type": "markdown",
   "id": "missing-teens",
   "metadata": {},
   "source": [
    "## Crypto Challenge Set 1\n",
    "\n",
    "https://cryptopals.com/sets/1\n",
    "\n",
    "### Convert hex to base64"
   ]
  },
  {
   "cell_type": "code",
   "execution_count": 30,
   "id": "allied-easter",
   "metadata": {},
   "outputs": [],
   "source": [
    "import codecs\n",
    "\n",
    "def hex2base64(s):\n",
    "    decode_hex = codecs.getdecoder(\"hex_codec\")\n",
    "    encode_b64 = codecs.getencoder(\"base64\")\n",
    "    return encode_b64(decode_hex(s)[0])[0]"
   ]
  },
  {
   "cell_type": "code",
   "execution_count": 199,
   "id": "entitled-ribbon",
   "metadata": {},
   "outputs": [
    {
     "data": {
      "text/plain": [
       "b'SSdtIGtpbGxpbmcgeW91ciBicmFpbiBsaWtlIGEgcG9pc29ub3VzIG11c2hyb29t\\n'"
      ]
     },
     "execution_count": 199,
     "metadata": {},
     "output_type": "execute_result"
    }
   ],
   "source": [
    "s = r\"49276d206b696c6c696e6720796f757220627261696e206c696b65206120706f69736f6e6f7573206d757368726f6f6d\"\n",
    "# SSdtIGtpbGxpbmcgeW91ciBicmFpbiBsaWtlIGEgcG9pc29ub3VzIG11c2hyb29t\n",
    "hex2base64(s)"
   ]
  },
  {
   "cell_type": "code",
   "execution_count": 230,
   "id": "existing-bosnia",
   "metadata": {},
   "outputs": [
    {
     "name": "stdout",
     "output_type": "stream",
     "text": [
      "b'SSdtIGtpbGxpbmcgeW91ciBicmFpbiBsaWtlIGEgcG9pc29ub3VzIG11c2hyb29t\\n'\n",
      "I'm killing your brain like a poisonous mushroom\n"
     ]
    }
   ],
   "source": [
    "# binascii library is a better/friendlier option!\n",
    "\n",
    "import binascii\n",
    "s = r\"49276d206b696c6c696e6720796f757220627261696e206c696b65206120706f69736f6e6f7573206d757368726f6f6d\"\n",
    "\n",
    "print(binascii.b2a_base64(binascii.unhexlify(s)))\n",
    "print(\"\".join(chr(n) for n in binascii.unhexlify(s)))"
   ]
  },
  {
   "cell_type": "markdown",
   "id": "forward-salvation",
   "metadata": {},
   "source": [
    "### Fixed XOR"
   ]
  },
  {
   "cell_type": "code",
   "execution_count": 232,
   "id": "sharp-things",
   "metadata": {},
   "outputs": [],
   "source": [
    "def fixedXOR(a,b):\n",
    "    return hex(a^b)"
   ]
  },
  {
   "cell_type": "code",
   "execution_count": 233,
   "id": "loving-judge",
   "metadata": {},
   "outputs": [
    {
     "data": {
      "text/plain": [
       "'0x746865206b696420646f6e277420706c6179'"
      ]
     },
     "execution_count": 233,
     "metadata": {},
     "output_type": "execute_result"
    }
   ],
   "source": [
    "a = 0x1c0111001f010100061a024b53535009181c\n",
    "b = 0x686974207468652062756c6c277320657965\n",
    "# 746865206b696420646f6e277420706c6179\n",
    "fixedXOR(a,b)"
   ]
  },
  {
   "cell_type": "code",
   "execution_count": 236,
   "id": "central-advance",
   "metadata": {},
   "outputs": [
    {
     "name": "stdout",
     "output_type": "stream",
     "text": [
      "the kid don't play\n",
      "746865206b696420646f6e277420706c6179\n"
     ]
    }
   ],
   "source": [
    "import binascii\n",
    "\n",
    "a = '1c0111001f010100061a024b53535009181c'\n",
    "b = '686974207468652062756c6c277320657965'\n",
    "\n",
    "print( \"\".join([chr(an^bn) for an,bn in zip(binascii.unhexlify(a),binascii.unhexlify(b))]) )\n",
    "print( \"\".join([ hex(an^bn)[2:] for an,bn in zip(binascii.unhexlify(a),binascii.unhexlify(b))]) )"
   ]
  },
  {
   "cell_type": "markdown",
   "id": "blocked-possibility",
   "metadata": {},
   "source": [
    "### Single-byte XOR cipher\n",
    "\n",
    "https://cryptopals.com/sets/1/challenges/3"
   ]
  },
  {
   "cell_type": "code",
   "execution_count": 20,
   "id": "changing-republican",
   "metadata": {},
   "outputs": [
    {
     "name": "stdout",
     "output_type": "stream",
     "text": [
      "Cooking MC's like a pound of bacon\n",
      "key = X\n",
      "Cooking MC's like a pound of bacon\n"
     ]
    }
   ],
   "source": [
    "# it has been XOR'd against a single character --> There are 256 possible keys (2 hex digits)\n",
    "\n",
    "s = \"1b37373331363f78151b7f2b783431333d78397828372d363c78373e783a393b3736\"\n",
    "\n",
    "#keys = [ chr(k) for k in range(256) ]\n",
    "#print(keys)\n",
    "\n",
    "import binascii\n",
    "\n",
    "sbin = binascii.unhexlify(s) # convert string to BIN assumong string represent HEX\n",
    "\n",
    "# all proobile decoded strings according to keys\n",
    "strings = [ ''.join( chr(n^k) for n in sbin ) for k in range(256) ]\n",
    "#print(strings)\n",
    "\n",
    "# select best decoded string according to number of spaces\n",
    "decoded = max(strings, key=lambda s: s.count(' '))\n",
    "print(decoded)\n",
    "i = strings.index(decoded)\n",
    "print(\"key =\",chr(i))\n",
    "\n",
    "# slightly more sofisticated approach, using letter frequencies to compute sentence score\n",
    "# https://en.wikipedia.org/wiki/Letter_frequency#Relative_frequencies_of_letters_in_the_English_language\n",
    "\n",
    "letterFreq = {\n",
    "  \" \": 15,\n",
    "  \"e\": 12.702,\n",
    "  \"t\": 9.056,\n",
    "  \"a\": 8.167,\n",
    "  \"o\": 7.507,\n",
    "  \"i\": 6.966,\n",
    "  \"n\": 6.749,\n",
    "  \"s\": 6.327,\n",
    "  \"h\": 6.094,\n",
    "  \"r\": 5.987,\n",
    "  \"d\": 4.253\n",
    "}\n",
    "\n",
    "def sentenceScore(s):\n",
    "    return sum([ letterFreq[c] for c in s if c in letterFreq.keys() ])\n",
    "\n",
    "decoded2 = max(strings, key=sentenceScore)\n",
    "print(decoded2)"
   ]
  },
  {
   "cell_type": "markdown",
   "id": "graduate-perspective",
   "metadata": {},
   "source": [
    "## 4. Detect single-character XOR\n",
    "\n",
    "https://cryptopals.com/sets/1/challenges/4"
   ]
  },
  {
   "cell_type": "code",
   "execution_count": 21,
   "id": "superb-pixel",
   "metadata": {},
   "outputs": [
    {
     "name": "stdout",
     "output_type": "stream",
     "text": [
      "Now that the party is jumping\n",
      "\n"
     ]
    }
   ],
   "source": [
    "import binascii\n",
    "\n",
    "def bestSingleDecoded(s):\n",
    "    strings = [ ''.join( chr(n^k) for n in binascii.unhexlify(s) ) for k in range(256) ]\n",
    "    return max(strings, key=sentenceScore)\n",
    "\n",
    "strings = []\n",
    "with open(\"input1/4.txt\") as f:\n",
    "    for l in f.readlines():\n",
    "        s = l.strip(\"\\n\")\n",
    "        best = bestSingleDecoded(s)\n",
    "        strings.append(best)\n",
    "\n",
    "decoded = max(strings, key=sentenceScore)\n",
    "print(decoded)"
   ]
  },
  {
   "cell_type": "code",
   "execution_count": null,
   "id": "automatic-identifier",
   "metadata": {},
   "outputs": [],
   "source": []
  },
  {
   "cell_type": "code",
   "execution_count": 36,
   "id": "greater-western",
   "metadata": {},
   "outputs": [],
   "source": [
    "s = [ \n",
    "    \"Burning 'em, if you ain't quick and nimble\",\n",
    "    \"I go crazy when I hear a cymbal\"\n",
    "]\n",
    "\n",
    "keys = \"ICE\""
   ]
  },
  {
   "cell_type": "code",
   "execution_count": 52,
   "id": "twelve-reform",
   "metadata": {},
   "outputs": [
    {
     "data": {
      "text/plain": [
       "42"
      ]
     },
     "execution_count": 52,
     "metadata": {},
     "output_type": "execute_result"
    }
   ],
   "source": [
    "len(s[0])"
   ]
  },
  {
   "cell_type": "code",
   "execution_count": 54,
   "id": "exclusive-verse",
   "metadata": {},
   "outputs": [
    {
     "data": {
      "text/plain": [
       "75"
      ]
     },
     "execution_count": 54,
     "metadata": {},
     "output_type": "execute_result"
    }
   ],
   "source": [
    "len(\"0b3637272a2b2e63622c2e69692a23693a2a3c6324202d623d63343c2a26226324272765272\")\n",
    "#a282b2f20430a652e2c652a3124333a653e2b2027630c692b20283165286326302e27282f"
   ]
  },
  {
   "cell_type": "markdown",
   "id": "simple-branch",
   "metadata": {},
   "source": [
    "## 5. Implement repeating-key XOR"
   ]
  },
  {
   "cell_type": "code",
   "execution_count": 65,
   "id": "southern-athens",
   "metadata": {},
   "outputs": [
    {
     "name": "stdout",
     "output_type": "stream",
     "text": [
      "b'0b3637272a2b2e63622c2e69692a23693a2a3c6324202d623d63343c2a26226324272765272a282b2f20430a652e2c652a3124333a653e2b2027630c692b20283165286326302e27282f'\n"
     ]
    }
   ],
   "source": [
    "from binascii import hexlify\n",
    "\n",
    "def repeatingKeyXOR(key, string):\n",
    "    i = 0\n",
    "    enc = []\n",
    "    for c in string:\n",
    "        enc.append( ord(c)^ord(key[i]) ) # XOR with current key letter\n",
    "        i = (i+1)%len(key) # wrap round key lenght\n",
    "    return hexlify( bytearray(enc) )\n",
    "\n",
    "string = \"Burning 'em, if you ain't quick and nimble\\nI go crazy when I hear a cymbal\"\n",
    "key = 'ICE'\n",
    "\n",
    "encrypted = repeatingKeyXOR(key, string)\n",
    "print(encrypted)"
   ]
  },
  {
   "cell_type": "code",
   "execution_count": null,
   "id": "centered-groove",
   "metadata": {},
   "outputs": [],
   "source": [
    "0b3637272a2b2e63622c2e69692a23693a2a3c6324202d623d63343c2a26226324272765272a282b2f20430a652e2c652a3124333a653e2b2027630c692b20283165286326302e27282f"
   ]
  }
 ],
 "metadata": {
  "kernelspec": {
   "display_name": "Python 3",
   "language": "python",
   "name": "python3"
  },
  "language_info": {
   "codemirror_mode": {
    "name": "ipython",
    "version": 3
   },
   "file_extension": ".py",
   "mimetype": "text/x-python",
   "name": "python",
   "nbconvert_exporter": "python",
   "pygments_lexer": "ipython3",
   "version": "3.9.2"
  }
 },
 "nbformat": 4,
 "nbformat_minor": 5
}
