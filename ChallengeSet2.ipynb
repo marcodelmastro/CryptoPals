{
 "cells": [
  {
   "cell_type": "markdown",
   "id": "infrared-physics",
   "metadata": {},
   "source": [
    "# Cryptopals Challenge Set 2\n",
    "\n",
    "## 9. Implement PKCS#7 padding\n",
    "\n",
    "https://cryptopals.com/sets/2/challenges/9"
   ]
  },
  {
   "cell_type": "code",
   "execution_count": 1,
   "id": "terminal-underwear",
   "metadata": {},
   "outputs": [],
   "source": [
    "def pkcs7_pad(b: bytes, blocksize: int = 16) -> bytes:\n",
    "    if blocksize == 16:\n",
    "        pad_len = blocksize - (len(b) & 15)\n",
    "    else:\n",
    "        pad_len = blocksize - (len(b) % blocksize)\n",
    "    return b + bytes([pad_len]) * pad_len"
   ]
  },
  {
   "cell_type": "code",
   "execution_count": 2,
   "id": "conceptual-environment",
   "metadata": {},
   "outputs": [
    {
     "data": {
      "text/plain": [
       "b'YELLOW SUBMARINE\\x04\\x04\\x04\\x04'"
      ]
     },
     "execution_count": 2,
     "metadata": {},
     "output_type": "execute_result"
    }
   ],
   "source": [
    "block = b\"YELLOW SUBMARINE\"\n",
    "pkcs7_pad(block,20)"
   ]
  },
  {
   "cell_type": "markdown",
   "id": "considerable-prevention",
   "metadata": {},
   "source": [
    "## 10. Implement CBC mode\n",
    "\n",
    "https://cryptopals.com/sets/2/challenges/10\n",
    "\n",
    "https://en.wikipedia.org/wiki/Block_cipher_mode_of_operation#Cipher_block_chaining_(CBC)"
   ]
  },
  {
   "cell_type": "code",
   "execution_count": 3,
   "id": "independent-blast",
   "metadata": {},
   "outputs": [],
   "source": [
    "from cryptopals.utils import bytes_xor, bytes_to_chuncks\n",
    "from Cryptodome.Cipher import AES\n",
    "\n",
    "def aes_cbc_decrypt(cipher: bytes, key: bytes) -> bytes:\n",
    "    aes = AES.new(key, AES.MODE_ECB)\n",
    "    bsize = len(key)\n",
    "    blocks = bytes_to_chuncks(cipher,bsize)\n",
    "    IV = bsize*b\"\\x00\"    \n",
    "    plaintext = b\"\"\n",
    "    for i in range(len(blocks)):\n",
    "        # decrypt block with AES ECB mode\n",
    "        plainblock = aes.decrypt(blocks[i])\n",
    "        # XOR with IV or previous cipher block\n",
    "        plainblock = bytes_xor(plainblock,IV) if i==0 else bytes_xor(plainblock,blocks[i-1])\n",
    "        plaintext += plainblock\n",
    "    return plaintext"
   ]
  },
  {
   "cell_type": "code",
   "execution_count": 4,
   "id": "mechanical-conflict",
   "metadata": {},
   "outputs": [
    {
     "name": "stdout",
     "output_type": "stream",
     "text": [
      "I'm back and I'm ringin' the bell \n",
      "A rockin' on the mike while the fly girls yell \n",
      "In ecstasy in the back of me \n",
      "Well that's my DJ Deshay cuttin' all them Z's \n",
      "Hittin' hard and the girlies goin' crazy \n",
      "Vanilla's on the mike, man I'm not lazy. \n",
      "\n",
      "I'm lettin' my drug kick in \n",
      "It controls my mouth and I begin \n",
      "To just let it flow, let my concepts go \n",
      "My posse's to the side yellin', Go Vanilla Go! \n",
      "\n",
      "Smooth 'cause that's the way I will be \n",
      "And if you don't give a damn, then \n",
      "Why you starin' at me \n",
      "So get off 'cause I control the stage \n",
      "There's no dissin' allowed \n",
      "I'm in my own phase \n",
      "The girlies sa y they love me and that is ok \n",
      "And I can dance better than any kid n' play \n",
      "\n",
      "Stage 2 -- Yea the one ya' wanna listen to \n",
      "It's off my head so let the beat play through \n",
      "So I can funk it up and make it sound good \n",
      "1-2-3 Yo -- Knock on some wood \n",
      "For good luck, I like my rhymes atrocious \n",
      "Supercalafragilisticexpialidocious \n",
      "I'm an effect and that you can bet \n",
      "I can take a fly girl and make her wet. \n",
      "\n",
      "I'm like Samson -- Samson to Delilah \n",
      "There's no denyin', You can try to hang \n",
      "But you'll keep tryin' to get my style \n",
      "Over and over, practice makes perfect \n",
      "But not if you're a loafer. \n",
      "\n",
      "You'll get nowhere, no place, no time, no girls \n",
      "Soon -- Oh my God, homebody, you probably eat \n",
      "Spaghetti with a spoon! Come on and say it! \n",
      "\n",
      "VIP. Vanilla Ice yep, yep, I'm comin' hard like a rhino \n",
      "Intoxicating so you stagger like a wino \n",
      "So punks stop trying and girl stop cryin' \n",
      "Vanilla Ice is sellin' and you people are buyin' \n",
      "'Cause why the freaks are jockin' like Crazy Glue \n",
      "Movin' and groovin' trying to sing along \n",
      "All through the ghetto groovin' this here song \n",
      "Now you're amazed by the VIP posse. \n",
      "\n",
      "Steppin' so hard like a German Nazi \n",
      "Startled by the bases hittin' ground \n",
      "There's no trippin' on mine, I'm just gettin' down \n",
      "Sparkamatic, I'm hangin' tight like a fanatic \n",
      "You trapped me once and I thought that \n",
      "You might have it \n",
      "So step down and lend me your ear \n",
      "'89 in my time! You, '90 is my year. \n",
      "\n",
      "You're weakenin' fast, YO! and I can tell it \n",
      "Your body's gettin' hot, so, so I can smell it \n",
      "So don't be mad and don't be sad \n",
      "'Cause the lyrics belong to ICE, You can call me Dad \n",
      "You're pitchin' a fit, so step back and endure \n",
      "Let the witch doctor, Ice, do the dance to cure \n",
      "So come up close and don't be square \n",
      "You wanna battle me -- Anytime, anywhere \n",
      "\n",
      "You thought that I was weak, Boy, you're dead wrong \n",
      "So come on, everybody and sing this song \n",
      "\n",
      "Say -- Play that funky music Say, go white boy, go white boy go \n",
      "play that funky music Go white boy, go white boy, go \n",
      "Lay down and boogie and play that funky music till you die. \n",
      "\n",
      "Play that funky music Come on, Come on, let me hear \n",
      "Play that funky music white boy you say it, say it \n",
      "Play that funky music A little louder now \n",
      "Play that funky music, white boy Come on, Come on, Come on \n",
      "Play that funky music \n",
      "\u0004\u0004\u0004\u0004\n"
     ]
    }
   ],
   "source": [
    "from base64 import b64decode\n",
    "\n",
    "with open(\"input/10.txt\") as f:\n",
    "    cipher10 = b64decode(f.read())\n",
    "\n",
    "key = b\"YELLOW SUBMARINE\"\n",
    "plaintext10 = aes_cbc_decrypt(cipher10,key)\n",
    "\n",
    "print(plaintext10.decode())\n",
    "\n",
    "with open('input/plaintext10.txt', 'w') as f:\n",
    "    f.write(plaintext10.decode())"
   ]
  },
  {
   "cell_type": "markdown",
   "id": "worldwide-dispute",
   "metadata": {},
   "source": [
    "## 11. An ECB/CBC detection oracle\n",
    "\n",
    "https://cryptopals.com/sets/2/challenges/11\n",
    "\n",
    "> Write a function to generate a random AES key; that's just 16 random bytes. `os.urandom()` return a string of size random bytes suitable for cryptographic use.\n",
    "\n",
    "https://docs.python.org/3.8/library/os.html#os.urandom"
   ]
  },
  {
   "cell_type": "code",
   "execution_count": 5,
   "id": "sonic-vietnamese",
   "metadata": {},
   "outputs": [
    {
     "data": {
      "text/plain": [
       "b\"n\\xbfaI\\x07\\x0e\\xf9\\x8d\\x12\\xfc\\x16\\xab\\xc3\\x10\\x9c'\""
      ]
     },
     "execution_count": 5,
     "metadata": {},
     "output_type": "execute_result"
    }
   ],
   "source": [
    "import os\n",
    "\n",
    "def generate_aes_key(keylen=16):\n",
    "    return os.urandom(keylen)\n",
    "\n",
    "generate_aes_key()"
   ]
  },
  {
   "cell_type": "markdown",
   "id": "consecutive-rapid",
   "metadata": {},
   "source": [
    "> Write a function that encrypts data under an unknown key, e.g. a function that generates a random key and encrypts under it. Under the hood, have the function append 5-10 bytes (count chosen randomly) before the plaintext and 5-10 bytes after the plaintext. Have the function choose to encrypt under ECB 1/2 the time, and under CBC the other half (just use random IVs each time for CBC). \n",
    "\n",
    "> Detect the block cipher mode the function is using each time. "
   ]
  },
  {
   "cell_type": "code",
   "execution_count": 6,
   "id": "heated-sword",
   "metadata": {},
   "outputs": [],
   "source": [
    "import os\n",
    "import random\n",
    "from Cryptodome.Cipher import AES\n",
    "\n",
    "def aes_encryption_oracle(plaintext):\n",
    "    # generate a 16-bytes random key\n",
    "    keysize = 16\n",
    "    key = os.urandom(keysize)\n",
    "    plainb = bytes(plaintext.encode()) # plaintext in bytes\n",
    "    # prepend and append bytes\n",
    "    plainb = os.urandom(random.randint(5,10))+plainb+os.urandom(random.randint(5,10)) \n",
    "    # pad the plaintext to a multiple of keysize\n",
    "    if len(plainb)%keysize:\n",
    "        plainb = pkcs7_pad(plainb,len(plainb)+keysize-len(plainb)%keysize)\n",
    "    cipher = b\"\"\n",
    "    mode = random.randint(0,1)\n",
    "    if mode==1: # encrypt under ECB\n",
    "        aes_ecb = AES.new(key, AES.MODE_ECB)\n",
    "        cipher = aes_ecb.encrypt(plainb)\n",
    "    else: # encrypt under CBC\n",
    "        IV = os.urandom(keysize)\n",
    "        aes_cbc = AES.new(key, AES.MODE_CBC, IV) \n",
    "        cipher = aes_cbc.encrypt(plainb)\n",
    "    return mode, cipher"
   ]
  },
  {
   "cell_type": "code",
   "execution_count": 7,
   "id": "fuzzy-politics",
   "metadata": {},
   "outputs": [
    {
     "name": "stdout",
     "output_type": "stream",
     "text": [
      "1 True\n",
      "0 False\n",
      "0 False\n",
      "1 True\n",
      "0 False\n",
      "1 True\n",
      "1 True\n",
      "1 True\n",
      "1 True\n",
      "1 True\n"
     ]
    }
   ],
   "source": [
    "from cryptopals.utils import detect_aes_ecb_mode\n",
    "\n",
    "# This is the poem provided as ciphertext at challenge 10. No problem in guessing the cipher mode with it!\n",
    "with open(\"input/plaintext10.txt\") as f:\n",
    "    plaintext10 = f.read()\n",
    "\n",
    "for _ in range(10):\n",
    "    mode, cipher = aes_encryption_oracle(plaintext10) \n",
    "    pred = detect_aes_ecb_mode(cipher)\n",
    "    print(mode,pred)"
   ]
  },
  {
   "cell_type": "markdown",
   "id": "interpreted-circus",
   "metadata": {},
   "source": [
    "## 12. Byte-at-a-time ECB decryption (Simple)\n",
    "\n",
    "https://cryptopals.com/sets/2/challenges/12"
   ]
  },
  {
   "cell_type": "code",
   "execution_count": 8,
   "id": "violent-publicity",
   "metadata": {},
   "outputs": [],
   "source": [
    "from cryptopals.utils import aes_ecb_decrypt, aes_ecb_encrypt\n",
    "import os\n",
    "import random\n",
    "from base64 import b64decode\n",
    "\n",
    "class oracle12():\n",
    "    def __init__(self):\n",
    "        # key\n",
    "        self.key = os.urandom(16)\n",
    "        # target\n",
    "        self.unknown = \"Um9sbGluJyBpbiBteSA1LjAKV2l0aCBteSByYWctdG9wIGRvd24gc28gbXkgaGFpciBjYW4gYmxvdwpUaGUgZ2lybGllcyBvbiBzdGFuZGJ5IHdhdmluZyBqdXN0IHRvIHNheSBoaQpEaWQgeW91IHN0b3A/IE5vLCBJIGp1c3QgZHJvdmUgYnkK\"\n",
    "        self.unknown_bin = b64decode(self.unknown)\n",
    "        self.unknown_str = self.unknown_bin.decode()\n",
    "    \n",
    "    def encrypt(self,string=\"\"):\n",
    "        '''Encrypt unknown string appending the injection string'''\n",
    "        return aes_ecb_encrypt(string.encode()+self.unknown_bin,self.key)\n",
    "    \n",
    "    def decrypt(self,string):\n",
    "        return aes_ecb_decrypt(string,self.key).decode()"
   ]
  },
  {
   "cell_type": "markdown",
   "id": "legal-tradition",
   "metadata": {},
   "source": [
    "### Discover the block size of the cipher"
   ]
  },
  {
   "cell_type": "code",
   "execution_count": 9,
   "id": "unique-aquarium",
   "metadata": {},
   "outputs": [],
   "source": [
    "def guess_block_size(oracle):\n",
    "    my_string = \"\"\n",
    "    cipher0 = oracle.encrypt(my_string)\n",
    "    cipher = cipher0\n",
    "    while len(cipher0)==len(cipher):\n",
    "        my_string += \"A\"\n",
    "        cipher = oracle.encrypt(my_string)\n",
    "    return len(cipher)-len(cipher0)"
   ]
  },
  {
   "cell_type": "code",
   "execution_count": 10,
   "id": "corrected-revision",
   "metadata": {},
   "outputs": [
    {
     "name": "stdout",
     "output_type": "stream",
     "text": [
      "Block size = 16\n"
     ]
    }
   ],
   "source": [
    "oracle = oracle12()\n",
    "bsize = guess_block_size(oracle)\n",
    "print(\"Block size =\",bsize)"
   ]
  },
  {
   "cell_type": "markdown",
   "id": "blank-whole",
   "metadata": {},
   "source": [
    "### Detect that the function is using ECB\n",
    "\n",
    "> Feed the oracle function with a repeating string long enough to ensure that repetitions would be visible regardless of the content of the unknown string."
   ]
  },
  {
   "cell_type": "code",
   "execution_count": 11,
   "id": "parental-hawaii",
   "metadata": {},
   "outputs": [
    {
     "name": "stdout",
     "output_type": "stream",
     "text": [
      "Is the oracle using ECB? True\n"
     ]
    }
   ],
   "source": [
    "from cryptopals import detect_aes_ecb_mode\n",
    "\n",
    "my_string = 2*bsize*\"A\"\n",
    "my_string_encrypted = oracle.encrypt(my_string)\n",
    "print(\"Is the oracle using ECB?\", detect_aes_ecb_mode(my_string_encrypted))"
   ]
  },
  {
   "cell_type": "markdown",
   "id": "moral-soldier",
   "metadata": {},
   "source": [
    "### Attack the oracle with injection string of varying lenght"
   ]
  },
  {
   "cell_type": "code",
   "execution_count": 12,
   "id": "billion-attack",
   "metadata": {},
   "outputs": [],
   "source": [
    "def find_plain_text_lenght(oracle):\n",
    "    bsize = guess_block_size(oracle)\n",
    "    i = 0\n",
    "    cipher_0 = oracle.encrypt(\"\")\n",
    "    cipher_i = cipher_0\n",
    "    for i in range(bsize):\n",
    "        cipher_i = oracle.encrypt(i*\"A\")\n",
    "        if len(cipher_0)<len(cipher_i):\n",
    "            return len(cipher_0)-i+1\n",
    "\n",
    "def byte_at_a_time_ecb_decrypt(oracle):\n",
    "    injsize = len(oracle.encrypt(\"\"))\n",
    "    plaintext = \"\"\n",
    "    for k in range(injsize):\n",
    "        my_string = (injsize-1-len(plaintext))*\"A\"\n",
    "        cipher_0 = oracle.encrypt(my_string)\n",
    "        for i in range(256):\n",
    "            cipher_i = oracle.encrypt(my_string+plaintext+chr(i))\n",
    "            if cipher_0[:injsize] == cipher_i[:injsize]:\n",
    "                plaintext += chr(i)\n",
    "                break\n",
    "    return plaintext[:find_plain_text_lenght(oracle)]"
   ]
  },
  {
   "cell_type": "code",
   "execution_count": 13,
   "id": "historical-encoding",
   "metadata": {},
   "outputs": [
    {
     "name": "stdout",
     "output_type": "stream",
     "text": [
      "Rollin' in my 5.0\n",
      "With my rag-top down so my hair can blow\n",
      "The girlies on standby waving just to say hi\n",
      "Did you stop? No, I just drove by\n",
      "\u0001\n",
      "Rollin' in my 5.0\n",
      "With my rag-top down so my hair can blow\n",
      "The girlies on standby waving just to say hi\n",
      "Did you stop? No, I just drove by\n",
      "\n"
     ]
    }
   ],
   "source": [
    "oracle = oracle12()\n",
    "plaintext12 = byte_at_a_time_ecb_decrypt(oracle)\n",
    "print(plaintext12)\n",
    "print(oracle.unknown_str)"
   ]
  },
  {
   "cell_type": "markdown",
   "id": "imported-ethiopia",
   "metadata": {},
   "source": [
    "## 13. ECB cut-and-paste\n",
    "\n",
    "https://cryptopals.com/sets/2/challenges/13"
   ]
  },
  {
   "cell_type": "code",
   "execution_count": 14,
   "id": "confident-swedish",
   "metadata": {},
   "outputs": [],
   "source": [
    "from cryptopals import aes_ecb_decrypt, aes_ecb_encrypt, pkcs7_strip\n",
    "import os\n",
    "\n",
    "class profile_functions_13:\n",
    "    def __init__(self):\n",
    "        self.key = os.urandom(16)\n",
    "        \n",
    "    def parse(self,string):\n",
    "        '''k=v parsing routine'''\n",
    "        return { i.split(\"=\")[0]: i.split(\"=\")[1] for i in string.split(\"&\") }\n",
    "    \n",
    "    def profile_for(self,email):\n",
    "        # Your \"profile_for\" function should not allow encoding metacharacters (& and =). \n",
    "        if b\"&\" in email.encode() or b\"=\" in email.encode():\n",
    "            #raise ValueError(\"Invalid email address\")\n",
    "            print(\"Invalid email address\")\n",
    "            return b\"\"\n",
    "        return b\"email=\" + email.encode() + b\"&uid=10&role=user\"\n",
    "    \n",
    "    def encrypt(self,email):\n",
    "        profile = self.profile_for(email)\n",
    "        if profile != \"\":\n",
    "            return aes_ecb_encrypt(profile,self.key)\n",
    "\n",
    "    def decrypt(self,encprof):\n",
    "        return pkcs7_strip(aes_ecb_decrypt(encprof,self.key)).decode()"
   ]
  },
  {
   "cell_type": "code",
   "execution_count": 15,
   "id": "creative-orientation",
   "metadata": {},
   "outputs": [
    {
     "name": "stdout",
     "output_type": "stream",
     "text": [
      "{'foo': 'bar', 'baz': 'qux', 'zap': 'zazzle'}\n",
      "b'email=foo@bar.com&uid=10&role=user'\n"
     ]
    }
   ],
   "source": [
    "profile = profile_functions_13()\n",
    "print(profile.parse(\"foo=bar&baz=qux&zap=zazzle\"))\n",
    "print(profile.profile_for(\"foo@bar.com\"))"
   ]
  },
  {
   "cell_type": "code",
   "execution_count": 16,
   "id": "binding-swaziland",
   "metadata": {},
   "outputs": [
    {
     "name": "stdout",
     "output_type": "stream",
     "text": [
      "email=foo@bar.com&uid=10&role=user\n"
     ]
    }
   ],
   "source": [
    "encprof = profile.encrypt(\"foo@bar.com\")\n",
    "print(profile.decrypt(encprof))"
   ]
  },
  {
   "cell_type": "markdown",
   "id": "selective-hawaii",
   "metadata": {},
   "source": [
    "### Attack\n",
    "\n",
    "* Forging a fake email to get the `user` role at the beginning of a block. \n",
    "* Since blocks are encoded separately I could then replace that (encoded) `user` block only with the (encoded) `admin` role.\n"
   ]
  },
  {
   "cell_type": "code",
   "execution_count": 17,
   "id": "referenced-orientation",
   "metadata": {},
   "outputs": [
    {
     "data": {
      "text/plain": [
       "'email=fffoo@bar.com&uid=10&role=admin'"
      ]
     },
     "execution_count": 17,
     "metadata": {},
     "output_type": "execute_result"
    }
   ],
   "source": [
    "from cryptopals import bytes_to_chuncks, pkcs7_pad\n",
    "\n",
    "attack_target = b'user'\n",
    "attack_role   = b'admin'\n",
    "\n",
    "# guessing the block size\n",
    "bsize = guess_block_size(profile)\n",
    "\n",
    "# forging an attack email matching the block size\n",
    "attack_email  = \"foo@bar.com\"\n",
    "while True:\n",
    "    prof = profile.profile_for(attack_email)\n",
    "    if bytes_to_chuncks(prof,bsize)[-1]==attack_target:\n",
    "        break\n",
    "    attack_email = \"f\"+attack_email\n",
    "\n",
    "# encrypted attack email\n",
    "cipher_user = profile.encrypt(attack_email)\n",
    "\n",
    "# padding attack role to fill one block\n",
    "attack_block = pkcs7_pad(attack_role,bsize)\n",
    "\n",
    "# devoting two blocks to forged email, so that attack role (admin) will be at tbe beginning of third block\n",
    "prepend = \"email=\"\n",
    "attack_email_2 = (bsize-len(prepend))*b\"f\"+(bsize-len(attack_email))*b\"f\"+attack_email.encode()\n",
    "prof_attack = profile.profile_for( (attack_email_2+attack_block).decode() )\n",
    "\n",
    "# getting the cipher for the forged email address\n",
    "encprof_attackrole = profile.encrypt( (attack_email_2+attack_block).decode() )\n",
    "bytes_to_chuncks(encprof_attackrole,bsize)[2]\n",
    "\n",
    "# merging blocks from forged 'user' profile with block from admin attack\n",
    "encprof_attack = b\"\".join(bytes_to_chuncks(cipher_user,bsize)[:2]+[bytes_to_chuncks(encprof_attackrole,bsize)[2]] )\n",
    "\n",
    "# attack result\n",
    "profile.decrypt(encprof_attack)"
   ]
  },
  {
   "cell_type": "markdown",
   "id": "brown-interference",
   "metadata": {},
   "source": [
    "## 14. Byte-at-a-time ECB decryption (Harder)\n",
    "\n",
    "https://cryptopals.com/sets/2/challenges/14\n",
    "\n",
    "> The oracle should now \"generate a random count of random bytes and prepend this string to every plaintext\". Shall the prefix string be fixed or change at any call of the oracle? Assuming it's a salting procedure, I would say it should always be the same..."
   ]
  },
  {
   "cell_type": "code",
   "execution_count": 18,
   "id": "parliamentary-color",
   "metadata": {},
   "outputs": [],
   "source": [
    "from cryptopals import aes_ecb_decrypt, aes_ecb_encrypt\n",
    "import os\n",
    "import random\n",
    "from base64 import b64decode\n",
    "\n",
    "class oracle14:\n",
    "    def __init__(self):\n",
    "        # key\n",
    "        self.key = os.urandom(16)\n",
    "        # random prefix\n",
    "        self.prefix = os.urandom(random.randint(1,15))\n",
    "        # target\n",
    "        self.unknown = \"Um9sbGluJyBpbiBteSA1LjAKV2l0aCBteSByYWctdG9wIGRvd24gc28gbXkgaGFpciBjYW4gYmxvdwpUaGUgZ2lybGllcyBvbiBzdGFuZGJ5IHdhdmluZyBqdXN0IHRvIHNheSBoaQpEaWQgeW91IHN0b3A/IE5vLCBJIGp1c3QgZHJvdmUgYnkK\"\n",
    "        self.unknown_bin = b64decode(self.unknown)\n",
    "        self.unknown_str = self.unknown_bin.decode()\n",
    "        \n",
    "    def encrypt(self, plaintext=\"\", randomSalt=False):\n",
    "        plainb = self.prefix + plaintext.encode() + self.unknown_bin\n",
    "        return aes_ecb_encrypt(plainb,self.key)\n",
    "        \n",
    "    def decrypt(self,string):\n",
    "        return aes_ecb_decrypt(string,self.key).decode()"
   ]
  },
  {
   "cell_type": "code",
   "execution_count": 19,
   "id": "unique-satisfaction",
   "metadata": {},
   "outputs": [
    {
     "name": "stdout",
     "output_type": "stream",
     "text": [
      "Block size: 16\n"
     ]
    }
   ],
   "source": [
    "oracle = oracle14()\n",
    "bsize = guess_block_size(oracle)\n",
    "print(\"Block size:\",bsize)"
   ]
  },
  {
   "cell_type": "markdown",
   "id": "rental-likelihood",
   "metadata": {},
   "source": [
    "### Finding the prefix lenght"
   ]
  },
  {
   "cell_type": "code",
   "execution_count": 20,
   "id": "functional-consumer",
   "metadata": {},
   "outputs": [
    {
     "name": "stdout",
     "output_type": "stream",
     "text": [
      "Prefix lenght: 1\n"
     ]
    }
   ],
   "source": [
    "def find_prefix_lenght(oracle):\n",
    "    bsize = guess_block_size(oracle)\n",
    "    cipher0 = oracle.encrypt(\"\")\n",
    "    cipher1 = oracle.encrypt(\"A\")\n",
    "    blocks0 = bytes_to_chuncks(cipher0,bsize)\n",
    "    blocks1 = bytes_to_chuncks(cipher1,bsize)\n",
    "    common = sum([ 1 if b0==b1 else 0 for b0,b1 in zip(blocks0,blocks1) ])\n",
    "    i = 0\n",
    "    while True:\n",
    "        cipher0 = oracle.encrypt(i*\"A\")\n",
    "        cipher1 = oracle.encrypt((i+1)*\"A\")\n",
    "        blocks0 = bytes_to_chuncks(cipher0,bsize)\n",
    "        blocks1 = bytes_to_chuncks(cipher1,bsize)\n",
    "        sameBlock = 0 \n",
    "        for b0,b1 in zip(blocks0,blocks1):\n",
    "            if b0==b1:\n",
    "                sameBlock += 1\n",
    "        if sameBlock>common:\n",
    "            return sameBlock*bsize-i\n",
    "        i += 1\n",
    "        \n",
    "prefixlen = find_prefix_lenght(oracle)\n",
    "assert(prefixlen==len(oracle.prefix))\n",
    "print(\"Prefix lenght:\",prefixlen)"
   ]
  },
  {
   "cell_type": "markdown",
   "id": "ultimate-welsh",
   "metadata": {},
   "source": [
    "### Attack"
   ]
  },
  {
   "cell_type": "code",
   "execution_count": 21,
   "id": "decimal-shakespeare",
   "metadata": {},
   "outputs": [],
   "source": [
    "def find_plain_text_lenght_prefix(oracle):\n",
    "    bsize = guess_block_size(oracle)\n",
    "    prefixlen = find_prefix_lenght(oracle)\n",
    "    i = 0\n",
    "    cipher_0 = oracle.encrypt(\"\")\n",
    "    cipher_i = cipher_0\n",
    "    for i in range(bsize):\n",
    "        cipher_i = oracle.encrypt(i*\"A\")\n",
    "        if len(cipher_i)>len(cipher_0):\n",
    "            return len(cipher_0)-i+1-prefixlen\n",
    "\n",
    "def byte_at_a_time_ecb_decryption_prefix(oracle):\n",
    "    prefixlen = find_prefix_lenght(oracle)\n",
    "    injsize = len(oracle.encrypt(\"\"))-prefixlen\n",
    "    plaintext = \"\"\n",
    "    for k in range(injsize):\n",
    "        my_string = (injsize-1-len(plaintext))*\"A\"\n",
    "        cipher_0 = oracle.encrypt(my_string)\n",
    "        for i in range(256):\n",
    "            cipher_i = oracle.encrypt(my_string+plaintext+chr(i))\n",
    "            if cipher_0[:injsize] == cipher_i[:injsize]:\n",
    "                plaintext += chr(i)\n",
    "                break\n",
    "    return plaintext[:find_plain_text_lenght_prefix(oracle)]"
   ]
  },
  {
   "cell_type": "code",
   "execution_count": 22,
   "id": "spatial-halifax",
   "metadata": {},
   "outputs": [
    {
     "name": "stdout",
     "output_type": "stream",
     "text": [
      "Rollin' in my 5.0\n",
      "With my rag-top down so my hair can blow\n",
      "The girlies on standby waving just to say hi\n",
      "Did you stop? No, I just drove by\n",
      "\u0001\n",
      "Rollin' in my 5.0\n",
      "With my rag-top down so my hair can blow\n",
      "The girlies on standby waving just to say hi\n",
      "Did you stop? No, I just drove by\n",
      "\n"
     ]
    }
   ],
   "source": [
    "oracle = oracle14()\n",
    "plaintext14 = byte_at_a_time_ecb_decryption_prefix(oracle)\n",
    "print(plaintext14)\n",
    "print(oracle.unknown_str)"
   ]
  },
  {
   "cell_type": "markdown",
   "id": "hungry-homeless",
   "metadata": {},
   "source": [
    "## 15. PKCS#7 padding validation\n",
    "\n",
    "https://cryptopals.com/sets/2/challenges/15"
   ]
  },
  {
   "cell_type": "code",
   "execution_count": 23,
   "id": "phantom-leadership",
   "metadata": {},
   "outputs": [],
   "source": [
    "s1 = b\"ICE ICE BABY\\x04\\x04\\x04\\x04\"\n",
    "s2 = b\"ICE ICE BABY\\x05\\x05\\x05\\x05\"\n",
    "s3 = b\"ICE ICE BABY\\x01\\x02\\x03\\x04\""
   ]
  },
  {
   "cell_type": "code",
   "execution_count": 24,
   "id": "1e10b6e5-0ab9-4fbc-baf3-d0d39774f7e3",
   "metadata": {},
   "outputs": [],
   "source": [
    "class PaddingError(Exception):\n",
    "    pass\n",
    "    \n",
    "def pkcs7_strip(b: bytes) -> bytes:\n",
    "    n = b[-1]\n",
    "    if n==0 or len(b)<n or not b.endswith(bytes([n])*n): # invalid padding\n",
    "        raise PaddingError\n",
    "    else:\n",
    "        return b[:-n]"
   ]
  },
  {
   "cell_type": "code",
   "execution_count": 25,
   "id": "26bbc520-bab0-49d1-a276-e37d97b8ee47",
   "metadata": {},
   "outputs": [
    {
     "name": "stdout",
     "output_type": "stream",
     "text": [
      "Padding correct!\n"
     ]
    }
   ],
   "source": [
    "assert pkcs7_strip(b\"ICE ICE BABY\\x04\\x04\\x04\\x04\") == b'ICE ICE BABY'\n",
    "\n",
    "try:\n",
    "    pkcs7_strip(s1)\n",
    "except PaddingError:\n",
    "    print(\"Padding Error!\")\n",
    "    pass\n",
    "else:\n",
    "    print(\"Padding correct!\")"
   ]
  },
  {
   "cell_type": "code",
   "execution_count": 26,
   "id": "4dfafb39-ad1c-4788-9ae5-5af714d616e6",
   "metadata": {},
   "outputs": [
    {
     "name": "stdout",
     "output_type": "stream",
     "text": [
      "Padding Error!\n"
     ]
    }
   ],
   "source": [
    "try:\n",
    "    pkcs7_strip(s2)\n",
    "except PaddingError:\n",
    "    print(\"Padding Error!\")\n",
    "    pass\n",
    "else:\n",
    "    print(\"Padding correct!\")"
   ]
  },
  {
   "cell_type": "code",
   "execution_count": 27,
   "id": "e3ffe30a-7f5f-4ced-8c7c-ae0734af6e2c",
   "metadata": {},
   "outputs": [
    {
     "name": "stdout",
     "output_type": "stream",
     "text": [
      "Padding Error!\n"
     ]
    }
   ],
   "source": [
    "try:\n",
    "    pkcs7_strip(s3)\n",
    "except PaddingError:\n",
    "    print(\"Padding Error!\")\n",
    "    pass\n",
    "else:\n",
    "    print(\"Padding correct!\")"
   ]
  },
  {
   "cell_type": "markdown",
   "id": "d806f39c-ff09-4824-9356-776f89a44520",
   "metadata": {},
   "source": [
    "## 16. CBC bitflipping attacks\n",
    "\n",
    "https://cryptopals.com/sets/2/challenges/16"
   ]
  },
  {
   "cell_type": "code",
   "execution_count": 28,
   "id": "7909b400-efe6-4448-aacd-c5fdaeaa2c6c",
   "metadata": {},
   "outputs": [],
   "source": [
    "from Cryptodome.Cipher import AES\n",
    "from cryptopals import pkcs7_pad, pkcs7_strip, bytes_xor\n",
    "import os\n",
    "\n",
    "BLOCKSIZE = 16\n",
    "KEYSIZE = 32\n",
    "\n",
    "class profile_functions_16:\n",
    "    def __init__(self):\n",
    "        self.key = os.urandom(KEYSIZE)\n",
    "        self.iv = os.urandom(BLOCKSIZE)\n",
    "        \n",
    "    def wrap_userdata(self, data: bytes) -> bytes:\n",
    "        prefix = b\"comment1=cooking%20MCs;userdata=\"\n",
    "        suffix = b\";comment2=%20like%20a%20pound%20of%20bacon\"\n",
    "        data = data.replace(b\";\",b\"%3B\").replace(b\"=\",b\"%3D\") # The function should quote out the \";\" and \"=\" characters.\n",
    "        wrapped = prefix + data + suffix\n",
    "        aes_cbc = AES.new(self.key,AES.MODE_CBC,self.iv)\n",
    "        return aes_cbc.encrypt(pkcs7_pad(wrapped))\n",
    "    \n",
    "    def check_for_admin(self, data: bytes, quiet=False) -> bool:\n",
    "        aes_cbc = AES.new(self.key,AES.MODE_CBC,self.iv)\n",
    "        plaintext = pkcs7_strip(aes_cbc.decrypt(data))\n",
    "        if not quiet:\n",
    "            print(f\"{plaintext=}\")\n",
    "        return b\";admin=true;\" in plaintext"
   ]
  },
  {
   "cell_type": "code",
   "execution_count": 29,
   "id": "ee7c1b5d-7287-45bf-ad91-eebab5b72860",
   "metadata": {},
   "outputs": [
    {
     "name": "stdout",
     "output_type": "stream",
     "text": [
      "plaintext=b'comment1=cooking%20MCs;userdata=%3Badmin%3Dtrue%3B;comment2=%20like%20a%20pound%20of%20bacon'\n",
      "plaintext=b'comment1=cooking%20MCs;userdata=AAAAAAAAAAAAAAAAAAAAAAAAAAAAAAAA;comment2=%20like%20a%20pound%20of%20bacon'\n"
     ]
    },
    {
     "data": {
      "text/plain": [
       "False"
      ]
     },
     "execution_count": 29,
     "metadata": {},
     "output_type": "execute_result"
    }
   ],
   "source": [
    "profile = profile_functions_16()\n",
    "cipher1 = profile.wrap_userdata(b\";admin=true;\")\n",
    "cipher2= profile.wrap_userdata(b\"A\"*BLOCKSIZE*2)\n",
    "profile.check_for_admin(cipher1,False)\n",
    "profile.check_for_admin(cipher2,False)"
   ]
  },
  {
   "cell_type": "code",
   "execution_count": 30,
   "id": "6874e57c-28ec-45c2-813c-058385c71507",
   "metadata": {},
   "outputs": [],
   "source": [
    "def make_cbc_bitflipping_attack(profile) -> bytes:\n",
    "    a_block = b\"A\" * BLOCKSIZE\n",
    "    cipher = profile.wrap_userdata(2*a_block)\n",
    "    # right justify injection block with padding\n",
    "    injection = b\";admin=true\".rjust(BLOCKSIZE, b\"A\")\n",
    "    flipper = bytes_xor(a_block,injection)\n",
    "    # flipped block will be 4th block in plain text, it's then left justified to the lenght of the ciphertext\n",
    "    padded = flipper.rjust(3*BLOCKSIZE, b\"\\x00\").ljust(len(cipher), b\"\\x00\")\n",
    "    # xor with original encrypter wrapped user data\n",
    "    cipher_new = bytes_xor(cipher,padded)\n",
    "    return cipher_new"
   ]
  },
  {
   "cell_type": "code",
   "execution_count": 31,
   "id": "8d1ca765-8b6c-4cdb-9a85-018255fc0b14",
   "metadata": {},
   "outputs": [
    {
     "name": "stdout",
     "output_type": "stream",
     "text": [
      "plaintext=b'comment1=cooking%20MCs;userdata=\\x1f\\\\\\xb2\\xfbZ\\xcft\\xcc\\x0e\\x13M\\xb5\\x82@\\x92\\xd7AAAAA;admin=true;comment2=%20like%20a%20pound%20of%20bacon'\n"
     ]
    },
    {
     "data": {
      "text/plain": [
       "True"
      ]
     },
     "execution_count": 31,
     "metadata": {},
     "output_type": "execute_result"
    }
   ],
   "source": [
    "profile = profile_functions_16()\n",
    "attack_data = make_cbc_bitflipping_attack(profile)\n",
    "profile.check_for_admin(attack_data,False)"
   ]
  },
  {
   "cell_type": "code",
   "execution_count": null,
   "id": "fc6d6beb-0ccc-4b83-9bab-2cfd6650ebf1",
   "metadata": {},
   "outputs": [],
   "source": []
  }
 ],
 "metadata": {
  "kernelspec": {
   "display_name": "Python 3 (ipykernel)",
   "language": "python",
   "name": "python3"
  },
  "language_info": {
   "codemirror_mode": {
    "name": "ipython",
    "version": 3
   },
   "file_extension": ".py",
   "mimetype": "text/x-python",
   "name": "python",
   "nbconvert_exporter": "python",
   "pygments_lexer": "ipython3",
   "version": "3.12.2"
  }
 },
 "nbformat": 4,
 "nbformat_minor": 5
}
