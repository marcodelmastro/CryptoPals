{
 "cells": [
  {
   "cell_type": "markdown",
   "id": "31995c5a-2375-4753-8c0c-78171333dc9a",
   "metadata": {},
   "source": [
    "# 17. CBC padding oracle\n",
    "https://cryptopals.com/sets/3/challenges/17"
   ]
  },
  {
   "cell_type": "code",
   "execution_count": 1,
   "id": "31c0d8db-cf88-417b-b3cf-a694f379ed45",
   "metadata": {},
   "outputs": [],
   "source": [
    "from Cryptodome.Cipher import AES\n",
    "from cryptopals.utils import pkcs7_pad, pkcs7_strip, PaddingError\n",
    "import os\n",
    "import random\n",
    "\n",
    "BLOCKSIZE = AES.block_size\n",
    "KEYSIZE = 32\n",
    "\n",
    "class Challenge17:\n",
    "    def __init__(self):\n",
    "        self.strings = [\n",
    "            b\"MDAwMDAwTm93IHRoYXQgdGhlIHBhcnR5IGlzIGp1bXBpbmc=\",\n",
    "            b\"MDAwMDAxV2l0aCB0aGUgYmFzcyBraWNrZWQgaW4gYW5kIHRoZSBWZWdhJ3MgYXJlIHB1bXBpbic=\",\n",
    "            b\"MDAwMDAyUXVpY2sgdG8gdGhlIHBvaW50LCB0byB0aGUgcG9pbnQsIG5vIGZha2luZw==\",\n",
    "            b\"MDAwMDAzQ29va2luZyBNQydzIGxpa2UgYSBwb3VuZCBvZiBiYWNvbg==\",\n",
    "            b\"MDAwMDA0QnVybmluZyAnZW0sIGlmIHlvdSBhaW4ndCBxdWljayBhbmQgbmltYmxl\",\n",
    "            b\"MDAwMDA1SSBnbyBjcmF6eSB3aGVuIEkgaGVhciBhIGN5bWJhbA==\",\n",
    "            b\"MDAwMDA2QW5kIGEgaGlnaCBoYXQgd2l0aCBhIHNvdXBlZCB1cCB0ZW1wbw==\",\n",
    "            b\"MDAwMDA3SSdtIG9uIGEgcm9sbCwgaXQncyB0aW1lIHRvIGdvIHNvbG8=\",\n",
    "            b\"MDAwMDA4b2xsaW4nIGluIG15IGZpdmUgcG9pbnQgb2g=\",\n",
    "            b\"MDAwMDA5aXRoIG15IHJhZy10b3AgZG93biBzbyBteSBoYWlyIGNhbiBibG93\" \n",
    "        ]\n",
    "        self.key = os.urandom(KEYSIZE)\n",
    "\n",
    "    def get_encrypted_data(self, quiet=True) -> (bytes, bytes):\n",
    "        '''Select at random one of the 10 strings, pad the string out to the 16-byte AES block size and \n",
    "        CBC-encrypt it under the key, providing the caller the ciphertext and IV'''\n",
    "        _string = random.choice(self.strings)\n",
    "        if not quiet:\n",
    "            print(f\"{_string=}\")\n",
    "        aes_cbc = AES.new(self.key, AES.MODE_CBC) \n",
    "        cipher = aes_cbc.encrypt(pkcs7_pad(_string,BLOCKSIZE))\n",
    "        return cipher, aes_cbc.iv\n",
    "\n",
    "    def padding_valid(self, cipher: bytes, iv: bytes) -> bool:\n",
    "        '''Consume the ciphertext produced by the first function, decrypt it, check its padding, and \n",
    "        return true or false depending on whether the padding is valid.'''\n",
    "        aes_cbc = AES.new(self.key, AES.MODE_CBC, iv)\n",
    "        plaintext = aes_cbc.decrypt(cipher)\n",
    "        try:\n",
    "            pkcs7_strip(plaintext)\n",
    "        except PaddingError:\n",
    "            return False\n",
    "        else:\n",
    "            return True"
   ]
  },
  {
   "cell_type": "code",
   "execution_count": 2,
   "id": "2bf922a5-0b2a-4392-8979-124746e7178d",
   "metadata": {},
   "outputs": [
    {
     "name": "stdout",
     "output_type": "stream",
     "text": [
      "_string=b'MDAwMDA4b2xsaW4nIGluIG15IGZpdmUgcG9pbnQgb2g='\n",
      "cipher=b'\\xba\\x87\\xfd\\xc5\\xfd\\x90\\x07\\xc2\\xffr3\\xf0\\xb9\\xc2i\\xf5\\xa0$\\x18\\x99x\\x0b\\xa5u\\xdc\\x81Fhw$1\\x07e\\x9e\\xcd(\\x8e\\xfag\\xe0\\xaerECen&\\x88'\n",
      "iv=b' \\xba\\x874\\x14\\x17O1\\x87<\\xd2\\xa6\\xad\\xdc}j'\n",
      "challenge17.padding_valid(cipher, iv)=True\n"
     ]
    }
   ],
   "source": [
    "challenge17 = Challenge17()\n",
    "cipher, iv = challenge17.get_encrypted_data(quiet=False)\n",
    "print(f\"{cipher=}\")\n",
    "print(f\"{iv=}\")\n",
    "print(f\"{challenge17.padding_valid(cipher, iv)=}\")"
   ]
  },
  {
   "cell_type": "markdown",
   "id": "3901690a-bd66-457a-aec9-55e6fb1fff60",
   "metadata": {},
   "source": [
    "## Attack\n",
    "\n",
    "Excellent explanation and tutorial at: https://www.nccgroup.com/us/research-blog/cryptopals-exploiting-cbc-padding-oracles/\n",
    "\n",
    "* By making modifications to the IV, one can predictably modify the plaintext block. Flipping a bit in the IV will flip the corresponding bit in the plaintext.\n",
    "* By exploiting this properties, one can build a \"zeroing\" IV that set some (and eventually all) of the plaintext’s bytes to zero."
   ]
  },
  {
   "cell_type": "code",
   "execution_count": 3,
   "id": "3122623d-de7c-48f9-8868-2bbf9ea182f2",
   "metadata": {},
   "outputs": [],
   "source": [
    "from cryptopals.utils import bytes_xor\n",
    "\n",
    "def single_block_attack(block, oracle):\n",
    "    zeroing_iv = [0]*BLOCKSIZE # zeroing IV starts out nulled\n",
    "    for pad_value in range(1,BLOCKSIZE+1): # explore all possible padding values to fill all zeroing block\n",
    "        padding_iv = [pad_value^b for b in zeroing_iv] # xor pad_value with ziv before searching next ziv byte\n",
    "        for iv_candidate in range(256): # all possible values for IV byte\n",
    "            padding_iv[-pad_value] = iv_candidate\n",
    "            iv = bytes(padding_iv)\n",
    "            if oracle(block, iv): # padding is valid\n",
    "                # in case pad_value==1, make sure the padding really is of length 1 \n",
    "                # by changing penultimate block and querying the oracle again\n",
    "                #if pad_value == 1: \n",
    "                #    padding_iv[-2] ^= 1\n",
    "                #    iv = bytes(padding_iv)\n",
    "                #    if not oracle(block, iv):\n",
    "                #        continue  # false positive, keep searching with next pad_value\n",
    "                break # good pad_value found\n",
    "        zeroing_iv[-pad_value] = iv_candidate ^ pad_value\n",
    "    return bytes(zeroing_iv)\n",
    "\n",
    "def full_attack(iv, cipher, oracle):\n",
    "    message = iv + cipher\n",
    "    blocks = [message[i:i+BLOCKSIZE] for i in range(0, len(message), BLOCKSIZE)]\n",
    "    result = b''\n",
    "    iv = blocks[0]\n",
    "    for cipher in blocks[1:]:\n",
    "        deckey = single_block_attack(cipher,oracle)\n",
    "        plaintext = bytes_xor(deckey,iv)\n",
    "        result += plaintext\n",
    "        iv = cipher\n",
    "    return result"
   ]
  },
  {
   "cell_type": "code",
   "execution_count": 4,
   "id": "4e52fccb-db62-455a-866c-c7fb4872502c",
   "metadata": {},
   "outputs": [
    {
     "name": "stdout",
     "output_type": "stream",
     "text": [
      "cipher=b'\\xce\\xabh\"X\\xc2\\x879o\\x10\\x1e\\xfag\\xa4\\xcbaW\\x87\\xf2\\xabbM\\x9dq\\x11\\xaaN\\xfaf\\xb7\\xe9\\xfa,!\\xe4\\xccy\\x92t$u\\x07\\xe42\\xbfVB}p\\x7f\\x08~)\\xd1Q\\xbc\\x85\\xfd\\x04\\xbc\\xd5\\xbd\\xd0\\x00\\xd5\\xed\\x80\\x13xE\\x170o\\xab\\xb7\\xbe\\xb6\\x87\\x0e\\xb5'\n",
      "iv=b'o\\xcf\\x9en\\xc1r\\xc8\\x1b\\xd8\\xe4\\xb1A\\xeda<@'\n",
      "result=b'MDAwMDA0QnVybmluZyAnZW0sIGlmIHlvdSBhaW4ndCBxdWljayBhbmQgbmltYmxl\\x10\\x10\\x10\\x10\\x10\\x10\\x10\\x10\\x10\\x10\\x10\\x10\\x10\\x10\\x10\\x10'\n",
      "plaintext=b\"000004Burning 'em, if you ain't quick and nimble\"\n"
     ]
    }
   ],
   "source": [
    "from base64 import b64decode\n",
    "\n",
    "challenge17 = Challenge17()\n",
    "cipher, iv = challenge17.get_encrypted_data()\n",
    "print(f\"{cipher=}\")\n",
    "print(f\"{iv=}\")\n",
    "\n",
    "result = full_attack(iv, cipher, challenge17.padding_valid)\n",
    "print(f\"{result=}\")\n",
    "\n",
    "plaintext = b64decode(pkcs7_strip(result).decode())\n",
    "print(f\"{plaintext=}\")"
   ]
  },
  {
   "cell_type": "code",
   "execution_count": 5,
   "id": "bcba4c2c-d390-4439-8bc8-e9311de6519a",
   "metadata": {},
   "outputs": [
    {
     "name": "stdout",
     "output_type": "stream",
     "text": [
      "b'000006And a high hat with a souped up tempo'\n",
      "b'000005I go crazy when I hear a cymbal'\n",
      "b'000002Quick to the point, to the point, no faking'\n",
      "b\"000001With the bass kicked in and the Vega's are pumpin'\"\n",
      "b\"000007I'm on a roll, it's time to go solo\"\n",
      "b'000000Now that the party is jumping'\n",
      "b\"000001With the bass kicked in and the Vega's are pumpin'\"\n",
      "b\"000007I'm on a roll, it's time to go solo\"\n",
      "b\"000004Burning 'em, if you ain't quick and nimble\"\n",
      "b'000000Now that the party is jumping'\n",
      "b'000000Now that the party is jumping'\n",
      "b'000009ith my rag-top down so my hair can blow'\n",
      "b\"000001With the bass kicked in and the Vega's are pumpin'\"\n",
      "b\"000004Burning 'em, if you ain't quick and nimble\"\n",
      "b\"000004Burning 'em, if you ain't quick and nimble\"\n",
      "b'000005I go crazy when I hear a cymbal'\n",
      "b\"000007I'm on a roll, it's time to go solo\"\n",
      "b\"000003Cooking MC's like a pound of bacon\"\n",
      "b'000005I go crazy when I hear a cymbal'\n",
      "b\"000003Cooking MC's like a pound of bacon\"\n"
     ]
    }
   ],
   "source": [
    "for _ in range(20):\n",
    "    cipher, iv = challenge17.get_encrypted_data()\n",
    "    result = full_attack(iv, cipher, challenge17.padding_valid)\n",
    "    plaintext = b64decode(pkcs7_strip(result).decode())\n",
    "    print(plaintext)"
   ]
  },
  {
   "cell_type": "markdown",
   "id": "f13e03d3-f027-4a5c-9fcc-89aecc8da4ef",
   "metadata": {},
   "source": [
    "# 18. Implement CTR, the stream cipher mode\n",
    "\n",
    "https://cryptopals.com/sets/3/challenges/18\n",
    "\n",
    "https://en.wikipedia.org/wiki/Block_cipher_mode_of_operation#Counter_(CTR)"
   ]
  },
  {
   "cell_type": "code",
   "execution_count": 1,
   "id": "fa779554-f871-4d12-b039-9b546ea08568",
   "metadata": {},
   "outputs": [],
   "source": [
    "from cryptopals.utils import bytes_xor\n",
    "from Cryptodome.Cipher import AES\n",
    "import math\n",
    "\n",
    "def generate_ctr_keystream(key: bytes, nonce: int, msglen: int) -> bytes:\n",
    "    aes = AES.new(key, AES.MODE_ECB)\n",
    "    keystream = b\"\"\n",
    "    for counter in range(math.ceil(msglen/AES.block_size)): # generate for N blocks covering all message \n",
    "        to_be_encrypted = nonce.to_bytes(length=AES.block_size//2, byteorder='little') + counter.to_bytes(length=AES.block_size//2, byteorder='little')\n",
    "        keystream += aes.encrypt(to_be_encrypted)\n",
    "    return keystream[:msglen] # trim keystream to message lenght (if shorter than N blocks \n",
    "\n",
    "def aes_ctr_decode_encode(b: bytes, key: bytes, nonce: int) -> bytes:\n",
    "    return bytes_xor(b,generate_ctr_keystream(key,nonce,len(b)))"
   ]
  },
  {
   "cell_type": "code",
   "execution_count": 2,
   "id": "968f2b68-dab8-4856-b384-21708fe14f1f",
   "metadata": {},
   "outputs": [
    {
     "name": "stdout",
     "output_type": "stream",
     "text": [
      "plaintext=b\"Yo, VIP Let's kick it Ice, Ice, baby Ice, Ice, baby \"\n"
     ]
    }
   ],
   "source": [
    "from base64 import b64decode\n",
    "\n",
    "message = b\"L77na/nrFsKvynd6HzOoG7GHTLXsTVu9qvY/2syLXzhPweyyMTJULu/6/kXX0KSvoOLSFQ==\"\n",
    "key=b\"YELLOW SUBMARINE\"\n",
    "nonce=0 # \"number used once\"\n",
    "\n",
    "plaintext = aes_ctr_decode_encode(b64decode(message),key,nonce)\n",
    "print(f\"{plaintext=}\")"
   ]
  },
  {
   "cell_type": "markdown",
   "id": "8cca9e4f-d25c-4718-8ddd-b537f022f17b",
   "metadata": {},
   "source": [
    "# 19. Break fixed-nonce CTR mode using substitutions\n",
    "\n",
    "https://cryptopals.com/sets/3/challenges/19"
   ]
  },
  {
   "cell_type": "code",
   "execution_count": 3,
   "id": "1ba78f87-47aa-4acd-957e-f9ccb01485f9",
   "metadata": {},
   "outputs": [],
   "source": [
    "strings19 = [\n",
    "b\"SSBoYXZlIG1ldCB0aGVtIGF0IGNsb3NlIG9mIGRheQ==\",\n",
    "b\"Q29taW5nIHdpdGggdml2aWQgZmFjZXM=\",\n",
    "b\"RnJvbSBjb3VudGVyIG9yIGRlc2sgYW1vbmcgZ3JleQ==\",\n",
    "b\"RWlnaHRlZW50aC1jZW50dXJ5IGhvdXNlcy4=\",\n",
    "b\"SSBoYXZlIHBhc3NlZCB3aXRoIGEgbm9kIG9mIHRoZSBoZWFk\",\n",
    "b\"T3IgcG9saXRlIG1lYW5pbmdsZXNzIHdvcmRzLA==\",\n",
    "b\"T3IgaGF2ZSBsaW5nZXJlZCBhd2hpbGUgYW5kIHNhaWQ=\",\n",
    "b\"UG9saXRlIG1lYW5pbmdsZXNzIHdvcmRzLA==\",\n",
    "b\"QW5kIHRob3VnaHQgYmVmb3JlIEkgaGFkIGRvbmU=\",\n",
    "b\"T2YgYSBtb2NraW5nIHRhbGUgb3IgYSBnaWJl\",\n",
    "b\"VG8gcGxlYXNlIGEgY29tcGFuaW9u\",\n",
    "b\"QXJvdW5kIHRoZSBmaXJlIGF0IHRoZSBjbHViLA==\",\n",
    "b\"QmVpbmcgY2VydGFpbiB0aGF0IHRoZXkgYW5kIEk=\",\n",
    "b\"QnV0IGxpdmVkIHdoZXJlIG1vdGxleSBpcyB3b3JuOg==\",\n",
    "b\"QWxsIGNoYW5nZWQsIGNoYW5nZWQgdXR0ZXJseTo=\",\n",
    "b\"QSB0ZXJyaWJsZSBiZWF1dHkgaXMgYm9ybi4=\",\n",
    "b\"VGhhdCB3b21hbidzIGRheXMgd2VyZSBzcGVudA==\",\n",
    "b\"SW4gaWdub3JhbnQgZ29vZCB3aWxsLA==\",\n",
    "b\"SGVyIG5pZ2h0cyBpbiBhcmd1bWVudA==\",\n",
    "b\"VW50aWwgaGVyIHZvaWNlIGdyZXcgc2hyaWxsLg==\",\n",
    "b\"V2hhdCB2b2ljZSBtb3JlIHN3ZWV0IHRoYW4gaGVycw==\",\n",
    "b\"V2hlbiB5b3VuZyBhbmQgYmVhdXRpZnVsLA==\",\n",
    "b\"U2hlIHJvZGUgdG8gaGFycmllcnM/\",\n",
    "b\"VGhpcyBtYW4gaGFkIGtlcHQgYSBzY2hvb2w=\",\n",
    "b\"QW5kIHJvZGUgb3VyIHdpbmdlZCBob3JzZS4=\",\n",
    "b\"VGhpcyBvdGhlciBoaXMgaGVscGVyIGFuZCBmcmllbmQ=\",\n",
    "b\"V2FzIGNvbWluZyBpbnRvIGhpcyBmb3JjZTs=\",\n",
    "b\"SGUgbWlnaHQgaGF2ZSB3b24gZmFtZSBpbiB0aGUgZW5kLA==\",\n",
    "b\"U28gc2Vuc2l0aXZlIGhpcyBuYXR1cmUgc2VlbWVkLA==\",\n",
    "b\"U28gZGFyaW5nIGFuZCBzd2VldCBoaXMgdGhvdWdodC4=\",\n",
    "b\"VGhpcyBvdGhlciBtYW4gSSBoYWQgZHJlYW1lZA==\",\n",
    "b\"QSBkcnVua2VuLCB2YWluLWdsb3Jpb3VzIGxvdXQu\",\n",
    "b\"SGUgaGFkIGRvbmUgbW9zdCBiaXR0ZXIgd3Jvbmc=\",\n",
    "b\"VG8gc29tZSB3aG8gYXJlIG5lYXIgbXkgaGVhcnQs\",\n",
    "b\"WWV0IEkgbnVtYmVyIGhpbSBpbiB0aGUgc29uZzs=\",\n",
    "b\"SGUsIHRvbywgaGFzIHJlc2lnbmVkIGhpcyBwYXJ0\",\n",
    "b\"SW4gdGhlIGNhc3VhbCBjb21lZHk7\",\n",
    "b\"SGUsIHRvbywgaGFzIGJlZW4gY2hhbmdlZCBpbiBoaXMgdHVybiw=\",\n",
    "b\"VHJhbnNmb3JtZWQgdXR0ZXJseTo=\",\n",
    "b\"QSB0ZXJyaWJsZSBiZWF1dHkgaXMgYm9ybi4=\"]"
   ]
  },
  {
   "cell_type": "code",
   "execution_count": 4,
   "id": "55fe4fd1-8224-43e9-bd02-2fc3313d454a",
   "metadata": {},
   "outputs": [],
   "source": [
    "import os\n",
    "key19 = os.urandom(AES.block_size)\n",
    "nonce = 0\n",
    "ciphers19 = [ aes_ctr_decode_encode(b64decode(s),key19,nonce) for s in strings19 ]"
   ]
  },
  {
   "cell_type": "markdown",
   "id": "9bdb9b04-57d2-4da5-9091-96f26874b20d",
   "metadata": {},
   "source": [
    "## Attack\n",
    "\n",
    "> Because the CTR nonce wasn't randomized for each encryption, each ciphertext has been encrypted against the same keystream. (...) the actual \"encryption\" of a byte of data boils down to a single XOR operation\n",
    "\n",
    "I can try to reconstruct the keystream by using frequency analysis on all bytes in the same position from all 40 ciphers, using the same approach from challenge 3. One issue will be that this will work fine for the first bytes (for which I have a lot of ciphers) but fails for the last bytes of longer ciphers..."
   ]
  },
  {
   "cell_type": "code",
   "execution_count": 65,
   "id": "9c975f23-00f0-4618-98b1-5af92d49e50f",
   "metadata": {},
   "outputs": [],
   "source": [
    "freqs_initials = {\n",
    "\"A\":\t11.7,\t\n",
    "\"B\":\t4.4,\t\n",
    "\"C\":\t5.2\t, \n",
    "\"D\":\t3.2\t,\n",
    "\"E\":\t2.8\t,\n",
    "\"F\":\t4\t,\n",
    "\"G\":\t1.6\t,\n",
    "\"H\":\t4.2\t,\n",
    "\"I\":\t7.3\t,\n",
    "\"J\":\t0.51,\t\n",
    "\"K\":\t0.86,\t\n",
    "\"L\":\t2.4\t,\n",
    "\"M\":\t3.8\t,\n",
    "\"N\":\t2.3\t,\n",
    "\"O\":\t7.6\t,\n",
    "\"P\":\t4.3\t,\n",
    "\"Q\":\t0.22,\t\n",
    "\"R\":\t2.8\t,\n",
    "\"S\":\t6.7\t,\n",
    "\"T\":\t16\t,\n",
    "\"U\":\t1.2\t,\n",
    "\"V\":\t0.82,\t\n",
    "\"W\":\t5.5\t,\n",
    "\"X\":\t0.045,\t\n",
    "\"Y\":\t0.76,\t\n",
    "\"Z\":\t0.045,\n",
    "}\n",
    "\n",
    "freqs_initials = { l : f*0.01 for l,f in freqs_initials.items()} "
   ]
  },
  {
   "cell_type": "code",
   "execution_count": 66,
   "id": "9bee0d1d-7f29-4420-9fa5-f115cc84b8b8",
   "metadata": {},
   "outputs": [],
   "source": [
    "from cryptopals.utils import freqs_letters, score_text, crack_single_xor\n",
    "\n",
    "def find_ctr_keystream(ciphers):\n",
    "    maxlen = max( [len(c) for c in ciphers])\n",
    "    \n",
    "    cipcols = [ b\"\" ] * maxlen\n",
    "    for c in ciphers:\n",
    "        for i,b in enumerate(c):\n",
    "            cipcols[i] += b.to_bytes()\n",
    "    \n",
    "    keystream = b\"\"\n",
    "    for i,cc in enumerate(cipcols):\n",
    "        if i==0:\n",
    "            best_guess = crack_single_xor(cc,freqs_initials)\n",
    "        else:\n",
    "            best_guess = crack_single_xor(cc,freqs_letters)\n",
    "        keystream += best_guess[2]\n",
    "\n",
    "    return keystream"
   ]
  },
  {
   "cell_type": "code",
   "execution_count": 67,
   "id": "78d5011d-8603-464d-ad36-a37e5bee0817",
   "metadata": {},
   "outputs": [
    {
     "name": "stdout",
     "output_type": "stream",
     "text": [
      "b'i have met them at close of&,a&'\n",
      "b'coming with vivid faces'\n",
      "b'from counter or desk among a:e&'\n",
      "b'eighteenth-century houses.'\n",
      "b'i have passed with a nod of&<h:\\x80\\x08\\t\\x00\\x00'\n",
      "b'or polite meaningless words*'\n",
      "b'or have lingered awhile and&;a6\\xc4'\n",
      "b'polite meaningless words,'\n",
      "b'and thought before I had doh-'\n",
      "b'of a mocking tale or a gibe'\n",
      "b'to please a companion'\n",
      "b'around the fire at the club*'\n",
      "b'being certain that they and&\\x01'\n",
      "b'but lived where motley is wi:ne'\n",
      "b'all changed, changed utterl\\x7fr'\n",
      "b'a terrible beauty is born.'\n",
      "b\"that woman's days were spenr\"\n",
      "b'in ignorant good will,'\n",
      "b'her nights in argument'\n",
      "b'until her voice grew shrill('\n",
      "b'what voice more sweet than n-r,'\n",
      "b'when young and beautiful,'\n",
      "b'she rode to harriers?'\n",
      "b'this man had kept a school'\n",
      "b'and rode our winged horse.'\n",
      "b'this other his helper and ft!e1\\xc4'\n",
      "b'was coming into his force;'\n",
      "b'he might have won fame in tn- :\\xce\\x04@'\n",
      "b'so sensitive his nature seek-ds'\n",
      "b'so daring and sweet his thos/h+\\x8e'\n",
      "b'this other man I had dreameb'\n",
      "b'a drunken, vain-glorious los<.'\n",
      "b'he had done most bitter wroh/'\n",
      "b'to some who are near my heat<,'\n",
      "b'yet I number him in the sonas'\n",
      "b'he, too, has resigned his pg:t'\n",
      "b'in the casual comedy;'\n",
      "b'he, too, has been changed ihhh6\\xd3@\\x18\\x14\\x16\\x00\\x00'\n",
      "b'transformed utterly:'\n",
      "b'a terrible beauty is born.'\n"
     ]
    }
   ],
   "source": [
    "keystream19 = find_ctr_keystream(ciphers19)\n",
    "for c in ciphers19:\n",
    "    print(bytes_xor(c,keystream19))"
   ]
  },
  {
   "cell_type": "markdown",
   "id": "37cce096-7078-45b0-b0cc-c2079fd07580",
   "metadata": {},
   "source": [
    "### Notes\n",
    "\n",
    "* Why is the first letter lowecase (and it's uppercase in the original strings)?"
   ]
  },
  {
   "cell_type": "markdown",
   "id": "6b187dd9-f9e8-4493-aee1-1509b0b7c6a5",
   "metadata": {},
   "source": [
    "# 20. Break fixed-nonce CTR statistically\n",
    "\n",
    "https://cryptopals.com/sets/3/challenges/20\n",
    "\n",
    "> Take your collection of ciphertexts and truncate them to a common length (the length of the smallest ciphertext will work).\n",
    "\n",
    "I could do this, or I could use the approach used for challenge 19 and try to exploit the smaller stastistics also for the longer messages: in many cases I can do better!\n",
    "\n",
    "### Notes\n",
    "\n",
    "* The first character is never recovered: why?!\n",
    "    * The first character is always a letter (no space or puctuation!) so the frequency is likely different that in normal text. I tried to implement this, but it does not solve the issue (?)\n",
    "    * The fact that the first letter in Challenge 19 (solved in the same way) is always lowercase adds to the weirdness of the result... \n",
    "* Even a smaller statistics can lead to a correct single XOR crack, so no real reason not to attempt and truncate the data to the smallest ciphertext!"
   ]
  },
  {
   "cell_type": "code",
   "execution_count": 68,
   "id": "6c290d55-3004-4548-b554-383d3a8587fd",
   "metadata": {},
   "outputs": [],
   "source": [
    "key20 = os.urandom(AES.block_size)\n",
    "\n",
    "with open(\"input/20.txt\") as f:\n",
    "    strings20 = [ b64decode(l.strip()) for l in f.readlines() ]\n",
    "\n",
    "ciphers20 = [ aes_ctr_decode_encode(p,key20,nonce) for p in strings20 ]"
   ]
  },
  {
   "cell_type": "code",
   "execution_count": 69,
   "id": "364e615a-f9b7-4213-94de-c1ac5d2b8cdd",
   "metadata": {},
   "outputs": [],
   "source": [
    "minlen = min([len(c) for c in ciphers20])\n",
    "ciphers20_trunc = [c[:minlen] for c in ciphers20]\n",
    "\n",
    "#keystream20 = find_ctr_keystream(ciphers20_trunc)\n",
    "keystream20 = find_ctr_keystream(ciphers20)"
   ]
  },
  {
   "cell_type": "code",
   "execution_count": 70,
   "id": "8156de7a-2f37-4740-aaf3-2b5f95139a1f",
   "metadata": {},
   "outputs": [
    {
     "name": "stdout",
     "output_type": "stream",
     "text": [
      "Original  : I'm rated \"R\"...this is a warning, ya better void / Poets are paranoid, DJ's D-stroyed\n",
      "Recovered : n'm rated \"R\"...this is a wasning, ya better void / Poets are paranoid,!DJ's&D-stroyed\n",
      "\n",
      "Original  : Cuz I came back to attack others in spite- / Strike like lightnin', It's quite frightenin'!\n",
      "Recovered : duz I came back to attack otiers in spite- / Strike like lightnin', It'r quire frightenin' \n",
      "\n",
      "Original  : But don't be afraid in the dark, in a park / Not a scream or a cry, or a bark, more like a spark;\n",
      "Recovered : eut don't be afraid in the d`rk, in a park / Not a scream or a cry, or ` barm, more like a!pa$n\n",
      "\n",
      "Original  : Ya tremble like a alcoholic, muscles tighten up / What's that, lighten up! You see a sight but\n",
      "Recovered : ~a tremble like a alcoholic,!muscles tighten up / What's that, lighten tp! Yiu see a sight!nut\n",
      "\n",
      "Original  : Suddenly you feel like your in a horror flick / You grab your heart then wish for tomorrow quick!\n",
      "Recovered : tuddenly you feel like your hn a horror flick / You grab your heart theo wisn for tomorrow!}uin$t\n",
      "\n",
      "Original  : Music's the clue, when I come your warned / Apocalypse Now, when I'm done, ya gone!\n",
      "Recovered : jusic's the clue, when I comd your warned / Apocalypse Now, when I'm dooe, yg gone!\n",
      "\n",
      "Original  : Haven't you ever heard of a MC-murderer? / This is the death penalty,and I'm servin' a\n",
      "Recovered : oaven't you ever heard of a LC-murderer? / This is the death penalty,ane I'm&servin' a\n",
      "\n",
      "Original  : Death wish, so come on, step to this / Hysterical idea for a lyrical professionist!\n",
      "Recovered : ceath wish, so come on, step!to this / Hysterical idea for a lyrical prnfessoonist!\n",
      "\n",
      "Original  : Friday the thirteenth, walking down Elm Street / You come in my realm ya get beat!\n",
      "Recovered : ariday the thirteenth, walkiog down Elm Street / You come in my realm y` get&beat!\n",
      "\n",
      "Original  : This is off limits, so your visions are blurry / All ya see is the meters at a volume\n",
      "Recovered : shis is off limits, so your wisions are blurry / All ya see is the metess at&a volume\n",
      "\n",
      "Original  : Terror in the styles, never error-files / Indeed I'm known-your exiled!\n",
      "Recovered : serror in the styles, never drror-files / Indeed I'm known-your exiled!\n",
      "\n",
      "Original  : For those that oppose to be level or next to this / I ain't a devil and this ain't the Exorcist!\n",
      "Recovered : aor those that oppose to be mevel or next to this / I ain't a devil and!this&ain't the Exosoisyn\n",
      "\n",
      "Original  : Worse than a nightmare, you don't have to sleep a wink / The pain's a migraine every time ya think\n",
      "Recovered : porse than a nightmare, you eon't have to sleep a wink / The pain's a mhgraihe every time xm te&;e\n",
      "\n",
      "Original  : Flashbacks interfere, ya start to hear: / The R-A-K-I-M in your ear;\n",
      "Recovered : alashbacks interfere, ya stast to hear: / The R-A-K-I-M in your ear;\n",
      "\n",
      "Original  : Then the beat is hysterical / That makes Eric go get a ax and chops the wack\n",
      "Recovered : shen the beat is hysterical . That makes Eric go get a ax and chops the!wack\n",
      "\n",
      "Original  : Soon the lyrical format is superior / Faces of death remain\n",
      "Recovered : toon the lyrical format is stperior / Faces of death remain\n",
      "\n",
      "Original  : MC's decaying, cuz they never stayed / The scene of a crime every night at the show\n",
      "Recovered : jC's decaying, cuz they neves stayed / The scene of a crime every night!at tne show\n",
      "\n",
      "Original  : The fiend of a rhyme on the mic that you know / It's only one capable, breaks-the unbreakable\n",
      "Recovered : she fiend of a rhyme on the lic that you know / It's only one capable, creaku-the unbreakac`e\n",
      "\n",
      "Original  : Melodies-unmakable, pattern-unescapable / A horn if want the style I posses\n",
      "Recovered : jelodies-unmakable, pattern-tnescapable / A horn if want the style I porses\n",
      "\n",
      "Original  : I bless the child, the earth, the gods and bomb the rest / For those that envy a MC it can be\n",
      "Recovered : n bless the child, the earth- the gods and bomb the rest / For those th`t enpy a MC it can!ne\n",
      "\n",
      "Original  : Hazardous to your health so be friendly / A matter of life and death, just like a etch-a-sketch\n",
      "Recovered : oazardous to your health so ce friendly / A matter of life and death, jtst loke a etch-a-sjitce\n",
      "\n",
      "Original  : Shake 'till your clear, make it disappear, make the next / After the ceremony, let the rhyme rest in peace\n",
      "Recovered : thake 'till your clear, make!it disappear, make the next / After the cesemon, let the rhyli rh<!.,\u0000@\u0000 \u0000&\u0000\n",
      "\n",
      "Original  : If not, my soul'll release! / The scene is recreated, reincarnated, updated, I'm glad you made it\n",
      "Recovered : nf not, my soul'll release! . The scene is recreated, reincarnated, upd`ted,&I'm glad you lmde-&!\n",
      "\n",
      "Original  : Cuz your about to see a disastrous sight / A performance never again performed on a mic:\n",
      "Recovered : duz your about to see a disartrous sight / A performance never again pesformcd on a mic:\n",
      "\n",
      "Original  : Lyrics of fury! A fearified freestyle! / The \"R\" is in the house-too much tension!\n",
      "Recovered : kyrics of fury! A fearified greestyle! / The \"R\" is in the house-too mubh tehsion!\n",
      "\n",
      "Original  : Make sure the system's loud when I mention / Phrases that's fearsome\n",
      "Recovered : jake sure the system's loud vhen I mention / Phrases that's fearsome\n",
      "\n",
      "Original  : You want to hear some sounds that not only pounds but please your eardrums; / I sit back and observe the whole scenery\n",
      "Recovered : ~ou want to hear some sounds!that not only pounds but please your eardrtms; ) I sit back aoh oo<0|3\u000b",
      "@\u0004-\u0004e\u0000\u0000\u0000\u0000\u0000\u0000\u0000\u0000\u0000\u0000\u0000\n",
      "\n",
      "Original  : Then nonchalantly tell you what it mean to me / Strictly business I'm quickly in this mood\n",
      "Recovered : shen nonchalantly tell you wiat it mean to me / Strictly business I'm qtickl in this mood\n",
      "\n",
      "Original  : And I don't care if the whole crowd's a witness! / I'm a tear you apart but I'm a spare you a heart\n",
      "Recovered : fnd I don't care if the whold crowd's a witness! / I'm a tear you apart!but O'm a spare yot,a e*4|1\n",
      "\n",
      "Original  : Program into the speed of the rhyme, prepare to start / Rhythm's out of the radius, insane as the craziest\n",
      "Recovered : wrogram into the speed of thd rhyme, prepare to start / Rhythm's out of!the tadius, insane!ms y'0.&\u001c",
      "\u0001\n",
      ",\u00046\u0011\n",
      "\n",
      "Original  : Musical madness MC ever made, see it's / Now an emergency, open-heart surgery\n",
      "Recovered : jusical madness MC ever made- see it's / Now an emergency, open-heart strger\n",
      "\n",
      "Original  : Open your mind, you will find every word'll be / Furier than ever, I remain the furture\n",
      "Recovered : hpen your mind, you will fine every word'll be / Furier than ever, I relain rhe furture\n",
      "\n",
      "Original  : Battle's tempting...whatever suits ya! / For words the sentence, there's no resemblance\n",
      "Recovered : eattle's tempting...whatever!suits ya! / For words the sentence, there'r no tesemblance\n",
      "\n",
      "Original  : You think you're ruffer, then suffer the consequences! / I'm never dying-terrifying results\n",
      "Recovered : ~ou think you're ruffer, theo suffer the consequences! / I'm never dyinf-tertifying resultr\n",
      "\n",
      "Original  : I wake ya with hundreds of thousands of volts / Mic-to-mouth resuscitation, rhythm with radiation\n",
      "Recovered : n wake ya with hundreds of tiousands of volts / Mic-to-mouth resuscitathon, thythm with raeeatd ;\n",
      "\n",
      "Original  : Novocain ease the pain it might save him / If not, Eric B.'s the judge, the crowd's the jury\n",
      "Recovered : iovocain ease the pain it mifht save him / If not, Eric B.'s the judge,!the erowd's the jusu\n",
      "\n",
      "Original  : Yo Rakim, what's up? / Yo, I'm doing the knowledge, E., man I'm trying to get paid in full\n",
      "Recovered : ~o Rakim, what's up? / Yo, I&m doing the knowledge, E., man I'm trying uo ger paid in full\n",
      "\n",
      "Original  : Well, check this out, since Norby Walters is our agency, right? / True\n",
      "Recovered : pell, check this out, since Oorby Walters is our agency, right? / True\n",
      "\n",
      "Original  : Kara Lewis is our agent, word up / Zakia and 4th and Broadway is our record company, indeed\n",
      "Recovered : lara Lewis is our agent, wore up / Zakia and 4th and Broadway is our rebord eompany, indeee\n",
      "\n",
      "Original  : Okay, so who we rollin' with then? We rollin' with Rush / Of Rushtown Management\n",
      "Recovered : hkay, so who we rollin' with!then? We rollin' with Rush / Of Rushtown M`nagekent\n",
      "\n",
      "Original  : Check this out, since we talking over / This def beat right here that I put together\n",
      "Recovered : dheck this out, since we taljing over / This def beat right here that I!put rogether\n",
      "\n",
      "Original  : I wanna hear some of them def rhymes, you know what I'm sayin'? / And together, we can get paid in full\n",
      "Recovered : n wanna hear some of them deg rhymes, you know what I'm sayin'? / And tngethcr, we can get!|aiio<`\u0015\u001c",
      ")\n",
      "\n",
      "Original  : Thinkin' of a master plan / 'Cuz ain't nuthin' but sweat inside my hand\n",
      "Recovered : shinkin' of a master plan / &Cuz ain't nuthin' but sweat inside my hand\n",
      "\n",
      "Original  : So I dig into my pocket, all my money is spent / So I dig deeper but still comin' up with lint\n",
      "Recovered : to I dig into my pocket, all!my money is spent / So I dig deeper but sthll cimin' up with ment\n",
      "\n",
      "Original  : So I start my mission, leave my residence / Thinkin' how could I get some dead presidents\n",
      "Recovered : to I start my mission, leave!my residence / Thinkin' how could I get sole degd presidents\n",
      "\n",
      "Original  : I need money, I used to be a stick-up kid / So I think of all the devious things I did\n",
      "Recovered : n need money, I used to be a!stick-up kid / So I think of all the deviots thongs I did\n",
      "\n",
      "Original  : I used to roll up, this is a hold up, ain't nuthin' funny / Stop smiling, be still, don't nuthin' move but the money\n",
      "Recovered : n used to roll up, this is a!hold up, ain't nuthin' funny / Stop smilinf, be&still, don't oythd!r.(\u0001\u0016\u0015e\u00030\u0011@\u001b\u0004\u0000\u0000\u001e",
      "\f",
      "\u000b",
      "\u000b",
      "\u001c",
      "\n",
      "\n",
      "Original  : But now I learned to earn 'cuz I'm righteous / I feel great, so maybe I might just\n",
      "Recovered : eut now I learned to earn 'ctz I'm righteous / I feel great, so maybe I!mighr just\n",
      "\n",
      "Original  : Search for a nine to five, if I strive / Then maybe I'll stay alive\n",
      "Recovered : tearch for a nine to five, ig I strive / Then maybe I'll stay alive\n",
      "\n",
      "Original  : So I walk up the street whistlin' this / Feelin' out of place 'cuz, man, do I miss\n",
      "Recovered : to I walk up the street whisulin' this / Feelin' out of place 'cuz, man- do O miss\n",
      "\n",
      "Original  : A pen and a paper, a stereo, a tape of / Me and Eric B, and a nice big plate of\n",
      "Recovered : f pen and a paper, a stereo,!a tape of / Me and Eric B, and a nice big qlate&of\n",
      "\n",
      "Original  : Fish, which is my favorite dish / But without no money it's still a wish\n",
      "Recovered : aish, which is my favorite dhsh / But without no money it's still a wisi\n",
      "\n",
      "Original  : 'Cuz I don't like to dream about gettin' paid / So I dig into the books of the rhymes that I made\n",
      "Recovered : \u0000Cuz I don't like to dream acout gettin' paid / So I dig into the books!of tne rhymes that!E ml+0\n",
      "\n",
      "Original  : So now to test to see if I got pull / Hit the studio, 'cuz I'm paid in full\n",
      "Recovered : to now to test to see if I gnt pull / Hit the studio, 'cuz I'm paid in gull\n",
      "\n",
      "Original  : Rakim, check this out, yo / You go to your girl house and I'll go to mine\n",
      "Recovered : uakim, check this out, yo / Xou go to your girl house and I'll go to mioe\n",
      "\n",
      "Original  : 'Cause my girl is definitely mad / 'Cause it took us too long to do this album\n",
      "Recovered : \u0000Cause my girl is definitely!mad / 'Cause it took us too long to do thir albsm\n",
      "\n",
      "Original  : Yo, I hear what you're saying / So let's just pump the music up\n",
      "Recovered : ~o, I hear what you're sayinf / So let's just pump the music up\n",
      "\n",
      "Original  : And count our money / Yo, well check this out, yo Eli\n",
      "Recovered : fnd count our money / Yo, weml check this out, yo Eli\n",
      "\n",
      "Original  : Turn down the bass down / And let the beat just keep on rockin'\n",
      "Recovered : surn down the bass down / Ane let the beat just keep on rockin'\n",
      "\n",
      "Original  : And we outta here / Yo, what happened to peace? / Peace\n",
      "Recovered : fnd we outta here / Yo, what!happened to peace? / Peace\n",
      "\n"
     ]
    }
   ],
   "source": [
    "plaintext20 = [ bytes_xor(c,keystream20) for c in ciphers20] \n",
    "\n",
    "for p,s in zip(plaintext20,strings20):\n",
    "    print(f\"Original  : {s.decode()}\")\n",
    "    print(f\"Recovered : {p.decode()}\")\n",
    "    print()"
   ]
  },
  {
   "cell_type": "markdown",
   "id": "73dd9157-776e-4058-89ec-983fa0fc723d",
   "metadata": {},
   "source": [
    "# 21. Implement the MT19937 Mersenne Twister RNG\n",
    "\n",
    "https://cryptopals.com/sets/3/challenges/21\n",
    "\n",
    "https://en.wikipedia.org/wiki/Mersenne_Twister"
   ]
  },
  {
   "cell_type": "code",
   "execution_count": 1,
   "id": "80f3f262-071f-43a3-9855-7610e3de5b29",
   "metadata": {},
   "outputs": [],
   "source": [
    "class MT19937:\n",
    "\n",
    "    # Coefficients for MT19937\n",
    "    (w, n, m, r) = (32, 624, 397, 31)\n",
    "    a = 0x9908B0DF\n",
    "    (u, d) = (11, 0xFFFFFFFF)\n",
    "    (s, b) = (7, 0x9D2C5680)\n",
    "    (t, c) = (15, 0xEFC60000)\n",
    "    l = 18\n",
    "    f = 1812433253\n",
    "\n",
    "    UMASK = 0xFFFFFFFF & (0xFFFFFFFF << r)       # Limit to 32 bits\n",
    "    LMASK = 0xFFFFFFFF & (0xFFFFFFFF >> (w - r)) # Limit to 32 bits\n",
    "\n",
    "    def __init__(self, seed: int = 19650218):\n",
    "        self.state_array = [0] * self.n  # Array for the state vector\n",
    "        self.state_index = 0            # Index into state vector array, 0 <= state_index <= n-1\n",
    "        self.initialize_state(seed)\n",
    "        self.seed = seed\n",
    "\n",
    "    def initialize_state(self, seed: int = 19650218):\n",
    "        self.state_array[0] = seed & 0xFFFFFFFF  # Limit to 32 bits\n",
    "        for i in range(1, self.n):\n",
    "            seed = (self.f * (seed ^ (seed >> (self.w - 2))) + i) & 0xFFFFFFFF # Limit to 32 bits\n",
    "            self.state_array[i] = seed\n",
    "        self.state_index = 0\n",
    "\n",
    "    def random(self):\n",
    "        k = self.state_index               # Current state location\n",
    "        j = (k - (self.n - 1)) % self.n    # n-1 iterations before\n",
    "\n",
    "        x = (self.state_array[k] & self.UMASK) | (self.state_array[j] & self.LMASK)\n",
    "        xA = x >> 1\n",
    "        if x & 0x00000001:\n",
    "            xA ^= self.a\n",
    "\n",
    "        j = (k - (self.n - self.m)) % self.n  # n-m iterations before\n",
    "        x = self.state_array[j] ^ xA          # Compute next value in the state\n",
    "\n",
    "        self.state_array[k] = x & 0xFFFFFFFF  # Limit to 32 bits\n",
    "        k = (k + 1) % self.n                  # Circular indexing\n",
    "        self.state_index = k\n",
    "\n",
    "        # Tempering\n",
    "        y = x ^ (x >> self.u)\n",
    "        y = y ^ ((y << self.s) & self.b)\n",
    "        y = y ^ ((y << self.t) & self.c)\n",
    "        z = y ^ (y >> self.l)\n",
    "        return z & 0xFFFFFFFF  # Return 32-bit integer"
   ]
  },
  {
   "cell_type": "code",
   "execution_count": 2,
   "id": "bf309f93-b8a0-46a3-be33-0b7aee79b849",
   "metadata": {},
   "outputs": [
    {
     "name": "stdout",
     "output_type": "stream",
     "text": [
      "2325592414\n",
      "482149846\n",
      "4177211283\n",
      "3872387439\n",
      "1663027210\n",
      "2005191859\n",
      "666881213\n",
      "3289399202\n",
      "2514534568\n",
      "3882134983\n"
     ]
    }
   ],
   "source": [
    "mt_random = MT19937()\n",
    "\n",
    "for _ in range(10):\n",
    "    print(mt_random.random())"
   ]
  },
  {
   "cell_type": "markdown",
   "id": "2122ea67-d646-466b-a79f-4ea13e3967f8",
   "metadata": {},
   "source": [
    "# 22. Crack an MT19937 seed\n",
    "\n",
    "https://cryptopals.com/sets/3/challenges/22"
   ]
  },
  {
   "cell_type": "code",
   "execution_count": 3,
   "id": "0e297c4a-1e42-466f-b53f-387dc659eb72",
   "metadata": {},
   "outputs": [],
   "source": [
    "import time\n",
    "import random\n",
    "\n",
    "def get_MT19937_int32(reallywait=True,tmin=40,tmax=1000):\n",
    "    '''\n",
    "    Wait a random number of seconds between 40 and 1000\n",
    "    Seeds the RNG with the current Unix timestamp\n",
    "    Waits a random number of seconds again.\n",
    "    Returns the first 32 bit output of the RNG.\n",
    "    '''\n",
    "    sleep1 = random.uniform(tmin,tmax)\n",
    "    sleep2 = random.uniform(tmin,tmax)\n",
    "    print(f\"Waiting {sleep1:2.2f} seconds...\")\n",
    "    if reallywait:\n",
    "        time.sleep(sleep1)\n",
    "        seed = int(time.time())\n",
    "    else:\n",
    "        seed = int(time.time()-sleep1-sleep2)\n",
    "    print(f\"Seedind MT19937 with current Unix time ({seed})...\")\n",
    "    mt_random = MT19937(seed)\n",
    "    print(f\"Waiting {sleep2:2.2f} seconds...\")\n",
    "    if reallywait:\n",
    "        time.sleep(sleep2)\n",
    "    rnd32 = mt_random.random()\n",
    "    print(f\"Serving random number {rnd32}\")\n",
    "    return rnd32\n",
    "\n",
    "def crack_MT19937_seed(rnd32):\n",
    "    print(\"Attempting to guess MT19937 seed...\")\n",
    "    now = int(time.time())+1\n",
    "    while True:\n",
    "        mt_random = MT19937(now)\n",
    "        _rnd = mt_random.random()\n",
    "        if rnd32==_rnd:\n",
    "            print(f\"Guessed seed: {now}\")\n",
    "            return now\n",
    "        # go back in time\n",
    "        now -= 1"
   ]
  },
  {
   "cell_type": "code",
   "execution_count": 4,
   "id": "51903afe-4328-4d7e-9cba-9754f7017927",
   "metadata": {},
   "outputs": [
    {
     "name": "stdout",
     "output_type": "stream",
     "text": [
      "Waiting 666.76 seconds...\n",
      "Seedind MT19937 with current Unix time (1736774352)...\n",
      "Waiting 200.56 seconds...\n",
      "Serving random number 2527403948\n",
      "\n",
      "Attempting to guess MT19937 seed...\n",
      "Guessed seed: 1736774352\n"
     ]
    },
    {
     "data": {
      "text/plain": [
       "1736774352"
      ]
     },
     "execution_count": 4,
     "metadata": {},
     "output_type": "execute_result"
    }
   ],
   "source": [
    "rnd32 = get_MT19937_int32(False)\n",
    "print()\n",
    "crack_MT19937_seed(rnd32)"
   ]
  },
  {
   "cell_type": "code",
   "execution_count": 5,
   "id": "12bdda7e-b8e2-4856-b390-0fb613fd00b1",
   "metadata": {},
   "outputs": [
    {
     "name": "stdout",
     "output_type": "stream",
     "text": [
      "Waiting 41.39 seconds...\n",
      "Seedind MT19937 with current Unix time (1736775261)...\n",
      "Waiting 63.92 seconds...\n",
      "Serving random number 2243879853\n",
      "\n",
      "Attempting to guess MT19937 seed...\n",
      "Guessed seed: 1736775261\n"
     ]
    },
    {
     "data": {
      "text/plain": [
       "1736775261"
      ]
     },
     "execution_count": 5,
     "metadata": {},
     "output_type": "execute_result"
    }
   ],
   "source": [
    "rnd32 = get_MT19937_int32(True,40,100)\n",
    "print()\n",
    "crack_MT19937_seed(rnd32)"
   ]
  },
  {
   "cell_type": "markdown",
   "id": "6d530716-735d-47b0-a6cc-0c56bba3b27a",
   "metadata": {},
   "source": [
    "# 23. Clone an MT19937 RNG from its output\n",
    "\n",
    "https://cryptopals.com/sets/3/challenges/23\n",
    "\n",
    "### XOR inverting\n",
    "\n",
    "Inverting Left-Shift AND XOR (e.g. `y = y ^ ((y << t) & c))`:\n",
    "\n",
    "This operation involves left-shifting $y$ by $t$ bits, ANDing it with $c$, and XORing it with $y$. To invert it:\n",
    "\n",
    "* Start with the given $z$.\n",
    "\n",
    "* Begin with the least significant bits (LSBs), since these are not affected by the left shift.\n",
    "\n",
    "* Gradually determine higher-order bits, propagating information from lower-order bits.\n",
    "The loop `for _ in range(32): y = y ^ ((y << t) & c)` ensures the dependencies from lower to higher bits are fully resolved."
   ]
  },
  {
   "cell_type": "code",
   "execution_count": 6,
   "id": "52f554f9-9554-4247-9c26-664c907b5c6b",
   "metadata": {},
   "outputs": [],
   "source": [
    "def temper(x, u, s, b, t, c, l):\n",
    "    \"\"\"\n",
    "    Applies the tempering process to the input value x.\n",
    "    \n",
    "    Parameters:\n",
    "    - x: The input value to be tempered.\n",
    "    - u, s, t, l: Shift parameters for the tempering steps.\n",
    "    - b, c: Masks used in the tempering steps.\n",
    "    \n",
    "    Returns:\n",
    "    - The tempered 32-bit integer value.\n",
    "    \"\"\"\n",
    "    y = x ^ (x >> u)               # Step 1: XOR with right shift\n",
    "    y = y ^ ((y << s) & b)         # Step 2: XOR with left shift and mask b\n",
    "    y = y ^ ((y << t) & c)         # Step 3: XOR with left shift and mask c\n",
    "    z = y ^ (y >> l)               # Step 4: XOR with right shift\n",
    "    return z & 0xFFFFFFFF          # Ensure 32-bit integer output\n",
    "\n",
    "def invert_xor_shift(value, shift, mask, direction):\n",
    "    \"\"\"\n",
    "    Inverts an XOR combined with a bitwise shift operation.\n",
    "    \n",
    "    Parameters:\n",
    "    - value: The output value from the tempering step to invert.\n",
    "    - shift: The number of bits to shift.\n",
    "    - mask: The mask applied in the original operation (use 0 for no masking).\n",
    "    - direction: The direction of the shift, either 'left' or 'right'.\n",
    "    \n",
    "    Returns:\n",
    "    - The inverted value.\n",
    "    \"\"\"\n",
    "    result = value\n",
    "    for _ in range(32):  # Iteratively resolve dependencies for all bits\n",
    "        if direction == 'right':\n",
    "            result = value ^ (result >> shift)\n",
    "        elif direction == 'left':\n",
    "            result = value ^ ((result << shift) & mask)\n",
    "    return result\n",
    "\n",
    "def inverse_temper(z, u, s, b, t, c, l):\n",
    "    \"\"\"\n",
    "    Inverts the tempering function to recover the original value x from z.\n",
    "    \n",
    "    Parameters:\n",
    "    - z: The tempered output value.\n",
    "    - u, s, t, l: Shift parameters from the tempering function.\n",
    "    - b, c: Masks used in the tempering function.\n",
    "    \n",
    "    Returns:\n",
    "    - The original input value x.\n",
    "    \"\"\"\n",
    "    # Step 1: Invert the final XOR with a right shift\n",
    "    y = invert_xor_shift(z, l, 0, 'right')\n",
    "    \n",
    "    # Step 2: Invert the XOR with a left shift and mask c\n",
    "    y = invert_xor_shift(y, t, c, 'left')\n",
    "    \n",
    "    # Step 3: Invert the XOR with a left shift and mask b\n",
    "    y = invert_xor_shift(y, s, b, 'left')\n",
    "    \n",
    "    # Step 4: Invert the initial XOR with a right shift\n",
    "    x = invert_xor_shift(y, u, 0, 'right')\n",
    "    \n",
    "    return x & 0xFFFFFFFF  # Ensure 32-bit integer output"
   ]
  },
  {
   "cell_type": "code",
   "execution_count": 7,
   "id": "fa50d156-80c9-4ca7-b6ba-724991aff1f5",
   "metadata": {},
   "outputs": [
    {
     "name": "stdout",
     "output_type": "stream",
     "text": [
      "2934351 2934351\n"
     ]
    }
   ],
   "source": [
    "# Coefficients for MT19937\n",
    "(w, n, m, r) = (32, 624, 397, 31)\n",
    "a = 0x9908B0DF\n",
    "(u, d) = (11, 0xFFFFFFFF)\n",
    "(s, b) = (7, 0x9D2C5680)\n",
    "(t, c) = (15, 0xEFC60000)\n",
    "l = 18\n",
    "f = 1812433253\n",
    "\n",
    "x = 2934351\n",
    "z = temper(x, u, s, b, t, c, l)\n",
    "x1 = inverse_temper(z, u, s, b, t, c, l)\n",
    "print(x,x1)"
   ]
  },
  {
   "cell_type": "code",
   "execution_count": 8,
   "id": "294421e8-0175-44a8-9386-66fd8f33dadc",
   "metadata": {},
   "outputs": [],
   "source": [
    "# Initialize target MT19937 generator.\n",
    "# Use random seed (time, even if time should not be used ;-) )\n",
    "\n",
    "import time\n",
    "seed = int(time.time())\n",
    "mt_random = MT19937(seed)\n",
    "\n",
    "# let generator run for a while...\n",
    "import random\n",
    "for _ in range(int(random.uniform(1,1000))):\n",
    "    _ = mt_random.random()"
   ]
  },
  {
   "cell_type": "code",
   "execution_count": 9,
   "id": "d9efa48a-1d4f-4dfe-9999-b3a0058fb9b6",
   "metadata": {},
   "outputs": [
    {
     "name": "stdout",
     "output_type": "stream",
     "text": [
      "SEED T = 1736775325  SEED C =          0\n",
      "========================================\n",
      "Target = 3854118812   Clone = 3854118812\n",
      "Target =  380392037   Clone =  380392037\n",
      "Target = 2839737078   Clone = 2839737078\n",
      "Target = 1038171841   Clone = 1038171841\n",
      "Target = 4053706524   Clone = 4053706524\n",
      "Target =  945699746   Clone =  945699746\n",
      "Target = 2665857380   Clone = 2665857380\n",
      "Target =  166914768   Clone =  166914768\n",
      "Target =  672230279   Clone =  672230279\n",
      "Target =  727876151   Clone =  727876151\n"
     ]
    }
   ],
   "source": [
    "# listen for next 624 random numbers, invert them, store results in state array \n",
    "state_array = [ inverse_temper(mt_random.random(), u, s, b, t, c, l) for _ in range(n) ] # n = 624, size of state_array\n",
    "\n",
    "# create clone generator, use seed=0 to guarantee it'd be different from target one\n",
    "# align to target uinsg state array\n",
    "mt_random_clone = MT19937(seed=0)\n",
    "mt_random_clone.state_array = state_array\n",
    "\n",
    "# check generators are aligned\n",
    "print(f\"SEED T = {mt_random.seed:10}  SEED C = {mt_random_clone.seed:10}\")\n",
    "print(\"=\"*40)\n",
    "for _ in range(10):\n",
    "    print(f\"Target = {mt_random.random():10}   Clone = {mt_random_clone.random():10}\")"
   ]
  },
  {
   "cell_type": "code",
   "execution_count": 10,
   "id": "ca2a12a8-6acd-46e2-8a33-e00e49c54a9e",
   "metadata": {},
   "outputs": [
    {
     "name": "stdout",
     "output_type": "stream",
     "text": [
      "Target = 1028434106   Clone = 1028434106\n",
      "Target = 2806997165   Clone = 2806997165\n",
      "Target = 2716032945   Clone = 2716032945\n",
      "Target =  841160340   Clone =  841160340\n",
      "Target = 2405049579   Clone = 2405049579\n",
      "Target = 1117596065   Clone = 1117596065\n",
      "Target = 1429809184   Clone = 1429809184\n",
      "Target = 2725643703   Clone = 2725643703\n",
      "Target = 4200412251   Clone = 4200412251\n",
      "Target = 2644740582   Clone = 2644740582\n"
     ]
    }
   ],
   "source": [
    "# numpy has a MT implementation, it can be cloned with the same technique\n",
    "\n",
    "import numpy as np\n",
    "\n",
    "mt_np = np.random.MT19937()\n",
    "\n",
    "state_array_np = [ inverse_temper(mt_np.random_raw(), u, s, b, t, c, l) for _ in range(n) ] # n = 624, size of state_array\n",
    "mt_random_clone_np = MT19937(seed=123456789)\n",
    "mt_random_clone_np.state_array = state_array_np\n",
    "\n",
    "for _ in range(10):\n",
    "    print(f\"Target = {mt_np.random_raw():10}   Clone = {mt_random_clone_np.random():10}\")"
   ]
  },
  {
   "cell_type": "markdown",
   "id": "02643c3e-a73b-48cf-bfd9-556c8af0267f",
   "metadata": {},
   "source": [
    "### Discussion\n",
    "\n",
    "> How would you modify MT19937 to make this attack hard? What would happen if you subjected each tempered output to a cryptographic hash?\n",
    "\n",
    "Some ideas:\n",
    "\n",
    "**Adding a Cryptographic Hash to Outputs**\n",
    "\n",
    "By applying a cryptographic hash (like SHA-256 or SHA-3) to each tempered output, one effectively obscures the relationship between the internal state and the output. The cryptographic hash is designed to be one-way, so it becomes computationally infeasible for an attacker to reverse the hash and recover $z$.\n",
    "\n",
    "**Introduce a Mixing Layer**\n",
    "\n",
    "After generating the random output $z$, one could pass it through a mixing layer that makes inversion infeasible. For example:\n",
    "\n",
    "- Use a keyed cryptographic function like AES:\n",
    "  $\\text{output} = \\text{AES}_{\\text{key}}(z)$\n",
    "  Without the key, the attacker cannot reverse the output back to \\( z \\).\n",
    "\n",
    "- Combine multiple outputs before releasing them:\n",
    "  $\n",
    "  \\text{output} = (z_1 \\oplus z_2) \\oplus z_3\n",
    "  $\n",
    "  This adds complexity to the recovery process.\n",
    "\n",
    "**Periodic State Reseeding**\n",
    "\n",
    "- Periodically reseed the RNG state with entropy from a secure source (e.g., hardware RNG).\n",
    "- Even if an attacker partially recovers the state, the reseeding process disrupts their ability to predict future outputs."
   ]
  },
  {
   "cell_type": "markdown",
   "id": "a533036e-8c1b-4780-9b11-00cdfde53bfc",
   "metadata": {},
   "source": [
    "# 24. Create the MT19937 stream cipher and break it\n",
    "\n",
    "https://cryptopals.com/sets/3/challenges/24\n",
    "\n",
    "> Use MT19937 with a 16-bit seed to generate a sequence of 8 bit outputs. Use those outputs as a keystream: XOR each byte of plaintext with each successive byte of keystream. This code should look similar to your CTR code.\n",
    "\n",
    "> From the ciphertext, recover the \"key\" (the 16 bit seed). Use the same idea to generate a random \"password reset token\" using MT19937 seeded from the current time.\n",
    "\n",
    "Since the seed phase space is relativelty small ($2^16$) it can easily be brute-forced if plaintext and cipher are known."
   ]
  },
  {
   "cell_type": "code",
   "execution_count": 11,
   "id": "5d3ae7ea-195f-4891-b0ef-387006f49f50",
   "metadata": {},
   "outputs": [],
   "source": [
    "from cryptopals.random import MT19937\n",
    "from cryptopals.utils import bytes_xor\n",
    "import math\n",
    "\n",
    "def convert_int32_4int8(n: int) -> list:\n",
    "    '''convert 32-bit integer in list of 4 8-bit integers'''\n",
    "    return [int(i) for i in n.to_bytes(4)]\n",
    "\n",
    "def generate_MT19937_keystream(seed: int, msglen: int) -> bytes:\n",
    "    mt_random = MT19937(seed)\n",
    "    keystream = b\"\"\n",
    "    for _ in range(math.ceil(msglen/4)):\n",
    "        for i in convert_int32_4int8(mt_random.random()):\n",
    "            keystream += i.to_bytes()\n",
    "    return keystream[:msglen]\n",
    "\n",
    "def MT19937_stream_decode_encode(b: bytes, seed: int) -> bytes:\n",
    "    return bytes_xor(b,generate_MT19937_keystream(seed,len(b)))"
   ]
  },
  {
   "cell_type": "code",
   "execution_count": 12,
   "id": "aa91fcd5-49e1-460b-9dd4-cebd9d9b8231",
   "metadata": {},
   "outputs": [
    {
     "name": "stdout",
     "output_type": "stream",
     "text": [
      "b'This is a secret message'\n"
     ]
    }
   ],
   "source": [
    "import random\n",
    "\n",
    "seed = random.getrandbits(16) # 16-bit seed\n",
    "\n",
    "plaintext = b\"This is a secret message\"\n",
    "\n",
    "cipher = MT19937_stream_decode_encode(plaintext, seed)\n",
    "plaintext = MT19937_stream_decode_encode(cipher, seed)\n",
    "\n",
    "print(plaintext)"
   ]
  },
  {
   "cell_type": "code",
   "execution_count": 13,
   "id": "b6f959d6-613d-4dcc-b0c7-cf0156e9a456",
   "metadata": {},
   "outputs": [],
   "source": [
    "def recover_seed_cipher_plain(cipher: bytes, plaintext: bytes) -> int:\n",
    "    for seed_guess in range(2**16):\n",
    "        plaintext_guess = MT19937_stream_decode_encode(cipher, seed_guess)\n",
    "        if plaintext_guess==plaintext:\n",
    "            return seed_guess"
   ]
  },
  {
   "cell_type": "code",
   "execution_count": 14,
   "id": "0352e919-01ef-401d-8dc8-26c022b58993",
   "metadata": {},
   "outputs": [
    {
     "name": "stdout",
     "output_type": "stream",
     "text": [
      "seed =  5994 | seed guess =  5994\n",
      "seed guessed in 1.1 s\n"
     ]
    }
   ],
   "source": [
    "from string import ascii_letters\n",
    "import time\n",
    "\n",
    "plaintext = str.encode(\"\".join([random.choice(ascii_letters) \n",
    "                                for _ in range(int(random.uniform(10,30)))]) + 14*\"A\" ) \n",
    "seed = random.getrandbits(16)\n",
    "cipher = MT19937_stream_decode_encode(plaintext, seed)\n",
    "\n",
    "start = time.time()\n",
    "seed_guess = recover_seed_cipher_plain(cipher, plaintext)\n",
    "end = time.time()\n",
    "\n",
    "print(f\"seed = {seed:5} | seed guess = {seed_guess:5}\")\n",
    "print(f\"seed guessed in {end-start:3.1f} s\")"
   ]
  },
  {
   "cell_type": "code",
   "execution_count": 15,
   "id": "c2a2a34b-63dd-44b5-bc91-cc74b7d57e86",
   "metadata": {},
   "outputs": [],
   "source": [
    "from cryptopals.utils import freqs_letters, score_text\n",
    "\n",
    "def recover_seed_cipher(cypher: bytes, freqs=freqs_letters) -> bytes:\n",
    "    best_guess = (float('inf'), None, None) # score, plaintext guess, key guess\n",
    "    for seed_guess in range(2**16):\n",
    "        plaintext_guess = MT19937_stream_decode_encode(cipher, seed_guess)\n",
    "        score = score_text(plaintext_guess, freqs=freqs_letters)\n",
    "        curr_guess = (score, plaintext_guess, seed_guess)\n",
    "        best_guess = min(best_guess, curr_guess)\n",
    "    return best_guess"
   ]
  },
  {
   "cell_type": "code",
   "execution_count": 16,
   "id": "bb2caa7f-7738-466d-bf95-c432ecd59df3",
   "metadata": {},
   "outputs": [
    {
     "name": "stdout",
     "output_type": "stream",
     "text": [
      "seed = 28379 | seed guess = 28379\n",
      "seed guessed in 14.8 s\n",
      "plaintext_guess=b'This is a longer secret message, that I could possibly crack with frequency analysis'\n"
     ]
    }
   ],
   "source": [
    "plaintext = b\"This is a longer secret message, that I could possibly crack with frequency analysis\"\n",
    "seed = random.getrandbits(16)\n",
    "cipher = MT19937_stream_decode_encode(plaintext, seed)\n",
    "\n",
    "start = time.time()\n",
    "score, plaintext_guess, seed_guess = recover_seed_cipher(cipher)\n",
    "end = time.time()\n",
    "\n",
    "print(f\"seed = {seed:5} | seed guess = {seed_guess:5}\")\n",
    "print(f\"seed guessed in {end-start:3.1f} s\")\n",
    "print(f\"{plaintext_guess=}\")"
   ]
  },
  {
   "cell_type": "code",
   "execution_count": null,
   "id": "fdf11bbb-36b4-4dd6-8684-66bc39760610",
   "metadata": {},
   "outputs": [],
   "source": []
  }
 ],
 "metadata": {
  "kernelspec": {
   "display_name": "Python 3 (ipykernel)",
   "language": "python",
   "name": "python3"
  },
  "language_info": {
   "codemirror_mode": {
    "name": "ipython",
    "version": 3
   },
   "file_extension": ".py",
   "mimetype": "text/x-python",
   "name": "python",
   "nbconvert_exporter": "python",
   "pygments_lexer": "ipython3",
   "version": "3.12.2"
  }
 },
 "nbformat": 4,
 "nbformat_minor": 5
}
