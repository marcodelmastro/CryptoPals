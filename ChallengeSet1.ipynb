{
 "cells": [
  {
   "cell_type": "markdown",
   "id": "missing-teens",
   "metadata": {},
   "source": [
    "# Crypto Challenge Set 1\n",
    "\n",
    "https://cryptopals.com/sets/1\n",
    "\n",
    "## 1. Convert hex to base64\n",
    "\n",
    "https://cryptopals.com/sets/1/challenges/1"
   ]
  },
  {
   "cell_type": "code",
   "execution_count": 1,
   "id": "7d266fdb-9a64-4019-af2f-532fac904e28",
   "metadata": {},
   "outputs": [
    {
     "name": "stdout",
     "output_type": "stream",
     "text": [
      "data_b16=b\"I'm killing your brain like a poisonous mushroom\"\n"
     ]
    }
   ],
   "source": [
    "data_str = \"49276d206b696c6c696e6720796f757220627261696e206c696b65206120706f69736f6e6f7573206d757368726f6f6d\" # string\n",
    "data_b16 = bytes.fromhex(data_str)\n",
    "print(f\"{data_b16=}\")"
   ]
  },
  {
   "cell_type": "code",
   "execution_count": 2,
   "id": "d788cfce-949f-427b-b7d1-1681854c61b5",
   "metadata": {},
   "outputs": [
    {
     "name": "stdout",
     "output_type": "stream",
     "text": [
      "data_b16=b\"I'm killing your brain like a poisonous mushroom\"\n"
     ]
    }
   ],
   "source": [
    "from base64 import b16decode\n",
    "\n",
    "data_hex = b\"49276d206b696c6c696e6720796f757220627261696e206c696b65206120706f69736f6e6f7573206d757368726f6f6d\" # bytes\n",
    "\n",
    "#data_b16 = b16decode(data_hex.upper()) # b16decode is case sensitive, needs uppercase encoding\n",
    "data_b16 = b16decode(data_hex,casefold=True) \n",
    "print(f\"{data_b16=}\")"
   ]
  },
  {
   "cell_type": "code",
   "execution_count": 3,
   "id": "fa025eef-3307-42f9-83aa-43849c864270",
   "metadata": {},
   "outputs": [
    {
     "name": "stdout",
     "output_type": "stream",
     "text": [
      "data_b64=b'SSdtIGtpbGxpbmcgeW91ciBicmFpbiBsaWtlIGEgcG9pc29ub3VzIG11c2hyb29t'\n"
     ]
    }
   ],
   "source": [
    "from base64 import b16decode, b64encode\n",
    "\n",
    "def hex_to_b64(data_hex: bytes) -> bytes:\n",
    "    return b64encode(b16decode(data_hex,casefold=True))\n",
    "\n",
    "data_b64 = hex_to_b64(data_hex) # SSdtIGtpbGxpbmcgeW91ciBicmFpbiBsaWtlIGEgcG9pc29ub3VzIG11c2hyb29t\n",
    "print(f\"{data_b64=}\")"
   ]
  },
  {
   "cell_type": "markdown",
   "id": "forward-salvation",
   "metadata": {},
   "source": [
    "## 2. Fixed XOR\n",
    "\n",
    "https://cryptopals.com/sets/1/challenges/2"
   ]
  },
  {
   "cell_type": "code",
   "execution_count": 4,
   "id": "760af137-6e0a-460e-a262-123d9d76d78a",
   "metadata": {},
   "outputs": [
    {
     "name": "stdout",
     "output_type": "stream",
     "text": [
      "a=b'\\x1c\\x01\\x11\\x00\\x1f\\x01\\x01\\x00\\x06\\x1a\\x02KSSP\\t\\x18\\x1c', b=b\"hit the bull's eye\"\n"
     ]
    }
   ],
   "source": [
    "a = bytes.fromhex(\"1c0111001f010100061a024b53535009181c\")\n",
    "b = bytes.fromhex(\"686974207468652062756c6c277320657965\")\n",
    "print(f\"{a=}, {b=}\")"
   ]
  },
  {
   "cell_type": "code",
   "execution_count": 5,
   "id": "599b5d07-ab72-464e-9a9a-50ebe3f0cb93",
   "metadata": {},
   "outputs": [],
   "source": [
    "def _bytes_xor(a: bytes, b: bytes, quiet=True, check_lens=False) -> bytes:\n",
    "    if not quiet:\n",
    "        print(a, '\\u2295', b)\n",
    "    if check_lens and len(a) != len(b):\n",
    "        raise ValueError(\"bytestring  lengths are not equal\")\n",
    "    return bytes(b1^b2 for b1, b2 in zip(a,b))\n",
    "\n",
    "def bytes_xor(*args: bytes, quiet = True, check_lens=False) -> bytes:\n",
    "    assert len(args) > 0\n",
    "    result = args[0]\n",
    "    for arg in args[1:]:\n",
    "        result = _bytes_xor(result, arg, quiet=quiet, check_lens=check_lens)\n",
    "    return result"
   ]
  },
  {
   "cell_type": "code",
   "execution_count": 6,
   "id": "41e87aba-ed8a-495b-bdde-acd2bd9dd108",
   "metadata": {},
   "outputs": [
    {
     "name": "stdout",
     "output_type": "stream",
     "text": [
      "b'\\x1c\\x01\\x11\\x00\\x1f\\x01\\x01\\x00\\x06\\x1a\\x02KSSP\\t\\x18\\x1c' ⊕ b\"hit the bull's eye\"\n",
      "xor_ab=b\"the kid don't play\"\n",
      "xor_ab.hex()='746865206b696420646f6e277420706c6179'\n"
     ]
    }
   ],
   "source": [
    "xor_ab = bytes_xor(a,b,quiet=False)\n",
    "print(f\"{xor_ab=}\")\n",
    "print(f\"{xor_ab.hex()=}\")"
   ]
  },
  {
   "cell_type": "code",
   "execution_count": 7,
   "id": "loving-judge",
   "metadata": {},
   "outputs": [
    {
     "data": {
      "text/plain": [
       "'0x746865206b696420646f6e277420706c6179'"
      ]
     },
     "execution_count": 7,
     "metadata": {},
     "output_type": "execute_result"
    }
   ],
   "source": [
    "xa = 0x1c0111001f010100061a024b53535009181c\n",
    "xb = 0x686974207468652062756c6c277320657965\n",
    "hex(xa^xb)"
   ]
  },
  {
   "cell_type": "markdown",
   "id": "blocked-possibility",
   "metadata": {},
   "source": [
    "## 3. Single-byte XOR cipher\n",
    "\n",
    "https://cryptopals.com/sets/1/challenges/3\n",
    "\n",
    "* Character frequencies from a public domain book (\"Jane Eyre\")\n",
    "* Score function comparing measured with expected frequencies\n",
    "* Checking all xor with all 256 characters, returing plaintext with best score"
   ]
  },
  {
   "cell_type": "code",
   "execution_count": 3,
   "id": "b1dd1ef0-e316-4a8b-9f48-a2f9ab08ff4c",
   "metadata": {},
   "outputs": [
    {
     "data": {
      "text/plain": [
       "{'\\ufeff': 9.5997665336779e-07,\n",
       " 'T': 0.0013554870345553196,\n",
       " 'h': 0.04353782116018939,\n",
       " 'e': 0.09772850324280113,\n",
       " ' ': 0.16485583070619722,\n",
       " 'P': 0.0003369518053320943,\n",
       " 'r': 0.04587728426444669,\n",
       " 'o': 0.05910768250116157,\n",
       " 'j': 0.0006326246145693737,\n",
       " 'c': 0.01826643576028231,\n",
       " 't': 0.06452291080280928,\n",
       " 'G': 0.0004963079297911475,\n",
       " 'u': 0.022976081221704688,\n",
       " 'n': 0.052633599950849194,\n",
       " 'b': 0.010331268743544156,\n",
       " 'g': 0.014394849917250013,\n",
       " 'B': 0.0006460642877165227,\n",
       " 'k': 0.005907696324825381,\n",
       " 'f': 0.01618136646916747,\n",
       " 'J': 0.0006307046612626381,\n",
       " 'a': 0.060182856352933495,\n",
       " 'E': 0.0005366269492325947,\n",
       " 'y': 0.016360882103347248,\n",
       " ':': 0.002685054699469709,\n",
       " 'A': 0.0011327724509739923,\n",
       " 'i': 0.04700621680880721,\n",
       " 'p': 0.011739554494034705,\n",
       " '\\n': 0.02052526082565672,\n",
       " 's': 0.048031471874604006,\n",
       " 'w': 0.017450455604919687,\n",
       " 'U': 7.103827234921647e-05,\n",
       " 'd': 0.036075922633561554,\n",
       " 'S': 0.0008044604355222081,\n",
       " 'm': 0.019979994086543815,\n",
       " 'l': 0.03127219946010913,\n",
       " 'v': 0.007341901444956858,\n",
       " '.': 0.00828459851856403,\n",
       " 'Y': 0.0005855857585543519,\n",
       " ',': 0.014092457271439159,\n",
       " '-': 0.0011922910034827953,\n",
       " 'L': 0.00037343091816007033,\n",
       " 'I': 0.007867968651002408,\n",
       " 'C': 0.00033311189871862315,\n",
       " 'ë': 4.79988326683895e-06,\n",
       " 'F': 0.0003926304512274261,\n",
       " 'H': 0.001038694738943949,\n",
       " 'R': 0.000782380972494749,\n",
       " 'M': 0.0016972387231542528,\n",
       " '1': 6.335845912227415e-05,\n",
       " '9': 1.151971984041348e-05,\n",
       " '8': 1.3439673147149061e-05,\n",
       " '[': 9.5997665336779e-07,\n",
       " '#': 9.5997665336779e-07,\n",
       " '2': 1.3439673147149061e-05,\n",
       " '6': 8.63978988031011e-06,\n",
       " '0': 2.015950972072359e-05,\n",
       " ']': 9.5997665336779e-07,\n",
       " 'O': 0.0003609512216662891,\n",
       " '4': 1.055974318704569e-05,\n",
       " 'D': 0.0003897505212673228,\n",
       " '*': 1.151971984041348e-05,\n",
       " 'N': 0.00047326849011032054,\n",
       " 'K': 1.91995330673558e-05,\n",
       " '_': 0.0003916704745740584,\n",
       " 'W': 0.000782380972494749,\n",
       " 'V': 8.831785210983669e-05,\n",
       " '&': 2.5919369640930332e-05,\n",
       " '5': 1.151971984041348e-05,\n",
       " '7': 5.75985992020674e-06,\n",
       " 'Q': 1.535962645388464e-05,\n",
       " '“': 0.003553833570767559,\n",
       " '”': 0.0035096746447126404,\n",
       " 'q': 0.0009052579841258261,\n",
       " ';': 0.003343598683680013,\n",
       " '—': 0.0019775519059376475,\n",
       " 'x': 0.001193250980136163,\n",
       " '?': 0.0014332451434781106,\n",
       " '3': 1.2479696493781271e-05,\n",
       " '(': 0.00015071633457874303,\n",
       " ')': 0.00015071633457874303,\n",
       " 'z': 0.00031295238899789956,\n",
       " '’': 0.0011500520307346125,\n",
       " 'Z': 3.83990661347116e-06,\n",
       " '!': 0.0008956582175921482,\n",
       " '‘': 9.407771203004343e-05,\n",
       " 'X': 5.9518552508802986e-05,\n",
       " 'è': 0.0001363166847782262,\n",
       " '£': 1.91995330673558e-06,\n",
       " 'à': 8.63978988031011e-06,\n",
       " 'ï': 2.87992996010337e-06,\n",
       " 'é': 3.5519136174608234e-05,\n",
       " 'ê': 8.63978988031011e-06,\n",
       " 'ô': 9.5997665336779e-07,\n",
       " 'â': 3.83990661347116e-06,\n",
       " 'ç': 9.5997665336779e-07,\n",
       " 'ä': 2.87992996010337e-06,\n",
       " 'æ': 1.91995330673558e-06,\n",
       " '™': 5.471866924196404e-05,\n",
       " '/': 5.75985992020674e-06,\n",
       " '•': 3.83990661347116e-06,\n",
       " '%': 9.5997665336779e-07,\n",
       " '$': 1.91995330673558e-06}"
      ]
     },
     "execution_count": 3,
     "metadata": {},
     "output_type": "execute_result"
    }
   ],
   "source": [
    "from collections import defaultdict\n",
    "from string import ascii_lowercase, ascii_uppercase, ascii_letters\n",
    "\n",
    "def get_freqs(book,letters=ascii_letters):\n",
    "    counts = defaultdict(int)\n",
    "    for letter in letters:\n",
    "        counts[letter] += book.count(letter)\n",
    "    total = sum(counts.values())\n",
    "    return {letter: counts[letter]/total for letter in counts}\n",
    "\n",
    "with open(\"input/JaneEyre.txt\") as f:\n",
    "    book = f.read()\n",
    "\n",
    "freqs_lowercase = get_freqs(book,ascii_lowercase)\n",
    "freqs_uppercase = get_freqs(book,ascii_uppercase)\n",
    "freqs_letters = get_freqs(book,ascii_letters)\n",
    "\n",
    "from collections import Counter\n",
    "counts = Counter(book)\n",
    "freqs_all = {char: count/len(book) for char,count in counts.items() }\n",
    "\n",
    "freqs_letters\n",
    "freqs_all "
   ]
  },
  {
   "cell_type": "code",
   "execution_count": 9,
   "id": "1726dd4f-53e9-4c5d-bb7c-b2570d10ccfe",
   "metadata": {},
   "outputs": [],
   "source": [
    "def score_text(text: bytes, freqs=freqs_letters) -> float:\n",
    "    l = len(text)\n",
    "    return sum([abs(text.count(ord(letter))/l - freq_exp) for letter, freq_exp in freqs.items()])\n",
    "\n",
    "def crack_single_xor(cypher: bytes, freqs=freqs_letters) -> bytes:\n",
    "    best_guess = (float('inf'), None, None) # score, plaintext guess, key guess\n",
    "    best_key = \"\"\n",
    "    for key in range(256):\n",
    "        key_full = bytes([key])*len(cypher)\n",
    "        plaintext = bytes_xor(cypher,key_full)\n",
    "        score = score_text(plaintext, freqs=freqs_letters)\n",
    "        curr_guess = (score, plaintext, bytes([key]))\n",
    "        best_guess = min(best_guess, curr_guess)\n",
    "    return best_guess"
   ]
  },
  {
   "cell_type": "code",
   "execution_count": 10,
   "id": "5e20b98a-ed9f-4309-a749-685b6bfb21cb",
   "metadata": {},
   "outputs": [
    {
     "name": "stdout",
     "output_type": "stream",
     "text": [
      "best_guess=(0.7704460124783241, b\"Cooking MC's like a pound of bacon\", b'X')\n"
     ]
    }
   ],
   "source": [
    "data_str = \"1b37373331363f78151b7f2b783431333d78397828372d363c78373e783a393b3736\"\n",
    "cypher = bytes.fromhex(data_str)\n",
    "best_guess = crack_single_xor(cypher,freqs_all)\n",
    "print(f\"{best_guess=}\")"
   ]
  },
  {
   "cell_type": "markdown",
   "id": "guilty-wednesday",
   "metadata": {},
   "source": [
    "## 4. Detect single-character XOR\n",
    "\n",
    "https://cryptopals.com/sets/1/challenges/4"
   ]
  },
  {
   "cell_type": "code",
   "execution_count": 11,
   "id": "17cf6f7e-574e-4fa9-aa7e-c528ef922a5f",
   "metadata": {},
   "outputs": [
    {
     "data": {
      "text/plain": [
       "(0.661481069333403, b'Now that the party is jumping\\n', b'5')"
      ]
     },
     "execution_count": 11,
     "metadata": {},
     "output_type": "execute_result"
    }
   ],
   "source": [
    "best_guess = (float('inf'),None)\n",
    "with open(\"input/4.txt\") as f:\n",
    "    for data_str in f.readlines():\n",
    "        cypher = bytes.fromhex(data_str)\n",
    "        plaintext = crack_single_xor(cypher)\n",
    "        curr_guess = (score_text(plaintext),plaintext)\n",
    "        best_guess = min(best_guess,curr_guess)\n",
    "best_guess[1]"
   ]
  },
  {
   "cell_type": "markdown",
   "id": "paperback-standard",
   "metadata": {},
   "source": [
    "## 5. Implement repeating-key XOR\n",
    "\n",
    "https://cryptopals.com/sets/1/challenges/5"
   ]
  },
  {
   "cell_type": "code",
   "execution_count": 12,
   "id": "dc1b6228-c3d1-4346-b7ab-f408149124a5",
   "metadata": {},
   "outputs": [],
   "source": [
    "from itertools import cycle\n",
    "\n",
    "def repeating_key_xor(plaintext: bytes, key: bytes):\n",
    "    return bytes(p^k for p,k in zip(plaintext,cycle(key)))"
   ]
  },
  {
   "cell_type": "code",
   "execution_count": 13,
   "id": "297853fd-8e3f-445a-ad7a-51e8ff922be1",
   "metadata": {},
   "outputs": [
    {
     "data": {
      "text/plain": [
       "'0b3637272a2b2e63622c2e69692a23693a2a3c6324202d623d63343c2a26226324272765272a282b2f20430a652e2c652a3124333a653e2b2027630c692b20283165286326302e27282f'"
      ]
     },
     "execution_count": 13,
     "metadata": {},
     "output_type": "execute_result"
    }
   ],
   "source": [
    "plaintext = b\"Burning 'em, if you ain't quick and nimble\\nI go crazy when I hear a cymbal\"\n",
    "key = b\"ICE\"\n",
    "\n",
    "cypher = repeating_key_xor(plaintext, key)\n",
    "cypher.hex()"
   ]
  },
  {
   "cell_type": "markdown",
   "id": "opposite-spyware",
   "metadata": {},
   "source": [
    "## 6. Break repeating-key XOR\n",
    "\n",
    "https://cryptopals.com/sets/1/challenges/6"
   ]
  },
  {
   "cell_type": "code",
   "execution_count": 14,
   "id": "forbidden-oriental",
   "metadata": {},
   "outputs": [
    {
     "data": {
      "text/plain": [
       "37"
      ]
     },
     "execution_count": 14,
     "metadata": {},
     "output_type": "execute_result"
    }
   ],
   "source": [
    "def hamming_distance(s1: bytes, s2: bytes) -> int:\n",
    "    return sum([bin(b1^b2).count(\"1\") for b1,b2 in zip(s1,s2)])\n",
    "\n",
    "s1 = b\"this is a test\"\n",
    "s2 = b\"wokka wokka!!!\"\n",
    "\n",
    "hamming_distance(s1,s2)"
   ]
  },
  {
   "cell_type": "code",
   "execution_count": 15,
   "id": "334322dd-6f4b-4278-b20b-86d9313e2b81",
   "metadata": {},
   "outputs": [],
   "source": [
    "from itertools import combinations\n",
    "\n",
    "def guess_rep_key_xor(b: bytes, kmin=2, kmax=40, quiet=True):\n",
    "    # guess keysize by testing testing several values and choosing that giving the smallest\n",
    "    # normalised Hamming distance on blocks of that size\n",
    "    keys = []\n",
    "    for ks in range(kmin,kmax+1):\n",
    "        # compute normalised Hamming distance between all combinations of blocks of size ks\n",
    "        nbloc = len(b)//ks\n",
    "        blocks = [ b[j*ks:(j+1)*ks] for j in range(nbloc) ]\n",
    "        ndave = 0\n",
    "        ncomb = 0\n",
    "        for c in combinations(blocks,2):            \n",
    "            ndave += hamming_distance(c[0],c[1])\n",
    "            ncomb += 1\n",
    "        ndave /= ncomb*ks\n",
    "        keys.append((ks,ndave))\n",
    "\n",
    "    # choose keysize as that giving smallest average Hamming distance between neigbouring blocks\n",
    "    keys = sorted(keys,key=lambda x: x[1])\n",
    "    keysize = keys[0][0]\n",
    "    if not quiet:\n",
    "        print(\"Guessed KEYSIZE =\",keysize)\n",
    "    \n",
    "    # Break the ciphertext into blocks of KEYSIZE length, then transpose the blocks. Make a block that is the\n",
    "    # first byte of every block, and a block that is the second byte of every block, and so on.\n",
    "    # This is because each corresponding byte in all blocks has been encrypted with the same key character,\n",
    "    # thus I can try to guess the key character it using the single-character XOR attach implemented at point 4.\n",
    "    nblocks = len(b)//keysize # I'm skipping the last part of the cypher, I could maybe pad it to use the last block\n",
    "    blocks = []\n",
    "    for k in range(keysize):\n",
    "        tblock = []\n",
    "        for i in range(nblocks):\n",
    "            tblock.append(b[k+keysize*i])\n",
    "        blocks.append(tblock)\n",
    "\n",
    "    # Solve each block as if it was single-character XOR, recompose the key!\n",
    "    key = b\"\"\n",
    "    for block in blocks:\n",
    "        best_guess = crack_single_xor(block)\n",
    "        key += best_guess[2]\n",
    "    if not quiet:\n",
    "        print(\"Guessed KEY =\",key)\n",
    "    return key"
   ]
  },
  {
   "cell_type": "code",
   "execution_count": null,
   "id": "f1571dcc-ab16-4546-9aa1-9be5945ce4b0",
   "metadata": {},
   "outputs": [],
   "source": [
    "from base64 import b64decode\n",
    "\n",
    "with open(\"input/6.txt\") as f:\n",
    "    cipher6_b64 = f.read()\n",
    "\n",
    "cipher6 = b64decode(cipher6_b64)\n",
    "key = guess_rep_key_xor(cipher6,quiet=False)"
   ]
  },
  {
   "cell_type": "code",
   "execution_count": null,
   "id": "085dd523-62a7-4f30-83fe-bc58de436da2",
   "metadata": {},
   "outputs": [],
   "source": [
    "# XOR is commutative: I can decode with the same algorithm used to encode with repeating-key XOR\n",
    "plaintext6 = repeating_key_xor(cipher6, key)\n",
    "print(plaintext6.decode()) # the output is binary, decode() converts it to regular string"
   ]
  },
  {
   "cell_type": "markdown",
   "id": "excessive-trinidad",
   "metadata": {},
   "source": [
    "## 7. AES in ECB mode\n",
    "\n",
    "https://cryptopals.com/sets/1/challenges/7\n",
    "\n",
    "Cypher encrypted via AES-128 in ECB mode under the key \"YELLOW SUBMARINE\"\n",
    "\n",
    "### 7.1 Using PyCryptoDome library:\n",
    "\n",
    "https://pycryptodome.readthedocs.io/en/latest/src/installation.html"
   ]
  },
  {
   "cell_type": "code",
   "execution_count": null,
   "id": "continuous-hampton",
   "metadata": {},
   "outputs": [],
   "source": [
    "from Cryptodome.Cipher import AES\n",
    "\n",
    "def aes_ecb_decrypt(cipher: bytes, key: bytes) -> bytes:\n",
    "    aes = AES.new(key, AES.MODE_ECB) \n",
    "    return aes.decrypt(cipher)"
   ]
  },
  {
   "cell_type": "code",
   "execution_count": null,
   "id": "3b248cfc-26f6-4d78-9e6b-8c0560923c67",
   "metadata": {},
   "outputs": [],
   "source": [
    "with open(\"input/7.txt\") as f:\n",
    "    cipher7_b64 = f.read()\n",
    "    cipher7 = b64decode(cipher7_b64)\n",
    "    \n",
    "key7 = b\"YELLOW SUBMARINE\" # key should be bytes, in case of string use encode() to convert\n",
    "plaintext7 = aes_ecb_decrypt(cipher7,key7)\n",
    "print(plaintext7.decode()) # the output is binary, decode() converts it to regular string"
   ]
  },
  {
   "cell_type": "markdown",
   "id": "a517da14-542b-4757-9cf4-fec7174e55b5",
   "metadata": {},
   "source": [
    "* Note that last 4 characters in the plaintext: this is an effect of padding (see further challenges)"
   ]
  },
  {
   "cell_type": "markdown",
   "id": "photographic-marine",
   "metadata": {},
   "source": [
    "## 8. Detect AES in ECB mode\n",
    "\n",
    "https://cryptopals.com/sets/1/challenges/8\n",
    "\n",
    "https://en.wikipedia.org/wiki/Block_cipher_mode_of_operation#Electronic_codebook_(ECB)\n",
    "\n",
    "> Remember that the problem with ECB is that it is stateless and deterministic; the same 16 byte plaintext block will always produce the same 16 byte ciphertext.\n",
    "\n",
    "I can split the ciphers in such blocks and look for possible repetitions."
   ]
  },
  {
   "cell_type": "code",
   "execution_count": 1,
   "id": "6feda825-1a5a-40d6-944f-6c92ef19870f",
   "metadata": {},
   "outputs": [],
   "source": [
    "def bytes_to_chuncks(b: bytes, chunksize=16) -> list:\n",
    "    return [ b[i:i+chunksize] for i in range(0,len(b),chunksize) ]\n",
    "\n",
    "def detect_aes_ecb_mode(cipher: bytes, blocksize=16):\n",
    "    blocks = bytes_to_chuncks(cipher,blocksize)\n",
    "    return len(blocks) - len(set(blocks))"
   ]
  },
  {
   "cell_type": "code",
   "execution_count": 2,
   "id": "indie-composition",
   "metadata": {},
   "outputs": [
    {
     "name": "stdout",
     "output_type": "stream",
     "text": [
      "Cipher at line 132 has 3 block repetitions\n"
     ]
    }
   ],
   "source": [
    "with open(\"input/8.txt\") as f:\n",
    "    ciphers8 = [ bytes.fromhex(l.strip()) for l in f.readlines() ]\n",
    "\n",
    "for l,cipher in enumerate(ciphers8):\n",
    "    rep = detect_aes_ecb_mode(cipher, blocksize=16)\n",
    "    if rep:\n",
    "        print(f\"Cipher at line {l} has {rep} block repetitions\")"
   ]
  },
  {
   "cell_type": "code",
   "execution_count": null,
   "id": "ec322d72-63d8-4ba1-94c8-255ab1444949",
   "metadata": {},
   "outputs": [],
   "source": []
  }
 ],
 "metadata": {
  "kernelspec": {
   "display_name": "Python 3 (ipykernel)",
   "language": "python",
   "name": "python3"
  },
  "language_info": {
   "codemirror_mode": {
    "name": "ipython",
    "version": 3
   },
   "file_extension": ".py",
   "mimetype": "text/x-python",
   "name": "python",
   "nbconvert_exporter": "python",
   "pygments_lexer": "ipython3",
   "version": "3.12.2"
  }
 },
 "nbformat": 4,
 "nbformat_minor": 5
}
