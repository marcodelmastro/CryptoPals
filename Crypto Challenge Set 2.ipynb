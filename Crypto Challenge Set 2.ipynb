{
 "cells": [
  {
   "cell_type": "markdown",
   "id": "infrared-physics",
   "metadata": {},
   "source": [
    "# Crypto Challenge Set 2\n",
    "\n",
    "## 9. Implement PKCS#7 padding\n",
    "\n",
    "https://cryptopals.com/sets/2/challenges/9"
   ]
  },
  {
   "cell_type": "code",
   "execution_count": 1,
   "id": "terminal-underwear",
   "metadata": {},
   "outputs": [],
   "source": [
    "def pkcs7(block,blocksize,pad=b'\\x04'):\n",
    "    return block+max(0,(blocksize-len(block)))*pad"
   ]
  },
  {
   "cell_type": "code",
   "execution_count": 2,
   "id": "conceptual-environment",
   "metadata": {},
   "outputs": [
    {
     "data": {
      "text/plain": [
       "b'YELLOW SUBMARINE\\x04\\x04\\x04\\x04'"
      ]
     },
     "execution_count": 2,
     "metadata": {},
     "output_type": "execute_result"
    }
   ],
   "source": [
    "block = b\"YELLOW SUBMARINE\"\n",
    "pkcs7(block,20)"
   ]
  },
  {
   "cell_type": "markdown",
   "id": "considerable-prevention",
   "metadata": {},
   "source": [
    "## 10. Implement CBC mode\n",
    "\n",
    "https://cryptopals.com/sets/2/challenges/10\n",
    "\n",
    "https://en.wikipedia.org/wiki/Block_cipher_mode_of_operation#Cipher_block_chaining_(CBC)"
   ]
  },
  {
   "cell_type": "code",
   "execution_count": 3,
   "id": "independent-blast",
   "metadata": {},
   "outputs": [],
   "source": [
    "from Crypto.Cipher import AES\n",
    "\n",
    "def fixedXOR(a,b):\n",
    "    return bytes([an^bn for an,bn in zip(a,b)])\n",
    "\n",
    "def AES_CBC_decrypt(cipher,key):\n",
    "    aes = AES.new(key, AES.MODE_ECB)\n",
    "    bsize = len(key)\n",
    "    IV = bsize*b\"\\x00\"\n",
    "    blocks = [ cipher[i:i+bsize] for i in range(0,len(cipher),bsize) ]\n",
    "    plaintext = \"\"\n",
    "    for i in range(len(blocks)):\n",
    "        # decrypt block with AES ECB mode\n",
    "        dec = aes.decrypt(blocks[i])\n",
    "        # XOR with IV or previous cipher block\n",
    "        dec = fixedXOR(dec,IV) if i==0 else fixedXOR(dec,blocks[i-1])\n",
    "        plaintext += \"\".join([chr(c) for c in dec])\n",
    "    return plaintext"
   ]
  },
  {
   "cell_type": "code",
   "execution_count": 4,
   "id": "mechanical-conflict",
   "metadata": {},
   "outputs": [
    {
     "name": "stdout",
     "output_type": "stream",
     "text": [
      "I'm back and I'm ringin' the bell \n",
      "A rockin' on the mike while the fly girls yell \n",
      "In ecstasy in the back of me \n",
      "Well that's my DJ Deshay cuttin' all them Z's \n",
      "Hittin' hard and the girlies goin' crazy \n",
      "Vanilla's on the mike, man I'm not lazy\n"
     ]
    }
   ],
   "source": [
    "from binascii import a2b_base64\n",
    "\n",
    "key = b\"YELLOW SUBMARINE\"\n",
    "\n",
    "with open(\"input/10.txt\") as f:\n",
    "    cipher = a2b_base64(f.read().replace(\"\\n\",\"\"))\n",
    "    plaintext = AES_CBC_decrypt(cipher,key)\n",
    "    print(plaintext[0:241])\n",
    "    \n",
    "with open('input/plaintext.txt', 'w') as f:\n",
    "    f.write(plaintext)"
   ]
  },
  {
   "cell_type": "code",
   "execution_count": 5,
   "id": "sunrise-kernel",
   "metadata": {},
   "outputs": [],
   "source": [
    "import binascii\n",
    "\n",
    "def AES_CBC_encrypt(plaintext,key,IV=None):\n",
    "    aes = AES.new(key, AES.MODE_ECB)\n",
    "    bsize = len(key)\n",
    "    if IV==None:\n",
    "        IV = bsize*b\"\\x00\"\n",
    "    plainb = bytes(plaintext.encode()) # convert plaintext to bytes\n",
    "    if len(plainb)%bsize: # padding to multiple of block size if needed \n",
    "        plainb = pkcs7(plainb,len(plainb)+bsize-len(plainb)%bsize)\n",
    "    blocks = [ plainb[i:i+bsize] for i in range(0,len(plainb),bsize) ]\n",
    "    ciphbl = []\n",
    "    cipher = b\"\"\n",
    "    for i in range(len(blocks)):\n",
    "        # XOR with IV or previous cipher block\n",
    "        b = fixedXOR(blocks[i],IV) if i==0 else fixedXOR(blocks[i],ciphbl[i-1])\n",
    "        # encrypt IVed block with AES ECB mode\n",
    "        enc = aes.encrypt(b)\n",
    "        ciphbl.append(enc)\n",
    "        cipher += enc\n",
    "    return cipher"
   ]
  },
  {
   "cell_type": "code",
   "execution_count": 6,
   "id": "rising-hunger",
   "metadata": {},
   "outputs": [
    {
     "name": "stdout",
     "output_type": "stream",
     "text": [
      "I'm back and I'm ringin' the bell \n",
      "A rockin' on the mike while the fly girls yell \n",
      "In ecstasy in the back of me \n",
      "Well that's my DJ Deshay cuttin' all them Z's \n",
      "Hittin' hard and the girlies goin' crazy \n",
      "Vanilla's on the mike, man I'm not lazy\n"
     ]
    }
   ],
   "source": [
    "cipher = AES_CBC_encrypt(plaintext,key)\n",
    "plaintext = AES_CBC_decrypt(cipher,key)\n",
    "print(plaintext[0:241])"
   ]
  },
  {
   "cell_type": "markdown",
   "id": "worldwide-dispute",
   "metadata": {},
   "source": [
    "## 11. An ECB/CBC detection oracle\n",
    "\n",
    "https://cryptopals.com/sets/2/challenges/11\n",
    "\n",
    "> Write a function to generate a random AES key; that's just 16 random bytes. `os.urandom()` return a string of size random bytes suitable for cryptographic use.\n",
    "\n",
    "https://docs.python.org/3.8/library/os.html#os.urandom"
   ]
  },
  {
   "cell_type": "code",
   "execution_count": 30,
   "id": "sonic-vietnamese",
   "metadata": {},
   "outputs": [
    {
     "data": {
      "text/plain": [
       "b'C\\x81\\xfbuY\\xb9,W4m]H,\\xe3C\\x95'"
      ]
     },
     "execution_count": 30,
     "metadata": {},
     "output_type": "execute_result"
    }
   ],
   "source": [
    "import os\n",
    "\n",
    "def randAESkey(keylen=16):\n",
    "    return os.urandom(keylen)\n",
    "\n",
    "randAESkey()"
   ]
  },
  {
   "cell_type": "markdown",
   "id": "female-result",
   "metadata": {},
   "source": [
    "> Write a function that encrypts data under an unknown key, e.g. a function that generates a random key and encrypts under it. Under the hood, have the function append 5-10 bytes (count chosen randomly) before the plaintext and 5-10 bytes after the plaintext. Have the function choose to encrypt under ECB 1/2 the time, and under CBC the other half (just use random IVs each time for CBC). \n",
    "\n",
    "> Detect the block cipher mode the function is using each time. "
   ]
  },
  {
   "cell_type": "code",
   "execution_count": 31,
   "id": "heated-sword",
   "metadata": {},
   "outputs": [],
   "source": [
    "import os\n",
    "import random\n",
    "from Crypto.Cipher import AES\n",
    "\n",
    "def encryption_oracle(plaintext):\n",
    "    # generate a 16-bytes random key\n",
    "    keysize = 16\n",
    "    key = os.urandom(keysize)\n",
    "    plainb = bytes(plaintext.encode()) # plaintext in bytes\n",
    "    # prepend and append bytes\n",
    "    plainb = os.urandom(random.randint(5,10))+plainb+os.urandom(random.randint(5,10)) \n",
    "    # pad the plaintext to a multiple of keysize\n",
    "    if len(plainb)%keysize:\n",
    "        plainb = pkcs7(plainb,len(plainb)+keysize-len(plainb)%keysize)\n",
    "    cipher = \"\"\n",
    "    mode = random.randint(0,1)\n",
    "    if mode==1: # encrypt under ECB\n",
    "        aes_ecb = AES.new(key, AES.MODE_ECB)\n",
    "        cipher = aes_ecb.encrypt(plainb)\n",
    "    else: # encrypt under CBC\n",
    "        IV = os.urandom(keysize)\n",
    "        aes_cbc = AES.new(key, AES.MODE_CBC, IV) \n",
    "        cipher = aes_cbc.encrypt(plainb)\n",
    "    return mode, cipher"
   ]
  },
  {
   "cell_type": "code",
   "execution_count": 33,
   "id": "opponent-tract",
   "metadata": {},
   "outputs": [],
   "source": [
    "def isAESECB(cipher,blocksize=16):\n",
    "    blocks = [ cipher[i:i+blocksize] for i in range(0,len(cipher),blocksize) ]\n",
    "    return bool(len(blocks) - len(set(blocks)))"
   ]
  },
  {
   "cell_type": "code",
   "execution_count": 40,
   "id": "fuzzy-politics",
   "metadata": {},
   "outputs": [
    {
     "name": "stdout",
     "output_type": "stream",
     "text": [
      "0 False\n",
      "1 True\n",
      "0 False\n",
      "0 False\n",
      "0 False\n",
      "0 False\n",
      "1 True\n",
      "0 False\n",
      "0 False\n",
      "0 False\n"
     ]
    }
   ],
   "source": [
    "ntot = 10\n",
    "\n",
    "# This is the poem provided as ciphertext at challenge 10. No problem in guessing the cipher mode with it!\n",
    "with open(\"input/plaintext.txt\") as f:\n",
    "    plaintext = f.read().strip(\"\\n\")\n",
    "\n",
    "# This plaintext is too short and with no repetitions, it's impossible to detect ECB mode! \n",
    "#plaintext = \"the quick brown fox jumps over the lazy dog\"\n",
    "\n",
    "# This is an abtract of an ATLAS paper (a real life text!): \n",
    "# it's relatively long, with some repetitions (but not many). Detection does not work :-(\n",
    "#with open(\"input/HIGG-2018-51_abstract.txt\") as f:\n",
    "#    plaintext = f.read().strip(\"\\n\")\n",
    "\n",
    "for _ in range(ntot):\n",
    "    # mode is the true encryption used (0 = CBC, 1 = ECB)\n",
    "    mode, cipher = encryption_oracle(plaintext) \n",
    "    pred = isAESECB(cipher)\n",
    "    print(mode,pred)"
   ]
  },
  {
   "cell_type": "markdown",
   "id": "interpreted-circus",
   "metadata": {},
   "source": [
    "## 12. Byte-at-a-time ECB decryption (Simple)\n",
    "\n",
    "https://cryptopals.com/sets/2/challenges/12"
   ]
  },
  {
   "cell_type": "code",
   "execution_count": 42,
   "id": "violent-publicity",
   "metadata": {},
   "outputs": [],
   "source": [
    "import binascii\n",
    "import os\n",
    "import random\n",
    "from Crypto.Cipher import AES\n",
    "\n",
    "def AES_ECB_encrypt(plainb,key):\n",
    "    # pad plaintext to multiple of keysize if needed\n",
    "    keysize = len(key)\n",
    "    if len(plainb)%keysize: \n",
    "        plainb = pkcs7(plainb,len(plainb)+keysize-len(plainb)%keysize)\n",
    "    # encode\n",
    "    aes_ecb = AES.new(key,AES.MODE_ECB)\n",
    "    return aes_ecb.encrypt(plainb)\n",
    "\n",
    "def AES_ECB_decrypt(cipher,key):\n",
    "    aes_ecb = AES.new(key,AES.MODE_ECB)\n",
    "    return aes_ecb.decrypt(cipher)\n",
    "\n",
    "class Oracle1():\n",
    "    def __init__(self):\n",
    "        self.key = os.urandom(16)\n",
    "        self.unknown = \"Um9sbGluJyBpbiBteSA1LjAKV2l0aCBteSByYWctdG9wIGRvd24gc28gbXkgaGFpciBjYW4gYmxvdwpUaGUgZ2lybGllcyBvbiBzdGFuZGJ5IHdhdmluZyBqdXN0IHRvIHNheSBoaQpEaWQgeW91IHN0b3A/IE5vLCBJIGp1c3QgZHJvdmUgYnkK\"\n",
    "        self.unknown_bin = binascii.a2b_base64(self.unknown)\n",
    "        self.unknown_str = self.unknown_bin.decode()\n",
    "    \n",
    "    def encrypt(self,string=\"\"):\n",
    "        '''Encrypt unknown string appending the injection string'''\n",
    "        return AES_ECB_encrypt(string.encode()+self.unknown_bin,self.key)\n",
    "    \n",
    "    def decrypt(self,string):\n",
    "        return AES_ECB_decrypt(string,self.key).decode()"
   ]
  },
  {
   "cell_type": "markdown",
   "id": "legal-tradition",
   "metadata": {},
   "source": [
    "### Discover the block size of the cipher"
   ]
  },
  {
   "cell_type": "code",
   "execution_count": 43,
   "id": "unique-aquarium",
   "metadata": {},
   "outputs": [],
   "source": [
    "def guessSize(oracle):\n",
    "    my_string = \"\"\n",
    "    cipher0 = oracle.encrypt(my_string)\n",
    "    cipher=cipher0\n",
    "    while len(cipher0)==len(cipher):\n",
    "        my_string += \"A\"\n",
    "        cipher = oracle.encrypt(my_string)\n",
    "    return len(cipher)-len(cipher0)"
   ]
  },
  {
   "cell_type": "code",
   "execution_count": 48,
   "id": "corrected-revision",
   "metadata": {},
   "outputs": [
    {
     "name": "stdout",
     "output_type": "stream",
     "text": [
      "Block size = 16\n"
     ]
    }
   ],
   "source": [
    "oracle1 = Oracle1()\n",
    "\n",
    "bsize = guessSize(oracle1)\n",
    "print(\"Block size =\",bsize)"
   ]
  },
  {
   "cell_type": "markdown",
   "id": "blank-whole",
   "metadata": {},
   "source": [
    "### Detect that the function is using ECB\n",
    "\n",
    "Feed the oracle function with a repeating string long enough to ensure that repetitions would be visible regardless of the content of the unknown string."
   ]
  },
  {
   "cell_type": "code",
   "execution_count": 49,
   "id": "parental-hawaii",
   "metadata": {},
   "outputs": [
    {
     "name": "stdout",
     "output_type": "stream",
     "text": [
      "Is the function using ECB? True\n"
     ]
    }
   ],
   "source": [
    "my_string = 2*bsize*\"A\"\n",
    "print(\"Is the function using ECB?\", isAESECB(oracle1.encrypt(my_string)))"
   ]
  },
  {
   "cell_type": "markdown",
   "id": "moral-soldier",
   "metadata": {},
   "source": [
    "### Attack the oracle with injection string of varying lenght"
   ]
  },
  {
   "cell_type": "code",
   "execution_count": 54,
   "id": "billion-attack",
   "metadata": {},
   "outputs": [],
   "source": [
    "def findPlainTextLenght(oracle):\n",
    "    bsize = guessSize(oracle)\n",
    "    i = 0\n",
    "    cipher_0 = oracle1.encrypt(\"\")\n",
    "    cipher_i = cipher_0\n",
    "    for i in range(bsize):\n",
    "        cipher_i = oracle.encrypt(i*\"A\")\n",
    "        if len(cipher_0)<len(cipher_i):\n",
    "            return len(cipher_0)-i+1\n",
    "\n",
    "def byte_at_a_time_ECB_decryption(oracle):\n",
    "    injsize = len( oracle1.encrypt(\"\"))\n",
    "    plaintext = \"\"\n",
    "    for k in range(injsize):\n",
    "        my_string = (injsize-1-len(plaintext))*\"A\"\n",
    "        cipher_0 = oracle1.encrypt(my_string)\n",
    "        for i in range(256):\n",
    "            cipher_i = oracle1.encrypt(my_string+plaintext+chr(i))\n",
    "            if cipher_0[:injsize] == cipher_i[:injsize]:\n",
    "                plaintext += chr(i)\n",
    "                break\n",
    "    return plaintext[:findPlainTextLenght(oracle)]"
   ]
  },
  {
   "cell_type": "code",
   "execution_count": 55,
   "id": "historical-encoding",
   "metadata": {},
   "outputs": [
    {
     "name": "stdout",
     "output_type": "stream",
     "text": [
      "Rollin' in my 5.0\n",
      "With my rag-top down so my hair can blow\n",
      "The girlies on standby waving just to say hi\n",
      "Did you stop? No, I just drove by\n",
      "\n"
     ]
    }
   ],
   "source": [
    "decrypt_str = byte_at_a_time_ECB_decryption(oracle1)\n",
    "\n",
    "assert(decrypt_str==oracle1.unknown_str)\n",
    "\n",
    "print(decrypt_str)"
   ]
  },
  {
   "cell_type": "markdown",
   "id": "imported-ethiopia",
   "metadata": {},
   "source": [
    "## 13. ECB cut-and-paste\n",
    "\n",
    "https://cryptopals.com/sets/2/challenges/13"
   ]
  },
  {
   "cell_type": "code",
   "execution_count": 65,
   "id": "confident-swedish",
   "metadata": {},
   "outputs": [],
   "source": [
    "class Profile:\n",
    "    def __init__(self):\n",
    "        self.key = os.urandom(16)\n",
    "        \n",
    "    def parse(self,string):\n",
    "        '''k=v parsing routine'''\n",
    "        return { i.split(\"=\")[0]: i.split(\"=\")[1] for i in string.split(\"&\") }\n",
    "    \n",
    "    def profile_for(self,email):\n",
    "        # Your \"profile_for\" function should not allow encoding metacharacters (& and =). \n",
    "        if b\"&\" in email.encode() or b\"=\" in email.encode():\n",
    "            #raise ValueError(\"Invalid email address\")\n",
    "            print(\"Invalid email address\")\n",
    "            return b\"\"\n",
    "        return b\"email=\" + email.encode() + b\"&uid=10&role=user\"\n",
    "    \n",
    "    def encrypt(self,email):\n",
    "        profile = self.profile_for(email)\n",
    "        if profile != \"\":\n",
    "            return AES_ECB_encrypt(profile,key)\n",
    "\n",
    "    def decrypt(self,encprof):\n",
    "        return AES_ECB_decrypt(encprof,key).decode().strip(\"\\x04\")"
   ]
  },
  {
   "cell_type": "code",
   "execution_count": 66,
   "id": "creative-orientation",
   "metadata": {},
   "outputs": [
    {
     "name": "stdout",
     "output_type": "stream",
     "text": [
      "{'foo': 'bar', 'baz': 'qux', 'zap': 'zazzle'}\n",
      "b'email=foo@bar.com&uid=10&role=user'\n"
     ]
    }
   ],
   "source": [
    "profile = Profile()\n",
    "\n",
    "print(profile.parse(\"foo=bar&baz=qux&zap=zazzle\"))\n",
    "\n",
    "print(profile.profile_for(\"foo@bar.com\"))"
   ]
  },
  {
   "cell_type": "code",
   "execution_count": 67,
   "id": "binding-swaziland",
   "metadata": {},
   "outputs": [
    {
     "name": "stdout",
     "output_type": "stream",
     "text": [
      "email=foo@bar.com&uid=10&role=user\n"
     ]
    }
   ],
   "source": [
    "encprof = profile.encrypt(\"foo@bar.com\")\n",
    "print(profile.decrypt(encprof))"
   ]
  },
  {
   "cell_type": "markdown",
   "id": "selective-hawaii",
   "metadata": {},
   "source": [
    "### Attack"
   ]
  },
  {
   "cell_type": "code",
   "execution_count": 73,
   "id": "rotary-interpretation",
   "metadata": {},
   "outputs": [],
   "source": [
    "def splitBlocks(string,bsize):\n",
    "    return [ string[i:i+bsize] for i in range(0,len(string),bsize) ]"
   ]
  },
  {
   "cell_type": "code",
   "execution_count": 80,
   "id": "referenced-orientation",
   "metadata": {},
   "outputs": [
    {
     "name": "stdout",
     "output_type": "stream",
     "text": [
      "Attack email: fffoo@bar.com\n",
      "[b'email=fffoo@bar.', b'com&uid=10&role=', b'user']\n"
     ]
    }
   ],
   "source": [
    "# Guessing the block size\n",
    "bsize = guessSize(profile)\n",
    "\n",
    "# Forging a fake email to get the 'user' role at the beginning of a block. \n",
    "# Since blockas are encoded separately I could then replace that (encoded) \n",
    "# 'user' block only with the (encoded) 'admin' role\n",
    "\n",
    "attack_email = \"foo@bar.com\"\n",
    "attack_target = b'user'\n",
    "\n",
    "while True:\n",
    "    prof = profile.profile_for(attack_email)\n",
    "    if splitBlocks(prof,bsize)[-1] == attack_target:\n",
    "        print(\"Attack email:\",attack_email)\n",
    "        break\n",
    "    attack_email = \"f\"+attack_email\n",
    "    \n",
    "print(splitBlocks(prof,bsize))"
   ]
  },
  {
   "cell_type": "code",
   "execution_count": 81,
   "id": "young-violation",
   "metadata": {},
   "outputs": [
    {
     "name": "stdout",
     "output_type": "stream",
     "text": [
      "b',+J$\\x82\\xbc\\xd6\\x11\\xcfD8\\x9c\\x1cp\\x07!J}6D?\\xb6a\\xc0G\\x97f_\\x9e\\xc7\\xc2\\x0c\\xe5p\\x8d:\\xb1\\xb5\\x0f\\xc8V\\x01m!\\xd6\\xb7~\\x83'\n",
      "48\n"
     ]
    }
   ],
   "source": [
    "cipher_user = profile.encrypt(attack_email)\n",
    "print(cipher_user)\n",
    "print(len(cipher_user))"
   ]
  },
  {
   "cell_type": "code",
   "execution_count": 84,
   "id": "piano-disney",
   "metadata": {},
   "outputs": [
    {
     "name": "stdout",
     "output_type": "stream",
     "text": [
      "[b'email=ffffffffff', b'ffffffoo@bar.com', b'admin\\x04\\x04\\x04\\x04\\x04\\x04\\x04\\x04\\x04\\x04\\x04', b'&uid=10&role=use', b'r']\n"
     ]
    }
   ],
   "source": [
    "attack_role = b'admin'\n",
    "\n",
    "# padding attack role to fill one block\n",
    "\n",
    "attack_block = pkcs7(attack_role,bsize)\n",
    "\n",
    "# devoting two blocks to forged email, so that attack role (admin)\n",
    "# will be at tbe beginning of third block\n",
    "\n",
    "prepend = \"email=\"\n",
    "attack_email_2 = (bsize-len(prepend))*b\"f\"+(bsize-len(b\"foo@bar.com\"))*b\"f\"+b\"foo@bar.com\"\n",
    "prof_attack = profile.profile_for( (attack_email_2+attack_block).decode() )\n",
    "print(splitBlocks(prof_attack,bsize))"
   ]
  },
  {
   "cell_type": "code",
   "execution_count": 87,
   "id": "accepted-arthritis",
   "metadata": {},
   "outputs": [
    {
     "data": {
      "text/plain": [
       "b'\\xc3\\xd9\\xcb\\xd2\\xe2\\x89\\xa9N\\xde\\n\\x98\\x91)\\x82\"K'"
      ]
     },
     "execution_count": 87,
     "metadata": {},
     "output_type": "execute_result"
    }
   ],
   "source": [
    "# Getting the cipher for the forged email address\n",
    "\n",
    "encprof_attackrole = profile.encrypt( (attack_email_2+attack_block).decode() )\n",
    "\n",
    "splitBlocks(encprof_attackrole,bsize)[2]"
   ]
  },
  {
   "cell_type": "code",
   "execution_count": 89,
   "id": "textile-mailman",
   "metadata": {},
   "outputs": [
    {
     "data": {
      "text/plain": [
       "b',+J$\\x82\\xbc\\xd6\\x11\\xcfD8\\x9c\\x1cp\\x07!J}6D?\\xb6a\\xc0G\\x97f_\\x9e\\xc7\\xc2\\x0c\\xc3\\xd9\\xcb\\xd2\\xe2\\x89\\xa9N\\xde\\n\\x98\\x91)\\x82\"K'"
      ]
     },
     "execution_count": 89,
     "metadata": {},
     "output_type": "execute_result"
    }
   ],
   "source": [
    "# merging blocks from forged 'user' profile with block from admin attack\n",
    "\n",
    "encprof_attack = b\"\".join(splitBlocks(cipher_user,bsize)[:2]+[splitBlocks(encprof_attackrole,bsize)[2]] )\n",
    "encprof_attack"
   ]
  },
  {
   "cell_type": "code",
   "execution_count": 91,
   "id": "formal-techno",
   "metadata": {},
   "outputs": [
    {
     "data": {
      "text/plain": [
       "'email=fffoo@bar.com&uid=10&role=admin'"
      ]
     },
     "execution_count": 91,
     "metadata": {},
     "output_type": "execute_result"
    }
   ],
   "source": [
    "profile.decrypt(encprof_attack)"
   ]
  },
  {
   "cell_type": "code",
   "execution_count": null,
   "id": "associate-agriculture",
   "metadata": {},
   "outputs": [],
   "source": []
  }
 ],
 "metadata": {
  "kernelspec": {
   "display_name": "Python 3",
   "language": "python",
   "name": "python3"
  },
  "language_info": {
   "codemirror_mode": {
    "name": "ipython",
    "version": 3
   },
   "file_extension": ".py",
   "mimetype": "text/x-python",
   "name": "python",
   "nbconvert_exporter": "python",
   "pygments_lexer": "ipython3",
   "version": "3.9.9"
  }
 },
 "nbformat": 4,
 "nbformat_minor": 5
}
