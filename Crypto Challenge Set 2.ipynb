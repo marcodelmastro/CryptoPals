{
 "cells": [
  {
   "cell_type": "markdown",
   "id": "infrared-physics",
   "metadata": {},
   "source": [
    "# Crypto Challenge Set 2\n",
    "\n",
    "## 9. Implement PKCS#7 padding\n",
    "\n",
    "https://cryptopals.com/sets/2/challenges/9"
   ]
  },
  {
   "cell_type": "code",
   "execution_count": 1,
   "id": "terminal-underwear",
   "metadata": {},
   "outputs": [],
   "source": [
    "def pkcs7(block,blocksize,pad=b'\\x04'):\n",
    "    return block+max(0,(blocksize-len(block)))*pad"
   ]
  },
  {
   "cell_type": "code",
   "execution_count": 2,
   "id": "conceptual-environment",
   "metadata": {},
   "outputs": [
    {
     "data": {
      "text/plain": [
       "b'YELLOW SUBMARINE\\x04\\x04\\x04\\x04'"
      ]
     },
     "execution_count": 2,
     "metadata": {},
     "output_type": "execute_result"
    }
   ],
   "source": [
    "block = b\"YELLOW SUBMARINE\"\n",
    "pkcs7(block,20)"
   ]
  },
  {
   "cell_type": "markdown",
   "id": "considerable-prevention",
   "metadata": {},
   "source": [
    "## 10. Implement CBC mode\n",
    "\n",
    "https://cryptopals.com/sets/2/challenges/10\n",
    "\n",
    "https://en.wikipedia.org/wiki/Block_cipher_mode_of_operation#Cipher_block_chaining_(CBC)"
   ]
  },
  {
   "cell_type": "code",
   "execution_count": 3,
   "id": "independent-blast",
   "metadata": {},
   "outputs": [],
   "source": [
    "from Crypto.Cipher import AES\n",
    "\n",
    "def fixedXOR(a,b):\n",
    "    return bytes([an^bn for an,bn in zip(a,b)])\n",
    "\n",
    "def AES_CBC_decrypt(cipher,key):\n",
    "    aes = AES.new(key, AES.MODE_ECB)\n",
    "    bsize = len(key)\n",
    "    IV = bsize*b\"\\x00\"\n",
    "    blocks = [ cipher[i:i+bsize] for i in range(0,len(cipher),bsize) ]\n",
    "    plaintext = \"\"\n",
    "    for i in range(len(blocks)):\n",
    "        # decrypt block with AES ECB mode\n",
    "        dec = aes.decrypt(blocks[i])\n",
    "        # XOR with IV or previous cipher block\n",
    "        dec = fixedXOR(dec,IV) if i==0 else fixedXOR(dec,blocks[i-1])\n",
    "        plaintext += \"\".join([chr(c) for c in dec])\n",
    "    return plaintext"
   ]
  },
  {
   "cell_type": "code",
   "execution_count": 4,
   "id": "mechanical-conflict",
   "metadata": {},
   "outputs": [
    {
     "name": "stdout",
     "output_type": "stream",
     "text": [
      "I'm back and I'm ringin' the bell \n",
      "A rockin' on the mike while the fly girls yell \n",
      "In ecstasy in the back of me \n",
      "Well that's my DJ Deshay cuttin' all them Z's \n",
      "Hittin' hard and the girlies goin' crazy \n",
      "Vanilla's on the mike, man I'm not lazy\n"
     ]
    }
   ],
   "source": [
    "from binascii import a2b_base64\n",
    "\n",
    "key = b\"YELLOW SUBMARINE\"\n",
    "\n",
    "with open(\"input/10.txt\") as f:\n",
    "    cipher = a2b_base64(f.read().replace(\"\\n\",\"\"))\n",
    "    plaintext = AES_CBC_decrypt(cipher,key)\n",
    "    print(plaintext[0:241])\n",
    "    \n",
    "with open('input/plaintext.txt', 'w') as f:\n",
    "    f.write(plaintext)"
   ]
  },
  {
   "cell_type": "code",
   "execution_count": 5,
   "id": "sunrise-kernel",
   "metadata": {},
   "outputs": [],
   "source": [
    "import binascii\n",
    "\n",
    "def AES_CBC_encrypt(plaintext,key,IV=None):\n",
    "    aes = AES.new(key, AES.MODE_ECB)\n",
    "    bsize = len(key)\n",
    "    if IV==None:\n",
    "        IV = bsize*b\"\\x00\"\n",
    "    plainb = bytes(plaintext.encode()) # convert plaintext to bytes\n",
    "    if len(plainb)%bsize: # padding to multiple of block size if needed \n",
    "        plainb = pkcs7(plainb,len(plainb)+bsize-len(plainb)%bsize)\n",
    "    blocks = [ plainb[i:i+bsize] for i in range(0,len(plainb),bsize) ]\n",
    "    ciphbl = []\n",
    "    cipher = b\"\"\n",
    "    for i in range(len(blocks)):\n",
    "        # XOR with IV or previous cipher block\n",
    "        b = fixedXOR(blocks[i],IV) if i==0 else fixedXOR(blocks[i],ciphbl[i-1])\n",
    "        # encrypt IVed block with AES ECB mode\n",
    "        enc = aes.encrypt(b)\n",
    "        ciphbl.append(enc)\n",
    "        cipher += enc\n",
    "    return cipher"
   ]
  },
  {
   "cell_type": "code",
   "execution_count": 6,
   "id": "rising-hunger",
   "metadata": {},
   "outputs": [
    {
     "name": "stdout",
     "output_type": "stream",
     "text": [
      "I'm back and I'm ringin' the bell \n",
      "A rockin' on the mike while the fly girls yell \n",
      "In ecstasy in the back of me \n",
      "Well that's my DJ Deshay cuttin' all them Z's \n",
      "Hittin' hard and the girlies goin' crazy \n",
      "Vanilla's on the mike, man I'm not lazy\n"
     ]
    }
   ],
   "source": [
    "cipher = AES_CBC_encrypt(plaintext,key)\n",
    "plaintext = AES_CBC_decrypt(cipher,key)\n",
    "print(plaintext[0:241])"
   ]
  },
  {
   "cell_type": "markdown",
   "id": "worldwide-dispute",
   "metadata": {},
   "source": [
    "## 11. An ECB/CBC detection oracle\n",
    "\n",
    "https://cryptopals.com/sets/2/challenges/11"
   ]
  },
  {
   "cell_type": "code",
   "execution_count": 7,
   "id": "sonic-vietnamese",
   "metadata": {},
   "outputs": [
    {
     "data": {
      "text/plain": [
       "b'G\\xb4,i\\x04\\xd3%P\\xf0\\x17\\xf1\\xd5H\\xd1\\x86/'"
      ]
     },
     "execution_count": 7,
     "metadata": {},
     "output_type": "execute_result"
    }
   ],
   "source": [
    "# Write a function to generate a random AES key; that's just 16 random bytes.\n",
    "# os.urandom() return a string of size random bytes suitable for cryptographic use.\n",
    "# https://docs.python.org/3.8/library/os.html#os.urandom\n",
    "\n",
    "import os\n",
    "\n",
    "def randAESkey(keylen=16):\n",
    "    return os.urandom(keylen)\n",
    "\n",
    "randAESkey()"
   ]
  },
  {
   "cell_type": "code",
   "execution_count": 8,
   "id": "heated-sword",
   "metadata": {},
   "outputs": [],
   "source": [
    "# Write a function that encrypts data under an unknown key, e.g. a function that generates a random key \n",
    "# and encrypts under it. Under the hood, have the function append 5-10 bytes (count chosen randomly) \n",
    "# before the plaintext and 5-10 bytes after the plaintext. Have the function choose to encrypt under \n",
    "# ECB 1/2 the time, and under CBC the other half (just use random IVs each time for CBC). \n",
    "\n",
    "import os\n",
    "import random\n",
    "from Crypto.Cipher import AES\n",
    "\n",
    "def encryption_oracle(plaintext):\n",
    "    # generate a 16-bytes random key\n",
    "    keysize = 16\n",
    "    key = os.urandom(keysize)\n",
    "    plainb = bytes(plaintext.encode()) # plaintext in bytes\n",
    "    # prepend and append bytes\n",
    "    plainb = os.urandom(random.randint(5,10))+plainb+os.urandom(random.randint(5,10)) \n",
    "    # pad the plaintext to a multiple of keysize\n",
    "    if len(plainb)%keysize:\n",
    "        plainb = pkcs7(plainb,len(plainb)+keysize-len(plainb)%keysize)\n",
    "    cipher = \"\"\n",
    "    mode = random.randint(0,1)\n",
    "    if mode==1: # encrypt under ECB\n",
    "        aes_ecb = AES.new(key, AES.MODE_ECB)\n",
    "        cipher = aes_ecb.encrypt(plainb)\n",
    "    else: # encrypt under CBC\n",
    "        IV = os.urandom(keysize)\n",
    "        aes_cbc = AES.new(key, AES.MODE_CBC, IV) \n",
    "        cipher = aes_cbc.encrypt(plainb)\n",
    "    return mode, cipher"
   ]
  },
  {
   "cell_type": "code",
   "execution_count": 9,
   "id": "swiss-spirit",
   "metadata": {},
   "outputs": [],
   "source": [
    "mode, cipher = encryption_oracle(plaintext)"
   ]
  },
  {
   "cell_type": "code",
   "execution_count": 10,
   "id": "opponent-tract",
   "metadata": {},
   "outputs": [],
   "source": [
    "# Detect the block cipher mode the function is using each time. \n",
    "\n",
    "def isAESECB(cipher,blocksize=16):\n",
    "    blocks = [ cipher[i:i+blocksize] for i in range(0,len(cipher),blocksize) ]\n",
    "    return bool(len(blocks) - len(set(blocks)))"
   ]
  },
  {
   "cell_type": "code",
   "execution_count": 12,
   "id": "fuzzy-politics",
   "metadata": {},
   "outputs": [
    {
     "name": "stdout",
     "output_type": "stream",
     "text": [
      "0 False\n",
      "1 True\n",
      "0 False\n",
      "1 True\n",
      "1 True\n",
      "1 True\n",
      "0 False\n",
      "1 True\n",
      "1 True\n",
      "1 True\n",
      "70.0\n"
     ]
    }
   ],
   "source": [
    "ntot = 10\n",
    "necb = 0\n",
    "\n",
    "# This is the poem provided as ciphertext at challenge 10. No problem in guessing the cipher mode with it!\n",
    "with open(\"input/plaintext.txt\") as f:\n",
    "    plaintext = f.read().strip(\"\\n\")\n",
    "\n",
    "# This plaintext is too short and with no repetitions, it's impossible to detect ECB mode! \n",
    "#plaintext = \"the quick brown fox jumps over the lazy dog\"\n",
    "\n",
    "# This is an abtract of an ATLAS paper (a real life text!): \n",
    "# it's relatively long, with some repetitions (but not many). Detection does not work :-(\n",
    "#with open(\"input/HIGG-2018-51_abstract.txt\") as f:\n",
    "#    plaintext = f.read().strip(\"\\n\")\n",
    "\n",
    "#print(plaintext)\n",
    "\n",
    "for _ in range(ntot):\n",
    "    mode, cipher = encryption_oracle(plaintext) # mode is the true encryption used (0 = CBC, 1 = ECB)\n",
    "    pred = isAESECB(cipher)\n",
    "    necb += pred\n",
    "    print(mode,pred)\n",
    "\n",
    "print(100*necb/ntot)"
   ]
  },
  {
   "cell_type": "markdown",
   "id": "interpreted-circus",
   "metadata": {},
   "source": [
    "## 12. Byte-at-a-time ECB decryption (Simple)\n",
    "\n",
    "https://cryptopals.com/sets/2/challenges/12"
   ]
  },
  {
   "cell_type": "code",
   "execution_count": 13,
   "id": "violent-publicity",
   "metadata": {},
   "outputs": [],
   "source": [
    "import binascii\n",
    "import os\n",
    "import random\n",
    "from Crypto.Cipher import AES\n",
    "\n",
    "def AES_ECB(mystring,unknown_str,key):\n",
    "    plainb = (mystring+unknown_str).encode()\n",
    "    # pad plaintext to multiple of keysize if needed\n",
    "    keysize = len(key)\n",
    "    if len(plainb)%keysize: \n",
    "        plainb = pkcs7(plainb,len(plainb)+keysize-len(plainb)%keysize)\n",
    "    # encode\n",
    "    aes_ecb = AES.new(key,AES.MODE_ECB)\n",
    "    return aes_ecb.encrypt(plainb)"
   ]
  },
  {
   "cell_type": "code",
   "execution_count": 16,
   "id": "amazing-singing",
   "metadata": {},
   "outputs": [
    {
     "data": {
      "text/plain": [
       "b'p\\xee\\x85\\x91\\xe8\\xfdE}\\xc5X\\xd7\\xc4\\xc6FF\\xfbM\\xccY\\x02\\x8d\\x80h\\x8b\\xa7\\xf5\\xb5\\xe4\\xcc\\xd6\\xb8\\xcb.\\x9d\\x91,\\xc8\\x9b\\x0c\\xf0\\xa0\\\\PN\\xdb\\x9c\\x1b{K\\x98\\x1f\\xda7\"r(u\\xcf\\x87\\xae\\xf82\\xd9\\xba\\x81v\\xaf\\xec\\xb2\\xd6\\x19\\xb4y\\x00h\\xbf\\xbb\\x94\\x14\\xa6\\xa1\\xfd\\x94\\xbc\\x16w\\x84\\xdd\\xb8\\xc7\\x16\\xa4 VgI\\x9c\\x104\\xb0.\\xb8\\xbd\\xbc\\xe4/\\x03c\\x17\\x83F\\xc7\\xce\\xd7\\x8e\\xfa)B\\xc1\\x17\\xe2\\x04\\xbd\\x01\\xea\\x87\\x07\\x81\\x93A?f\\xa7\\xfb\\xf2\\x9a|.2\\x0c\\x9a\\xb0%j'"
      ]
     },
     "execution_count": 16,
     "metadata": {},
     "output_type": "execute_result"
    }
   ],
   "source": [
    "unknown = \"Um9sbGluJyBpbiBteSA1LjAKV2l0aCBteSByYWctdG9wIGRvd24gc28gbXkgaGFpciBjYW4gYmxvdwpUaGUgZ2lybGllcyBvbiBzdGFuZGJ5IHdhdmluZyBqdXN0IHRvIHNheSBoaQpEaWQgeW91IHN0b3A/IE5vLCBJIGp1c3QgZHJvdmUgYnkK\"\n",
    "unknown_bin = binascii.a2b_base64(unknown)\n",
    "unknown_str = unknown_bin.decode()\n",
    "\n",
    "keysize = 16\n",
    "key = os.urandom(keysize) # will use this (unknown) key for all the attacks\n",
    "\n",
    "AES_ECB(\"\",unknown_str,key)"
   ]
  },
  {
   "cell_type": "code",
   "execution_count": 19,
   "id": "unique-aquarium",
   "metadata": {},
   "outputs": [
    {
     "name": "stdout",
     "output_type": "stream",
     "text": [
      "Block size = 16\n"
     ]
    }
   ],
   "source": [
    "# Discover the block size of the cipher\n",
    "my_string = \"\"\n",
    "cipher0 = AES_ECB(my_string,unknown_str,key)\n",
    "cipher=cipher0\n",
    "while len(cipher0)==len(cipher):\n",
    "    my_string += \"A\"\n",
    "    cipher = AES_ECB(my_string,unknown_str,key)\n",
    "bsize = len(cipher)-len(cipher0)\n",
    "print(\"Block size =\",bsize)"
   ]
  },
  {
   "cell_type": "code",
   "execution_count": 20,
   "id": "parental-hawaii",
   "metadata": {},
   "outputs": [
    {
     "name": "stdout",
     "output_type": "stream",
     "text": [
      "Is the function using ECB? True\n"
     ]
    }
   ],
   "source": [
    "# Detect that the function is using ECB\n",
    "\n",
    "# feed the oracle function with a string twice as long as the block size\n",
    "# to ensure that repetitions would be visible regardless of the content of \n",
    "# the unknown string\n",
    "\n",
    "my_string = 2*bsize*\"A\" \n",
    "cipher = AES_ECB(my_string,unknown_str,key)\n",
    "pred = isAESECB(cipher)\n",
    "print(\"Is the function using ECB?\", pred)"
   ]
  },
  {
   "cell_type": "code",
   "execution_count": 21,
   "id": "dental-politics",
   "metadata": {},
   "outputs": [
    {
     "data": {
      "text/plain": [
       "16"
      ]
     },
     "execution_count": 21,
     "metadata": {},
     "output_type": "execute_result"
    }
   ],
   "source": [
    "# Knowing the block size, craft an input block that is exactly 1 byte short \n",
    "# Think about what the oracle function is going to put in that last byte position.\n",
    "# --> The first byte of the unknown string after encoding\n",
    "\n",
    "my_string = (bsize-1)*\"A\"\n",
    "cipher = AES_ECB(my_string,unknown_str,key)\n",
    "b = cipher[:bsize]\n",
    "binascii.b2a_base64(b)\n",
    "len(b)"
   ]
  },
  {
   "cell_type": "code",
   "execution_count": 24,
   "id": "honest-frame",
   "metadata": {},
   "outputs": [
    {
     "name": "stdout",
     "output_type": "stream",
     "text": [
      "R\n"
     ]
    }
   ],
   "source": [
    "# Make a dictionary of every possible last byte by feeding different strings to the oracle\n",
    "# remembering the first block of each invocation. Match the output of the one-byte-short \n",
    "# input to one of the entries in your dictionary. \n",
    "\n",
    "k = 1\n",
    "bytedict = {}\n",
    "for i in range(256):\n",
    "    my_string = (bsize-k)*\"A\"+chr(i)\n",
    "    cipher = AES_ECB(my_string,unknown_str,key)\n",
    "    bytedict[ cipher[:bsize] ] = i\n",
    "    \n",
    "b0 = bytedict[b]\n",
    "print(chr(b0))"
   ]
  },
  {
   "cell_type": "code",
   "execution_count": 26,
   "id": "nervous-village",
   "metadata": {},
   "outputs": [
    {
     "name": "stdout",
     "output_type": "stream",
     "text": [
      "Rollin' in my 5.0\n",
      "With my rag-top down so my hair can blow\n",
      "The girlies on standby waving just to say hi\n",
      "Did you stop? No, I just drove by\n",
      "\u0004\u0004\u0004\u0004\u0004\u0004\n"
     ]
    }
   ],
   "source": [
    "# I initially made my injection string have the block lenght, but if I want to decode the full cipher I should \n",
    "# inject a string that is as long as the cipher (thus as the plaintext plu the padding, if any)\n",
    "\n",
    "cipher = AES_ECB(\"\",unknown_str,key)\n",
    "cipsize = len(cipher)\n",
    "\n",
    "plaintext = \"\"\n",
    "\n",
    "for k in range(1,cipsize+1):\n",
    "    my_string = (cipsize-k)*\"A\"\n",
    "    cipher = AES_ECB(my_string,unknown_str,key)\n",
    "    b = cipher[:cipsize]\n",
    "    bytedic = {}\n",
    "    for i in range(256):\n",
    "        my_string = (cipsize-k)*\"A\"+plaintext+chr(i)\n",
    "        cipher_i = AES_ECB(my_string,unknown_str,key)\n",
    "        bytedic[ cipher_i[:cipsize] ] = i\n",
    "    plaintext += chr(bytedic[b])\n",
    "\n",
    "print(plaintext)"
   ]
  },
  {
   "cell_type": "code",
   "execution_count": 27,
   "id": "noble-jaguar",
   "metadata": {},
   "outputs": [
    {
     "name": "stdout",
     "output_type": "stream",
     "text": [
      "Rollin' in my 5.0\n",
      "With my rag-top down so my hair can blow\n",
      "The girlies on standby waving just to say hi\n",
      "Did you stop? No, I just drove by\n",
      "\n"
     ]
    }
   ],
   "source": [
    "print(unknown_str)"
   ]
  },
  {
   "cell_type": "code",
   "execution_count": null,
   "id": "interracial-treatment",
   "metadata": {},
   "outputs": [],
   "source": []
  }
 ],
 "metadata": {
  "kernelspec": {
   "display_name": "Python 3",
   "language": "python",
   "name": "python3"
  },
  "language_info": {
   "codemirror_mode": {
    "name": "ipython",
    "version": 3
   },
   "file_extension": ".py",
   "mimetype": "text/x-python",
   "name": "python",
   "nbconvert_exporter": "python",
   "pygments_lexer": "ipython3",
   "version": "3.9.9"
  }
 },
 "nbformat": 4,
 "nbformat_minor": 5
}
