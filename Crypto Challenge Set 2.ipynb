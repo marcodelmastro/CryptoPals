{
 "cells": [
  {
   "cell_type": "markdown",
   "id": "infrared-physics",
   "metadata": {},
   "source": [
    "# Crypto Challenge Set 2\n",
    "\n",
    "## 9. Implement PKCS#7 padding\n",
    "\n",
    "https://cryptopals.com/sets/2/challenges/9"
   ]
  },
  {
   "cell_type": "code",
   "execution_count": 1,
   "id": "terminal-underwear",
   "metadata": {},
   "outputs": [],
   "source": [
    "def pkcs7(block,blocksize,pad=b'\\x04'):\n",
    "    return block+max(0,(blocksize-len(block)))*pad"
   ]
  },
  {
   "cell_type": "code",
   "execution_count": 2,
   "id": "conceptual-environment",
   "metadata": {},
   "outputs": [
    {
     "data": {
      "text/plain": [
       "b'YELLOW SUBMARINE\\x04\\x04\\x04\\x04'"
      ]
     },
     "execution_count": 2,
     "metadata": {},
     "output_type": "execute_result"
    }
   ],
   "source": [
    "block = b\"YELLOW SUBMARINE\"\n",
    "pkcs7(block,20)"
   ]
  },
  {
   "cell_type": "markdown",
   "id": "considerable-prevention",
   "metadata": {},
   "source": [
    "## 10. Implement CBC mode\n",
    "\n",
    "https://cryptopals.com/sets/2/challenges/10\n",
    "\n",
    "https://en.wikipedia.org/wiki/Block_cipher_mode_of_operation#Cipher_block_chaining_(CBC)"
   ]
  },
  {
   "cell_type": "code",
   "execution_count": 3,
   "id": "independent-blast",
   "metadata": {},
   "outputs": [],
   "source": [
    "from Crypto.Cipher import AES\n",
    "\n",
    "def fixedXOR(a,b):\n",
    "    return bytes([an^bn for an,bn in zip(a,b)])\n",
    "\n",
    "def AES_CBC_decrypt(cipher,key):\n",
    "    aes = AES.new(key, AES.MODE_ECB)\n",
    "    bsize = len(key)\n",
    "    IV = bsize*b\"\\x00\"\n",
    "    blocks = [ cipher[i:i+bsize] for i in range(0,len(cipher),bsize) ]\n",
    "    plaintext = \"\"\n",
    "    for i in range(len(blocks)):\n",
    "        # decrypt block with AES ECB mode\n",
    "        dec = aes.decrypt(blocks[i])\n",
    "        # XOR with IV or previous cipher block\n",
    "        dec = fixedXOR(dec,IV) if i==0 else fixedXOR(dec,blocks[i-1])\n",
    "        plaintext += \"\".join([chr(c) for c in dec])\n",
    "    return plaintext"
   ]
  },
  {
   "cell_type": "code",
   "execution_count": 4,
   "id": "mechanical-conflict",
   "metadata": {},
   "outputs": [
    {
     "name": "stdout",
     "output_type": "stream",
     "text": [
      "I'm back and I'm ringin' the bell \n",
      "A rockin' on the mike while the fly girls yell \n",
      "In ecstasy in the back of me \n",
      "Well that's my DJ Deshay cuttin' all them Z's \n",
      "Hittin' hard and the girlies goin' crazy \n",
      "Vanilla's on the mike, man I'm not lazy\n"
     ]
    }
   ],
   "source": [
    "from binascii import a2b_base64\n",
    "\n",
    "key = b\"YELLOW SUBMARINE\"\n",
    "\n",
    "with open(\"input/10.txt\") as f:\n",
    "    cipher = a2b_base64(f.read().replace(\"\\n\",\"\"))\n",
    "    plaintext = AES_CBC_decrypt(cipher,key)\n",
    "    print(plaintext[0:241])\n",
    "    \n",
    "with open('input/plaintext.txt', 'w') as f:\n",
    "    f.write(plaintext)"
   ]
  },
  {
   "cell_type": "code",
   "execution_count": 5,
   "id": "sunrise-kernel",
   "metadata": {},
   "outputs": [],
   "source": [
    "import binascii\n",
    "\n",
    "def AES_CBC_encrypt(plaintext,key,IV=None):\n",
    "    aes = AES.new(key, AES.MODE_ECB)\n",
    "    bsize = len(key)\n",
    "    if IV==None:\n",
    "        IV = bsize*b\"\\x00\"\n",
    "    plainb = bytes(plaintext.encode()) # convert plaintext to bytes\n",
    "    if len(plainb)%bsize: # padding to multiple of block size if needed \n",
    "        plainb = pkcs7(plainb,len(plainb)+bsize-len(plainb)%bsize)\n",
    "    blocks = [ plainb[i:i+bsize] for i in range(0,len(plainb),bsize) ]\n",
    "    ciphbl = []\n",
    "    cipher = b\"\"\n",
    "    for i in range(len(blocks)):\n",
    "        # XOR with IV or previous cipher block\n",
    "        b = fixedXOR(blocks[i],IV) if i==0 else fixedXOR(blocks[i],ciphbl[i-1])\n",
    "        # encrypt IVed block with AES ECB mode\n",
    "        enc = aes.encrypt(b)\n",
    "        ciphbl.append(enc)\n",
    "        cipher += enc\n",
    "    return cipher"
   ]
  },
  {
   "cell_type": "code",
   "execution_count": 6,
   "id": "rising-hunger",
   "metadata": {},
   "outputs": [
    {
     "name": "stdout",
     "output_type": "stream",
     "text": [
      "I'm back and I'm ringin' the bell \n",
      "A rockin' on the mike while the fly girls yell \n",
      "In ecstasy in the back of me \n",
      "Well that's my DJ Deshay cuttin' all them Z's \n",
      "Hittin' hard and the girlies goin' crazy \n",
      "Vanilla's on the mike, man I'm not lazy\n"
     ]
    }
   ],
   "source": [
    "cipher = AES_CBC_encrypt(plaintext,key)\n",
    "plaintext = AES_CBC_decrypt(cipher,key)\n",
    "print(plaintext[0:241])"
   ]
  },
  {
   "cell_type": "markdown",
   "id": "worldwide-dispute",
   "metadata": {},
   "source": [
    "## 11. An ECB/CBC detection oracle\n",
    "\n",
    "https://cryptopals.com/sets/2/challenges/11"
   ]
  },
  {
   "cell_type": "code",
   "execution_count": 7,
   "id": "sonic-vietnamese",
   "metadata": {},
   "outputs": [
    {
     "data": {
      "text/plain": [
       "b'\\xfe\\xbf\\x83\\x04\\xbc_\\xffpG\\xe0\\xdc\\xe5\\xde?\\x15`'"
      ]
     },
     "execution_count": 7,
     "metadata": {},
     "output_type": "execute_result"
    }
   ],
   "source": [
    "# Write a function to generate a random AES key; that's just 16 random bytes.\n",
    "# os.urandom() return a string of size random bytes suitable for cryptographic use.\n",
    "# https://docs.python.org/3.8/library/os.html#os.urandom\n",
    "\n",
    "import os\n",
    "\n",
    "def randAESkey(keylen=16):\n",
    "    return os.urandom(keylen)\n",
    "\n",
    "randAESkey()"
   ]
  },
  {
   "cell_type": "code",
   "execution_count": 8,
   "id": "heated-sword",
   "metadata": {},
   "outputs": [],
   "source": [
    "# Write a function that encrypts data under an unknown key, e.g. a function that generates a random key \n",
    "# and encrypts under it. Under the hood, have the function append 5-10 bytes (count chosen randomly) \n",
    "# before the plaintext and 5-10 bytes after the plaintext. Have the function choose to encrypt under \n",
    "# ECB 1/2 the time, and under CBC the other half (just use random IVs each time for CBC). \n",
    "\n",
    "import os\n",
    "import random\n",
    "from Crypto.Cipher import AES\n",
    "\n",
    "def encryption_oracle(plaintext):\n",
    "    # generate a 16-bytes random key\n",
    "    keysize = 16\n",
    "    key = os.urandom(keysize)\n",
    "    plainb = bytes(plaintext.encode()) # plaintext in bytes\n",
    "    # prepend and append bytes\n",
    "    plainb = os.urandom(random.randint(5,10))+plainb+os.urandom(random.randint(5,10)) \n",
    "    # pad the plaintext to a multiple of keysize\n",
    "    if len(plainb)%keysize:\n",
    "        plainb = pkcs7(plainb,len(plainb)+keysize-len(plainb)%keysize)\n",
    "    cipher = \"\"\n",
    "    mode = random.randint(0,1)\n",
    "    if mode==1: # encrypt under ECB\n",
    "        aes_ecb = AES.new(key, AES.MODE_ECB)\n",
    "        cipher = aes_ecb.encrypt(plainb)\n",
    "    else: # encrypt under CBC\n",
    "        IV = os.urandom(keysize)\n",
    "        aes_cbc = AES.new(key, AES.MODE_CBC, IV) \n",
    "        cipher = aes_cbc.encrypt(plainb)\n",
    "    return mode, cipher"
   ]
  },
  {
   "cell_type": "code",
   "execution_count": 9,
   "id": "swiss-spirit",
   "metadata": {},
   "outputs": [],
   "source": [
    "mode, cipher = encryption_oracle(plaintext)"
   ]
  },
  {
   "cell_type": "code",
   "execution_count": 10,
   "id": "opponent-tract",
   "metadata": {},
   "outputs": [],
   "source": [
    "# Detect the block cipher mode the function is using each time. \n",
    "\n",
    "def isAESECB(cipher,blocksize=16):\n",
    "    blocks = [ cipher[i:i+blocksize] for i in range(0,len(cipher),blocksize) ]\n",
    "    return bool(len(blocks) - len(set(blocks)))"
   ]
  },
  {
   "cell_type": "code",
   "execution_count": 11,
   "id": "fuzzy-politics",
   "metadata": {},
   "outputs": [
    {
     "name": "stdout",
     "output_type": "stream",
     "text": [
      "1 True\n",
      "1 True\n",
      "1 True\n",
      "0 False\n",
      "1 True\n",
      "0 False\n",
      "1 True\n",
      "1 True\n",
      "1 True\n",
      "1 True\n",
      "80.0\n"
     ]
    }
   ],
   "source": [
    "ntot = 10\n",
    "necb = 0\n",
    "\n",
    "# This is the poem provided as ciphertext at challenge 10. No problem in guessing the cipher mode with it!\n",
    "with open(\"input/plaintext.txt\") as f:\n",
    "    plaintext = f.read().strip(\"\\n\")\n",
    "\n",
    "# This plaintext is too short and with no repetitions, it's impossible to detect ECB mode! \n",
    "#plaintext = \"the quick brown fox jumps over the lazy dog\"\n",
    "\n",
    "# This is an abtract of an ATLAS paper (a real life text!): \n",
    "# it's relatively long, with some repetitions (but not many). Detection does not work :-(\n",
    "#with open(\"input/HIGG-2018-51_abstract.txt\") as f:\n",
    "#    plaintext = f.read().strip(\"\\n\")\n",
    "\n",
    "#print(plaintext)\n",
    "\n",
    "for _ in range(ntot):\n",
    "    mode, cipher = encryption_oracle(plaintext) # mode is the true encryption used (0 = CBC, 1 = ECB)\n",
    "    pred = isAESECB(cipher)\n",
    "    necb += pred\n",
    "    print(mode,pred)\n",
    "\n",
    "print(100*necb/ntot)"
   ]
  },
  {
   "cell_type": "markdown",
   "id": "interpreted-circus",
   "metadata": {},
   "source": [
    "## 12. Byte-at-a-time ECB decryption (Simple)\n",
    "\n",
    "https://cryptopals.com/sets/2/challenges/12"
   ]
  },
  {
   "cell_type": "code",
   "execution_count": 12,
   "id": "violent-publicity",
   "metadata": {},
   "outputs": [],
   "source": [
    "import binascii\n",
    "import os\n",
    "import random\n",
    "from Crypto.Cipher import AES\n",
    "\n",
    "def AES_ECB_encrypt(plainb,key):\n",
    "    # pad plaintext to multiple of keysize if needed\n",
    "    keysize = len(key)\n",
    "    if len(plainb)%keysize: \n",
    "        plainb = pkcs7(plainb,len(plainb)+keysize-len(plainb)%keysize)\n",
    "    # encode\n",
    "    aes_ecb = AES.new(key,AES.MODE_ECB)\n",
    "    return aes_ecb.encrypt(plainb)\n",
    "\n",
    "def AES_ECB_decrypt(cipher,key):\n",
    "    aes_ecb = AES.new(key,AES.MODE_ECB)\n",
    "    return aes_ecb.decrypt(cipher)"
   ]
  },
  {
   "cell_type": "code",
   "execution_count": 13,
   "id": "temporal-international",
   "metadata": {},
   "outputs": [
    {
     "name": "stdout",
     "output_type": "stream",
     "text": [
      "Test\u0004\u0004\u0004\u0004\u0004\u0004\u0004\u0004\u0004\u0004\u0004\u0004\n"
     ]
    }
   ],
   "source": [
    "plain = \"Test\"\n",
    "key = os.urandom(16)\n",
    "cipher = AES_ECB_encrypt(plain.encode(),key)\n",
    "print(AES_ECB_decrypt(cipher,key).decode())"
   ]
  },
  {
   "cell_type": "code",
   "execution_count": 14,
   "id": "retained-accuracy",
   "metadata": {},
   "outputs": [],
   "source": [
    "def AES_ECB_encrypt_prepend(mystring,unknown_str,key):\n",
    "    plainb = (mystring+unknown_str).encode()\n",
    "    return AES_ECB_encrypt(plainb,key)"
   ]
  },
  {
   "cell_type": "code",
   "execution_count": 15,
   "id": "amazing-singing",
   "metadata": {},
   "outputs": [
    {
     "data": {
      "text/plain": [
       "b'\\xe0Z\\x921\\xf5\\xaatI\\xb0\\x01Pu\\xe4\\x84*\\x15b\\xbc\\xd9F\\xea\\x95\\xe8\\x88\\xfc\\xba\\xe8\\xb0\\xca\\xd2@\\x04E\\xd9\\x16\\x9d9\\xcc\\xdcG\\xf88\\x06\\x13\\xaf\\x16LS\\xfe\\xfbBAI\\xfaA\\x1c\\x04\\x80\\xc2S\\xc8\\xfe/u\\xf1\\x0e\\xc8)aTGo\\x87\\x0cXe\\xf4\\xbe\\\\\\x8fED\\xff\\xd1\\xe6\\xda1G\\x0f\\xec\\xd6}\\xf5.G3x\\xca\\xb1\\xd3\\x7f\\xa9\\xbb+\\xc7\\x8e\\xc86\\x15\\xe1\\xee\\x19\\x9e{\\xc7\\xfe\\x85%7=\\x8f\"\\x08%\\xc8\\xfc\\x983\\xa7s\\x93!\\x10)F\\xe2A\\x98=\\xec\\xec>\\x1a\\x10'"
      ]
     },
     "execution_count": 15,
     "metadata": {},
     "output_type": "execute_result"
    }
   ],
   "source": [
    "unknown = \"Um9sbGluJyBpbiBteSA1LjAKV2l0aCBteSByYWctdG9wIGRvd24gc28gbXkgaGFpciBjYW4gYmxvdwpUaGUgZ2lybGllcyBvbiBzdGFuZGJ5IHdhdmluZyBqdXN0IHRvIHNheSBoaQpEaWQgeW91IHN0b3A/IE5vLCBJIGp1c3QgZHJvdmUgYnkK\"\n",
    "unknown_bin = binascii.a2b_base64(unknown)\n",
    "unknown_str = unknown_bin.decode()\n",
    "\n",
    "keysize = 16\n",
    "key = os.urandom(keysize) # will use this (unknown) key for all the attacks\n",
    "\n",
    "AES_ECB_encrypt_prepend(\"\",unknown_str,key)"
   ]
  },
  {
   "cell_type": "code",
   "execution_count": 16,
   "id": "unique-aquarium",
   "metadata": {},
   "outputs": [
    {
     "name": "stdout",
     "output_type": "stream",
     "text": [
      "Block size = 16\n"
     ]
    }
   ],
   "source": [
    "# Discover the block size of the cipher\n",
    "my_string = \"\"\n",
    "cipher0 = AES_ECB_encrypt_prepend(my_string,unknown_str,key)\n",
    "cipher=cipher0\n",
    "while len(cipher0)==len(cipher):\n",
    "    my_string += \"A\"\n",
    "    cipher = AES_ECB_encrypt_prepend(my_string,unknown_str,key)\n",
    "bsize = len(cipher)-len(cipher0)\n",
    "print(\"Block size =\",bsize)"
   ]
  },
  {
   "cell_type": "code",
   "execution_count": 17,
   "id": "parental-hawaii",
   "metadata": {},
   "outputs": [
    {
     "name": "stdout",
     "output_type": "stream",
     "text": [
      "Is the function using ECB? True\n"
     ]
    }
   ],
   "source": [
    "# Detect that the function is using ECB\n",
    "\n",
    "# feed the oracle function with a string twice as long as the block size\n",
    "# to ensure that repetitions would be visible regardless of the content of \n",
    "# the unknown string\n",
    "\n",
    "my_string = 2*bsize*\"A\" \n",
    "cipher = AES_ECB_encrypt_prepend(my_string,unknown_str,key)\n",
    "pred = isAESECB(cipher)\n",
    "print(\"Is the function using ECB?\", pred)"
   ]
  },
  {
   "cell_type": "code",
   "execution_count": 18,
   "id": "dental-politics",
   "metadata": {},
   "outputs": [
    {
     "data": {
      "text/plain": [
       "16"
      ]
     },
     "execution_count": 18,
     "metadata": {},
     "output_type": "execute_result"
    }
   ],
   "source": [
    "# Knowing the block size, craft an input block that is exactly 1 byte short \n",
    "# Think about what the oracle function is going to put in that last byte position.\n",
    "# --> The first byte of the unknown string after encoding\n",
    "\n",
    "my_string = (bsize-1)*\"A\"\n",
    "cipher = AES_ECB_encrypt_prepend(my_string,unknown_str,key)\n",
    "b = cipher[:bsize]\n",
    "binascii.b2a_base64(b)\n",
    "len(b)"
   ]
  },
  {
   "cell_type": "code",
   "execution_count": 19,
   "id": "honest-frame",
   "metadata": {},
   "outputs": [
    {
     "name": "stdout",
     "output_type": "stream",
     "text": [
      "R\n"
     ]
    }
   ],
   "source": [
    "# Make a dictionary of every possible last byte by feeding different strings to the oracle\n",
    "# remembering the first block of each invocation. Match the output of the one-byte-short \n",
    "# input to one of the entries in your dictionary. \n",
    "\n",
    "k = 1\n",
    "bytedict = {}\n",
    "for i in range(256):\n",
    "    my_string = (bsize-k)*\"A\"+chr(i)\n",
    "    cipher = AES_ECB_encrypt_prepend(my_string,unknown_str,key)\n",
    "    bytedict[ cipher[:bsize] ] = i\n",
    "    \n",
    "b0 = bytedict[b]\n",
    "print(chr(b0))"
   ]
  },
  {
   "cell_type": "code",
   "execution_count": 20,
   "id": "nervous-village",
   "metadata": {},
   "outputs": [
    {
     "name": "stdout",
     "output_type": "stream",
     "text": [
      "Rollin' in my 5.0\n",
      "With my rag-top down so my hair can blow\n",
      "The girlies on standby waving just to say hi\n",
      "Did you stop? No, I just drove by\n",
      "\u0004\u0004\u0004\u0004\u0004\u0004\n"
     ]
    }
   ],
   "source": [
    "# I initially made my injection string have the block lenght, but if I want to decode the full cipher I should \n",
    "# inject a string that is as long as the cipher (thus as the plaintext plus the padding, if any)\n",
    "\n",
    "cipher = AES_ECB_encrypt_prepend(\"\",unknown_str,key)\n",
    "cipsize = len(cipher)\n",
    "\n",
    "plaintext = \"\"\n",
    "\n",
    "for k in range(1,cipsize+1):\n",
    "    my_string = (cipsize-k)*\"A\"\n",
    "    cipher = AES_ECB_encrypt_prepend(my_string,unknown_str,key)\n",
    "    b = cipher[:cipsize]\n",
    "    bytedic = {}\n",
    "    for i in range(256):\n",
    "        my_string = (cipsize-k)*\"A\"+plaintext+chr(i)\n",
    "        cipher_i = AES_ECB_encrypt_prepend(my_string,unknown_str,key)\n",
    "        bytedic[ cipher_i[:cipsize] ] = i\n",
    "    plaintext += chr(bytedic[b])\n",
    "\n",
    "print(plaintext)"
   ]
  },
  {
   "cell_type": "code",
   "execution_count": 21,
   "id": "noble-jaguar",
   "metadata": {},
   "outputs": [
    {
     "name": "stdout",
     "output_type": "stream",
     "text": [
      "Rollin' in my 5.0\n",
      "With my rag-top down so my hair can blow\n",
      "The girlies on standby waving just to say hi\n",
      "Did you stop? No, I just drove by\n",
      "\n"
     ]
    }
   ],
   "source": [
    "print(unknown_str)"
   ]
  },
  {
   "cell_type": "markdown",
   "id": "imported-ethiopia",
   "metadata": {},
   "source": [
    "## 13. ECB cut-and-paste\n",
    "\n",
    "https://cryptopals.com/sets/2/challenges/13"
   ]
  },
  {
   "cell_type": "code",
   "execution_count": 22,
   "id": "confident-swedish",
   "metadata": {},
   "outputs": [],
   "source": [
    "from Crypto.Cipher import AES\n",
    "\n",
    "class Profile:\n",
    "    def __init__(self):\n",
    "        self.key = os.urandom(16)\n",
    "        \n",
    "    def parse(self,string):\n",
    "        '''k=v parsing routine'''\n",
    "        return { i.split(\"=\")[0]: i.split(\"=\")[1] for i in string.split(\"&\") }\n",
    "    \n",
    "    def profile_for(self,email):\n",
    "        # Your \"profile_for\" function should not allow encoding metacharacters (& and =). \n",
    "        if b\"&\" in email.encode() or b\"=\" in email.encode():\n",
    "            #raise ValueError(\"Invalid email address\")\n",
    "            print(\"Invalid email address\")\n",
    "            return b\"\"\n",
    "        return b\"email=\" + email.encode() + b\"&uid=10&role=user\"\n",
    "    \n",
    "    def encrypt_profile(self,email):\n",
    "        profile = self.profile_for(email)\n",
    "        if profile != \"\":\n",
    "            return AES_ECB_encrypt(profile,key)\n",
    "\n",
    "    def decrypt_profile(self,encprof):\n",
    "        return AES_ECB_decrypt(encprof,key).decode().strip(\"\\x04\")"
   ]
  },
  {
   "cell_type": "code",
   "execution_count": 23,
   "id": "creative-orientation",
   "metadata": {},
   "outputs": [
    {
     "name": "stdout",
     "output_type": "stream",
     "text": [
      "{'foo': 'bar', 'baz': 'qux', 'zap': 'zazzle'}\n",
      "b'email=foo@bar.com&uid=10&role=user'\n"
     ]
    }
   ],
   "source": [
    "profile = Profile()\n",
    "\n",
    "print(profile.parse(\"foo=bar&baz=qux&zap=zazzle\"))\n",
    "\n",
    "print(profile.profile_for(\"foo@bar.com\"))"
   ]
  },
  {
   "cell_type": "code",
   "execution_count": 24,
   "id": "binding-swaziland",
   "metadata": {},
   "outputs": [
    {
     "name": "stdout",
     "output_type": "stream",
     "text": [
      "email=foo@bar.com&uid=10&role=user\n"
     ]
    }
   ],
   "source": [
    "encprof = profile.encrypt_profile(\"foo@bar.com\")\n",
    "print(profile.decrypt_profile(encprof))"
   ]
  },
  {
   "cell_type": "markdown",
   "id": "selective-hawaii",
   "metadata": {},
   "source": [
    "### Attack"
   ]
  },
  {
   "cell_type": "code",
   "execution_count": 25,
   "id": "rotary-interpretation",
   "metadata": {},
   "outputs": [],
   "source": [
    "def splitBlocks(string):\n",
    "    return [ string[i:i+bsize] for i in range(0,len(string),bsize) ]"
   ]
  },
  {
   "cell_type": "code",
   "execution_count": 26,
   "id": "referenced-orientation",
   "metadata": {},
   "outputs": [
    {
     "name": "stdout",
     "output_type": "stream",
     "text": [
      "[b'email=foooo@bar.', b'com&uid=10&role=', b'user']\n"
     ]
    }
   ],
   "source": [
    "# assuming I know the block size, I begin by forging a fake email to get the 'user' \n",
    "# role at the beginning of a block. Since blockas are encoded separately \n",
    "# I could then replace that (encoded) 'user' block only with the (encoded) 'admin' role\n",
    "\n",
    "bsize = 16\n",
    "\n",
    "attack_email = \"foooo@bar.com\"\n",
    "prof = profile.profile_for(attack_email)\n",
    "print(splitBlocks(prof))"
   ]
  },
  {
   "cell_type": "code",
   "execution_count": 27,
   "id": "young-violation",
   "metadata": {},
   "outputs": [
    {
     "name": "stdout",
     "output_type": "stream",
     "text": [
      "b'0\\xc5e\\xf6\\x9a\\t#\\x92\\x10\\xf1+\\xa3\\x02\\x08\\xb3D\\xc2\\xb4\\xc0\\x99\\xcbwWD\\xe3\\xde\\x04:\\x8eSo\\x13\\x8d\\x93\\x8a\\xc2\\x1c\\xd6Ed\\xc9K4]\\xe0\\xfaC\\x18'\n",
      "48\n"
     ]
    }
   ],
   "source": [
    "cipher_user = profile.encrypt_profile(attack_email)\n",
    "print(cipher_user)\n",
    "print(len(cipher_user))"
   ]
  },
  {
   "cell_type": "code",
   "execution_count": 32,
   "id": "piano-disney",
   "metadata": {},
   "outputs": [
    {
     "name": "stdout",
     "output_type": "stream",
     "text": [
      "[b'email=ffffffffff', b'ffffffoo@bar.com', b'admin\\x04\\x04\\x04\\x04\\x04\\x04\\x04\\x04\\x04\\x04\\x04', b'&uid=10&role=use', b'r']\n"
     ]
    }
   ],
   "source": [
    "attack_role = b'admin'\n",
    "\n",
    "# padding attack role to fill one block\n",
    "attack_block = pkcs7(attack_role,bsize)\n",
    "\n",
    "# devoting two blocks to forged email, so that attack role will be at tbe beginning of third block\n",
    "prepend = \"email=\"\n",
    "attack_email_2 = (bsize-len(prepend))*b\"f\"+(bsize-len(b\"foo@bar.com\"))*b\"f\"+b\"foo@bar.com\"\n",
    "prof_attack = profile.profile_for( (attack_email_2+attack_block).decode() )\n",
    "print(splitBlocks(prof_attack))"
   ]
  },
  {
   "cell_type": "code",
   "execution_count": 33,
   "id": "accepted-arthritis",
   "metadata": {},
   "outputs": [
    {
     "data": {
      "text/plain": [
       "b'f\\xa6\\x82\\xa4\\x15\\x8f/\\x9a\\xcc\\x89\"q\\x9e\\xda3g'"
      ]
     },
     "execution_count": 33,
     "metadata": {},
     "output_type": "execute_result"
    }
   ],
   "source": [
    "# Getting the cipher for the forged email address\n",
    "\n",
    "encprof_attackrole = profile.encrypt_profile( (attack_email_2+attack_block).decode() )\n",
    "\n",
    "splitBlocks(encprof_attackrole)[2]"
   ]
  },
  {
   "cell_type": "code",
   "execution_count": 34,
   "id": "textile-mailman",
   "metadata": {},
   "outputs": [
    {
     "data": {
      "text/plain": [
       "b'0\\xc5e\\xf6\\x9a\\t#\\x92\\x10\\xf1+\\xa3\\x02\\x08\\xb3D\\xc2\\xb4\\xc0\\x99\\xcbwWD\\xe3\\xde\\x04:\\x8eSo\\x13f\\xa6\\x82\\xa4\\x15\\x8f/\\x9a\\xcc\\x89\"q\\x9e\\xda3g'"
      ]
     },
     "execution_count": 34,
     "metadata": {},
     "output_type": "execute_result"
    }
   ],
   "source": [
    "# merging blocks from forged 'user' profile with block from admin attack\n",
    "\n",
    "encprof_attack = b\"\".join(splitBlocks(cipher_user)[:2]+[splitBlocks(encprof_attackrole)[2]] )\n",
    "encprof_attack"
   ]
  },
  {
   "cell_type": "code",
   "execution_count": 35,
   "id": "formal-techno",
   "metadata": {},
   "outputs": [
    {
     "data": {
      "text/plain": [
       "'email=foooo@bar.com&uid=10&role=admin'"
      ]
     },
     "execution_count": 35,
     "metadata": {},
     "output_type": "execute_result"
    }
   ],
   "source": [
    "profile.decrypt_profile(encprof_attack)"
   ]
  },
  {
   "cell_type": "code",
   "execution_count": null,
   "id": "incorrect-color",
   "metadata": {},
   "outputs": [],
   "source": []
  }
 ],
 "metadata": {
  "kernelspec": {
   "display_name": "Python 3",
   "language": "python",
   "name": "python3"
  },
  "language_info": {
   "codemirror_mode": {
    "name": "ipython",
    "version": 3
   },
   "file_extension": ".py",
   "mimetype": "text/x-python",
   "name": "python",
   "nbconvert_exporter": "python",
   "pygments_lexer": "ipython3",
   "version": "3.9.9"
  }
 },
 "nbformat": 4,
 "nbformat_minor": 5
}
