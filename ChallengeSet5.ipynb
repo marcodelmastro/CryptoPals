{
 "cells": [
  {
   "cell_type": "markdown",
   "id": "f3b2d674-572c-4a94-89be-964a1385dfea",
   "metadata": {},
   "source": [
    "# Cryptopals Challenge Set 5\n",
    "\n",
    "https://cryptopals.com/sets/5\n",
    "\n",
    "## 33. Implement Diffie-Hellman\n",
    "\n",
    "https://cryptopals.com/sets/5/challenges/33\n",
    "https://en.wikipedia.org/wiki/Diffie–Hellman_key_exchange"
   ]
  },
  {
   "cell_type": "code",
   "execution_count": 81,
   "id": "e2741e99-5707-4090-8b7d-036f9a86b959",
   "metadata": {},
   "outputs": [
    {
     "name": "stdout",
     "output_type": "stream",
     "text": [
      "True\n"
     ]
    }
   ],
   "source": [
    "import random\n",
    "\n",
    "# public parameters\n",
    "p = 37\n",
    "g = 5\n",
    "\n",
    "# secret keys\n",
    "a = random.randint(0,p-1)\n",
    "b = random.randint(0,p-1)\n",
    "\n",
    "# public keys\n",
    "A = pow(g,a,p)\n",
    "B = pow(g,b,p)\n",
    "\n",
    "# common secret key\n",
    "print(pow(B,a,p)==pow(A,b,p))"
   ]
  },
  {
   "cell_type": "code",
   "execution_count": 82,
   "id": "60a49992-cf64-4f11-9b7e-90d33481af0a",
   "metadata": {},
   "outputs": [
    {
     "name": "stdout",
     "output_type": "stream",
     "text": [
      "True\n"
     ]
    }
   ],
   "source": [
    "p = b\"ffffffffffffffffc90fdaa22168c234c4c6628b80dc1cd129024e088a67cc74020bbea63b139b22514a08798e3404ddef9519b3cd 3a431b302b0a6df25f14374fe1356d6d51c245e485b576625e7ec 6f44c42e9a637ed6b0bff5cb6f406b7edee386bfb5a899fa5ae9f 24117c4b1fe649286651ece45b3dc2007cb8a163bf0598da48361 c55d39a69163fa8fd24cf5f83655d23dca3ad961c62f356208552 bb9ed529077096966d670c354e4abc9804f1746c08ca237327ffffffffffffffff\"\n",
    "p = int.from_bytes(p)\n",
    "g = 2\n",
    "a = random.randint(0,p-1)\n",
    "b = random.randint(0,p-1)\n",
    "A = pow(g,a,p)\n",
    "B = pow(g,b,p)\n",
    "print(pow(B,a,p)==pow(A,b,p))"
   ]
  },
  {
   "cell_type": "code",
   "execution_count": null,
   "id": "c87e3003-36f3-4521-8977-4928b8922502",
   "metadata": {},
   "outputs": [],
   "source": []
  }
 ],
 "metadata": {
  "kernelspec": {
   "display_name": "Python 3 (ipykernel)",
   "language": "python",
   "name": "python3"
  },
  "language_info": {
   "codemirror_mode": {
    "name": "ipython",
    "version": 3
   },
   "file_extension": ".py",
   "mimetype": "text/x-python",
   "name": "python",
   "nbconvert_exporter": "python",
   "pygments_lexer": "ipython3",
   "version": "3.12.2"
  }
 },
 "nbformat": 4,
 "nbformat_minor": 5
}
