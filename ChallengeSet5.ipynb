{
 "cells": [
  {
   "cell_type": "markdown",
   "id": "f3b2d674-572c-4a94-89be-964a1385dfea",
   "metadata": {},
   "source": [
    "# Cryptopals Challenge Set 5\n",
    "\n",
    "https://cryptopals.com/sets/5\n",
    "\n",
    "## 33. Implement Diffie-Hellman\n",
    "\n",
    "https://cryptopals.com/sets/5/challenges/33\n",
    "\n",
    "https://en.wikipedia.org/wiki/Diffie–Hellman_key_exchange"
   ]
  },
  {
   "cell_type": "code",
   "execution_count": 1,
   "id": "e2741e99-5707-4090-8b7d-036f9a86b959",
   "metadata": {},
   "outputs": [
    {
     "name": "stdout",
     "output_type": "stream",
     "text": [
      "True\n"
     ]
    }
   ],
   "source": [
    "import random\n",
    "\n",
    "# public parameters\n",
    "p = 37\n",
    "g = 5\n",
    "\n",
    "# secret keys\n",
    "a = random.randint(0,p-1)\n",
    "b = random.randint(0,p-1)\n",
    "\n",
    "# public keys\n",
    "A = pow(g,a,p)\n",
    "B = pow(g,b,p)\n",
    "\n",
    "# common secret key\n",
    "print(pow(B,a,p)==pow(A,b,p))"
   ]
  },
  {
   "cell_type": "code",
   "execution_count": 9,
   "id": "60a49992-cf64-4f11-9b7e-90d33481af0a",
   "metadata": {},
   "outputs": [
    {
     "name": "stdout",
     "output_type": "stream",
     "text": [
      "True\n"
     ]
    }
   ],
   "source": [
    "p = int(\n",
    "'ffffffffffffffffc90fdaa22168c234c4c6628b80dc1cd129024'\n",
    "'e088a67cc74020bbea63b139b22514a08798e3404ddef9519b3cd'\n",
    "'3a431b302b0a6df25f14374fe1356d6d51c245e485b576625e7ec'\n",
    "'6f44c42e9a637ed6b0bff5cb6f406b7edee386bfb5a899fa5ae9f'\n",
    "'24117c4b1fe649286651ece45b3dc2007cb8a163bf0598da48361'\n",
    "'c55d39a69163fa8fd24cf5f83655d23dca3ad961c62f356208552'\n",
    "'bb9ed529077096966d670c354e4abc9804f1746c08ca237327fff'\n",
    "'fffffffffffff', 16)\n",
    "\n",
    "g = 2\n",
    "\n",
    "a = random.randint(0,p-1)\n",
    "b = random.randint(0,p-1)\n",
    "\n",
    "A = pow(g,a,p)\n",
    "B = pow(g,b,p)\n",
    "\n",
    "print(pow(B,a,p)==pow(A,b,p))"
   ]
  },
  {
   "cell_type": "markdown",
   "id": "91fd941f-e586-406c-866a-8ea7fab6474c",
   "metadata": {},
   "source": [
    "## 34. Implement a MITM key-fixing attack on Diffie-Hellman with parameter injection\n",
    "\n",
    "https://cryptopals.com/sets/5/challenges/34"
   ]
  },
  {
   "cell_type": "code",
   "execution_count": 139,
   "id": "c94711ec-93eb-4e7d-a6c9-de12561216d5",
   "metadata": {},
   "outputs": [],
   "source": [
    "import os\n",
    "import random\n",
    "from Cryptodome.Cipher import AES\n",
    "from hashlib import sha1 as SHA1\n",
    "import math\n",
    "from cryptopals import pkcs7_pad, pkcs7_strip\n",
    "\n",
    "class DHA:\n",
    "    def __init__(self, \n",
    "                 p = int(\n",
    "        'ffffffffffffffffc90fdaa22168c234c4c6628b80dc1cd129024'\n",
    "        'e088a67cc74020bbea63b139b22514a08798e3404ddef9519b3cd'\n",
    "        '3a431b302b0a6df25f14374fe1356d6d51c245e485b576625e7ec'\n",
    "        '6f44c42e9a637ed6b0bff5cb6f406b7edee386bfb5a899fa5ae9f'\n",
    "        '24117c4b1fe649286651ece45b3dc2007cb8a163bf0598da48361'\n",
    "        'c55d39a69163fa8fd24cf5f83655d23dca3ad961c62f356208552'\n",
    "        'bb9ed529077096966d670c354e4abc9804f1746c08ca237327fff'\n",
    "        'fffffffffffff', 16), \n",
    "                g = 2):\n",
    "        self.p = p\n",
    "        self.g = g\n",
    "        self.a = random.randint(0,self.p-1)\n",
    "        self.A = pow(self.g, self.a, self.p)\n",
    "        self.B = None\n",
    "        self.key = None\n",
    "\n",
    "    def send_params(self):\n",
    "        return {\"p\": self.p, \"g\": self.g, \"A\": self.A}\n",
    "\n",
    "    def generate_key(self):\n",
    "        if self.B:\n",
    "            s = pow(self.B,self.a,self.p)\n",
    "            max_len = math.ceil(math.log2(self.p) / 8)\n",
    "            s_bytes = s.to_bytes(max_len, 'big')\n",
    "            self.key = SHA1(s_bytes).digest()[0:16]\n",
    "            return True\n",
    "        else:\n",
    "            print(\"Cannot generate key, please complete session initialition before!\")\n",
    "            return False\n",
    "\n",
    "    def send_message(self,message):\n",
    "        if not self.key:\n",
    "            if not self.generate_key():\n",
    "                return None\n",
    "        iv = os.urandom(16)\n",
    "        aes_cbc = AES.new(self.key,AES.MODE_CBC,iv)\n",
    "        cipher = aes_cbc.encrypt(pkcs7_pad(message))\n",
    "        return {\"cipher\": cipher, \"iv\": iv}\n",
    "\n",
    "    def receive_message(self,message,verbose=True):\n",
    "        if not self.key:\n",
    "            if not self.generate_key():\n",
    "                return None\n",
    "        aes_cbc = AES.new(self.key,AES.MODE_CBC,message[\"iv\"])\n",
    "        plaintext = pkcs7_strip(aes_cbc.decrypt(message[\"cipher\"]))\n",
    "        if verbose:\n",
    "            print(f\"A received '{plaintext.decode()}'\")\n",
    "        iv = os.urandom(16)\n",
    "        aes_cbc = AES.new(self.key,AES.MODE_CBC,iv)\n",
    "        cipher = aes_cbc.encrypt(pkcs7_pad(plaintext))\n",
    "        return {\"cipher\": cipher, \"iv\": iv}\n",
    "\n",
    "class DHB:\n",
    "    def __init__(self):\n",
    "        self.p = None\n",
    "        self.g = None\n",
    "        self.b = None\n",
    "        self.B = None\n",
    "        self.A = None\n",
    "        self.key = None\n",
    "\n",
    "    def get_params(self, params):\n",
    "        self.p = params[\"p\"]\n",
    "        self.g = params[\"g\"]\n",
    "        self.A = params[\"A\"]\n",
    "        self.b = random.randint(0,self.p-1) \n",
    "        self.B = pow(self.g, self.b, self.p)\n",
    "        return self.B\n",
    "\n",
    "    def generate_key(self):\n",
    "        if self.A:\n",
    "            s = pow(self.A,self.b,self.p)\n",
    "            max_len = math.ceil(math.log2(self.p) / 8)\n",
    "            s_bytes = s.to_bytes(max_len, 'big')\n",
    "            self.key = SHA1(s_bytes).digest()[0:16]\n",
    "            return True\n",
    "        else:\n",
    "            print(\"Cannot generate key, please complete session initialition before!\")\n",
    "            return False\n",
    "\n",
    "    def receive_message(self,message,verbose=True):\n",
    "        if not self.key:\n",
    "            if not self.generate_key():\n",
    "                return None\n",
    "        aes_cbc = AES.new(self.key,AES.MODE_CBC,message[\"iv\"])\n",
    "        plaintext = pkcs7_strip(aes_cbc.decrypt(message[\"cipher\"]))\n",
    "        if verbose:\n",
    "            print(f\"B received '{plaintext.decode()}'\")\n",
    "        iv = os.urandom(16)\n",
    "        aes_cbc = AES.new(self.key,AES.MODE_CBC,iv)\n",
    "        cipher = aes_cbc.encrypt(pkcs7_pad(plaintext))\n",
    "        return {\"cipher\": cipher, \"iv\": iv}"
   ]
  },
  {
   "cell_type": "code",
   "execution_count": 140,
   "id": "e2541439-1253-4b9b-b97c-670cd716e277",
   "metadata": {},
   "outputs": [
    {
     "name": "stdout",
     "output_type": "stream",
     "text": [
      "B received 'test message'\n",
      "A received 'test message'\n"
     ]
    }
   ],
   "source": [
    "A = DHA()\n",
    "B = DHB()\n",
    "\n",
    "# initialize session\n",
    "A.B = B.get_params( A.send_params() )\n",
    "\n",
    "# exchange message\n",
    "_ = A.receive_message( B.receive_message( A.send_message(b\"test message\") ) )"
   ]
  },
  {
   "cell_type": "markdown",
   "id": "7cd531fb-bb95-4c49-965f-d35e23c66aa5",
   "metadata": {},
   "source": [
    "### Attack \n",
    "> \"A\" and \"B\" in the protocol --- the public keys, over the wire --- have been swapped out with \"p\". \n",
    "\n",
    "`A = B = p`\n",
    "\n",
    "`s = pow(p,a,p) = pow(p,b,p)) = 0` "
   ]
  },
  {
   "cell_type": "code",
   "execution_count": 153,
   "id": "ce423a1c-628e-485c-8c1c-e7eb574ceafe",
   "metadata": {},
   "outputs": [],
   "source": [
    "class MITM:\n",
    "    def __init__(self):\n",
    "        self.p = None\n",
    "        self.g = None\n",
    "        self.b = None\n",
    "        self.B = None\n",
    "        self.A = None\n",
    "        self.key = None\n",
    "\n",
    "    def relay_params(self, params): # Receive session parameters from A\n",
    "        self.p = params[\"p\"]\n",
    "        self.g = params[\"g\"]\n",
    "        self.A = params[\"A\"]\n",
    "        self.b = random.randint(0,self.p-1) \n",
    "        self.B = pow(self.g, self.b, self.p)\n",
    "        return {\"p\": self.p, \"g\": self.g, \"A\": self.p} # Send \"p\", \"g\", \"p\" to B\n",
    "\n",
    "    def relay_B(self, B):\n",
    "        self.B = B\n",
    "        return self.p\n",
    "\n",
    "    def generate_key(self):\n",
    "        if self.p:\n",
    "            s = 0\n",
    "            max_len = math.ceil(math.log2(self.p) / 8)\n",
    "            s_bytes = s.to_bytes(max_len, 'big')\n",
    "            self.key = SHA1(s_bytes).digest()[0:16]\n",
    "            return True\n",
    "        else:\n",
    "            print(\"Cannot generate key, please complete session initialition before!\")\n",
    "            return False\n",
    "    \n",
    "    def relay_message(self,message,verbose=True):\n",
    "        if not self.key:\n",
    "            if not self.generate_key():\n",
    "                return None\n",
    "        aes_cbc = AES.new(self.key,AES.MODE_CBC,message[\"iv\"])\n",
    "        plaintext = pkcs7_strip(aes_cbc.decrypt(message[\"cipher\"]))\n",
    "        if verbose:\n",
    "            print(f\"M received '{plaintext.decode()}'\")\n",
    "        return message"
   ]
  },
  {
   "cell_type": "code",
   "execution_count": 154,
   "id": "dea7a702-c2b2-43e2-96c9-eb25902d888e",
   "metadata": {},
   "outputs": [
    {
     "name": "stdout",
     "output_type": "stream",
     "text": [
      "M received 'test message'\n",
      "B received 'test message'\n",
      "M received 'test message'\n",
      "A received 'test message'\n"
     ]
    }
   ],
   "source": [
    "A = DHA()\n",
    "B = DHB()\n",
    "M = MITM()\n",
    "\n",
    "A.B = M.relay_B( B.get_params( M.relay_params( A.send_params() )))\n",
    "\n",
    "_ = A.receive_message( M.relay_message( B.receive_message( M.relay_message( A.send_message(b\"test message\") ))))"
   ]
  },
  {
   "cell_type": "code",
   "execution_count": null,
   "id": "205dd4df-aee1-40c9-a1be-b4378058209d",
   "metadata": {},
   "outputs": [],
   "source": []
  }
 ],
 "metadata": {
  "kernelspec": {
   "display_name": "Python 3 (ipykernel)",
   "language": "python",
   "name": "python3"
  },
  "language_info": {
   "codemirror_mode": {
    "name": "ipython",
    "version": 3
   },
   "file_extension": ".py",
   "mimetype": "text/x-python",
   "name": "python",
   "nbconvert_exporter": "python",
   "pygments_lexer": "ipython3",
   "version": "3.12.2"
  }
 },
 "nbformat": 4,
 "nbformat_minor": 5
}
