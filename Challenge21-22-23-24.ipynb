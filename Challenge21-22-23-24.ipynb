{
 "cells": [
  {
   "cell_type": "markdown",
   "id": "73dd9157-776e-4058-89ec-983fa0fc723d",
   "metadata": {},
   "source": [
    "# 21. Implement the MT19937 Mersenne Twister RNG\n",
    "\n",
    "https://cryptopals.com/sets/3/challenges/21\n",
    "\n",
    "https://en.wikipedia.org/wiki/Mersenne_Twister"
   ]
  },
  {
   "cell_type": "code",
   "execution_count": 56,
   "id": "80f3f262-071f-43a3-9855-7610e3de5b29",
   "metadata": {},
   "outputs": [],
   "source": [
    "class MT19937:\n",
    "\n",
    "    # Coefficients for MT19937\n",
    "    (w, n, m, r) = (32, 624, 397, 31)\n",
    "    a = 0x9908B0DF\n",
    "    (u, d) = (11, 0xFFFFFFFF)\n",
    "    (s, b) = (7, 0x9D2C5680)\n",
    "    (t, c) = (15, 0xEFC60000)\n",
    "    l = 18\n",
    "    f = 1812433253\n",
    "\n",
    "    UMASK = 0xFFFFFFFF & (0xFFFFFFFF << r)       # Limit to 32 bits\n",
    "    LMASK = 0xFFFFFFFF & (0xFFFFFFFF >> (w - r)) # Limit to 32 bits\n",
    "\n",
    "    def __init__(self, seed: int = 19650218):\n",
    "        self.state_array = [0] * self.n  # Array for the state vector\n",
    "        self.state_index = 0            # Index into state vector array, 0 <= state_index <= n-1\n",
    "        self.initialize_state(seed)\n",
    "        self.seed = seed\n",
    "\n",
    "    def initialize_state(self, seed: int = 19650218):\n",
    "        self.state_array[0] = seed & 0xFFFFFFFF  # Limit to 32 bits\n",
    "        for i in range(1, self.n):\n",
    "            seed = (self.f * (seed ^ (seed >> (self.w - 2))) + i) & 0xFFFFFFFF # Limit to 32 bits\n",
    "            self.state_array[i] = seed\n",
    "        self.state_index = 0\n",
    "\n",
    "    def random(self):\n",
    "        k = self.state_index               # Current state location\n",
    "        j = (k - (self.n - 1)) % self.n    # n-1 iterations before\n",
    "\n",
    "        x = (self.state_array[k] & self.UMASK) | (self.state_array[j] & self.LMASK)\n",
    "        xA = x >> 1\n",
    "        if x & 0x00000001:\n",
    "            xA ^= self.a\n",
    "\n",
    "        j = (k - (self.n - self.m)) % self.n  # n-m iterations before\n",
    "        x = self.state_array[j] ^ xA          # Compute next value in the state\n",
    "\n",
    "        self.state_array[k] = x & 0xFFFFFFFF  # Limit to 32 bits\n",
    "        k = (k + 1) % self.n                  # Circular indexing\n",
    "        self.state_index = k\n",
    "\n",
    "        # Tempering\n",
    "        y = x ^ (x >> self.u)\n",
    "        y = y ^ ((y << self.s) & self.b)\n",
    "        y = y ^ ((y << self.t) & self.c)\n",
    "        z = y ^ (y >> self.l)\n",
    "        return z & 0xFFFFFFFF  # Return 32-bit integer"
   ]
  },
  {
   "cell_type": "code",
   "execution_count": 57,
   "id": "bf309f93-b8a0-46a3-be33-0b7aee79b849",
   "metadata": {},
   "outputs": [
    {
     "name": "stdout",
     "output_type": "stream",
     "text": [
      "2325592414\n",
      "482149846\n",
      "4177211283\n",
      "3872387439\n",
      "1663027210\n",
      "2005191859\n",
      "666881213\n",
      "3289399202\n",
      "2514534568\n",
      "3882134983\n"
     ]
    }
   ],
   "source": [
    "mt_random = MT19937()\n",
    "\n",
    "for _ in range(10):\n",
    "    print(mt_random.random())"
   ]
  },
  {
   "cell_type": "markdown",
   "id": "2122ea67-d646-466b-a79f-4ea13e3967f8",
   "metadata": {},
   "source": [
    "# 22. Crack an MT19937 seed\n",
    "\n",
    "https://cryptopals.com/sets/3/challenges/22"
   ]
  },
  {
   "cell_type": "code",
   "execution_count": 3,
   "id": "0e297c4a-1e42-466f-b53f-387dc659eb72",
   "metadata": {},
   "outputs": [],
   "source": [
    "import time\n",
    "import random\n",
    "\n",
    "def get_MT19937_int32(reallywait=True,tmin=40,tmax=1000):\n",
    "    '''\n",
    "    Wait a random number of seconds between 40 and 1000\n",
    "    Seeds the RNG with the current Unix timestamp\n",
    "    Waits a random number of seconds again.\n",
    "    Returns the first 32 bit output of the RNG.\n",
    "    '''\n",
    "    sleep1 = random.uniform(tmin,tmax)\n",
    "    sleep2 = random.uniform(tmin,tmax)\n",
    "    print(f\"Waiting {sleep1:2.2f} seconds...\")\n",
    "    if reallywait:\n",
    "        time.sleep(sleep1)\n",
    "        seed = int(time.time())\n",
    "    else:\n",
    "        seed = int(time.time()-sleep1-sleep2)\n",
    "    print(f\"Seedind MT19937 with current Unix time ({seed})...\")\n",
    "    mt_random = MT19937(seed)\n",
    "    print(f\"Waiting {sleep2:2.2f} seconds...\")\n",
    "    if reallywait:\n",
    "        time.sleep(sleep2)\n",
    "    rnd32 = mt_random.random()\n",
    "    print(f\"Serving random number {rnd32}\")\n",
    "    return rnd32\n",
    "\n",
    "def crack_MT19937_seed(rnd32):\n",
    "    print(\"Attempting to guess MT19937 seed...\")\n",
    "    now = int(time.time())+1\n",
    "    while True:\n",
    "        mt_random = MT19937(now)\n",
    "        _rnd = mt_random.random()\n",
    "        if rnd32==_rnd:\n",
    "            print(f\"Guessed seed: {now}\")\n",
    "            return now\n",
    "        # go back in time\n",
    "        now -= 1"
   ]
  },
  {
   "cell_type": "code",
   "execution_count": 4,
   "id": "51903afe-4328-4d7e-9cba-9754f7017927",
   "metadata": {},
   "outputs": [
    {
     "name": "stdout",
     "output_type": "stream",
     "text": [
      "Waiting 130.21 seconds...\n",
      "Seedind MT19937 with current Unix time (1736599906)...\n",
      "Waiting 827.66 seconds...\n",
      "Serving random number 3737348159\n",
      "\n",
      "Attempting to guess MT19937 seed...\n",
      "Guessed seed: 1736599906\n"
     ]
    },
    {
     "data": {
      "text/plain": [
       "1736599906"
      ]
     },
     "execution_count": 4,
     "metadata": {},
     "output_type": "execute_result"
    }
   ],
   "source": [
    "rnd32 = get_MT19937_int32(False)\n",
    "print()\n",
    "crack_MT19937_seed(rnd32)"
   ]
  },
  {
   "cell_type": "code",
   "execution_count": 5,
   "id": "12bdda7e-b8e2-4856-b390-0fb613fd00b1",
   "metadata": {},
   "outputs": [
    {
     "name": "stdout",
     "output_type": "stream",
     "text": [
      "Waiting 97.84 seconds...\n",
      "Seedind MT19937 with current Unix time (1736600970)...\n",
      "Waiting 86.33 seconds...\n",
      "Serving random number 3350459958\n",
      "\n",
      "Attempting to guess MT19937 seed...\n",
      "Guessed seed: 1736600970\n"
     ]
    },
    {
     "data": {
      "text/plain": [
       "1736600970"
      ]
     },
     "execution_count": 5,
     "metadata": {},
     "output_type": "execute_result"
    }
   ],
   "source": [
    "rnd32 = get_MT19937_int32(True,40,100)\n",
    "print()\n",
    "crack_MT19937_seed(rnd32)"
   ]
  },
  {
   "cell_type": "markdown",
   "id": "6d530716-735d-47b0-a6cc-0c56bba3b27a",
   "metadata": {},
   "source": [
    "# 23. Clone an MT19937 RNG from its output\n",
    "\n",
    "https://cryptopals.com/sets/3/challenges/23\n",
    "\n",
    "### XOR inverting\n",
    "\n",
    "Inverting Left-Shift AND XOR (e.g. `y = y ^ ((y << t) & c))`:\n",
    "\n",
    "This operation involves left-shifting $y$ by $t$ bits, ANDing it with $c$, and XORing it with $y$. To invert it:\n",
    "\n",
    "* Start with the given $z$.\n",
    "\n",
    "* Begin with the least significant bits (LSBs), since these are not affected by the left shift.\n",
    "\n",
    "* Gradually determine higher-order bits, propagating information from lower-order bits.\n",
    "The loop `for _ in range(32): y = y ^ ((y << t) & c)` ensures the dependencies from lower to higher bits are fully resolved."
   ]
  },
  {
   "cell_type": "code",
   "execution_count": 70,
   "id": "52f554f9-9554-4247-9c26-664c907b5c6b",
   "metadata": {},
   "outputs": [],
   "source": [
    "def temper(x, u, s, b, t, c, l):\n",
    "    \"\"\"\n",
    "    Applies the tempering process to the input value x.\n",
    "    \n",
    "    Parameters:\n",
    "    - x: The input value to be tempered.\n",
    "    - u, s, t, l: Shift parameters for the tempering steps.\n",
    "    - b, c: Masks used in the tempering steps.\n",
    "    \n",
    "    Returns:\n",
    "    - The tempered 32-bit integer value.\n",
    "    \"\"\"\n",
    "    y = x ^ (x >> u)               # Step 1: XOR with right shift\n",
    "    y = y ^ ((y << s) & b)         # Step 2: XOR with left shift and mask b\n",
    "    y = y ^ ((y << t) & c)         # Step 3: XOR with left shift and mask c\n",
    "    z = y ^ (y >> l)               # Step 4: XOR with right shift\n",
    "    return z & 0xFFFFFFFF          # Ensure 32-bit integer output\n",
    "\n",
    "def invert_xor_shift(value, shift, mask, direction):\n",
    "    \"\"\"\n",
    "    Inverts an XOR combined with a bitwise shift operation.\n",
    "    \n",
    "    Parameters:\n",
    "    - value: The output value from the tempering step to invert.\n",
    "    - shift: The number of bits to shift.\n",
    "    - mask: The mask applied in the original operation (use 0 for no masking).\n",
    "    - direction: The direction of the shift, either 'left' or 'right'.\n",
    "    \n",
    "    Returns:\n",
    "    - The inverted value.\n",
    "    \"\"\"\n",
    "    result = value\n",
    "    for _ in range(32):  # Iteratively resolve dependencies for all bits\n",
    "        if direction == 'right':\n",
    "            result = value ^ (result >> shift)\n",
    "        elif direction == 'left':\n",
    "            result = value ^ ((result << shift) & mask)\n",
    "    return result\n",
    "\n",
    "def inverse_temper(z, u, s, b, t, c, l):\n",
    "    \"\"\"\n",
    "    Inverts the tempering function to recover the original value x from z.\n",
    "    \n",
    "    Parameters:\n",
    "    - z: The tempered output value.\n",
    "    - u, s, t, l: Shift parameters from the tempering function.\n",
    "    - b, c: Masks used in the tempering function.\n",
    "    \n",
    "    Returns:\n",
    "    - The original input value x.\n",
    "    \"\"\"\n",
    "    # Step 1: Invert the final XOR with a right shift\n",
    "    y = invert_xor_shift(z, l, 0, 'right')\n",
    "    \n",
    "    # Step 2: Invert the XOR with a left shift and mask c\n",
    "    y = invert_xor_shift(y, t, c, 'left')\n",
    "    \n",
    "    # Step 3: Invert the XOR with a left shift and mask b\n",
    "    y = invert_xor_shift(y, s, b, 'left')\n",
    "    \n",
    "    # Step 4: Invert the initial XOR with a right shift\n",
    "    x = invert_xor_shift(y, u, 0, 'right')\n",
    "    \n",
    "    return x & 0xFFFFFFFF  # Ensure 32-bit integer output"
   ]
  },
  {
   "cell_type": "code",
   "execution_count": 71,
   "id": "fa50d156-80c9-4ca7-b6ba-724991aff1f5",
   "metadata": {},
   "outputs": [
    {
     "name": "stdout",
     "output_type": "stream",
     "text": [
      "2934351 2934351\n"
     ]
    }
   ],
   "source": [
    "# Coefficients for MT19937\n",
    "(w, n, m, r) = (32, 624, 397, 31)\n",
    "a = 0x9908B0DF\n",
    "(u, d) = (11, 0xFFFFFFFF)\n",
    "(s, b) = (7, 0x9D2C5680)\n",
    "(t, c) = (15, 0xEFC60000)\n",
    "l = 18\n",
    "f = 1812433253\n",
    "\n",
    "x = 2934351\n",
    "z = temper(x, u, s, b, t, c, l)\n",
    "x1 = inverse_temper(z, u, s, b, t, c, l)\n",
    "print(x,x1)"
   ]
  },
  {
   "cell_type": "code",
   "execution_count": 72,
   "id": "294421e8-0175-44a8-9386-66fd8f33dadc",
   "metadata": {},
   "outputs": [],
   "source": [
    "# Initialize target MT19937 generator.\n",
    "# Use random seed (time, even if time should not be used ;-) )\n",
    "\n",
    "import time\n",
    "seed = int(time.time())\n",
    "mt_random = MT19937(seed)\n",
    "\n",
    "# let generator run for a while...\n",
    "import random\n",
    "for _ in range(int(random.uniform(1,1000))):\n",
    "    _ = mt_random.random()"
   ]
  },
  {
   "cell_type": "code",
   "execution_count": 73,
   "id": "d9efa48a-1d4f-4dfe-9999-b3a0058fb9b6",
   "metadata": {},
   "outputs": [
    {
     "name": "stdout",
     "output_type": "stream",
     "text": [
      "SEED T = 1736755485  SEED C =          0\n",
      "========================================\n",
      "Target =  800446091   Clone =  800446091\n",
      "Target = 3580834938   Clone = 3580834938\n",
      "Target = 3873129397   Clone = 3873129397\n",
      "Target = 3785923601   Clone = 3785923601\n",
      "Target = 1533888569   Clone = 1533888569\n",
      "Target = 1359421041   Clone = 1359421041\n",
      "Target = 2109919503   Clone = 2109919503\n",
      "Target = 3821632544   Clone = 3821632544\n",
      "Target = 2013006024   Clone = 2013006024\n",
      "Target = 1421832573   Clone = 1421832573\n"
     ]
    }
   ],
   "source": [
    "# listen for next 624 random number, invert tempering function, store results in state array \n",
    "state_array = [ inverse_temper(mt_random.random(), u, s, b, t, c, l) for _ in range(n) ] # n = 624, size of state_array\n",
    "\n",
    "# create clone generator, use seed=0 to guarantee it'd be different from target one\n",
    "# align to target uinsg state array\n",
    "mt_random_clone = MT19937(seed=0)\n",
    "mt_random_clone.state_array = state_array\n",
    "\n",
    "# check generators are aligned\n",
    "print(f\"SEED T = {mt_random.seed:10}  SEED C = {mt_random_clone.seed:10}\")\n",
    "print(\"=\"*40)\n",
    "for _ in range(10):\n",
    "    print(f\"Target = {mt_random.random():10}   Clone = {mt_random_clone.random():10}\")"
   ]
  },
  {
   "cell_type": "markdown",
   "id": "02643c3e-a73b-48cf-bfd9-556c8af0267f",
   "metadata": {},
   "source": [
    "### Discussion\n",
    "\n",
    "> How would you modify MT19937 to make this attack hard? What would happen if you subjected each tempered output to a cryptographic hash?\n",
    "\n",
    "Some ideas:\n",
    "\n",
    "**Adding a Cryptographic Hash to Outputs**\n",
    "\n",
    "By applying a cryptographic hash (like SHA-256 or SHA-3) to each tempered output, one effectively obscures the relationship between the internal state and the output. The cryptographic hash is designed to be one-way, so it becomes computationally infeasible for an attacker to reverse the hash and recover $z$.\n",
    "\n",
    "**Introduce a Mixing Layer**\n",
    "\n",
    "After generating the random output $z$, one could pass it through a mixing layer that makes inversion infeasible. For example:\n",
    "\n",
    "- Use a keyed cryptographic function like AES:\n",
    "  $\\text{output} = \\text{AES}_{\\text{key}}(z)$\n",
    "  Without the key, the attacker cannot reverse the output back to \\( z \\).\n",
    "\n",
    "- Combine multiple outputs before releasing them:\n",
    "  $\n",
    "  \\text{output} = (z_1 \\oplus z_2) \\oplus z_3\n",
    "  $\n",
    "  This adds complexity to the recovery process.\n",
    "\n",
    "**Periodic State Reseeding**\n",
    "\n",
    "- Periodically reseed the RNG state with entropy from a secure source (e.g., hardware RNG).\n",
    "- Even if an attacker partially recovers the state, the reseeding process disrupts their ability to predict future outputs."
   ]
  },
  {
   "cell_type": "markdown",
   "id": "a533036e-8c1b-4780-9b11-00cdfde53bfc",
   "metadata": {},
   "source": [
    "# 24. Create the MT19937 stream cipher and break it\n",
    "\n",
    "https://cryptopals.com/sets/3/challenges/24\n",
    "\n",
    "*8TODO**"
   ]
  },
  {
   "cell_type": "code",
   "execution_count": null,
   "id": "5d3ae7ea-195f-4891-b0ef-387006f49f50",
   "metadata": {},
   "outputs": [],
   "source": []
  }
 ],
 "metadata": {
  "kernelspec": {
   "display_name": "Python 3 (ipykernel)",
   "language": "python",
   "name": "python3"
  },
  "language_info": {
   "codemirror_mode": {
    "name": "ipython",
    "version": 3
   },
   "file_extension": ".py",
   "mimetype": "text/x-python",
   "name": "python",
   "nbconvert_exporter": "python",
   "pygments_lexer": "ipython3",
   "version": "3.12.2"
  }
 },
 "nbformat": 4,
 "nbformat_minor": 5
}
