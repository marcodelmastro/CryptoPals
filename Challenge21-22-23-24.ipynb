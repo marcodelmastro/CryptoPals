{
 "cells": [
  {
   "cell_type": "markdown",
   "id": "73dd9157-776e-4058-89ec-983fa0fc723d",
   "metadata": {},
   "source": [
    "# 21. Implement the MT19937 Mersenne Twister RNG\n",
    "\n",
    "https://cryptopals.com/sets/3/challenges/21\n",
    "\n",
    "https://en.wikipedia.org/wiki/Mersenne_Twister"
   ]
  },
  {
   "cell_type": "code",
   "execution_count": 1,
   "id": "80f3f262-071f-43a3-9855-7610e3de5b29",
   "metadata": {},
   "outputs": [],
   "source": [
    "class MT19937:\n",
    "\n",
    "    # Coefficients for MT19937\n",
    "    (w, n, m, r) = (32, 624, 397, 31)\n",
    "    a = 0x9908B0DF\n",
    "    (u, d) = (11, 0xFFFFFFFF)\n",
    "    (s, b) = (7, 0x9D2C5680)\n",
    "    (t, c) = (15, 0xEFC60000)\n",
    "    l = 18\n",
    "    f = 1812433253\n",
    "\n",
    "    UMASK = 0xFFFFFFFF & (0xFFFFFFFF << r)       # Limit to 32 bits\n",
    "    LMASK = 0xFFFFFFFF & (0xFFFFFFFF >> (w - r)) # Limit to 32 bits\n",
    "\n",
    "    def __init__(self, seed: int = 19650218):\n",
    "        self.state_array = [0] * self.n  # Array for the state vector\n",
    "        self.state_index = 0            # Index into state vector array, 0 <= state_index <= n-1\n",
    "        self.initialize_state(seed)\n",
    "        self.seed = seed\n",
    "\n",
    "    def initialize_state(self, seed: int = 19650218):\n",
    "        self.state_array[0] = seed & 0xFFFFFFFF  # Limit to 32 bits\n",
    "        for i in range(1, self.n):\n",
    "            seed = (self.f * (seed ^ (seed >> (self.w - 2))) + i) & 0xFFFFFFFF # Limit to 32 bits\n",
    "            self.state_array[i] = seed\n",
    "        self.state_index = 0\n",
    "\n",
    "    def random(self):\n",
    "        k = self.state_index               # Current state location\n",
    "        j = (k - (self.n - 1)) % self.n    # n-1 iterations before\n",
    "\n",
    "        x = (self.state_array[k] & self.UMASK) | (self.state_array[j] & self.LMASK)\n",
    "        xA = x >> 1\n",
    "        if x & 0x00000001:\n",
    "            xA ^= self.a\n",
    "\n",
    "        j = (k - (self.n - self.m)) % self.n  # n-m iterations before\n",
    "        x = self.state_array[j] ^ xA          # Compute next value in the state\n",
    "\n",
    "        self.state_array[k] = x & 0xFFFFFFFF  # Limit to 32 bits\n",
    "        k = (k + 1) % self.n                  # Circular indexing\n",
    "        self.state_index = k\n",
    "\n",
    "        # Tempering\n",
    "        y = x ^ (x >> self.u)\n",
    "        y = y ^ ((y << self.s) & self.b)\n",
    "        y = y ^ ((y << self.t) & self.c)\n",
    "        z = y ^ (y >> self.l)\n",
    "        return z & 0xFFFFFFFF  # Return 32-bit integer"
   ]
  },
  {
   "cell_type": "code",
   "execution_count": 2,
   "id": "bf309f93-b8a0-46a3-be33-0b7aee79b849",
   "metadata": {},
   "outputs": [
    {
     "name": "stdout",
     "output_type": "stream",
     "text": [
      "2325592414\n",
      "482149846\n",
      "4177211283\n",
      "3872387439\n",
      "1663027210\n",
      "2005191859\n",
      "666881213\n",
      "3289399202\n",
      "2514534568\n",
      "3882134983\n"
     ]
    }
   ],
   "source": [
    "mt_random = MT19937()\n",
    "\n",
    "for _ in range(10):\n",
    "    print(mt_random.random())"
   ]
  },
  {
   "cell_type": "markdown",
   "id": "2122ea67-d646-466b-a79f-4ea13e3967f8",
   "metadata": {},
   "source": [
    "# 22. Crack an MT19937 seed\n",
    "\n",
    "https://cryptopals.com/sets/3/challenges/22"
   ]
  },
  {
   "cell_type": "code",
   "execution_count": 3,
   "id": "0e297c4a-1e42-466f-b53f-387dc659eb72",
   "metadata": {},
   "outputs": [],
   "source": [
    "import time\n",
    "import random\n",
    "\n",
    "def get_MT19937_int32(reallywait=True,tmin=40,tmax=1000):\n",
    "    '''\n",
    "    Wait a random number of seconds between 40 and 1000\n",
    "    Seeds the RNG with the current Unix timestamp\n",
    "    Waits a random number of seconds again.\n",
    "    Returns the first 32 bit output of the RNG.\n",
    "    '''\n",
    "    sleep1 = random.uniform(tmin,tmax)\n",
    "    sleep2 = random.uniform(tmin,tmax)\n",
    "    print(f\"Waiting {sleep1:2.2f} seconds...\")\n",
    "    if reallywait:\n",
    "        time.sleep(sleep1)\n",
    "        seed = int(time.time())\n",
    "    else:\n",
    "        seed = int(time.time()-sleep1-sleep2)\n",
    "    print(f\"Seedind MT19937 with current Unix time ({seed})...\")\n",
    "    mt_random = MT19937(seed)\n",
    "    print(f\"Waiting {sleep2:2.2f} seconds...\")\n",
    "    if reallywait:\n",
    "        time.sleep(sleep2)\n",
    "    rnd32 = mt_random.random()\n",
    "    print(f\"Serving random number {rnd32}\")\n",
    "    return rnd32\n",
    "\n",
    "def crack_MT19937_seed(rnd32):\n",
    "    print(\"Attempting to guess MT19937 seed...\")\n",
    "    now = int(time.time())+1\n",
    "    while True:\n",
    "        mt_random = MT19937(now)\n",
    "        _rnd = mt_random.random()\n",
    "        if rnd32==_rnd:\n",
    "            print(f\"Guessed seed: {now}\")\n",
    "            return now\n",
    "        # go back in time\n",
    "        now -= 1"
   ]
  },
  {
   "cell_type": "code",
   "execution_count": 4,
   "id": "51903afe-4328-4d7e-9cba-9754f7017927",
   "metadata": {},
   "outputs": [
    {
     "name": "stdout",
     "output_type": "stream",
     "text": [
      "Waiting 666.76 seconds...\n",
      "Seedind MT19937 with current Unix time (1736774352)...\n",
      "Waiting 200.56 seconds...\n",
      "Serving random number 2527403948\n",
      "\n",
      "Attempting to guess MT19937 seed...\n",
      "Guessed seed: 1736774352\n"
     ]
    },
    {
     "data": {
      "text/plain": [
       "1736774352"
      ]
     },
     "execution_count": 4,
     "metadata": {},
     "output_type": "execute_result"
    }
   ],
   "source": [
    "rnd32 = get_MT19937_int32(False)\n",
    "print()\n",
    "crack_MT19937_seed(rnd32)"
   ]
  },
  {
   "cell_type": "code",
   "execution_count": 5,
   "id": "12bdda7e-b8e2-4856-b390-0fb613fd00b1",
   "metadata": {},
   "outputs": [
    {
     "name": "stdout",
     "output_type": "stream",
     "text": [
      "Waiting 41.39 seconds...\n",
      "Seedind MT19937 with current Unix time (1736775261)...\n",
      "Waiting 63.92 seconds...\n",
      "Serving random number 2243879853\n",
      "\n",
      "Attempting to guess MT19937 seed...\n",
      "Guessed seed: 1736775261\n"
     ]
    },
    {
     "data": {
      "text/plain": [
       "1736775261"
      ]
     },
     "execution_count": 5,
     "metadata": {},
     "output_type": "execute_result"
    }
   ],
   "source": [
    "rnd32 = get_MT19937_int32(True,40,100)\n",
    "print()\n",
    "crack_MT19937_seed(rnd32)"
   ]
  },
  {
   "cell_type": "markdown",
   "id": "6d530716-735d-47b0-a6cc-0c56bba3b27a",
   "metadata": {},
   "source": [
    "# 23. Clone an MT19937 RNG from its output\n",
    "\n",
    "https://cryptopals.com/sets/3/challenges/23\n",
    "\n",
    "### XOR inverting\n",
    "\n",
    "Inverting Left-Shift AND XOR (e.g. `y = y ^ ((y << t) & c))`:\n",
    "\n",
    "This operation involves left-shifting $y$ by $t$ bits, ANDing it with $c$, and XORing it with $y$. To invert it:\n",
    "\n",
    "* Start with the given $z$.\n",
    "\n",
    "* Begin with the least significant bits (LSBs), since these are not affected by the left shift.\n",
    "\n",
    "* Gradually determine higher-order bits, propagating information from lower-order bits.\n",
    "The loop `for _ in range(32): y = y ^ ((y << t) & c)` ensures the dependencies from lower to higher bits are fully resolved."
   ]
  },
  {
   "cell_type": "code",
   "execution_count": 6,
   "id": "52f554f9-9554-4247-9c26-664c907b5c6b",
   "metadata": {},
   "outputs": [],
   "source": [
    "def temper(x, u, s, b, t, c, l):\n",
    "    \"\"\"\n",
    "    Applies the tempering process to the input value x.\n",
    "    \n",
    "    Parameters:\n",
    "    - x: The input value to be tempered.\n",
    "    - u, s, t, l: Shift parameters for the tempering steps.\n",
    "    - b, c: Masks used in the tempering steps.\n",
    "    \n",
    "    Returns:\n",
    "    - The tempered 32-bit integer value.\n",
    "    \"\"\"\n",
    "    y = x ^ (x >> u)               # Step 1: XOR with right shift\n",
    "    y = y ^ ((y << s) & b)         # Step 2: XOR with left shift and mask b\n",
    "    y = y ^ ((y << t) & c)         # Step 3: XOR with left shift and mask c\n",
    "    z = y ^ (y >> l)               # Step 4: XOR with right shift\n",
    "    return z & 0xFFFFFFFF          # Ensure 32-bit integer output\n",
    "\n",
    "def invert_xor_shift(value, shift, mask, direction):\n",
    "    \"\"\"\n",
    "    Inverts an XOR combined with a bitwise shift operation.\n",
    "    \n",
    "    Parameters:\n",
    "    - value: The output value from the tempering step to invert.\n",
    "    - shift: The number of bits to shift.\n",
    "    - mask: The mask applied in the original operation (use 0 for no masking).\n",
    "    - direction: The direction of the shift, either 'left' or 'right'.\n",
    "    \n",
    "    Returns:\n",
    "    - The inverted value.\n",
    "    \"\"\"\n",
    "    result = value\n",
    "    for _ in range(32):  # Iteratively resolve dependencies for all bits\n",
    "        if direction == 'right':\n",
    "            result = value ^ (result >> shift)\n",
    "        elif direction == 'left':\n",
    "            result = value ^ ((result << shift) & mask)\n",
    "    return result\n",
    "\n",
    "def inverse_temper(z, u, s, b, t, c, l):\n",
    "    \"\"\"\n",
    "    Inverts the tempering function to recover the original value x from z.\n",
    "    \n",
    "    Parameters:\n",
    "    - z: The tempered output value.\n",
    "    - u, s, t, l: Shift parameters from the tempering function.\n",
    "    - b, c: Masks used in the tempering function.\n",
    "    \n",
    "    Returns:\n",
    "    - The original input value x.\n",
    "    \"\"\"\n",
    "    # Step 1: Invert the final XOR with a right shift\n",
    "    y = invert_xor_shift(z, l, 0, 'right')\n",
    "    \n",
    "    # Step 2: Invert the XOR with a left shift and mask c\n",
    "    y = invert_xor_shift(y, t, c, 'left')\n",
    "    \n",
    "    # Step 3: Invert the XOR with a left shift and mask b\n",
    "    y = invert_xor_shift(y, s, b, 'left')\n",
    "    \n",
    "    # Step 4: Invert the initial XOR with a right shift\n",
    "    x = invert_xor_shift(y, u, 0, 'right')\n",
    "    \n",
    "    return x & 0xFFFFFFFF  # Ensure 32-bit integer output"
   ]
  },
  {
   "cell_type": "code",
   "execution_count": 7,
   "id": "fa50d156-80c9-4ca7-b6ba-724991aff1f5",
   "metadata": {},
   "outputs": [
    {
     "name": "stdout",
     "output_type": "stream",
     "text": [
      "2934351 2934351\n"
     ]
    }
   ],
   "source": [
    "# Coefficients for MT19937\n",
    "(w, n, m, r) = (32, 624, 397, 31)\n",
    "a = 0x9908B0DF\n",
    "(u, d) = (11, 0xFFFFFFFF)\n",
    "(s, b) = (7, 0x9D2C5680)\n",
    "(t, c) = (15, 0xEFC60000)\n",
    "l = 18\n",
    "f = 1812433253\n",
    "\n",
    "x = 2934351\n",
    "z = temper(x, u, s, b, t, c, l)\n",
    "x1 = inverse_temper(z, u, s, b, t, c, l)\n",
    "print(x,x1)"
   ]
  },
  {
   "cell_type": "code",
   "execution_count": 8,
   "id": "294421e8-0175-44a8-9386-66fd8f33dadc",
   "metadata": {},
   "outputs": [],
   "source": [
    "# Initialize target MT19937 generator.\n",
    "# Use random seed (time, even if time should not be used ;-) )\n",
    "\n",
    "import time\n",
    "seed = int(time.time())\n",
    "mt_random = MT19937(seed)\n",
    "\n",
    "# let generator run for a while...\n",
    "import random\n",
    "for _ in range(int(random.uniform(1,1000))):\n",
    "    _ = mt_random.random()"
   ]
  },
  {
   "cell_type": "code",
   "execution_count": 9,
   "id": "d9efa48a-1d4f-4dfe-9999-b3a0058fb9b6",
   "metadata": {},
   "outputs": [
    {
     "name": "stdout",
     "output_type": "stream",
     "text": [
      "SEED T = 1736775325  SEED C =          0\n",
      "========================================\n",
      "Target = 3854118812   Clone = 3854118812\n",
      "Target =  380392037   Clone =  380392037\n",
      "Target = 2839737078   Clone = 2839737078\n",
      "Target = 1038171841   Clone = 1038171841\n",
      "Target = 4053706524   Clone = 4053706524\n",
      "Target =  945699746   Clone =  945699746\n",
      "Target = 2665857380   Clone = 2665857380\n",
      "Target =  166914768   Clone =  166914768\n",
      "Target =  672230279   Clone =  672230279\n",
      "Target =  727876151   Clone =  727876151\n"
     ]
    }
   ],
   "source": [
    "# listen for next 624 random numbers, invert them, store results in state array \n",
    "state_array = [ inverse_temper(mt_random.random(), u, s, b, t, c, l) for _ in range(n) ] # n = 624, size of state_array\n",
    "\n",
    "# create clone generator, use seed=0 to guarantee it'd be different from target one\n",
    "# align to target uinsg state array\n",
    "mt_random_clone = MT19937(seed=0)\n",
    "mt_random_clone.state_array = state_array\n",
    "\n",
    "# check generators are aligned\n",
    "print(f\"SEED T = {mt_random.seed:10}  SEED C = {mt_random_clone.seed:10}\")\n",
    "print(\"=\"*40)\n",
    "for _ in range(10):\n",
    "    print(f\"Target = {mt_random.random():10}   Clone = {mt_random_clone.random():10}\")"
   ]
  },
  {
   "cell_type": "code",
   "execution_count": 10,
   "id": "ca2a12a8-6acd-46e2-8a33-e00e49c54a9e",
   "metadata": {},
   "outputs": [
    {
     "name": "stdout",
     "output_type": "stream",
     "text": [
      "Target = 1028434106   Clone = 1028434106\n",
      "Target = 2806997165   Clone = 2806997165\n",
      "Target = 2716032945   Clone = 2716032945\n",
      "Target =  841160340   Clone =  841160340\n",
      "Target = 2405049579   Clone = 2405049579\n",
      "Target = 1117596065   Clone = 1117596065\n",
      "Target = 1429809184   Clone = 1429809184\n",
      "Target = 2725643703   Clone = 2725643703\n",
      "Target = 4200412251   Clone = 4200412251\n",
      "Target = 2644740582   Clone = 2644740582\n"
     ]
    }
   ],
   "source": [
    "# numpy has a MT implementation, it can be cloned with the same technique\n",
    "\n",
    "import numpy as np\n",
    "\n",
    "mt_np = np.random.MT19937()\n",
    "\n",
    "state_array_np = [ inverse_temper(mt_np.random_raw(), u, s, b, t, c, l) for _ in range(n) ] # n = 624, size of state_array\n",
    "mt_random_clone_np = MT19937(seed=123456789)\n",
    "mt_random_clone_np.state_array = state_array_np\n",
    "\n",
    "for _ in range(10):\n",
    "    print(f\"Target = {mt_np.random_raw():10}   Clone = {mt_random_clone_np.random():10}\")"
   ]
  },
  {
   "cell_type": "markdown",
   "id": "02643c3e-a73b-48cf-bfd9-556c8af0267f",
   "metadata": {},
   "source": [
    "### Discussion\n",
    "\n",
    "> How would you modify MT19937 to make this attack hard? What would happen if you subjected each tempered output to a cryptographic hash?\n",
    "\n",
    "Some ideas:\n",
    "\n",
    "**Adding a Cryptographic Hash to Outputs**\n",
    "\n",
    "By applying a cryptographic hash (like SHA-256 or SHA-3) to each tempered output, one effectively obscures the relationship between the internal state and the output. The cryptographic hash is designed to be one-way, so it becomes computationally infeasible for an attacker to reverse the hash and recover $z$.\n",
    "\n",
    "**Introduce a Mixing Layer**\n",
    "\n",
    "After generating the random output $z$, one could pass it through a mixing layer that makes inversion infeasible. For example:\n",
    "\n",
    "- Use a keyed cryptographic function like AES:\n",
    "  $\\text{output} = \\text{AES}_{\\text{key}}(z)$\n",
    "  Without the key, the attacker cannot reverse the output back to \\( z \\).\n",
    "\n",
    "- Combine multiple outputs before releasing them:\n",
    "  $\n",
    "  \\text{output} = (z_1 \\oplus z_2) \\oplus z_3\n",
    "  $\n",
    "  This adds complexity to the recovery process.\n",
    "\n",
    "**Periodic State Reseeding**\n",
    "\n",
    "- Periodically reseed the RNG state with entropy from a secure source (e.g., hardware RNG).\n",
    "- Even if an attacker partially recovers the state, the reseeding process disrupts their ability to predict future outputs."
   ]
  },
  {
   "cell_type": "markdown",
   "id": "a533036e-8c1b-4780-9b11-00cdfde53bfc",
   "metadata": {},
   "source": [
    "# 24. Create the MT19937 stream cipher and break it\n",
    "\n",
    "https://cryptopals.com/sets/3/challenges/24\n",
    "\n",
    "> Use MT19937 with a 16-bit seed to generate a sequence of 8 bit outputs. Use those outputs as a keystream: XOR each byte of plaintext with each successive byte of keystream. This code should look similar to your CTR code.\n",
    "\n",
    "> From the ciphertext, recover the \"key\" (the 16 bit seed). Use the same idea to generate a random \"password reset token\" using MT19937 seeded from the current time.\n",
    "\n",
    "Since the seed phase space is relativelty small ($2^16$) it can easily be brute-forced if plaintext and cipher are known."
   ]
  },
  {
   "cell_type": "code",
   "execution_count": 11,
   "id": "5d3ae7ea-195f-4891-b0ef-387006f49f50",
   "metadata": {},
   "outputs": [],
   "source": [
    "from cryptopals.random import MT19937\n",
    "from cryptopals.utils import bytes_xor\n",
    "import math\n",
    "\n",
    "def convert_int32_4int8(n: int) -> list:\n",
    "    '''convert 32-bit integer in list of 4 8-bit integers'''\n",
    "    return [int(i) for i in n.to_bytes(4)]\n",
    "\n",
    "def generate_MT19937_keystream(seed: int, msglen: int) -> bytes:\n",
    "    mt_random = MT19937(seed)\n",
    "    keystream = b\"\"\n",
    "    for _ in range(math.ceil(msglen/4)):\n",
    "        for i in convert_int32_4int8(mt_random.random()):\n",
    "            keystream += i.to_bytes()\n",
    "    return keystream[:msglen]\n",
    "\n",
    "def MT19937_stream_decode_encode(b: bytes, seed: int) -> bytes:\n",
    "    return bytes_xor(b,generate_MT19937_keystream(seed,len(b)))"
   ]
  },
  {
   "cell_type": "code",
   "execution_count": 12,
   "id": "aa91fcd5-49e1-460b-9dd4-cebd9d9b8231",
   "metadata": {},
   "outputs": [
    {
     "name": "stdout",
     "output_type": "stream",
     "text": [
      "b'This is a secret message'\n"
     ]
    }
   ],
   "source": [
    "import random\n",
    "\n",
    "seed = random.getrandbits(16) # 16-bit seed\n",
    "\n",
    "plaintext = b\"This is a secret message\"\n",
    "\n",
    "cipher = MT19937_stream_decode_encode(plaintext, seed)\n",
    "plaintext = MT19937_stream_decode_encode(cipher, seed)\n",
    "\n",
    "print(plaintext)"
   ]
  },
  {
   "cell_type": "code",
   "execution_count": 13,
   "id": "b6f959d6-613d-4dcc-b0c7-cf0156e9a456",
   "metadata": {},
   "outputs": [],
   "source": [
    "def recover_seed_cipher_plain(cipher: bytes, plaintext: bytes) -> int:\n",
    "    for seed_guess in range(2**16):\n",
    "        plaintext_guess = MT19937_stream_decode_encode(cipher, seed_guess)\n",
    "        if plaintext_guess==plaintext:\n",
    "            return seed_guess"
   ]
  },
  {
   "cell_type": "code",
   "execution_count": 14,
   "id": "0352e919-01ef-401d-8dc8-26c022b58993",
   "metadata": {},
   "outputs": [
    {
     "name": "stdout",
     "output_type": "stream",
     "text": [
      "seed =  5994 | seed guess =  5994\n",
      "seed guessed in 1.1 s\n"
     ]
    }
   ],
   "source": [
    "from string import ascii_letters\n",
    "import time\n",
    "\n",
    "plaintext = str.encode(\"\".join([random.choice(ascii_letters) \n",
    "                                for _ in range(int(random.uniform(10,30)))]) + 14*\"A\" ) \n",
    "seed = random.getrandbits(16)\n",
    "cipher = MT19937_stream_decode_encode(plaintext, seed)\n",
    "\n",
    "start = time.time()\n",
    "seed_guess = recover_seed_cipher_plain(cipher, plaintext)\n",
    "end = time.time()\n",
    "\n",
    "print(f\"seed = {seed:5} | seed guess = {seed_guess:5}\")\n",
    "print(f\"seed guessed in {end-start:3.1f} s\")"
   ]
  },
  {
   "cell_type": "code",
   "execution_count": 15,
   "id": "c2a2a34b-63dd-44b5-bc91-cc74b7d57e86",
   "metadata": {},
   "outputs": [],
   "source": [
    "from cryptopals.utils import freqs_letters, score_text\n",
    "\n",
    "def recover_seed_cipher(cypher: bytes, freqs=freqs_letters) -> bytes:\n",
    "    best_guess = (float('inf'), None, None) # score, plaintext guess, key guess\n",
    "    for seed_guess in range(2**16):\n",
    "        plaintext_guess = MT19937_stream_decode_encode(cipher, seed_guess)\n",
    "        score = score_text(plaintext_guess, freqs=freqs_letters)\n",
    "        curr_guess = (score, plaintext_guess, seed_guess)\n",
    "        best_guess = min(best_guess, curr_guess)\n",
    "    return best_guess"
   ]
  },
  {
   "cell_type": "code",
   "execution_count": 16,
   "id": "bb2caa7f-7738-466d-bf95-c432ecd59df3",
   "metadata": {},
   "outputs": [
    {
     "name": "stdout",
     "output_type": "stream",
     "text": [
      "seed = 28379 | seed guess = 28379\n",
      "seed guessed in 14.8 s\n",
      "plaintext_guess=b'This is a longer secret message, that I could possibly crack with frequency analysis'\n"
     ]
    }
   ],
   "source": [
    "plaintext = b\"This is a longer secret message, that I could possibly crack with frequency analysis\"\n",
    "seed = random.getrandbits(16)\n",
    "cipher = MT19937_stream_decode_encode(plaintext, seed)\n",
    "\n",
    "start = time.time()\n",
    "score, plaintext_guess, seed_guess = recover_seed_cipher(cipher)\n",
    "end = time.time()\n",
    "\n",
    "print(f\"seed = {seed:5} | seed guess = {seed_guess:5}\")\n",
    "print(f\"seed guessed in {end-start:3.1f} s\")\n",
    "print(f\"{plaintext_guess=}\")"
   ]
  },
  {
   "cell_type": "code",
   "execution_count": null,
   "id": "fdf11bbb-36b4-4dd6-8684-66bc39760610",
   "metadata": {},
   "outputs": [],
   "source": []
  }
 ],
 "metadata": {
  "kernelspec": {
   "display_name": "Python 3 (ipykernel)",
   "language": "python",
   "name": "python3"
  },
  "language_info": {
   "codemirror_mode": {
    "name": "ipython",
    "version": 3
   },
   "file_extension": ".py",
   "mimetype": "text/x-python",
   "name": "python",
   "nbconvert_exporter": "python",
   "pygments_lexer": "ipython3",
   "version": "3.12.2"
  }
 },
 "nbformat": 4,
 "nbformat_minor": 5
}
